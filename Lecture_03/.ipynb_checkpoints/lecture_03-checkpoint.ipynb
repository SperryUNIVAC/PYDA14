{
 "cells": [
  {
   "cell_type": "markdown",
   "metadata": {},
   "source": [
    "# Задание 1"
   ]
  },
  {
   "cell_type": "code",
   "execution_count": null,
   "metadata": {},
   "outputs": [],
   "source": [
    "ids = {'user1': [213, 213, 213, 15, 213],\n",
    "       'user2': [54, 54, 119, 119, 119],\n",
    "       'user3': [213, 98, 98, 35]}\n",
    "# вытащим все значения и разгладим\n",
    "ids_as_list = sum(ids.values(), [])\n",
    "# почистим от дубликатов и отсортируем\n",
    "print(sorted(set(ids_as_list)))"
   ]
  },
  {
   "cell_type": "markdown",
   "metadata": {},
   "source": [
    "# Задание 2"
   ]
  },
  {
   "cell_type": "code",
   "execution_count": null,
   "metadata": {},
   "outputs": [],
   "source": [
    "# тут все элементарно\n",
    "queries = [\n",
    "    'смотреть сериалы онлайн',\n",
    "    'новости спорта',\n",
    "    'афиша кино',\n",
    "    'курс доллара',\n",
    "    'сериалы этим летом',\n",
    "    'курс по питону',\n",
    "    'сериалы про спорт',\n",
    "]\n",
    "\n",
    "# подсчитаем количество слов в каждом элементе, просто сосчитав пробелы\n",
    "# с итерацией косяк исправил, постараюсь красивее писать\n",
    "two_words = 0\n",
    "three_words = 0\n",
    "for item in queries:\n",
    "    if item.count(' ') == 1:\n",
    "        two_words += 1\n",
    "    else:\n",
    "        three_words += 1\n",
    "# что бы не тянуть эту колбасу в вывод\n",
    "two_w_perc = (two_words/len(queries))*100\n",
    "three_w_perc = (three_words/len(queries))*100\n",
    "print('Поисковых запросов, содержащих 2 слов(а): ', round(two_w_perc, 2), '%')\n",
    "print('Поисковых запросов, содержащих 3 слов(а): ', round(three_w_perc, 2), '%')"
   ]
  },
  {
   "cell_type": "markdown",
   "metadata": {},
   "source": [
    "# Задание 3"
   ]
  },
  {
   "cell_type": "code",
   "execution_count": null,
   "metadata": {},
   "outputs": [],
   "source": [
    "# это я писал еще до практики по словарям\n",
    "\n",
    "results = {\n",
    "    'vk': {'revenue': 103, 'cost': 98},\n",
    "    'yandex': {'revenue': 179, 'cost': 153},\n",
    "    'facebook': {'revenue': 103, 'cost': 110},\n",
    "    'adwords': {'revenue': 35, 'cost': 34},\n",
    "    'twitter': {'revenue': 11, 'cost': 24},\n",
    "}\n",
    "\n",
    "# поразительно, как мало места занимает этот код, но\n",
    "# разбираясь с ним я так упоролся, что писать сортировку по ключам\n",
    "# мне уже очень лениво, в итоге вывод будет в таком же порядке, что и ввод\n",
    "\n",
    "for key, value in results.items():\n",
    "    roi = (value['revenue']/value['cost']-1)*100\n",
    "    results[key].setdefault('ROI', round(roi, 2))\n",
    "print(results)\n",
    "\n",
    "# после практики я вдохновился и решил, что можно таки прикрутить сортировку\n",
    "# для этого я создал новый словарь и заполнил его в правильном порядке\n",
    "\n",
    "list_keys = sorted(list(results.keys()))\n",
    "sorted_results = {}\n",
    "\n",
    "for k in list_keys:\n",
    "    format_results = {}\n",
    "    format_results.setdefault('ROI', results[k]['ROI'])\n",
    "    format_results.setdefault('revenue', results[k]['revenue'])\n",
    "    format_results.setdefault('cost', results[k]['cost'])\n",
    "    sorted_results.setdefault(k, format_results)\n",
    "print(sorted_results)"
   ]
  },
  {
   "cell_type": "markdown",
   "metadata": {},
   "source": [
    "# Задание 4"
   ]
  },
  {
   "cell_type": "code",
   "execution_count": null,
   "metadata": {},
   "outputs": [],
   "source": [
    "stats = {'facebook': 55,\n",
    "         'yandex': 115,\n",
    "         'vk': 120,\n",
    "         'google': 99,\n",
    "         'email': 42,\n",
    "         'ok': 98}\n",
    "\n",
    "# так как искать максимальное мне показалось логичнее среди ключей,\n",
    "# а не значений, то перевернем словарь, благо он взаимно-однозначный\n",
    "# и одноуровневый\n",
    "\n",
    "stats_reverse = {v: k for k, v in stats.items()}\n",
    "max_value = stats_reverse[max(list(stats_reverse.keys()))]\n",
    "print('Максимальный объем продаж на рекламном канале: ', max_value)\n",
    "\n",
    "\n",
    "# примечание после лекции  - можно это дело переписать вот так, очевидно\n",
    "# просто передав в sorted, что сортируем мы по значению, а не ключу\n",
    "# правда детали реализации я еще не до конца осознал\n",
    "\n",
    "dict(sorted(stats.items(), key=lambda kv: kv[1])"
   ]
  },
  {
   "cell_type": "markdown",
   "metadata": {},
   "source": [
    "# Задание 5"
   ]
  },
  {
   "cell_type": "code",
   "execution_count": null,
   "metadata": {},
   "outputs": [],
   "source": [
    "my_list = ['a', 'b', 'c', 'd', 'e', 'f']\n",
    "\n",
    "last_number = len(my_list) - 2\n",
    "my_list_dict = dict.fromkeys([my_list[last_number]], my_list[-1:])\n",
    "\n",
    "# немножко рекурсии\n",
    "\n",
    "while last_number != 0:\n",
    "    last_number -= 1\n",
    "    my_list_dict = dict.fromkeys([my_list[last_number]], my_list_dict)\n",
    "print(my_list_dict)"
   ]
  },
  {
   "cell_type": "markdown",
   "metadata": {},
   "source": [
    "# Задание 6"
   ]
  },
  {
   "cell_type": "code",
   "execution_count": null,
   "metadata": {},
   "outputs": [],
   "source": [
    "cook_book = {\n",
    "    'салат': [\n",
    "        {'ingridient_name': 'сыр', 'quantity': 50, 'measure': 'гр'},\n",
    "        {'ingridient_name': 'томаты', 'quantity': 20, 'measure': 'гр'},\n",
    "        {'ingridient_name': 'огурцы', 'quantity': 20, 'measure': 'гр'},\n",
    "        {'ingridient_name': 'маслины', 'quantity': 10, 'measure': 'гр'},\n",
    "        {'ingridient_name': 'оливковое масло', 'quantity': 20, 'measure': 'мл'},\n",
    "        {'ingridient_name': 'салат', 'quantity': 10, 'measure': 'гр'},\n",
    "        {'ingridient_name': 'перец', 'quantity': 20, 'measure': 'гр'}\n",
    "    ],\n",
    "    'пицца': [\n",
    "        {'ingridient_name': 'сыр', 'quantity': 20, 'measure': 'гр'},\n",
    "        {'ingridient_name': 'колбаса', 'quantity': 30, 'measure': 'гр'},\n",
    "        {'ingridient_name': 'бекон', 'quantity': 30, 'measure': 'гр'},\n",
    "        {'ingridient_name': 'оливки', 'quantity': 10, 'measure': 'гр'},\n",
    "        {'ingridient_name': 'томаты', 'quantity': 20, 'measure': 'гр'},\n",
    "        {'ingridient_name': 'тесто', 'quantity': 100, 'measure': 'гр'},\n",
    "    ],\n",
    "    'лимонад': [\n",
    "        {'ingridient_name': 'лимон', 'quantity': 1, 'measure': 'шт'},\n",
    "        {'ingridient_name': 'вода', 'quantity': 200, 'measure': 'мл'},\n",
    "        {'ingridient_name': 'сахар', 'quantity': 10, 'measure': 'гр'},\n",
    "        {'ingridient_name': 'лайм', 'quantity': 20, 'measure': 'гр'},\n",
    "    ]\n",
    "}\n",
    "\n",
    "cook_type = input('введите желаемое блюдо - салат, пицца, лимонад: ')\n",
    "guests_number = int(input('введите число гостей: '))\n",
    "\n",
    "for i in range(0, len(cook_book[cook_type])):\n",
    "    ingridient_type_name = cook_book[cook_type][i]['ingridient_name']\n",
    "    ingridient_type_quantity = cook_book[cook_type][i]['quantity']*guests_number\n",
    "    ingridient_type_measure = cook_book[cook_type][i]['measure']\n",
    "    print(ingridient_type_name, ': ', ingridient_type_quantity,\n",
    "          ' ', ingridient_type_measure)"
   ]
  }
 ],
 "metadata": {
  "kernelspec": {
   "display_name": "Python 3",
   "language": "python",
   "name": "python3"
  },
  "language_info": {
   "codemirror_mode": {
    "name": "ipython",
    "version": 3
   },
   "file_extension": ".py",
   "mimetype": "text/x-python",
   "name": "python",
   "nbconvert_exporter": "python",
   "pygments_lexer": "ipython3",
   "version": "3.8.3"
  }
 },
 "nbformat": 4,
 "nbformat_minor": 4
}

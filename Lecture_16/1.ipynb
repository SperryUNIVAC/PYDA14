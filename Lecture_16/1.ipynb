{
 "cells": [
  {
   "cell_type": "markdown",
   "metadata": {
    "toc": true
   },
   "source": [
    "<h1>Table of Contents<span class=\"tocSkip\"></span></h1>\n",
    "<div class=\"toc\"><ul class=\"toc-item\"></ul></div>"
   ]
  },
  {
   "cell_type": "code",
   "execution_count": 36,
   "metadata": {},
   "outputs": [],
   "source": [
    "import pandas as pd\n",
    "import numpy as np\n",
    "import matplotlib.pyplot as plt"
   ]
  },
  {
   "cell_type": "code",
   "execution_count": 2,
   "metadata": {},
   "outputs": [
    {
     "data": {
      "text/html": [
       "<div>\n",
       "<style scoped>\n",
       "    .dataframe tbody tr th:only-of-type {\n",
       "        vertical-align: middle;\n",
       "    }\n",
       "\n",
       "    .dataframe tbody tr th {\n",
       "        vertical-align: top;\n",
       "    }\n",
       "\n",
       "    .dataframe thead th {\n",
       "        text-align: right;\n",
       "    }\n",
       "</style>\n",
       "<table border=\"1\" class=\"dataframe\">\n",
       "  <thead>\n",
       "    <tr style=\"text-align: right;\">\n",
       "      <th></th>\n",
       "      <th>Surgery</th>\n",
       "      <th>Age</th>\n",
       "      <th>Hospital Number</th>\n",
       "      <th>Rectal temperature</th>\n",
       "      <th>Pulse</th>\n",
       "      <th>Respiratory rate</th>\n",
       "      <th>Temperature of extremities</th>\n",
       "      <th>Peripheral pulse</th>\n",
       "      <th>Mucous membranes</th>\n",
       "      <th>Capillary refill time</th>\n",
       "      <th>...</th>\n",
       "      <th>Total protein</th>\n",
       "      <th>Abdominocentesis appearance</th>\n",
       "      <th>Abdomcentesis total protein</th>\n",
       "      <th>Outcome</th>\n",
       "      <th>Surgical lesion</th>\n",
       "      <th>Type of lesion 1</th>\n",
       "      <th>Type of lesion 2</th>\n",
       "      <th>Type of lesion 3</th>\n",
       "      <th>Cp_data</th>\n",
       "      <th></th>\n",
       "    </tr>\n",
       "  </thead>\n",
       "  <tbody>\n",
       "    <tr>\n",
       "      <th>0</th>\n",
       "      <td>2</td>\n",
       "      <td>1</td>\n",
       "      <td>530101</td>\n",
       "      <td>38.50</td>\n",
       "      <td>66</td>\n",
       "      <td>28</td>\n",
       "      <td>3</td>\n",
       "      <td>3</td>\n",
       "      <td>?</td>\n",
       "      <td>2</td>\n",
       "      <td>...</td>\n",
       "      <td>8.40</td>\n",
       "      <td>?</td>\n",
       "      <td>?</td>\n",
       "      <td>2</td>\n",
       "      <td>2</td>\n",
       "      <td>11300</td>\n",
       "      <td>0</td>\n",
       "      <td>0</td>\n",
       "      <td>2</td>\n",
       "      <td>NaN</td>\n",
       "    </tr>\n",
       "    <tr>\n",
       "      <th>1</th>\n",
       "      <td>1</td>\n",
       "      <td>1</td>\n",
       "      <td>534817</td>\n",
       "      <td>39.2</td>\n",
       "      <td>88</td>\n",
       "      <td>20</td>\n",
       "      <td>?</td>\n",
       "      <td>?</td>\n",
       "      <td>4</td>\n",
       "      <td>1</td>\n",
       "      <td>...</td>\n",
       "      <td>85</td>\n",
       "      <td>2</td>\n",
       "      <td>2</td>\n",
       "      <td>3</td>\n",
       "      <td>2</td>\n",
       "      <td>2208</td>\n",
       "      <td>0</td>\n",
       "      <td>0</td>\n",
       "      <td>2</td>\n",
       "      <td>NaN</td>\n",
       "    </tr>\n",
       "    <tr>\n",
       "      <th>2</th>\n",
       "      <td>2</td>\n",
       "      <td>1</td>\n",
       "      <td>530334</td>\n",
       "      <td>38.30</td>\n",
       "      <td>40</td>\n",
       "      <td>24</td>\n",
       "      <td>1</td>\n",
       "      <td>1</td>\n",
       "      <td>3</td>\n",
       "      <td>1</td>\n",
       "      <td>...</td>\n",
       "      <td>6.70</td>\n",
       "      <td>?</td>\n",
       "      <td>?</td>\n",
       "      <td>1</td>\n",
       "      <td>2</td>\n",
       "      <td>0</td>\n",
       "      <td>0</td>\n",
       "      <td>0</td>\n",
       "      <td>1</td>\n",
       "      <td>NaN</td>\n",
       "    </tr>\n",
       "    <tr>\n",
       "      <th>3</th>\n",
       "      <td>1</td>\n",
       "      <td>9</td>\n",
       "      <td>5290409</td>\n",
       "      <td>39.10</td>\n",
       "      <td>164</td>\n",
       "      <td>84</td>\n",
       "      <td>4</td>\n",
       "      <td>1</td>\n",
       "      <td>6</td>\n",
       "      <td>2</td>\n",
       "      <td>...</td>\n",
       "      <td>7.20</td>\n",
       "      <td>3</td>\n",
       "      <td>5.30</td>\n",
       "      <td>2</td>\n",
       "      <td>1</td>\n",
       "      <td>2208</td>\n",
       "      <td>0</td>\n",
       "      <td>0</td>\n",
       "      <td>1</td>\n",
       "      <td>NaN</td>\n",
       "    </tr>\n",
       "    <tr>\n",
       "      <th>4</th>\n",
       "      <td>2</td>\n",
       "      <td>1</td>\n",
       "      <td>530255</td>\n",
       "      <td>37.30</td>\n",
       "      <td>104</td>\n",
       "      <td>35</td>\n",
       "      <td>?</td>\n",
       "      <td>?</td>\n",
       "      <td>6</td>\n",
       "      <td>2</td>\n",
       "      <td>...</td>\n",
       "      <td>7.40</td>\n",
       "      <td>?</td>\n",
       "      <td>?</td>\n",
       "      <td>2</td>\n",
       "      <td>2</td>\n",
       "      <td>4300</td>\n",
       "      <td>0</td>\n",
       "      <td>0</td>\n",
       "      <td>2</td>\n",
       "      <td>NaN</td>\n",
       "    </tr>\n",
       "  </tbody>\n",
       "</table>\n",
       "<p>5 rows × 29 columns</p>\n",
       "</div>"
      ],
      "text/plain": [
       "  Surgery  Age  Hospital Number Rectal temperature Pulse Respiratory rate  \\\n",
       "0       2    1           530101              38.50    66               28   \n",
       "1       1    1           534817               39.2    88               20   \n",
       "2       2    1           530334              38.30    40               24   \n",
       "3       1    9          5290409              39.10   164               84   \n",
       "4       2    1           530255              37.30   104               35   \n",
       "\n",
       "  Temperature of extremities Peripheral pulse Mucous membranes  \\\n",
       "0                          3                3                ?   \n",
       "1                          ?                ?                4   \n",
       "2                          1                1                3   \n",
       "3                          4                1                6   \n",
       "4                          ?                ?                6   \n",
       "\n",
       "  Capillary refill time  ... Total protein Abdominocentesis appearance  \\\n",
       "0                     2  ...          8.40                           ?   \n",
       "1                     1  ...            85                           2   \n",
       "2                     1  ...          6.70                           ?   \n",
       "3                     2  ...          7.20                           3   \n",
       "4                     2  ...          7.40                           ?   \n",
       "\n",
       "  Abdomcentesis total protein Outcome Surgical lesion Type of lesion 1  \\\n",
       "0                           ?       2               2            11300   \n",
       "1                           2       3               2             2208   \n",
       "2                           ?       1               2                0   \n",
       "3                        5.30       2               1             2208   \n",
       "4                           ?       2               2             4300   \n",
       "\n",
       "  Type of lesion 2 Type of lesion 3 Cp_data      \n",
       "0                0                0       2 NaN  \n",
       "1                0                0       2 NaN  \n",
       "2                0                0       1 NaN  \n",
       "3                0                0       1 NaN  \n",
       "4                0                0       2 NaN  \n",
       "\n",
       "[5 rows x 29 columns]"
      ]
     },
     "execution_count": 2,
     "metadata": {},
     "output_type": "execute_result"
    }
   ],
   "source": [
    "colnames=['Surgery', 'Age', 'Hospital Number', 'Rectal temperature', 'Pulse', 'Respiratory rate',\n",
    "         'Temperature of extremities', 'Peripheral pulse', 'Mucous membranes', 'Capillary refill time', 'Pain',\n",
    "          'Peristalsis', 'Abdominal distension', 'Nasogastric tube', 'Nasogastric reflux', 'Nasogastric reflux PH',\n",
    "          'Rectal examination', 'Abdomen', 'Packed cell volume', 'Total protein', 'Abdominocentesis appearance', \n",
    "          'Abdomcentesis total protein', 'Outcome', 'Surgical lesion', 'Type of lesion 1', 'Type of lesion 2',\n",
    "          'Type of lesion 3', 'Cp_data', '',] \n",
    "horse_colic_df = pd.read_csv('horse_data.csv', names=colnames, header=None)\n",
    "horse_colic_df.head()"
   ]
  },
  {
   "cell_type": "code",
   "execution_count": 3,
   "metadata": {},
   "outputs": [
    {
     "name": "stdout",
     "output_type": "stream",
     "text": [
      "<class 'pandas.core.frame.DataFrame'>\n",
      "RangeIndex: 300 entries, 0 to 299\n",
      "Data columns (total 29 columns):\n",
      " #   Column                       Non-Null Count  Dtype  \n",
      "---  ------                       --------------  -----  \n",
      " 0   Surgery                      300 non-null    object \n",
      " 1   Age                          300 non-null    int64  \n",
      " 2   Hospital Number              300 non-null    int64  \n",
      " 3   Rectal temperature           300 non-null    object \n",
      " 4   Pulse                        300 non-null    object \n",
      " 5   Respiratory rate             300 non-null    object \n",
      " 6   Temperature of extremities   300 non-null    object \n",
      " 7   Peripheral pulse             300 non-null    object \n",
      " 8   Mucous membranes             300 non-null    object \n",
      " 9   Capillary refill time        300 non-null    object \n",
      " 10  Pain                         300 non-null    object \n",
      " 11  Peristalsis                  300 non-null    object \n",
      " 12  Abdominal distension         300 non-null    object \n",
      " 13  Nasogastric tube             300 non-null    object \n",
      " 14  Nasogastric reflux           300 non-null    object \n",
      " 15  Nasogastric reflux PH        300 non-null    object \n",
      " 16  Rectal examination           300 non-null    object \n",
      " 17  Abdomen                      300 non-null    object \n",
      " 18  Packed cell volume           300 non-null    object \n",
      " 19  Total protein                300 non-null    object \n",
      " 20  Abdominocentesis appearance  300 non-null    object \n",
      " 21  Abdomcentesis total protein  300 non-null    object \n",
      " 22  Outcome                      300 non-null    object \n",
      " 23  Surgical lesion              300 non-null    int64  \n",
      " 24  Type of lesion 1             300 non-null    int64  \n",
      " 25  Type of lesion 2             300 non-null    int64  \n",
      " 26  Type of lesion 3             300 non-null    int64  \n",
      " 27  Cp_data                      300 non-null    int64  \n",
      " 28                               0 non-null      float64\n",
      "dtypes: float64(1), int64(7), object(21)\n",
      "memory usage: 68.1+ KB\n"
     ]
    }
   ],
   "source": [
    "horse_colic_df.info()"
   ]
  },
  {
   "cell_type": "markdown",
   "metadata": {},
   "source": [
    "Так, ну будем разбираться с этими грешными коликами у лошадей. Для начала, переименовали файл, как положено, однако, сходу возникла проблема. И не одна. \n",
    "В описании имен сказано: 24, 25, 26 type of lesion. Ладно, но откуда там тогда в расшифровке ЧЕТЫРЕ параметра а не три  \n",
    "first number is site of lesion  \n",
    "second number is type  \n",
    "third number is subtype  \n",
    "fourth number is specific code    \n",
    "???  \n",
    "Затем, последний столбец из одних нанов это вообще непонятно что.   \n",
    "В 1 столбце возраст должен кодироваться 1 и 2, вместо этого он кодируется 1 и 9???"
   ]
  },
  {
   "cell_type": "code",
   "execution_count": 4,
   "metadata": {},
   "outputs": [],
   "source": [
    "# Ладно, начнем разгребать этот бардак. Снесем непонятный 28 столбец, поменяем местами кое-что для большей логичности и \n",
    "# изменим значения на явные и информативные\n",
    "horse_colic_df = horse_colic_df.drop(horse_colic_df.columns[[28]], axis='columns')"
   ]
  },
  {
   "cell_type": "code",
   "execution_count": 5,
   "metadata": {},
   "outputs": [],
   "source": [
    "neworder = ['Hospital Number', 'Age', 'Surgery', 'Rectal temperature', 'Pulse', 'Respiratory rate', 'Nasogastric reflux PH',\n",
    "         'Temperature of extremities', 'Peripheral pulse', 'Mucous membranes', 'Capillary refill time', 'Pain',\n",
    "          'Peristalsis', 'Abdominal distension', 'Nasogastric tube', 'Nasogastric reflux', 'Rectal examination',\n",
    "            'Abdomen', 'Packed cell volume', 'Total protein', 'Abdominocentesis appearance', \n",
    "          'Abdomcentesis total protein', 'Outcome', 'Surgical lesion', 'Type of lesion 1', 'Type of lesion 2',\n",
    "          'Type of lesion 3', 'Cp_data']\n",
    "horse_colic_new_df = horse_colic_df.reindex(columns=neworder)"
   ]
  },
  {
   "cell_type": "code",
   "execution_count": 13,
   "metadata": {},
   "outputs": [],
   "source": [
    "horse_colic_new_df['Surgery'] = horse_colic_new_df['Surgery'].mask((horse_colic_new_df['Surgery'] == '1'), 'Yes')\n",
    "horse_colic_new_df['Surgery'] = horse_colic_new_df['Surgery'].mask((horse_colic_new_df['Surgery'] == '2'), 'No')\n",
    "\n",
    "horse_colic_new_df['Age'] = np.where(horse_colic_new_df['Age'] == 1, 'Adult', horse_colic_new_df['Age'])\n",
    "# Гениально - одно значение у них строка, а второе - число!!\n",
    "horse_colic_new_df['Age'] = np.where(horse_colic_new_df['Age'] == '9', 'Young', horse_colic_new_df['Age'])\n",
    "\n",
    "\n",
    "horse_colic_new_df['Temperature of extremities'] = horse_colic_new_df['Temperature of extremities'].mask((horse_colic_new_df['Temperature of extremities'] == '1'), 'Normal')\n",
    "horse_colic_new_df['Temperature of extremities'] = horse_colic_new_df['Temperature of extremities'].mask((horse_colic_new_df['Temperature of extremities'] == '2'), 'Warm')\n",
    "horse_colic_new_df['Temperature of extremities'] = horse_colic_new_df['Temperature of extremities'].mask((horse_colic_new_df['Temperature of extremities'] == '3'), 'Cool')\n",
    "horse_colic_new_df['Temperature of extremities'] = horse_colic_new_df['Temperature of extremities'].mask((horse_colic_new_df['Temperature of extremities'] == '4'), 'Cold')\n",
    "\n",
    "horse_colic_new_df['Peripheral pulse'] = horse_colic_new_df['Peripheral pulse'].mask((horse_colic_new_df['Peripheral pulse'] == '1'), 'Normal')\n",
    "horse_colic_new_df['Peripheral pulse'] = horse_colic_new_df['Peripheral pulse'].mask((horse_colic_new_df['Peripheral pulse'] == '2'), 'Increased')\n",
    "horse_colic_new_df['Peripheral pulse'] = horse_colic_new_df['Peripheral pulse'].mask((horse_colic_new_df['Peripheral pulse'] == '3'), 'Reduced')\n",
    "horse_colic_new_df['Peripheral pulse'] = horse_colic_new_df['Peripheral pulse'].mask((horse_colic_new_df['Peripheral pulse'] == '4'), 'Absent')\n",
    "\n",
    "\n",
    "horse_colic_new_df['Mucous membranes'] = horse_colic_new_df['Mucous membranes'].mask((horse_colic_new_df['Mucous membranes'] == '1'), 'Normal')\n",
    "horse_colic_new_df['Mucous membranes'] = horse_colic_new_df['Mucous membranes'].mask((horse_colic_new_df['Mucous membranes'] == '2'), 'Normal')         \n",
    "horse_colic_new_df['Mucous membranes'] = horse_colic_new_df['Mucous membranes'].mask((horse_colic_new_df['Mucous membranes'] == '3'), 'Pale pink')\n",
    "horse_colic_new_df['Mucous membranes'] = horse_colic_new_df['Mucous membranes'].mask((horse_colic_new_df['Mucous membranes'] == '4'), 'Pale cyanotic')\n",
    "horse_colic_new_df['Mucous membranes'] = horse_colic_new_df['Mucous membranes'].mask((horse_colic_new_df['Mucous membranes'] == '5'), 'Bright red/injected')\n",
    "horse_colic_new_df['Mucous membranes'] = horse_colic_new_df['Mucous membranes'].mask((horse_colic_new_df['Mucous membranes'] == '6'), 'Dark cyanotic')\n",
    "\n",
    "horse_colic_new_df['Capillary refill time'] = horse_colic_new_df['Capillary refill time'].mask((horse_colic_new_df['Capillary refill time'] == '1'), 'Normal')\n",
    "horse_colic_new_df['Capillary refill time'] = horse_colic_new_df['Capillary refill time'].mask((horse_colic_new_df['Capillary refill time'] == '2'), 'Slow')\n",
    "\n",
    "horse_colic_new_df['Pain'] = horse_colic_new_df['Pain'].mask((horse_colic_new_df['Pain'] == '1'), 'Normal')\n",
    "horse_colic_new_df['Pain'] = horse_colic_new_df['Pain'].mask((horse_colic_new_df['Pain'] == '2'), 'Depressed')\n",
    "horse_colic_new_df['Pain'] = horse_colic_new_df['Pain'].mask((horse_colic_new_df['Pain'] == '3'), 'Mild pain')\n",
    "horse_colic_new_df['Pain'] = horse_colic_new_df['Pain'].mask((horse_colic_new_df['Pain'] == '4'), 'Severe pain')\n",
    "horse_colic_new_df['Pain'] = horse_colic_new_df['Pain'].mask((horse_colic_new_df['Pain'] == '5'), 'Hell')\n",
    "\n",
    "horse_colic_new_df['Peristalsis'] = horse_colic_new_df['Peristalsis'].mask((horse_colic_new_df['Peristalsis'] == '1'), 'Hypermotile')\n",
    "horse_colic_new_df['Peristalsis'] = horse_colic_new_df['Peristalsis'].mask((horse_colic_new_df['Peristalsis'] == '2'), 'Normal')\n",
    "horse_colic_new_df['Peristalsis'] = horse_colic_new_df['Peristalsis'].mask((horse_colic_new_df['Peristalsis'] == '3'), 'Hypomotile')\n",
    "horse_colic_new_df['Peristalsis'] = horse_colic_new_df['Peristalsis'].mask((horse_colic_new_df['Peristalsis'] == '4'), 'Absent')\n",
    "\n",
    "horse_colic_new_df['Abdominal distension'] = horse_colic_new_df['Abdominal distension'].mask((horse_colic_new_df['Abdominal distension'] == '1'), 'Normal')\n",
    "horse_colic_new_df['Abdominal distension'] = horse_colic_new_df['Abdominal distension'].mask((horse_colic_new_df['Abdominal distension'] == '2'), 'Slight')\n",
    "horse_colic_new_df['Abdominal distension'] = horse_colic_new_df['Abdominal distension'].mask((horse_colic_new_df['Abdominal distension'] == '3'), 'Moderate')\n",
    "horse_colic_new_df['Abdominal distension'] = horse_colic_new_df['Abdominal distension'].mask((horse_colic_new_df['Abdominal distension'] == '4'), 'Severe')\n",
    "\n",
    "horse_colic_new_df['Nasogastric tube'] = horse_colic_new_df['Nasogastric tube'].mask((horse_colic_new_df['Nasogastric tube'] == '1'), 'Normal')\n",
    "horse_colic_new_df['Nasogastric tube'] = horse_colic_new_df['Nasogastric tube'].mask((horse_colic_new_df['Nasogastric tube'] == '2'), 'Slight')\n",
    "horse_colic_new_df['Nasogastric tube'] = horse_colic_new_df['Nasogastric tube'].mask((horse_colic_new_df['Nasogastric tube'] == '3'), 'Severe')\n",
    "\n",
    "horse_colic_new_df['Nasogastric reflux'] = horse_colic_new_df['Nasogastric tube'].mask((horse_colic_new_df['Nasogastric tube'] == '1'), 'Normal')\n",
    "horse_colic_new_df['Nasogastric reflux'] = horse_colic_new_df['Nasogastric tube'].mask((horse_colic_new_df['Nasogastric tube'] == '1'), 'Slight')\n",
    "horse_colic_new_df['Nasogastric reflux'] = horse_colic_new_df['Nasogastric tube'].mask((horse_colic_new_df['Nasogastric tube'] == '1'), 'Severe')\n",
    "\n",
    "# в общем на 16-м столбце я задолбался разгребать этот адов бардак, тем более, что лошадиных колик я не фанат\n",
    "# попробуем довести до ума то, что есть\n",
    "\n",
    "\n"
   ]
  },
  {
   "cell_type": "code",
   "execution_count": 16,
   "metadata": {},
   "outputs": [],
   "source": [
    "colic_df = horse_colic_new_df.drop(horse_colic_df.columns[[16, 17, 18, 19, 20, 21, 22, 23, 24, 25, 26, 27]], axis='columns')"
   ]
  },
  {
   "cell_type": "code",
   "execution_count": 17,
   "metadata": {},
   "outputs": [
    {
     "data": {
      "text/html": [
       "<div>\n",
       "<style scoped>\n",
       "    .dataframe tbody tr th:only-of-type {\n",
       "        vertical-align: middle;\n",
       "    }\n",
       "\n",
       "    .dataframe tbody tr th {\n",
       "        vertical-align: top;\n",
       "    }\n",
       "\n",
       "    .dataframe thead th {\n",
       "        text-align: right;\n",
       "    }\n",
       "</style>\n",
       "<table border=\"1\" class=\"dataframe\">\n",
       "  <thead>\n",
       "    <tr style=\"text-align: right;\">\n",
       "      <th></th>\n",
       "      <th>Hospital Number</th>\n",
       "      <th>Age</th>\n",
       "      <th>Surgery</th>\n",
       "      <th>Rectal temperature</th>\n",
       "      <th>Pulse</th>\n",
       "      <th>Respiratory rate</th>\n",
       "      <th>Nasogastric reflux PH</th>\n",
       "      <th>Temperature of extremities</th>\n",
       "      <th>Peripheral pulse</th>\n",
       "      <th>Mucous membranes</th>\n",
       "      <th>Capillary refill time</th>\n",
       "      <th>Pain</th>\n",
       "      <th>Peristalsis</th>\n",
       "      <th>Abdominal distension</th>\n",
       "      <th>Nasogastric tube</th>\n",
       "      <th>Nasogastric reflux</th>\n",
       "    </tr>\n",
       "  </thead>\n",
       "  <tbody>\n",
       "    <tr>\n",
       "      <th>0</th>\n",
       "      <td>530101</td>\n",
       "      <td>Adult</td>\n",
       "      <td>No</td>\n",
       "      <td>38.50</td>\n",
       "      <td>66</td>\n",
       "      <td>28</td>\n",
       "      <td>?</td>\n",
       "      <td>Cool</td>\n",
       "      <td>Reduced</td>\n",
       "      <td>?</td>\n",
       "      <td>Slow</td>\n",
       "      <td>Hell</td>\n",
       "      <td>Absent</td>\n",
       "      <td>Severe</td>\n",
       "      <td>?</td>\n",
       "      <td>?</td>\n",
       "    </tr>\n",
       "    <tr>\n",
       "      <th>1</th>\n",
       "      <td>534817</td>\n",
       "      <td>Adult</td>\n",
       "      <td>Yes</td>\n",
       "      <td>39.2</td>\n",
       "      <td>88</td>\n",
       "      <td>20</td>\n",
       "      <td>?</td>\n",
       "      <td>?</td>\n",
       "      <td>?</td>\n",
       "      <td>Pale cyanotic</td>\n",
       "      <td>Normal</td>\n",
       "      <td>Mild pain</td>\n",
       "      <td>Absent</td>\n",
       "      <td>Slight</td>\n",
       "      <td>?</td>\n",
       "      <td>?</td>\n",
       "    </tr>\n",
       "    <tr>\n",
       "      <th>2</th>\n",
       "      <td>530334</td>\n",
       "      <td>Adult</td>\n",
       "      <td>No</td>\n",
       "      <td>38.30</td>\n",
       "      <td>40</td>\n",
       "      <td>24</td>\n",
       "      <td>?</td>\n",
       "      <td>Normal</td>\n",
       "      <td>Normal</td>\n",
       "      <td>Pale pink</td>\n",
       "      <td>Normal</td>\n",
       "      <td>Mild pain</td>\n",
       "      <td>Hypomotile</td>\n",
       "      <td>Mormal</td>\n",
       "      <td>?</td>\n",
       "      <td>?</td>\n",
       "    </tr>\n",
       "    <tr>\n",
       "      <th>3</th>\n",
       "      <td>5290409</td>\n",
       "      <td>Young</td>\n",
       "      <td>Yes</td>\n",
       "      <td>39.10</td>\n",
       "      <td>164</td>\n",
       "      <td>84</td>\n",
       "      <td>5.00</td>\n",
       "      <td>Cold</td>\n",
       "      <td>Normal</td>\n",
       "      <td>Dark cyanotic</td>\n",
       "      <td>Slow</td>\n",
       "      <td>Depressed</td>\n",
       "      <td>Absent</td>\n",
       "      <td>Severe</td>\n",
       "      <td>Normal</td>\n",
       "      <td>Normal</td>\n",
       "    </tr>\n",
       "    <tr>\n",
       "      <th>4</th>\n",
       "      <td>530255</td>\n",
       "      <td>Adult</td>\n",
       "      <td>No</td>\n",
       "      <td>37.30</td>\n",
       "      <td>104</td>\n",
       "      <td>35</td>\n",
       "      <td>?</td>\n",
       "      <td>?</td>\n",
       "      <td>?</td>\n",
       "      <td>Dark cyanotic</td>\n",
       "      <td>Slow</td>\n",
       "      <td>?</td>\n",
       "      <td>?</td>\n",
       "      <td>?</td>\n",
       "      <td>?</td>\n",
       "      <td>?</td>\n",
       "    </tr>\n",
       "  </tbody>\n",
       "</table>\n",
       "</div>"
      ],
      "text/plain": [
       "   Hospital Number    Age Surgery Rectal temperature Pulse Respiratory rate  \\\n",
       "0           530101  Adult      No              38.50    66               28   \n",
       "1           534817  Adult     Yes               39.2    88               20   \n",
       "2           530334  Adult      No              38.30    40               24   \n",
       "3          5290409  Young     Yes              39.10   164               84   \n",
       "4           530255  Adult      No              37.30   104               35   \n",
       "\n",
       "  Nasogastric reflux PH Temperature of extremities Peripheral pulse  \\\n",
       "0                     ?                       Cool          Reduced   \n",
       "1                     ?                          ?                ?   \n",
       "2                     ?                     Normal           Normal   \n",
       "3                  5.00                       Cold           Normal   \n",
       "4                     ?                          ?                ?   \n",
       "\n",
       "  Mucous membranes Capillary refill time       Pain Peristalsis  \\\n",
       "0                ?                  Slow       Hell      Absent   \n",
       "1    Pale cyanotic                Normal  Mild pain      Absent   \n",
       "2        Pale pink                Normal  Mild pain  Hypomotile   \n",
       "3    Dark cyanotic                  Slow  Depressed      Absent   \n",
       "4    Dark cyanotic                  Slow          ?           ?   \n",
       "\n",
       "  Abdominal distension Nasogastric tube Nasogastric reflux  \n",
       "0               Severe                ?                  ?  \n",
       "1               Slight                ?                  ?  \n",
       "2               Mormal                ?                  ?  \n",
       "3               Severe           Normal             Normal  \n",
       "4                    ?                ?                  ?  "
      ]
     },
     "execution_count": 17,
     "metadata": {},
     "output_type": "execute_result"
    }
   ],
   "source": [
    "colic_df.head()"
   ]
  },
  {
   "cell_type": "markdown",
   "metadata": {},
   "source": [
    "\n",
    "Для справки, из файла мы почерпнули следующее  \n",
    "* normal temp is 37.8\n",
    "* normal pulse is 30 -40 for adults\n",
    "* normal respiratory rate is 8 to 10\n",
    "* normal nasogastric reflux PH in the 3 to 4 range\n",
    "* hot extremities should correlate with an elevated rectal temp\n",
    "* abdominal distension IMPORTANT parameter a horse with severe abdominal distension is likely to require surgery\n"
   ]
  },
  {
   "cell_type": "code",
   "execution_count": 18,
   "metadata": {},
   "outputs": [],
   "source": [
    "colic_df = colic_df.mask(colic_df == '?')"
   ]
  },
  {
   "cell_type": "code",
   "execution_count": 23,
   "metadata": {},
   "outputs": [],
   "source": [
    "colic_df ['Rectal temperature'] = pd.to_numeric(colic_df ['Rectal temperature'])\n",
    "colic_df ['Pulse'] = pd.to_numeric(colic_df ['Pulse'])\n",
    "colic_df ['Respiratory rate'] = pd.to_numeric(colic_df ['Respiratory rate'])\n",
    "colic_df ['Nasogastric reflux PH'] = pd.to_numeric(colic_df ['Nasogastric reflux PH'])"
   ]
  },
  {
   "cell_type": "code",
   "execution_count": 24,
   "metadata": {},
   "outputs": [
    {
     "name": "stdout",
     "output_type": "stream",
     "text": [
      "<class 'pandas.core.frame.DataFrame'>\n",
      "RangeIndex: 300 entries, 0 to 299\n",
      "Data columns (total 16 columns):\n",
      " #   Column                      Non-Null Count  Dtype  \n",
      "---  ------                      --------------  -----  \n",
      " 0   Hospital Number             300 non-null    int64  \n",
      " 1   Age                         300 non-null    object \n",
      " 2   Surgery                     299 non-null    object \n",
      " 3   Rectal temperature          240 non-null    float64\n",
      " 4   Pulse                       276 non-null    float64\n",
      " 5   Respiratory rate            242 non-null    float64\n",
      " 6   Nasogastric reflux PH       53 non-null     float64\n",
      " 7   Temperature of extremities  244 non-null    object \n",
      " 8   Peripheral pulse            231 non-null    object \n",
      " 9   Mucous membranes            253 non-null    object \n",
      " 10  Capillary refill time       268 non-null    object \n",
      " 11  Pain                        245 non-null    object \n",
      " 12  Peristalsis                 256 non-null    object \n",
      " 13  Abdominal distension        244 non-null    object \n",
      " 14  Nasogastric tube            196 non-null    object \n",
      " 15  Nasogastric reflux          196 non-null    object \n",
      "dtypes: float64(4), int64(1), object(11)\n",
      "memory usage: 37.6+ KB\n"
     ]
    }
   ],
   "source": [
    "colic_df.info()"
   ]
  },
  {
   "cell_type": "code",
   "execution_count": 26,
   "metadata": {},
   "outputs": [
    {
     "name": "stdout",
     "output_type": "stream",
     "text": [
      "38.16791666666669\n",
      "71.91304347826087\n",
      "30.417355371900825\n",
      "4.707547169811321\n"
     ]
    }
   ],
   "source": [
    "print(colic_df['Rectal temperature'].mean())\n",
    "print(colic_df['Pulse'].mean())\n",
    "print(colic_df['Respiratory rate'].mean())\n",
    "print(colic_df['Nasogastric reflux PH'].mean())"
   ]
  },
  {
   "cell_type": "markdown",
   "metadata": {},
   "source": [
    "В среднем по больнице наши лошади здоровы, что и следовало ожидать при усреднении медицинских показателей"
   ]
  },
  {
   "cell_type": "code",
   "execution_count": 30,
   "metadata": {},
   "outputs": [
    {
     "data": {
      "text/html": [
       "<div>\n",
       "<style scoped>\n",
       "    .dataframe tbody tr th:only-of-type {\n",
       "        vertical-align: middle;\n",
       "    }\n",
       "\n",
       "    .dataframe tbody tr th {\n",
       "        vertical-align: top;\n",
       "    }\n",
       "\n",
       "    .dataframe thead th {\n",
       "        text-align: right;\n",
       "    }\n",
       "</style>\n",
       "<table border=\"1\" class=\"dataframe\">\n",
       "  <thead>\n",
       "    <tr style=\"text-align: right;\">\n",
       "      <th></th>\n",
       "      <th>Hospital Number</th>\n",
       "      <th>Age</th>\n",
       "      <th>Surgery</th>\n",
       "      <th>Rectal temperature</th>\n",
       "      <th>Pulse</th>\n",
       "      <th>Respiratory rate</th>\n",
       "      <th>Nasogastric reflux PH</th>\n",
       "      <th>Temperature of extremities</th>\n",
       "      <th>Peripheral pulse</th>\n",
       "      <th>Mucous membranes</th>\n",
       "      <th>Capillary refill time</th>\n",
       "      <th>Pain</th>\n",
       "      <th>Peristalsis</th>\n",
       "      <th>Abdominal distension</th>\n",
       "      <th>Nasogastric tube</th>\n",
       "      <th>Nasogastric reflux</th>\n",
       "    </tr>\n",
       "  </thead>\n",
       "  <tbody>\n",
       "    <tr>\n",
       "      <th>0</th>\n",
       "      <td>527544</td>\n",
       "      <td>Adult</td>\n",
       "      <td>Yes</td>\n",
       "      <td>38.0</td>\n",
       "      <td>48.0</td>\n",
       "      <td>20.0</td>\n",
       "      <td>2.0</td>\n",
       "      <td>Cool</td>\n",
       "      <td>Normal</td>\n",
       "      <td>Normal</td>\n",
       "      <td>Normal</td>\n",
       "      <td>Mild pain</td>\n",
       "      <td>Hypomotile</td>\n",
       "      <td>Mormal</td>\n",
       "      <td>Slight</td>\n",
       "      <td>Slight</td>\n",
       "    </tr>\n",
       "  </tbody>\n",
       "</table>\n",
       "</div>"
      ],
      "text/plain": [
       "   Hospital Number    Age Surgery  Rectal temperature  Pulse  \\\n",
       "0           527544  Adult     Yes                38.0   48.0   \n",
       "\n",
       "   Respiratory rate  Nasogastric reflux PH Temperature of extremities  \\\n",
       "0              20.0                    2.0                       Cool   \n",
       "\n",
       "  Peripheral pulse Mucous membranes Capillary refill time       Pain  \\\n",
       "0           Normal           Normal                Normal  Mild pain   \n",
       "\n",
       "  Peristalsis Abdominal distension Nasogastric tube Nasogastric reflux  \n",
       "0  Hypomotile               Mormal           Slight             Slight  "
      ]
     },
     "execution_count": 30,
     "metadata": {},
     "output_type": "execute_result"
    }
   ],
   "source": [
    "colic_mode = colic_df.mode(axis=0, numeric_only=False, dropna=True)\n",
    "colic_mode.head(1)"
   ]
  },
  {
   "cell_type": "markdown",
   "metadata": {},
   "source": [
    "Итак, изучив моду мы видим, что с лошадьми тоже в срелнем все нормально, не считая холодных конечностей, что говорит о шоке. при этом пузо у них явно болит (см. столбец Боль)."
   ]
  },
  {
   "cell_type": "code",
   "execution_count": 34,
   "metadata": {},
   "outputs": [
    {
     "data": {
      "text/plain": [
       "Hospital Number          530305.5\n",
       "Rectal temperature           38.2\n",
       "Pulse                        64.0\n",
       "Respiratory rate             24.5\n",
       "Nasogastric reflux PH         5.0\n",
       "dtype: float64"
      ]
     },
     "execution_count": 34,
     "metadata": {},
     "output_type": "execute_result"
    }
   ],
   "source": [
    "colic_median = colic_df.median(axis=0)\n",
    "colic_median "
   ]
  },
  {
   "cell_type": "code",
   "execution_count": 38,
   "metadata": {},
   "outputs": [
    {
     "data": {
      "text/plain": [
       "<AxesSubplot:>"
      ]
     },
     "execution_count": 38,
     "metadata": {},
     "output_type": "execute_result"
    },
    {
     "data": {
      "image/png": "[encoded data removed]",
      "text/plain": [
       "<Figure size 432x288 with 1 Axes>"
      ]
     },
     "metadata": {
      "needs_background": "light"
     },
     "output_type": "display_data"
    }
   ],
   "source": [
    "colic_df['Rectal temperature'].plot(style = 'o')"
   ]
  },
  {
   "cell_type": "markdown",
   "metadata": {},
   "source": [
    "Честно говоря, я не могу назвать какие-то значения температуры явными выбросами, по крайней мере верхние. С учетом, что при серьезных проблемах со здоровьем температура склонна к повышению, а у лошади она и так на 1-2 гр выше, чем у человека, предельное значение в 40+ но меньшее 41 не является чем-то аномальным. Из интереса загуглил и выяснил, что таки да, температура лошади вполне может быть и 40.5 при болезни и даже чуть выше. ТАк что сверху у нас особо выбросов нет.  \n",
    "Снизу имеем какое-то аномальное значение около 35, но гугл показал, что она может падать аж до 34, так что будем считать, что тут все без проблем. "
   ]
  },
  {
   "cell_type": "code",
   "execution_count": 39,
   "metadata": {},
   "outputs": [
    {
     "data": {
      "text/plain": [
       "<AxesSubplot:>"
      ]
     },
     "execution_count": 39,
     "metadata": {},
     "output_type": "execute_result"
    },
    {
     "data": {
      "image/png": "[encoded data removed]",
      "text/plain": [
       "<Figure size 432x288 with 1 Axes>"
      ]
     },
     "metadata": {
      "needs_background": "light"
     },
     "output_type": "display_data"
    }
   ],
   "source": [
    "colic_df['Pulse'].plot(style = 'o')"
   ]
  },
  {
   "cell_type": "markdown",
   "metadata": {},
   "source": [
    "Дальше все, по сути, аналогично и уныло. Строим бегло график, выбираем предельные точки, лезем в гугл и выясняем, что у больной лошади такое вполне может встречатся, забиваем."
   ]
  },
  {
   "cell_type": "code",
   "execution_count": 40,
   "metadata": {},
   "outputs": [
    {
     "data": {
      "text/plain": [
       "<AxesSubplot:>"
      ]
     },
     "execution_count": 40,
     "metadata": {},
     "output_type": "execute_result"
    },
    {
     "data": {
      "image/png": "[encoded data removed]",
      "text/plain": [
       "<Figure size 432x288 with 1 Axes>"
      ]
     },
     "metadata": {
      "needs_background": "light"
     },
     "output_type": "display_data"
    }
   ],
   "source": [
    "colic_df['Nasogastric reflux PH'].plot(style = 'o')"
   ]
  },
  {
   "cell_type": "markdown",
   "metadata": {},
   "source": [
    "С PH все интересно - очень четкое разделение на норму, легкое отклонение от нормы и довольно тяжелое, причем в обе стороны. Но, опять таки с учетом того, что все лошади у нас больны желудком, а некоторые вплоть до операции - такие значения выбросами считать нельзя, тем более, что их там довольно много и они реально на одних линиях (если брать предельные).  \n",
    "Было бы странно, если бы при тяжелых проблемах с желудком с кислотностью все было хорошо."
   ]
  },
  {
   "cell_type": "code",
   "execution_count": 49,
   "metadata": {},
   "outputs": [
    {
     "name": "stdout",
     "output_type": "stream",
     "text": [
      "<class 'pandas.core.frame.DataFrame'>\n",
      "RangeIndex: 300 entries, 0 to 299\n",
      "Data columns (total 16 columns):\n",
      " #   Column                      Non-Null Count  Dtype  \n",
      "---  ------                      --------------  -----  \n",
      " 0   Hospital Number             300 non-null    int64  \n",
      " 1   Age                         300 non-null    object \n",
      " 2   Surgery                     300 non-null    object \n",
      " 3   Rectal temperature          300 non-null    float64\n",
      " 4   Pulse                       300 non-null    float64\n",
      " 5   Respiratory rate            300 non-null    float64\n",
      " 6   Nasogastric reflux PH       300 non-null    float64\n",
      " 7   Temperature of extremities  300 non-null    object \n",
      " 8   Peripheral pulse            300 non-null    object \n",
      " 9   Mucous membranes            253 non-null    object \n",
      " 10  Capillary refill time       300 non-null    object \n",
      " 11  Pain                        300 non-null    object \n",
      " 12  Peristalsis                 300 non-null    object \n",
      " 13  Abdominal distension        300 non-null    object \n",
      " 14  Nasogastric tube            300 non-null    object \n",
      " 15  Nasogastric reflux          300 non-null    object \n",
      "dtypes: float64(4), int64(1), object(11)\n",
      "memory usage: 37.6+ KB\n"
     ]
    }
   ],
   "source": [
    "# Ну и наконец, пропуски. Самое больное место\n",
    "# Это, конечно, дикая игра в угадайку (особенно с учетом, что жэто медицинские данные) в комбинации \n",
    "# с логической игрой \"заполни пропуски\", для ну хоть как-то адекватного их заполнения надо учесть \n",
    "# кучу параметров в стиле \"если тяжелое вздутие живота и холодные конечности\n",
    "# то нужна хирургия\" и тп. Принцип мне понятен, но, честно говоря, глубоко в это\n",
    "# укапываться было довольно скучно\n",
    "# Позаменяем все в меру понимания и пока не станет совсем лениво и бессмысленно\n",
    "\n",
    "colic_df['Surgery'].fillna('No', inplace=True)\n",
    "colic_df['Rectal temperature'].fillna(colic_df['Rectal temperature'].mean(), inplace=True)\n",
    "colic_df['Pulse'].fillna(colic_mode['Pulse'][0], inplace=True)\n",
    "colic_df['Respiratory rate'].fillna(colic_df['Respiratory rate'].median(axis=0), inplace=True)\n",
    "colic_df['Nasogastric reflux PH'].fillna(colic_mode['Nasogastric reflux PH'][0], inplace=True)\n",
    "colic_df['Temperature of extremities'].fillna('Cool', inplace=True)\n",
    "colic_df['Peripheral pulse'].fillna('Normal', inplace=True)\n",
    "colic_df['Capillary refill time'].fillna('Normal', inplace=True)\n",
    "colic_df['Pain'].fillna('Mild pain', inplace=True)\n",
    "colic_df['Peristalsis'].fillna('Hypomotile', inplace=True)\n",
    "colic_df['Abdominal distension'].fillna('Normal', inplace=True)\n",
    "colic_df['Nasogastric tube'].fillna('Slight', inplace=True)\n",
    "colic_df['Nasogastric reflux'].fillna('Slight', inplace=True)\n",
    "colic_df.info()"
   ]
  }
 ],
 "metadata": {
  "kernelspec": {
   "display_name": "Python 3",
   "language": "python",
   "name": "python3"
  },
  "language_info": {
   "codemirror_mode": {
    "name": "ipython",
    "version": 3
   },
   "file_extension": ".py",
   "mimetype": "text/x-python",
   "name": "python",
   "nbconvert_exporter": "python",
   "pygments_lexer": "ipython3",
   "version": "3.8.3"
  },
  "latex_envs": {
   "LaTeX_envs_menu_present": true,
   "autoclose": true,
   "autocomplete": true,
   "bibliofile": "biblio.bib",
   "cite_by": "apalike",
   "current_citInitial": 1,
   "eqLabelWithNumbers": true,
   "eqNumInitial": 1,
   "hotkeys": {
    "equation": "Ctrl-E",
    "itemize": "Ctrl-I"
   },
   "labels_anchors": false,
   "latex_user_defs": false,
   "report_style_numbering": true,
   "user_envs_cfg": true
  },
  "toc": {
   "base_numbering": 1,
   "nav_menu": {},
   "number_sections": true,
   "sideBar": true,
   "skip_h1_title": true,
   "title_cell": "Table of Contents",
   "title_sidebar": "Contents",
   "toc_cell": true,
   "toc_position": {},
   "toc_section_display": true,
   "toc_window_display": true
  },
  "varInspector": {
   "cols": {
    "lenName": 16,
    "lenType": 16,
    "lenVar": 40
   },
   "kernels_config": {
    "python": {
     "delete_cmd_postfix": "",
     "delete_cmd_prefix": "del ",
     "library": "var_list.py",
     "varRefreshCmd": "print(var_dic_list())"
    },
    "r": {
     "delete_cmd_postfix": ") ",
     "delete_cmd_prefix": "rm(",
     "library": "var_list.r",
     "varRefreshCmd": "cat(var_dic_list()) "
    }
   },
   "types_to_exclude": [
    "module",
    "function",
    "builtin_function_or_method",
    "instance",
    "_Feature"
   ],
   "window_display": false
  }
 },
 "nbformat": 4,
 "nbformat_minor": 4
}

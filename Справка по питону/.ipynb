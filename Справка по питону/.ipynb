{
 "cells": [
  {
   "cell_type": "markdown",
   "metadata": {
    "toc": true
   },
   "source": [
    "<h1>Table of Contents<span class=\"tocSkip\"></span></h1>\n",
    "<div class=\"toc\"><ul class=\"toc-item\"><li><span><a href=\"#Cсылки\" data-toc-modified-id=\"Cсылки-1\"><span class=\"toc-item-num\">1&nbsp;&nbsp;</span>Cсылки</a></span></li><li><span><a href=\"#Темы\" data-toc-modified-id=\"Темы-2\"><span class=\"toc-item-num\">2&nbsp;&nbsp;</span>Темы</a></span></li><li><span><a href=\"#Запуск-лаборатории\" data-toc-modified-id=\"Запуск-лаборатории-3\"><span class=\"toc-item-num\">3&nbsp;&nbsp;</span>Запуск лаборатории</a></span></li><li><span><a href=\"#Bash-команды\" data-toc-modified-id=\"Bash-команды-4\"><span class=\"toc-item-num\">4&nbsp;&nbsp;</span>Bash-команды</a></span></li><li><span><a href=\"#Параметры-отображения\" data-toc-modified-id=\"Параметры-отображения-5\"><span class=\"toc-item-num\">5&nbsp;&nbsp;</span>Параметры отображения</a></span></li><li><span><a href=\"#LaTex-в-Markdown-ячейках\" data-toc-modified-id=\"LaTex-в-Markdown-ячейках-6\"><span class=\"toc-item-num\">6&nbsp;&nbsp;</span>LaTex в Markdown-ячейках</a></span></li><li><span><a href=\"#Настройка-среды-разработки\" data-toc-modified-id=\"Настройка-среды-разработки-7\"><span class=\"toc-item-num\">7&nbsp;&nbsp;</span>Настройка среды разработки</a></span></li><li><span><a href=\"#Магия\" data-toc-modified-id=\"Магия-8\"><span class=\"toc-item-num\">8&nbsp;&nbsp;</span>Магия</a></span><ul class=\"toc-item\"><li><span><a href=\"#%load.-Вставка-кода-и-загрузка-ячеек\" data-toc-modified-id=\"%load.-Вставка-кода-и-загрузка-ячеек-8.1\"><span class=\"toc-item-num\">8.1&nbsp;&nbsp;</span>%load. Вставка кода и загрузка ячеек</a></span></li><li><span><a href=\"#%macro.-Сохранение-и-повторное-использование-кода\" data-toc-modified-id=\"%macro.-Сохранение-и-повторное-использование-кода-8.2\"><span class=\"toc-item-num\">8.2&nbsp;&nbsp;</span>%macro. Сохранение и повторное использование кода</a></span></li><li><span><a href=\"#%run\" data-toc-modified-id=\"%run-8.3\"><span class=\"toc-item-num\">8.3&nbsp;&nbsp;</span>%run</a></span></li><li><span><a href=\"#%pycat\" data-toc-modified-id=\"%pycat-8.4\"><span class=\"toc-item-num\">8.4&nbsp;&nbsp;</span>%pycat</a></span></li><li><span><a href=\"#%matplotlib-и-отображение-графиков\" data-toc-modified-id=\"%matplotlib-и-отображение-графиков-8.5\"><span class=\"toc-item-num\">8.5&nbsp;&nbsp;</span>%matplotlib и отображение графиков</a></span></li><li><span><a href=\"#%timeit-и-%time-Измерение-времени\" data-toc-modified-id=\"%timeit-и-%time-Измерение-времени-8.6\"><span class=\"toc-item-num\">8.6&nbsp;&nbsp;</span>%timeit и %time Измерение времени</a></span></li><li><span><a href=\"#Запуск-кода-из-другого-ядра\" data-toc-modified-id=\"Запуск-кода-из-другого-ядра-8.7\"><span class=\"toc-item-num\">8.7&nbsp;&nbsp;</span>Запуск кода из другого ядра</a></span></li><li><span><a href=\"#%who\" data-toc-modified-id=\"%who-8.8\"><span class=\"toc-item-num\">8.8&nbsp;&nbsp;</span>%who</a></span></li><li><span><a href=\"#%prun-и-%pdb---отладка\" data-toc-modified-id=\"%prun-и-%pdb---отладка-8.9\"><span class=\"toc-item-num\">8.9&nbsp;&nbsp;</span>%prun и %pdb - отладка</a></span></li><li><span><a href=\"#%pastebin\" data-toc-modified-id=\"%pastebin-8.10\"><span class=\"toc-item-num\">8.10&nbsp;&nbsp;</span>%pastebin</a></span></li><li><span><a href=\"#Работа-с-директориями\" data-toc-modified-id=\"Работа-с-директориями-8.11\"><span class=\"toc-item-num\">8.11&nbsp;&nbsp;</span>Работа с директориями</a></span></li><li><span><a href=\"#задание-точности\" data-toc-modified-id=\"задание-точности-8.12\"><span class=\"toc-item-num\">8.12&nbsp;&nbsp;</span>задание точности</a></span></li></ul></li><li><span><a href=\"#Питон-3.8\" data-toc-modified-id=\"Питон-3.8-9\"><span class=\"toc-item-num\">9&nbsp;&nbsp;</span>Питон 3.8</a></span></li><li><span><a href=\"#f-строки\" data-toc-modified-id=\"f-строки-10\"><span class=\"toc-item-num\">10&nbsp;&nbsp;</span>f-строки</a></span></li><li><span><a href=\"#Структуры-в-Питон\" data-toc-modified-id=\"Структуры-в-Питон-11\"><span class=\"toc-item-num\">11&nbsp;&nbsp;</span>Структуры в Питон</a></span><ul class=\"toc-item\"><li><span><a href=\"#Строки\" data-toc-modified-id=\"Строки-11.1\"><span class=\"toc-item-num\">11.1&nbsp;&nbsp;</span>Строки</a></span></li><li><span><a href=\"#Кортежи\" data-toc-modified-id=\"Кортежи-11.2\"><span class=\"toc-item-num\">11.2&nbsp;&nbsp;</span>Кортежи</a></span></li><li><span><a href=\"#Списки\" data-toc-modified-id=\"Списки-11.3\"><span class=\"toc-item-num\">11.3&nbsp;&nbsp;</span>Списки</a></span></li><li><span><a href=\"#Коллекции\" data-toc-modified-id=\"Коллекции-11.4\"><span class=\"toc-item-num\">11.4&nbsp;&nbsp;</span>Коллекции</a></span></li></ul></li><li><span><a href=\"#Операции-в-Питон\" data-toc-modified-id=\"Операции-в-Питон-12\"><span class=\"toc-item-num\">12&nbsp;&nbsp;</span>Операции в Питон</a></span></li><li><span><a href=\"#Функции\" data-toc-modified-id=\"Функции-13\"><span class=\"toc-item-num\">13&nbsp;&nbsp;</span>Функции</a></span><ul class=\"toc-item\"><li><span><a href=\"#Исключения\" data-toc-modified-id=\"Исключения-13.1\"><span class=\"toc-item-num\">13.1&nbsp;&nbsp;</span>Исключения</a></span></li></ul></li><li><span><a href=\"#ООП\" data-toc-modified-id=\"ООП-14\"><span class=\"toc-item-num\">14&nbsp;&nbsp;</span>ООП</a></span><ul class=\"toc-item\"><li><span><a href=\"#Фабричный-метод\" data-toc-modified-id=\"Фабричный-метод-14.1\"><span class=\"toc-item-num\">14.1&nbsp;&nbsp;</span>Фабричный метод</a></span></li><li><span><a href=\"#super-или-next\" data-toc-modified-id=\"super-или-next-14.2\"><span class=\"toc-item-num\">14.2&nbsp;&nbsp;</span>super или next</a></span></li></ul></li><li><span><a href=\"#Время\" data-toc-modified-id=\"Время-15\"><span class=\"toc-item-num\">15&nbsp;&nbsp;</span>Время</a></span></li><li><span><a href=\"#Итераторы-и-генераторы\" data-toc-modified-id=\"Итераторы-и-генераторы-16\"><span class=\"toc-item-num\">16&nbsp;&nbsp;</span>Итераторы и генераторы</a></span></li><li><span><a href=\"#Переменные-в-Питон\" data-toc-modified-id=\"Переменные-в-Питон-17\"><span class=\"toc-item-num\">17&nbsp;&nbsp;</span>Переменные в Питон</a></span></li><li><span><a href=\"#Библиотеки-машинного-обучения\" data-toc-modified-id=\"Библиотеки-машинного-обучения-18\"><span class=\"toc-item-num\">18&nbsp;&nbsp;</span>Библиотеки машинного обучения</a></span><ul class=\"toc-item\"><li><span><a href=\"#Sktime\" data-toc-modified-id=\"Sktime-18.1\"><span class=\"toc-item-num\">18.1&nbsp;&nbsp;</span>Sktime</a></span></li></ul></li><li><span><a href=\"#Просто-странные-штуки\" data-toc-modified-id=\"Просто-странные-штуки-19\"><span class=\"toc-item-num\">19&nbsp;&nbsp;</span>Просто странные штуки</a></span></li></ul></div>"
   ]
  },
  {
   "cell_type": "markdown",
   "metadata": {},
   "source": [
    "Общая информация.  \n",
    "Машинное обучение это, по сути, не про нейросети. Это алгоритмы классификации, разбиения и регрессии. Ну собственно нейросети самые простые это вершина МО.  \n",
    "Что применяется  \n",
    "* Просто питон  \n",
    "* Пандас для работы с массивами данных  \n",
    "* Нумпи и сайпи для базовой обработки\n",
    "* Разные статпакеты  \n",
    "* Матплотлиб и прочее для графиков  \n",
    "* Склерн для разных простых статмоделей  \n"
   ]
  },
  {
   "cell_type": "markdown",
   "metadata": {},
   "source": [
    "## Cсылки  \n",
    "Учебник по sclearn  \n",
    "http://gael-varoquaux.info/scikit-learn-tutorial/"
   ]
  },
  {
   "cell_type": "markdown",
   "metadata": {},
   "source": [
    "## Темы\n",
    " \n",
    "выдаст список доступных тем   \n",
    "```\n",
    "jt -l\n",
    "```\n",
    "смена темы\n",
    "```\n",
    "jt -t <theme name>п \n",
    "```\n",
    "Смена обратно  \n",
    "```\n",
    "jt -r \n",
    "```"
   ]
  },
  {
   "cell_type": "markdown",
   "metadata": {},
   "source": [
    "## Запуск лаборатории\n",
    "```\n",
    "jupyter lab\n",
    "```"
   ]
  },
  {
   "cell_type": "markdown",
   "metadata": {},
   "source": [
    "## Bash-команды\n",
    "В документе можно запускать bash-команды, если в начале поставить восклицательный знак:  \n",
    "```\n",
    "!pip install numpy\n",
    "```\n",
    "Использование переменных Python в командах оболочки путем добавления $:\n",
    "```\n",
    "x = \"a\"\n",
    "!echo $x\n",
    "```"
   ]
  },
  {
   "cell_type": "markdown",
   "metadata": {},
   "source": [
    "## Параметры отображения\n",
    "Чтобы отключить отображение результата выражения в последней строчке ячейки, добавьте в конце последней строчки точку с запятой  \n",
    "\n",
    "По умолчанию отображается только последний вывод в ячейке. Для всего остального необходимо вручную добавить print(). Такой вариант хорош, но не очень удобен. Можно изменить это, добавив вверху документа следующее:  \n",
    "\n",
    "from IPython.core.interactiveshell import InteractiveShell\n",
    "InteractiveShell.ast_node_interactivity = \"all\"  \n",
    "\n",
    "Чтобы вернуться к настройкам по умолчанию, выполните следующее:\n",
    "\n",
    "from IPython.core.interactiveshell import InteractiveShell\n",
    "InteractiveShell.ast_node_interactivity = \"last_expr\""
   ]
  },
  {
   "cell_type": "markdown",
   "metadata": {},
   "source": [
    "## LaTex в Markdown-ячейках\n",
    "Вы можете писать на LaTex в Markdown-ячейках, и они будет отображены в виде формулы."
   ]
  },
  {
   "cell_type": "markdown",
   "metadata": {},
   "source": [
    "$P(A \\mid B) = \\frac{P(B \\mid A)P(A)}{P(B)}$"
   ]
  },
  {
   "cell_type": "markdown",
   "metadata": {},
   "source": [
    "## Настройка среды разработки\n",
    "\n",
    "Можно легко управлять переменными среды вашего документа с помощью %env без перезагрузок. Выполните эту команду без каких-либо переменных, она отобразит все ваши переменные среды."
   ]
  },
  {
   "cell_type": "markdown",
   "metadata": {},
   "source": [
    "## Магия \n",
    "Магия — это удобные команды, которые облегчают жизнь, когда вы хотите выполнить определённые задачи. Они часто выглядят как команды Unix, но все они реализованы на Python.\n",
    "\n",
    "Есть два вида магии: строчная магия (применяется к одной строке) и магия ячейки (применяется ко всей ячейке). Строчная магия начинается с символа процента (%), а магия ячейки — с двух таких символов (%%).\n",
    "\n",
    "Чтобы увидеть доступную магию, нужно запустить %lsmagic"
   ]
  },
  {
   "cell_type": "markdown",
   "metadata": {},
   "source": [
    "###  %load. Вставка кода и загрузка ячеек\n",
    "\n",
    "С помощью %load можно вставить код из внешнего скрипта.\n",
    "```\n",
    "%load basic_imports.py\n",
    "```\n",
    "Данная команда возьмёт файл basic_imports.py и загрузит его в ваш документ.\n",
    "Экспорт содержимого ячейки\n",
    "\n",
    "Это очень удобная функция. Она позволяет в любое время экспортировать содержимое ячейки с помощью %%writefile.\n",
    "```\n",
    "%%writefile thiscode.py\n",
    "Здесь мог бы быть какой-нибудь ваш код или функция, которые вы хотите экспортировать.\n",
    "```\n",
    "Это очень полезно, если вы используете один и тот же импорт в каждом документе или постоянно добавляете одну и ту же функцию. Теперь вы можете написать код один раз и использовать его везде.\n",
    "\n",
    "Например, вы можете написать файл basic_imports.py, содержащий следующий код:\n",
    "```\n",
    "%%writefile basic_imports.py\n",
    "import pandas as pd\n",
    "import numpy as np\n",
    "import matplotlib.pyplot as plt\n",
    "```\n",
    "Это создаст файл .py.\n",
    "\n",
    "Дальше можно его загрузить в любое время, написав:\n",
    "```\n",
    "%load basic_imports.py\n",
    "```\n",
    "\n",
    "Выполнение этой команды заменяет содержимое ячейки загруженным файлом.\n",
    "```\n",
    "import pandas as pd\n",
    "import numpy as np\n",
    "import matplotlib.pyplot as plt\n",
    "```\n",
    "Теперь вы можете снова запустить ячейку, чтобы импортировать все ваши модули.\n",
    "\n",
    "Работа с внешними файлами в Jupyter Notebook:\n",
    "```\n",
    "    %pycat file.py открывает скрипт \n",
    "    %load file.py вставляет скрипт в ячейку\n",
    "    %run file.py запускает скрипт\n",
    "    %run file.ipynb запускаетноутбук\n",
    "    %notebook filename экспорт текущей истории IPython в файл блокнота\n",
    "    ```"
   ]
  },
  {
   "cell_type": "markdown",
   "metadata": {},
   "source": [
    "###  %macro. Сохранение и повторное использование кода\n",
    "\n",
    "Как и у большинства людей, у вас периодически могут быть одни и те же задания. Возможно, есть несколько уравнений, которые вы постоянно решаете, или несколько строк кода, которые вы создавали много раз. Jupyter позволяет сохранять фрагменты кода как исполняемые макросы. Поскольку макросы — это просто код, он может содержать переменные, которые должны быть определены перед выполнением.\n",
    "```\n",
    "name = 'Kitten'\n",
    "```\n",
    "Теперь, чтобы определить макрос, нужен код для использования. Можно сохранить практически всё, от строки до функции.\n",
    "```\n",
    "print('Hello, %s!' % name)\n",
    "Hello, Kitten!\n",
    "```\n",
    "Для настройки макроса используется магия %macro и %load. Обычно принято имена макросов начинать с двойного подчеркивания, чтобы отличать их от других переменных.\n",
    "```\n",
    "%macro -q __hello_you 32\n",
    "```\n",
    "Магия %macro принимает имя и номер ячейки (или несколько номеров), а специальный ключ -q делает магию менее подробной. %store позволяет сохранить любую переменную для использования в других сессиях. В коде выше передаётся имя созданного макроса, чтобы можно было использовать его снова после выключения ядра или в других документах.\n",
    "\n",
    "Чтобы загрузить макрос, достаточно выполнить следующее.\n",
    "```\n",
    "%load __hello_you\n",
    "```\n",
    "Чтобы выполнить макрос, можно просто запустить ячейку, которая содержит имя макроса.\n",
    "```\n",
    "__hello_you\n",
    "Hello, Kitten!\n",
    "```\n",
    "Для наглядного примера измените переменную, использованную в макросе.\n",
    "```\n",
    "name = 'Muffins'\n",
    "```\n",
    "При запуске макроса захватывается измененное значение.\n",
    "```\n",
    "__hello_you\n",
    "Hello, Muffins!\n",
    "```\n",
    "Это работает, потому что макросы выполняют сохраненный код в пространстве имён ячейки. Если name будет не определено, вы получите ошибку.\n",
    "\n",
    "Если вы хотите использовать один и тот же макрос во всех своих документах, в этом может помочь %store.\n",
    "\n",
    "%store позволяет хранить макрос и использовать его во всех Jupyter Notebook.\n",
    "\n",
    "Иллюстрациия к статье «Как оптимизировать работу в Jupyter Notebook»\n",
    "```\n",
    "%store -r __hello_you\n",
    "name = 'Rambo'\n",
    "%load __hello_you\n",
    "Hello, Rambo!\n",
    "```"
   ]
  },
  {
   "cell_type": "markdown",
   "metadata": {},
   "source": [
    "###  %run\n",
    "\n",
    "Магия %run выполнит ваш код и отобразит любые выводные данные, включая графики Matplotlib. Таким образом можно выполнять даже целые документы. Также %run может выполнить код Python из файлов .py.\n"
   ]
  },
  {
   "cell_type": "markdown",
   "metadata": {},
   "source": [
    "### %pycat\n",
    "\n",
    "Использование %pycat покажет содержимое скрипта, если вы не уверены, что в нём находится\n",
    "```\n",
    "%pycat basic_imports.py\n",
    "```"
   ]
  },
  {
   "cell_type": "markdown",
   "metadata": {},
   "source": [
    "### %matplotlib и отображение графиков\n",
    "\n",
    "Магия %matplotlib inline отобразит графики Matplotlib прямо в выводе ячейки. Это означает, что диаграммы и графики Matplotlib можно включать прямо в свои документы. Имеет смысл запустить команду в начале вашего документа, прямо в первой ячейке.\n",
    "\n",
    "Одна простая магическая строка IPython может предоставит вам на выводе график с двойным разрешением для экранов Retina. Стоит отметить, что на других экранах график может не отображаться.\n",
    "```\n",
    "%config InlineBackend.figure_format ='retina'\n",
    "```"
   ]
  },
  {
   "cell_type": "markdown",
   "metadata": {},
   "source": [
    "### %timeit и %time Измерение времени\n",
    "\n",
    "Для измерения времени используются две магические команды IPython: %%time и %timeit. Они очень полезны, когда ваш код медленно выполняется и вы пытаетесь определить, в чём проблема. Они обе имеют как строковый режим, так и режим запуска из ячейки.\n",
    "\n",
    "Основное различие между %timeit и %time состоит в том, что первая выполняет указанный код много раз и вычисляет среднее значение, а %%time даст вам информацию о единичном запуске кода в вашей ячейке.\n",
    "\n",
    "Команда %%timeit использует Python-модуль timeit, который выполняет выражение множество раз, а затем выдаёт среднее значение результатов. Вы можете указать количество запусков с помощью опции -n, количество повторов с помощью -r и т. д."
   ]
  },
  {
   "cell_type": "markdown",
   "metadata": {},
   "source": [
    "### Запуск кода из другого ядра\n",
    "Можно запустить выполнение ячейки с использованием указанного языка. Существуют расширения для нескольких языков. Есть опции вроде:\n",
    "   ```\n",
    "    %%HTML\n",
    "    %%python\n",
    "    %%python2\n",
    "    %%python3\n",
    "    %%ruby\n",
    "    %%perl\n",
    "    %%capture\n",
    "    %%javascript\n",
    "    %%js\n",
    "    %%latex\n",
    "    %%markdown\n",
    "    %%pypy\n",
    "    ```\n"
   ]
  },
  {
   "cell_type": "markdown",
   "metadata": {},
   "source": [
    "Например, для рендеринга HTML в вашем документе вы должны выполнить следующее:"
   ]
  },
  {
   "cell_type": "code",
   "execution_count": 4,
   "metadata": {},
   "outputs": [
    {
     "data": {
      "text/html": [
       "This is really neat!\n"
      ],
      "text/plain": [
       "<IPython.core.display.HTML object>"
      ]
     },
     "metadata": {},
     "output_type": "display_data"
    }
   ],
   "source": [
    "%%HTML\n",
    "This is really neat!"
   ]
  },
  {
   "cell_type": "markdown",
   "metadata": {},
   "source": [
    "### %who\n",
    "\n",
    "Команда %who без аргументов выводит список всех переменных, существующих в глобальной области видимости. При передаче параметра, например str, будут перечислены только переменные этого типа:\n",
    "```\n",
    "%reset – очистка пространства имен\n",
    "%who – анализ доступных переменных глобального пространства имен\n",
    "%who_ls – вывод отсортированного списка доступных переменных\n",
    "%who str - вывод строк\n",
    "```"
   ]
  },
  {
   "cell_type": "markdown",
   "metadata": {},
   "source": [
    "### %prun и %pdb - отладка\n",
    "\n",
    "%prun показывает, сколько времени ваша программа потратила на каждую функцию. Использование %prun statement_name даёт упорядоченную таблицу, показывающую, сколько раз каждая внутренняя функция была вызвана в блоке. А также время, которое потребовалось на каждый вызов, и суммарное время всех запусков функции.\n",
    "Магия отладчика в Python\n",
    "\n",
    "Jupyter имеет собственный интерфейс для отладчика Python. Это позволяет заглянуть внутрь функции и посмотреть, что там происходит. Включить эту магию можно, запустив %pdb в начале ячейки.\n",
    "Графики высокого разрешения\n",
    "\n",
    "Пропуск ячейки для выполнения\n",
    "\n",
    "Просто добавьте %%script false в начале ячейки:\n",
    "```\n",
    "%%script false\n",
    "```"
   ]
  },
  {
   "cell_type": "markdown",
   "metadata": {},
   "source": [
    "### %pastebin\n",
    "магическая функция для генерации ссылки на ячейки, работающей в течении 7 дней"
   ]
  },
  {
   "cell_type": "code",
   "execution_count": 5,
   "metadata": {},
   "outputs": [
    {
     "data": {
      "text/plain": [
       "'http://dpaste.com/9KA24JXAZ'"
      ]
     },
     "execution_count": 5,
     "metadata": {},
     "output_type": "execute_result"
    }
   ],
   "source": [
    "%pastebin 1-3"
   ]
  },
  {
   "cell_type": "markdown",
   "metadata": {},
   "source": [
    "### Работа с директориями\n",
    "```\n",
    "    %pwd – вывод текущей рабочей директории\n",
    "    %cd – изменить текущую рабочую директорию\n",
    "    %bookmark – создание закладок к какой-либо директории (по умолчанию – к текущей)\n",
    "    %dhist – вывод истории посещенных директорий\n",
    "    %dirs – возвращает текущий стек директорий\n",
    "```"
   ]
  },
  {
   "cell_type": "markdown",
   "metadata": {},
   "source": [
    "### задание точности\n",
    "```\n",
    "%precision – задание точности  и способа отображения чисел\n",
    "%pylab – загрузка numpy и matplotlib для интерактивной работы\n",
    "```"
   ]
  },
  {
   "cell_type": "markdown",
   "metadata": {},
   "source": [
    "## Питон 3.8"
   ]
  },
  {
   "cell_type": "code",
   "execution_count": 8,
   "metadata": {},
   "outputs": [
    {
     "name": "stdout",
     "output_type": "stream",
     "text": [
      "3\n"
     ]
    }
   ],
   "source": [
    "# морж\n",
    "s = [1, 2, 3]\n",
    "if x := len(s):  # можно в 3.8\n",
    "    print(x)"
   ]
  },
  {
   "cell_type": "code",
   "execution_count": 10,
   "metadata": {},
   "outputs": [],
   "source": [
    "# только позиционные аргументы\n",
    "def incr(x, /):\n",
    "    return x + 1"
   ]
  },
  {
   "cell_type": "code",
   "execution_count": 29,
   "metadata": {},
   "outputs": [
    {
     "data": {
      "text/plain": [
       "'\\nЕще есть варианты Optional, Any, Union и конкретизация для структур\\n'"
      ]
     },
     "execution_count": 29,
     "metadata": {},
     "output_type": "execute_result"
    }
   ],
   "source": [
    "# подсказки о типах\n",
    "def double(number: float) -> float:\n",
    "    return 2 * number\n",
    "\n",
    "\"\"\"\n",
    "Примечание. Подсказки типов позволяют статическим средствам проверки типов выполнять проверку \n",
    "типов вашего кода Python без фактического запуска ваших сценариев. \n",
    "Это напоминает компиляторы, улавливающие ошибки типов в других языках, \n",
    "таких как Java, Rust и Crystal. Кроме того, подсказки типа действуют как \n",
    "документация вашего кода, облегчая чтение, а также улучшая автозаполнение в вашей IDE.\n",
    "Доступно несколько средств проверки статического типа, в том числе Pyright, Pytype и \n",
    "Pyre. В этой статье вы будете использовать Mypy\n",
    "\n",
    "Аннотации для переменных пишут через двоеточие после идентификатора.\n",
    "После этого может идти инициализация значения. Например \n",
    "\"\"\"\n",
    "price: int = 5\n",
    "title: str\n",
    "    \n",
    "\"\"\"\n",
    "Еще есть варианты Optional, Any, Union и конкретизация для структур\n",
    "\"\"\"\n",
    "\n",
    "#titles: List[str] = [\"hello\", \"world\"]\n",
    "\n",
    "# Также добавлен тип Literal\n",
    "#direction: Literal[\"horizontal\", \"vertical\"]\n",
    "# И константы\n",
    "#ID: Final = 1\n",
    "# Только у меня оно пока не заводится, потому что Mypy еще не завелся"
   ]
  },
  {
   "cell_type": "markdown",
   "metadata": {},
   "source": [
    "## f-строки"
   ]
  },
  {
   "cell_type": "code",
   "execution_count": 30,
   "metadata": {},
   "outputs": [
    {
     "data": {
      "text/plain": [
       "'A circle with radius 3.6 has area 40.72'"
      ]
     },
     "execution_count": 30,
     "metadata": {},
     "output_type": "execute_result"
    }
   ],
   "source": [
    "import math\n",
    "r = 3.6\n",
    "f\"A circle with radius {r} has area {math.pi * r * r:.2f}\""
   ]
  },
  {
   "cell_type": "markdown",
   "metadata": {},
   "source": [
    "В последнем выражении {math.pi * r * r: .2f} вы также используете спецификатор формата. Спецификаторы формата отделяются от выражений двоеточием.\n",
    ".2f означает, что область отформатирована как число с плавающей запятой с двумя десятичными знаками. Спецификаторы формата такие же, как и для .format()."
   ]
  },
  {
   "cell_type": "code",
   "execution_count": 31,
   "metadata": {},
   "outputs": [
    {
     "data": {
      "text/plain": [
       "'Diameter 7.2 gives circumference 22.62'"
      ]
     },
     "execution_count": 31,
     "metadata": {},
     "output_type": "execute_result"
    }
   ],
   "source": [
    "f\"Diameter {(diam := 2 * r)} gives circumference {math.pi * diam:.2f}\""
   ]
  },
  {
   "cell_type": "markdown",
   "metadata": {},
   "source": [
    "Однако настоящая новость в Python 3.8 — это новый спецификатор отладки. Теперь вы можете добавить = в конце выражения, и оно напечатает как выражение, так и его значение:"
   ]
  },
  {
   "cell_type": "code",
   "execution_count": 33,
   "metadata": {},
   "outputs": [
    {
     "data": {
      "text/plain": [
       "'python = 3.8'"
      ]
     },
     "execution_count": 33,
     "metadata": {},
     "output_type": "execute_result"
    }
   ],
   "source": [
    "python = 3.8\n",
    "f\"{python = }\""
   ]
  },
  {
   "cell_type": "markdown",
   "metadata": {},
   "source": [
    "## Структуры в Питон"
   ]
  },
  {
   "cell_type": "markdown",
   "metadata": {},
   "source": [
    "### Строки"
   ]
  },
  {
   "cell_type": "markdown",
   "metadata": {},
   "source": [
    "С помощью метода translate из str вы можете преобразовывать или удалять символы в строке (как это делает утилита tr):"
   ]
  },
  {
   "cell_type": "code",
   "execution_count": 24,
   "metadata": {},
   "outputs": [
    {
     "data": {
      "text/plain": [
       "'Hell0; w0rld!'"
      ]
     },
     "execution_count": 24,
     "metadata": {},
     "output_type": "execute_result"
    }
   ],
   "source": [
    "'Hello, world!'.translate(str.maketrans({',':';', 'o':'0'}))"
   ]
  },
  {
   "cell_type": "markdown",
   "metadata": {},
   "source": [
    "### Кортежи"
   ]
  },
  {
   "cell_type": "markdown",
   "metadata": {},
   "source": [
    "Для создания кортежа достаточно перечислить значения через запятую: 1, 2, 3. А что насчет кортежа, состоящего из одного элемента? Просто добавляем висячую запятую: 1,. Это выглядит некрасиво и нередко приводит к ошибкам, но вполне логично.\n",
    "\n",
    "Как насчет пустого кортежа? Это одна запятая — ,? Нет, это (). А что, скобки создают кортеж, как и запятые? Нет, (4) — не кортеж, это просто 4.\n",
    "\n",
    "Чтобы запутать всё еще сильнее, для литералов кортежей часто требуются дополнительные скобки. Если вам нужно, чтобы кортеж был единственным аргументом функции, то очевидно, что f(1, 2, 3) работать не будет — придется написать f((1, 2, 3)).\n",
    "\n",
    "Если мы видим что-то типа x, y = и дальше какая-то функция, то мы имеем дело с заданием кортежа"
   ]
  },
  {
   "cell_type": "markdown",
   "metadata": {},
   "source": [
    "Функция sorted позволяет задавать пользовательские способы сортировки. Это делается с помощью аргумента key, который описывает, как нужно преобразовать исходные значения для последующего сравнения:"
   ]
  },
  {
   "cell_type": "code",
   "execution_count": 15,
   "metadata": {},
   "outputs": [
    {
     "data": {
      "text/plain": [
       "[{'name': 'Alex', 'age': 4}, {'name': 'Vadim', 'age': 29}]"
      ]
     },
     "execution_count": 15,
     "metadata": {},
     "output_type": "execute_result"
    }
   ],
   "source": [
    "x = [dict(name='Vadim', age=29), dict(name='Alex', age=4)]\n",
    "sorted(x, key=lambda v: v['age'])"
   ]
  },
  {
   "cell_type": "markdown",
   "metadata": {},
   "source": [
    "Увы, не все библиотеки, работающие со сравнением, поддерживают аргумент key. Из тех, что на слуху, можно упомянуть heapq (частичная поддержка) и bisect (нет поддержки).\n",
    "\n",
    "В этой ситуации можно пойти двумя путями. Можно использовать пользовательские объекты, которые поддерживают правильное сравнение. Но вместо создания пользовательских объектов вы можете использовать кортежи (a, b), в которых a — значение для сравнения (приоритет), а b — исходное значение:"
   ]
  },
  {
   "cell_type": "code",
   "execution_count": 16,
   "metadata": {},
   "outputs": [
    {
     "data": {
      "text/plain": [
       "['Alex', 'Vadim']"
      ]
     },
     "execution_count": 16,
     "metadata": {},
     "output_type": "execute_result"
    }
   ],
   "source": [
    "users = [dict(name='Vadim', age=29), dict(name='Alex', age=4)]\n",
    "to_sort = [(u['age'], u) for u in users]\n",
    "[x[1]['name'] for x in sorted(to_sort)]"
   ]
  },
  {
   "cell_type": "code",
   "execution_count": null,
   "metadata": {},
   "outputs": [],
   "source": []
  },
  {
   "cell_type": "code",
   "execution_count": null,
   "metadata": {},
   "outputs": [],
   "source": []
  },
  {
   "cell_type": "code",
   "execution_count": null,
   "metadata": {},
   "outputs": [],
   "source": []
  },
  {
   "cell_type": "code",
   "execution_count": null,
   "metadata": {},
   "outputs": [],
   "source": []
  },
  {
   "cell_type": "markdown",
   "metadata": {},
   "source": [
    "### Списки"
   ]
  },
  {
   "cell_type": "code",
   "execution_count": 43,
   "metadata": {},
   "outputs": [
    {
     "data": {
      "text/plain": [
       "[{'a': 1}, None, {'a': -3}, {'a': 2}, None]"
      ]
     },
     "execution_count": 43,
     "metadata": {},
     "output_type": "execute_result"
    }
   ],
   "source": [
    "# Сортировка списка с None\n",
    "data = [dict(a=1),None,dict(a=-3),dict(a=2),None,]\n",
    "data"
   ]
  },
  {
   "cell_type": "code",
   "execution_count": 46,
   "metadata": {},
   "outputs": [
    {
     "data": {
      "text/plain": [
       "[{'a': -3}, {'a': 1}, {'a': 2}, None, None]"
      ]
     },
     "execution_count": 46,
     "metadata": {},
     "output_type": "execute_result"
    }
   ],
   "source": [
    "# Если бесконечность допустима\n",
    "sorted(data, key=lambda x: float('inf') if x is None else x['a'])\n",
    "# или\n",
    "sorted(data, key=lambda x: x and x['a'] or float('inf'))"
   ]
  },
  {
   "cell_type": "code",
   "execution_count": 45,
   "metadata": {},
   "outputs": [
    {
     "data": {
      "text/plain": [
       "[{'a': -3}, {'a': 1}, {'a': 2}, None, None]"
      ]
     },
     "execution_count": 45,
     "metadata": {},
     "output_type": "execute_result"
    }
   ],
   "source": [
    "# Если бесконечность недопустима\n",
    "sorted(data, key=lambda x: (1, None) if x is None else (0, x['a']))"
   ]
  },
  {
   "cell_type": "markdown",
   "metadata": {},
   "source": [
    "Генераторы списков могут содержать больше одной пары выражений for и if:"
   ]
  },
  {
   "cell_type": "code",
   "execution_count": 14,
   "metadata": {},
   "outputs": [
    {
     "data": {
      "text/plain": [
       "[(0, 1), (1, 0), (1, 2), (2, 0), (2, 1), (2, 3)]"
      ]
     },
     "execution_count": 14,
     "metadata": {},
     "output_type": "execute_result"
    }
   ],
   "source": [
    "[(x, y) for x in range(3) for y in range(x + 2) if x != y]"
   ]
  },
  {
   "cell_type": "code",
   "execution_count": null,
   "metadata": {},
   "outputs": [],
   "source": []
  },
  {
   "cell_type": "code",
   "execution_count": null,
   "metadata": {},
   "outputs": [],
   "source": []
  },
  {
   "cell_type": "markdown",
   "metadata": {},
   "source": [
    "### Коллекции"
   ]
  },
  {
   "cell_type": "markdown",
   "metadata": {},
   "source": [
    "collections.defaultdict позволяет создать словарь, который возвращает значение по умолчанию, если запрошенный ключ отсутствует (вместо выбрасывания KeyError). Для создания defaultdict вам нужно предоставить не просто дефолтное значение, а фабрику таких значений.\n",
    "\n",
    "Так вы можете создать словарь с виртуально бесконечным количеством вложенных словарей, что позволит использовать конструкции вроде d[a][b][c]...[z]."
   ]
  },
  {
   "cell_type": "code",
   "execution_count": 10,
   "metadata": {},
   "outputs": [],
   "source": [
    "import collections\n",
    "def infinite_dict():\n",
    "    return collections.defaultdict(infinite_dict)\n",
    "d = infinite_dict()"
   ]
  },
  {
   "cell_type": "markdown",
   "metadata": {},
   "source": [
    "## Операции в Питон"
   ]
  },
  {
   "cell_type": "markdown",
   "metadata": {},
   "source": [
    "Семантическая разница между += и + заключается в том, что первый изменяет объект, а второй — создаёт новый"
   ]
  },
  {
   "cell_type": "markdown",
   "metadata": {},
   "source": [
    "На первый взгляд кажется, что sum([a, b, c]) эквивалентно a + b + c, хотя на самом деле эквивалентом будет 0 + a + b + c. Значит это выражение не может работать с типами, которые не поддерживают сложение с 0\n",
    "\n",
    "sum предназначена для сложения float и int-типов, хотя может работать и с любыми другими кастомными типами. Однако он отказывается складывать bytes, bytearray и str, поскольку для этого предназначена join:"
   ]
  },
  {
   "cell_type": "markdown",
   "metadata": {},
   "source": [
    "0 1 2 3 4 5 6 7 8 9 — это не единственные символы, считающиеся цифрами. Python соблюдает правила Unicode и считает цифрами несколько сотен символов. Полный список здесь.\n",
    "\n",
    "Это имеет значение для функций вроде int, unicode.isdecimal и даже re.match:"
   ]
  },
  {
   "cell_type": "code",
   "execution_count": 11,
   "metadata": {},
   "outputs": [
    {
     "data": {
      "text/plain": [
       "9"
      ]
     },
     "execution_count": 11,
     "metadata": {},
     "output_type": "execute_result"
    }
   ],
   "source": [
    "int('௯')"
   ]
  },
  {
   "cell_type": "markdown",
   "metadata": {},
   "source": [
    "Можно задать и отрицательную точность округления:"
   ]
  },
  {
   "cell_type": "code",
   "execution_count": 13,
   "metadata": {},
   "outputs": [
    {
     "data": {
      "text/plain": [
       "400.0"
      ]
     },
     "execution_count": 13,
     "metadata": {},
     "output_type": "execute_result"
    }
   ],
   "source": [
    "round(413.77, -2)"
   ]
  },
  {
   "cell_type": "markdown",
   "metadata": {},
   "source": [
    "В Python можно создавать цепочки операторов сравнения:"
   ]
  },
  {
   "cell_type": "code",
   "execution_count": 17,
   "metadata": {},
   "outputs": [
    {
     "data": {
      "text/plain": [
       "True"
      ]
     },
     "execution_count": 17,
     "metadata": {},
     "output_type": "execute_result"
    }
   ],
   "source": [
    "0 < 1 < 2"
   ]
  },
  {
   "cell_type": "code",
   "execution_count": 18,
   "metadata": {},
   "outputs": [
    {
     "data": {
      "text/plain": [
       "True"
      ]
     },
     "execution_count": 18,
     "metadata": {},
     "output_type": "execute_result"
    }
   ],
   "source": [
    "0 < 1 < 2 > 1 > 0"
   ]
  },
  {
   "cell_type": "code",
   "execution_count": 19,
   "metadata": {},
   "outputs": [
    {
     "name": "stderr",
     "output_type": "stream",
     "text": [
      "<>:1: SyntaxWarning: \"is not\" with a literal. Did you mean \"!=\"?\n",
      "<>:1: SyntaxWarning: \"is not\" with a literal. Did you mean \"!=\"?\n",
      "<ipython-input-19-8c9bd54b170e>:1: SyntaxWarning: \"is not\" with a literal. Did you mean \"!=\"?\n",
      "  [] is not 3 in [1, 2, 3]\n"
     ]
    },
    {
     "data": {
      "text/plain": [
       "True"
      ]
     },
     "execution_count": 19,
     "metadata": {},
     "output_type": "execute_result"
    }
   ],
   "source": [
    "[] is not 3 in [1, 2, 3]"
   ]
  },
  {
   "cell_type": "markdown",
   "metadata": {},
   "source": [
    "Единственный правильный способ сравнения с None заключается в использовании is None. Числа с плавающей запятой в Python могут иметь значения NaN. Например, такое число можно получить с помощью math.nan. nan не равно ничему, включая себя. Кроме того, NaN-объект не уникален, у вас может быть несколько разных NaN-объектов из разных источников. Это означает, что, в целом, вы не можете использовать NaN в качестве ключа словаря."
   ]
  },
  {
   "cell_type": "markdown",
   "metadata": {},
   "source": [
    "complex — это встроенный в Python тип для комплексных чисел:"
   ]
  },
  {
   "cell_type": "code",
   "execution_count": 20,
   "metadata": {},
   "outputs": [
    {
     "data": {
      "text/plain": [
       "'(2-3j)'"
      ]
     },
     "execution_count": 20,
     "metadata": {},
     "output_type": "execute_result"
    }
   ],
   "source": [
    "str(complex(2, -3))"
   ]
  },
  {
   "cell_type": "markdown",
   "metadata": {},
   "source": [
    "Python поддерживает параллельное присваивание. Это означает, что все переменные изменяются сразу после вычисления всех выражений. Более того, вы можете использовать любое выражение, поддерживающее присваивание, а не только переменные:"
   ]
  },
  {
   "cell_type": "code",
   "execution_count": 26,
   "metadata": {},
   "outputs": [
    {
     "name": "stdout",
     "output_type": "stream",
     "text": [
      "[3, 4, 5, 6, 7, 8, 9, 0, 1, 2]\n"
     ]
    }
   ],
   "source": [
    "def shift_inplace(lst, k):\n",
    "    size = len(lst)\n",
    "    lst[k:], lst[0:k] = lst[0:-k], lst[-k:]\n",
    "\n",
    "lst = list(range(10))\n",
    "\n",
    "shift_inplace(lst, -3)\n",
    "print(lst)\n"
   ]
  },
  {
   "cell_type": "markdown",
   "metadata": {},
   "source": [
    "## Функции"
   ]
  },
  {
   "cell_type": "markdown",
   "metadata": {},
   "source": [
    "### Исключения"
   ]
  },
  {
   "cell_type": "markdown",
   "metadata": {},
   "source": [
    "Порядок блоков except имеет значение: если исключение может быть поймано несколькими блоками, то его поймает верхний блок. Этот код не будет работать так, как задумано:"
   ]
  },
  {
   "cell_type": "code",
   "execution_count": null,
   "metadata": {},
   "outputs": [],
   "source": [
    "def get(storage, key, default):\n",
    "    try:\n",
    "        return storage[key]\n",
    "    except LookupError:\n",
    "        return default\n",
    "    except IndexError:\n",
    "        return get(storage, 0, default)\n",
    "    except TypeError:\n",
    "        logging.exception('unsupported key')\n",
    "        return default"
   ]
  },
  {
   "cell_type": "markdown",
   "metadata": {},
   "source": [
    "except IndexError не будет работать, потому что IndexError является подклассом LookupError. Более конкретное исключение всегда должно находиться выше"
   ]
  },
  {
   "cell_type": "code",
   "execution_count": null,
   "metadata": {},
   "outputs": [],
   "source": [
    "def get(storage, key, default):\n",
    "    try:\n",
    "        return storage[key]\n",
    "    except IndexError:\n",
    "        return get(storage, 0, default)\n",
    "    except LookupError:\n",
    "        return default\n",
    "    except TypeError:\n",
    "        logging.exception('unsupported key')\n",
    "    return default"
   ]
  },
  {
   "cell_type": "markdown",
   "metadata": {},
   "source": [
    "вы можете использовать ... для обозначения того, что функция ещё не реализована. Это полностью корректный код на Python:"
   ]
  },
  {
   "cell_type": "code",
   "execution_count": 12,
   "metadata": {},
   "outputs": [],
   "source": [
    "def x():\n",
    "    ..."
   ]
  },
  {
   "cell_type": "markdown",
   "metadata": {},
   "source": [
    "## ООП "
   ]
  },
  {
   "cell_type": "markdown",
   "metadata": {},
   "source": [
    "### Фабричный метод\n",
    "Если вы создаете новые объекты внутри \\__init__\\, то целесообразнее передавать их уже готовыми в качестве аргументов, а для создания объекта использовать фабричный метод. Это отделит бизнес-логику от технической реализации создания объектов.\n",
    "\n",
    "В этом примере \\__init__\\для создания подключения к базе данных принимает в виде аргументов host и port:"
   ]
  },
  {
   "cell_type": "code",
   "execution_count": 47,
   "metadata": {},
   "outputs": [],
   "source": [
    "class Query:\n",
    "    def __init__(self, host, port):\n",
    "        self._connection = Connection(host, port)"
   ]
  },
  {
   "cell_type": "code",
   "execution_count": null,
   "metadata": {},
   "outputs": [],
   "source": [
    "class Query:\n",
    "    def __init__(self, connection):\n",
    "        self._connection = connection\n",
    "        \n",
    "    @classmethod\n",
    "    def create(cls, host, port):\n",
    "        return cls(Connection(host, port))"
   ]
  },
  {
   "cell_type": "markdown",
   "metadata": {},
   "source": [
    "У этого подхода есть как минимум следующие преимущества:\n",
    "* Легко внедрять зависимости. В тестах можно будет делать Query(FakeConnection()).\n",
    "* Класс может иметь столько фабричных методов, сколько хотите. Создавать подключение можно не только с помощью host и port, но еще и клонируя другое подключение, считывая конфигурационный файл, используя подключение по умолчанию и т. д.\n",
    "* Подобные фабричные методы можно превращать в асинхронные функции, что абсолютно невозможно провернуть с \\__init__\\.\n"
   ]
  },
  {
   "cell_type": "markdown",
   "metadata": {},
   "source": [
    "### super или next"
   ]
  },
  {
   "cell_type": "markdown",
   "metadata": {},
   "source": [
    "Функция super() позволяет ссылаться на базовый класс. Это бывает очень полезно в случаях, когда производный класс хочет добавить что-то в реализацию метода, а не переопределить его полностью."
   ]
  },
  {
   "cell_type": "code",
   "execution_count": null,
   "metadata": {},
   "outputs": [],
   "source": [
    "class BaseTestCase(TestCase):\n",
    "    def setUp(self):\n",
    "        self._db = create_db()\n",
    "\n",
    "class UserTestCase(BaseTestCase):\n",
    "    def setUp(self):\n",
    "        super().setUp()\n",
    "        self._user = create_user()"
   ]
  },
  {
   "cell_type": "markdown",
   "metadata": {},
   "source": [
    "Имя super не означает ничего «суперского». В данном контексте оно означает «выше по иерархии» (например, как в слове «суперинтендант»). При этом super() не всегда ссылается на базовый класс, она легко может возвращать дочерний класс. Так что правильнее было бы использовать имя next(), поскольку возвращается следующий класс согласно MRO."
   ]
  },
  {
   "cell_type": "code",
   "execution_count": null,
   "metadata": {},
   "outputs": [],
   "source": [
    "class Top:\n",
    "    def foo(self):\n",
    "        return 'top'\n",
    "\n",
    "class Left(Top):\n",
    "    def foo(self):\n",
    "        return super().foo()\n",
    "\n",
    "class Right(Top):\n",
    "    def foo(self):\n",
    "        return 'right'\n",
    "\n",
    "class Bottom(Left, Right):\n",
    "    pass\n",
    "\n",
    "# prints 'right'\n",
    "print(Bottom().foo())"
   ]
  },
  {
   "cell_type": "markdown",
   "metadata": {},
   "source": [
    "Не забывайте, что super() может выдавать разные результаты в зависимости от того, откуда изначально было вызван метод."
   ]
  },
  {
   "cell_type": "markdown",
   "metadata": {},
   "source": [
    "Класс создается в два больших этапа. Сначала исполняется тело класса, как тело какой-либо функции. На втором этапе получившееся пространство имен (которое возвращается locals()) используется метаклассом (по умолчанию это type) для создания объекта класса."
   ]
  },
  {
   "cell_type": "code",
   "execution_count": 50,
   "metadata": {},
   "outputs": [
    {
     "name": "stdout",
     "output_type": "stream",
     "text": [
      "{'__module__': '__main__', '__qualname__': 'Foo', 'B': 2}\n"
     ]
    }
   ],
   "source": [
    "class Meta(type):\n",
    "    def __new__(meta, name, bases, ns):\n",
    "        print(ns)\n",
    "        return super().__new__(\n",
    "            meta, name,\n",
    "            bases, ns\n",
    "        )\n",
    "\n",
    "class Foo(metaclass=Meta):\n",
    "    B = 2"
   ]
  },
  {
   "cell_type": "markdown",
   "metadata": {},
   "source": [
    "Очевидно, что если ввести нечто вроде B = 2; B = 3, то метакласс увидит только B = 3, потому что лишь это значение находится в ns. Это ограничение проистекает из того факта, что метакласс начинает работать только после исполнения тела."
   ]
  },
  {
   "cell_type": "markdown",
   "metadata": {},
   "source": [
    "## Время"
   ]
  },
  {
   "cell_type": "code",
   "execution_count": 54,
   "metadata": {},
   "outputs": [
    {
     "name": "stdout",
     "output_type": "stream",
     "text": [
      "Requirement already satisfied: pytz in c:\\programdata\\anaconda3\\lib\\site-packages (2020.1)\n"
     ]
    }
   ],
   "source": [
    "!pip install pytz"
   ]
  },
  {
   "cell_type": "markdown",
   "metadata": {},
   "source": [
    "## Итераторы и генераторы"
   ]
  },
  {
   "cell_type": "markdown",
   "metadata": {},
   "source": [
    "Когда вы создаёте список, вы можете считывать его элементы один за другим — это называется итерацией:"
   ]
  },
  {
   "cell_type": "code",
   "execution_count": 58,
   "metadata": {},
   "outputs": [
    {
     "name": "stdout",
     "output_type": "stream",
     "text": [
      "1\n",
      "2\n",
      "3\n"
     ]
    }
   ],
   "source": [
    "mylist = [1, 2, 3]\n",
    "for i in mylist :\n",
    "    print(i)"
   ]
  },
  {
   "cell_type": "markdown",
   "metadata": {},
   "source": [
    "Mylist является итерируемым объектом. Когда вы создаёте список, используя генераторное выражение, вы создаёте также итератор:"
   ]
  },
  {
   "cell_type": "code",
   "execution_count": 59,
   "metadata": {},
   "outputs": [
    {
     "name": "stdout",
     "output_type": "stream",
     "text": [
      "0\n",
      "1\n",
      "4\n"
     ]
    }
   ],
   "source": [
    "mylist = [x*x for x in range(3)]\n",
    "for i in mylist :\n",
    "    print(i)"
   ]
  },
  {
   "cell_type": "markdown",
   "metadata": {},
   "source": [
    "В Python просто генераторы и генераторы списков - разные вещи. Здесь есть проблема перевода с английского. То, что мы привыкли называть генератором списка, в английском варианте звучит как \"list comprehension\" и к генераторам никакого отношения не имеет.\n",
    "\n",
    "Слово \"comprehension\" (понимание, осмысление) оказывается как бы не в тему при переводе на русский. Получается что-то вроде \"понимание списка\". Поэтому мы говорим \"генератор списка\", понимая под словом \"генератор\" не объект, а синтаксическую конструкцию, которая генерирует, то есть создает, список.\n",
    "\n",
    "С другой стороны, объекты-генераторы - это особые объекты-функции, которые между вызовами сохраняют свое состояние. В цикле for они ведут себя подобно итерируемым объектам, к которым относятся списки, словари, строки и др. Однако генераторы поддерживают метод next(), а значит являются разновидностью итераторов. \n",
    "\n",
    "Быстрым способом создания относительно простых объектов-генераторов являются генераторные выражения - generator expressions. Синтаксис этих выражений похож на синтаксис генераторов списков. Однако они возвращают разные типы объектов. Первый - объект-генератор. Второй - список.\n",
    "\n",
    "Сначала рассмотрим генераторы списков, чтобы привыкнуть к синтаксической конструкции."
   ]
  },
  {
   "cell_type": "markdown",
   "metadata": {},
   "source": [
    "В Python генераторы списков позволяют создавать и быстро заполнять списки.\n",
    "Синтаксическая конструкция генератора списка предполагает наличие итерируемого объекта или итератора, на базе которого будет создаваться новый список, а также выражение, которое будет что-то делать с извлеченными из последовательности элементами перед тем как добавить их в формируемый список. "
   ]
  },
  {
   "cell_type": "code",
   "execution_count": null,
   "metadata": {},
   "outputs": [],
   "source": [
    "a = [1, 2, 3]\n",
    "b = [i+10 for i in a]"
   ]
  },
  {
   "cell_type": "markdown",
   "metadata": {},
   "source": [
    "В примере выше генератором списка является выражение [i+10 for i in a]. Здесь a - итерируемый объект. В данном случае это другой список. Из него извлекается каждый элемент в цикле for. Перед for описывается действие, которое выполняется над элементом перед его добавлением в новый список.\n",
    "Обратите внимание, что генератор создает новый список, а не изменяет существующий. Если надо изменить текущую переменную, ей надо присвоить новое значение:"
   ]
  },
  {
   "cell_type": "markdown",
   "metadata": {},
   "source": [
    "Генераторы списков относятся к разряду \"синтаксического сахара\" языка программирования Python. Другими словами, без них можно обойтись:"
   ]
  },
  {
   "cell_type": "code",
   "execution_count": null,
   "metadata": {},
   "outputs": [],
   "source": [
    "for index, value in enumerate(a):\n",
    "    a[index] = value + 10"
   ]
  },
  {
   "cell_type": "markdown",
   "metadata": {},
   "source": [
    "Если в программе может быть несколько ссылок на список, генераторами надо пользоваться осторожно. если изменить список генератором, то переменные будут указывать на разные списки.\n",
    "\n",
    "Перебираемым в цикле for объектом может быть быть не только список. В примере ниже в список помещаются строки файла."
   ]
  },
  {
   "cell_type": "code",
   "execution_count": null,
   "metadata": {},
   "outputs": [],
   "source": [
    "lines = [line.strip() for line in open('text.txt')]\n",
    "lines"
   ]
  },
  {
   "cell_type": "code",
   "execution_count": null,
   "metadata": {},
   "outputs": [],
   "source": [
    "# В генератор списка можно добавить условие:\n",
    "from random import randint\n",
    "nums = [randint(10, 20) for i in range(10)]\n",
    "nums = [i for i in nums if i%2 == 0]\n"
   ]
  },
  {
   "cell_type": "code",
   "execution_count": 6,
   "metadata": {},
   "outputs": [
    {
     "data": {
      "text/plain": [
       "['134', '135', '136', '234', '235', '236']"
      ]
     },
     "execution_count": 6,
     "metadata": {},
     "output_type": "execute_result"
    }
   ],
   "source": [
    "# Генераторы списков могут содержать вложенные циклы:\n",
    "a = \"12\"\n",
    "b = \"3\"\n",
    "c = \"456\"\n",
    "comb = [i+j+k for i in a for j in b for k in c]\n",
    "comb"
   ]
  },
  {
   "cell_type": "markdown",
   "metadata": {},
   "source": [
    "Если в выражении генератора списка заменить квадратные скобки на фигурные, то можно получить не список, а словарь:"
   ]
  },
  {
   "cell_type": "code",
   "execution_count": null,
   "metadata": {},
   "outputs": [],
   "source": [
    "a = {i:i**2 for i in range(11,15)}"
   ]
  },
  {
   "cell_type": "markdown",
   "metadata": {},
   "source": [
    "При этом синтаксис выражения до for должен быть соответствующий словарю, то есть включать ключ и через двоеточие значение. Если этого нет, будет сгенерировано множество:"
   ]
  },
  {
   "cell_type": "code",
   "execution_count": null,
   "metadata": {},
   "outputs": [],
   "source": [
    "a = {i for i in range(11,15)}"
   ]
  },
  {
   "cell_type": "markdown",
   "metadata": {},
   "source": [
    "Выражения, создающие объекты-генераторы, похожи на выражения, генерирующие списки, словари и множества за одним исключением. Чтобы создать генераторный объект, надо использовать круглые скобки:"
   ]
  },
  {
   "cell_type": "code",
   "execution_count": null,
   "metadata": {},
   "outputs": [],
   "source": [
    "a = (i for i in range(2, 8))\n",
    "\n",
    "for i in a:\n",
    "    print(i)"
   ]
  },
  {
   "cell_type": "markdown",
   "metadata": {},
   "source": [
    "Второй раз перебрать генератор в цикле for не получится, так как объект-генератор уже сгенерировал все значения по заложенной в него \"формуле\". Поэтому генераторы обычно используются, когда надо единожды пройтись по итерируемому объекту.\n",
    "Кроме того, генераторы экономят память, так как в ней хранятся не все значения, скажем, большого списка, а только предыдущий элемент, предел и формула, по которой вычисляется следующий элемент. \n",
    "Выражение, создающее генератор, это сокращенная запись следующего:"
   ]
  },
  {
   "cell_type": "code",
   "execution_count": null,
   "metadata": {},
   "outputs": [],
   "source": [
    "def func(start, finish):\n",
    "    while start < finish:\n",
    "        yield start * 0.33\n",
    "        start += 1\n",
    "a = func(1, 4)\n",
    "\n",
    "for i in a:\n",
    "    print(i)"
   ]
  },
  {
   "cell_type": "markdown",
   "metadata": {},
   "source": [
    "Функция, содержащая yield, возвращает объект-генератор, а не выполняет свой код сразу. Тело функции исполняется при каждом вызове метода next(). В цикле for это делается автоматически. При этом функция сохраняет значения переменных от предыдущего вызова.\n",
    "Если нет необходимости использовать функцию многократно, проще использовать выражение"
   ]
  },
  {
   "cell_type": "markdown",
   "metadata": {},
   "source": [
    "В дополнение к получению значений от генератора, можно отправить объект с генератором с помощью метода send()."
   ]
  },
  {
   "cell_type": "code",
   "execution_count": null,
   "metadata": {},
   "outputs": [],
   "source": [
    "def accumulator():\n",
    "    total = 0\n",
    "    value = None\n",
    "    while True:\n",
    "        # receive sent value\n",
    "        value = yield total\n",
    "        if value is None: break\n",
    "        # aggregate values\n",
    "        total += value\n",
    "\n",
    "generator = accumulator()\n",
    "\n",
    "# advance until the first \"yield\"\n",
    "next(generator)      # 0\n",
    "\n",
    "# from this point on, the generator aggregates values\n",
    "generator.send(1)    # 1\n",
    "generator.send(10)   # 11\n",
    "generator.send(100)  # 111\n",
    "# ...\n",
    "\n",
    "# Calling next(generator) is equivalent to calling generator.send(None)\n",
    "next(generator)      # StopIteration"
   ]
  },
  {
   "cell_type": "code",
   "execution_count": null,
   "metadata": {},
   "outputs": [],
   "source": [
    "sum(i ** 2 for i in range(4)) # тоже генератор"
   ]
  },
  {
   "cell_type": "markdown",
   "metadata": {},
   "source": [
    "Обратите внимание на то, что тело генератора не выполняется сразу же: при вызове function() в примере выше, она немедленно возвращает объект генератора, не выполняя даже первый оператор печати. Это позволяет генераторам использовать меньше памяти, чем функциям, которые возвращают список, и позволяет создавать генераторы, которые создают бесконечно длинные последовательности.\n",
    "\n",
    "По этой причине генераторы часто используются в науке о данных и других контекстах, связанных с большими объемами данных. Другое преимущество состоит в том, что другой код может немедленно использовать значения, полученные генератором, не дожидаясь полной последовательности"
   ]
  },
  {
   "cell_type": "code",
   "execution_count": null,
   "metadata": {},
   "outputs": [],
   "source": []
  },
  {
   "cell_type": "code",
   "execution_count": null,
   "metadata": {},
   "outputs": [],
   "source": []
  },
  {
   "cell_type": "code",
   "execution_count": null,
   "metadata": {},
   "outputs": [],
   "source": []
  },
  {
   "cell_type": "code",
   "execution_count": null,
   "metadata": {},
   "outputs": [],
   "source": []
  },
  {
   "cell_type": "markdown",
   "metadata": {},
   "source": [
    "Всё, к чему можно применить конструкцию «for… in...», является итерируемым объектом: списки, строки, файлы… Это удобно, потому что можно считывать из них значения сколько потребуется — однако все значения хранятся в памяти, а это не всегда желательно, если у вас много значений.\n",
    "Генераторы это тоже итерируемые объекты, но прочитать их можно лишь один раз. Это связано с тем, что они не хранят значения в памяти, а генерируют их на лету:"
   ]
  },
  {
   "cell_type": "code",
   "execution_count": 60,
   "metadata": {},
   "outputs": [
    {
     "name": "stdout",
     "output_type": "stream",
     "text": [
      "0\n",
      "1\n",
      "4\n"
     ]
    }
   ],
   "source": [
    "mygenerator = (x*x for x in range(3))\n",
    "for i in mygenerator :\n",
    "    print(i)"
   ]
  },
  {
   "cell_type": "markdown",
   "metadata": {},
   "source": [
    "Всё то же самое, разве что используются круглые скобки вместо квадратных. НО: нельзя применить конструкцию for i in mygenerator второй раз, так как генератор может быть использован только единожды: он вычисляет 0, потом забывает про него и вычисляет 1, завершаяя вычислением 4 — одно за другим."
   ]
  },
  {
   "cell_type": "markdown",
   "metadata": {},
   "source": [
    "Yield это ключевое слово, которое используется примерно как return — отличие в том, что функция вернёт генератор."
   ]
  },
  {
   "cell_type": "code",
   "execution_count": 61,
   "metadata": {},
   "outputs": [
    {
     "name": "stdout",
     "output_type": "stream",
     "text": [
      "0\n",
      "1\n",
      "4\n"
     ]
    }
   ],
   "source": [
    "def createGenerator() :\n",
    "    mylist = range(3)\n",
    "    for i in mylist :\n",
    "        yield i*i\n",
    "mygenerator = createGenerator() # создаём генератор\n",
    "# mygenerator является объектом!\n",
    "for i in mygenerator:\n",
    "    print(i)"
   ]
  },
  {
   "cell_type": "markdown",
   "metadata": {},
   "source": [
    "В данном случае пример бесполезный, но это удобно, если вы знаете, что функция вернёт большой набор значений, который надо будет прочитать только один раз.\n",
    "Чтобы освоить yield, вы должны понимать, что когда вы вызываете функцию, код внутри тела функции не исполняется. Функция только возвращает объект-генератор — немного мудрёно\n",
    "Ваш код будет вызываться каждый раз, когда for обращается к генератору.\n",
    "\n",
    "Генераторы — это функции, которые можно приостанавливать и возобновлять во время их выполнения, при этом они возвращают объект, который можно итерировать. В отличие от списков, они ленивы и поэтому работают с текущим элемент только по запросу. Таким образом, они намного эффективнее используют память при работе с большими наборами данных. В этой статье подробно описывается, как создавать функции генератор и выражения генератор, а также рассматривается пример их использования."
   ]
  },
  {
   "cell_type": "markdown",
   "metadata": {},
   "source": [
    "Чтобы создать генератор, необходимо определить функцию, как обычно, но использовать yield вместо return, указывая интерпретатору, что эту функцию следует рассматривать как итератор:"
   ]
  },
  {
   "cell_type": "code",
   "execution_count": 2,
   "metadata": {},
   "outputs": [],
   "source": [
    "def countdown(num):\n",
    "    print('Starting')\n",
    "    while num > 0:\n",
    "        yield num\n",
    "        num -= 1"
   ]
  },
  {
   "cell_type": "markdown",
   "metadata": {},
   "source": [
    "Оператор yield приостанавливает функцию и сохраняет локальное состояние, чтобы его можно было возобновить с того места, где оно было остановлено.\n",
    "Что происходит, когда вы вызываете эту функцию?"
   ]
  },
  {
   "cell_type": "code",
   "execution_count": 3,
   "metadata": {},
   "outputs": [
    {
     "data": {
      "text/plain": [
       "<generator object countdown at 0x00000226B77853C0>"
      ]
     },
     "execution_count": 3,
     "metadata": {},
     "output_type": "execute_result"
    }
   ],
   "source": [
    "val = countdown(5)\n",
    "val"
   ]
  },
  {
   "cell_type": "markdown",
   "metadata": {},
   "source": [
    "Вызов функции не выполняет ее. Мы знаем это, потому что строка Starting не печатается. Вместо этого функция возвращает объект-генератор, который используется для управления выполнением.\n",
    "\n",
    "Объекты генератора выполняются при вызове next():"
   ]
  },
  {
   "cell_type": "code",
   "execution_count": 4,
   "metadata": {},
   "outputs": [
    {
     "name": "stdout",
     "output_type": "stream",
     "text": [
      "Starting\n"
     ]
    },
    {
     "data": {
      "text/plain": [
       "5"
      ]
     },
     "execution_count": 4,
     "metadata": {},
     "output_type": "execute_result"
    }
   ],
   "source": [
    "next(val)"
   ]
  },
  {
   "cell_type": "markdown",
   "metadata": {},
   "source": [
    "При первом вызове next() выполнение начинается с начала тела функции и продолжается до следующего оператора yield, где возвращается значение справа от оператора, последующие вызовы next() продолжаются с оператора yield до конец функции, затем новый обход цикла и продолжение с начала тела функции, пока не будет вызван другой выход. Если yield не вызывается (что в нашем случае означает, что условие while не отрабатывается, потому что num <= 0), возникает исключение StopIteration:"
   ]
  },
  {
   "cell_type": "markdown",
   "metadata": {},
   "source": [
    "Выражения-генератор (Generator Expressions)\n",
    "Как и списки, генераторы также могут быть написаны таким же образом, за исключением того, что они возвращают объект генератора, а не список:"
   ]
  },
  {
   "cell_type": "code",
   "execution_count": 5,
   "metadata": {},
   "outputs": [
    {
     "name": "stdout",
     "output_type": "stream",
     "text": [
      "a\n",
      "b\n",
      "c\n",
      "d\n"
     ]
    }
   ],
   "source": [
    "my_list = ['a', 'b', 'c', 'd']\n",
    "gen_obj = (x for x in my_list)\n",
    "for val in gen_obj:\n",
    "    print(val)"
   ]
  },
  {
   "cell_type": "markdown",
   "metadata": {},
   "source": [
    "Обратите внимание на круглые скобки по обеим сторонам второй строки, обозначающие выражение генератора, которое, по большей части, делает то же самое, что и генератор списка, но делает это лениво (то есть в момент запроса объекта. Будьте внимательны, чтобы не перепутать синтаксис генератор списка с выражением генератора — [] vs () — поскольку выражения генератора могут работать медленнее, чем генератор списка (при не хватки памяти):  "
   ]
  },
  {
   "cell_type": "markdown",
   "metadata": {},
   "source": [
    "Генераторы идеально подходят для чтения большого количества больших файлов, поскольку они выдают данные по одному фрагменту за раз, независимо от размера входного потока. Они также могут привести к более чистому коду путем разделения процесса итерации на более мелкие компоненты."
   ]
  },
  {
   "cell_type": "code",
   "execution_count": null,
   "metadata": {},
   "outputs": [],
   "source": [
    "def emit_lines(pattern=None):\n",
    "    lines = []\n",
    "    for dir_path, dir_names, file_names in os.walk('test/'):\n",
    "        for file_name in file_names:\n",
    "            if file_name.endswith('.py'):\n",
    "                for line in open(os.path.join(dir_path, file_name)):\n",
    "                    if pattern in line:\n",
    "                        lines.append(line)\n",
    "    return lines"
   ]
  },
  {
   "cell_type": "markdown",
   "metadata": {},
   "source": [
    "Эта функция просматривает набор файлов в указанном каталоге. Она открывает каждый файл и затем просматривает каждую строку, чтобы проверить соответствие шаблону.\n",
    "Это прекрасно работает с небольшим количеством небольших файлов. Но что, если мы имеем дело с очень большими файлами? А что, если их много? К счастью, функция Python open() достаточно эффективна и не загружает весь файл в память. Но что, если наш список совпадений намного превышает доступную память на нашей машине?\n",
    "Таким образом, вместо обработки нехватки места (при больших списках) и времени (почти бесконечный объем потока данных) при обработке больших объемов данных генераторы являются идеальным решением для использования, поскольку они выдают данные по одному за раз (вместо создание промежуточных списков).\n",
    "Давайте посмотрим на версию вышеупомянутой проблемы для генератора и попытаемся понять, почему генераторы подходят для таких случаев использования с использованием конвейеров обработки.\n",
    "Мы разделили весь наш процесс на три разных компонента:\n",
    "\n",
    "* Генерация множества имен файлов\n",
    "* Генерация всех строк из всех файлов\n",
    "* Фильтрация строк на основе сопоставления с образцом"
   ]
  },
  {
   "cell_type": "code",
   "execution_count": null,
   "metadata": {},
   "outputs": [],
   "source": [
    "def generate_filenames():\n",
    "    \"\"\"\n",
    "    generates a sequence of opened files\n",
    "    matching a specific extension\n",
    "    \"\"\"\n",
    "    for dir_path, dir_names, file_names in os.walk('test/'):\n",
    "        for file_name in file_names:\n",
    "            if file_name.endswith('.py'):\n",
    "                yield open(os.path.join(dir_path, file_name))\n",
    "\n",
    "def cat_files(files):\n",
    "    \"\"\"\n",
    "    takes in an iterable of filenames\n",
    "    \"\"\"\n",
    "    for fname in files:\n",
    "        for line in fname:\n",
    "            yield line\n",
    "\n",
    "def grep_files(lines, pattern=None):\n",
    "    \"\"\"\n",
    "    takes in an iterable of lines\n",
    "    \"\"\"\n",
    "    for line in lines:\n",
    "        if pattern in line:\n",
    "            yield line\n",
    "\n",
    "\n",
    "py_files = generate_filenames()\n",
    "py_file = cat_files(py_files)\n",
    "lines = grep_files(py_file, 'python')\n",
    "for line in lines:\n",
    "    print (line)"
   ]
  },
  {
   "cell_type": "markdown",
   "metadata": {},
   "source": [
    "В приведенном выше фрагменте мы не используем никаких дополнительных переменных для формирования списка строк, вместо этого мы создаем конвейер, который подает свои компоненты через процесс итерации по одному элементу за раз. grep_files принимает объект-генератор всех строк файлов *.py. Точно так же cat_file вставляет в объект генератора все имена файлов в каталоге. Таким образом весь конвейер склеивается с помощью итераций."
   ]
  },
  {
   "cell_type": "markdown",
   "metadata": {},
   "source": [
    "Генераторы отлично работают и для рекурсивного парсинга веб-страниц:"
   ]
  },
  {
   "cell_type": "code",
   "execution_count": null,
   "metadata": {},
   "outputs": [],
   "source": [
    "import requests\n",
    "import re\n",
    "\n",
    "\n",
    "def get_pages(link):\n",
    "    links_to_visit = []\n",
    "    links_to_visit.append(link)\n",
    "    while links_to_visit:\n",
    "        current_link = links_to_visit.pop(0)\n",
    "        page = requests.get(current_link)\n",
    "        for url in re.findall('<a href=\"([^\"]+)\">', str(page.content)):\n",
    "            if url[0] == '/':\n",
    "                url = current_link + url[1:]\n",
    "            pattern = re.compile('https?')\n",
    "            if pattern.match(url):\n",
    "                links_to_visit.append(url)\n",
    "        yield current_link\n",
    "\n",
    "\n",
    "webpage = get_pages('http://sample.com')\n",
    "for result in webpage:\n",
    "    print(result)"
   ]
  },
  {
   "cell_type": "markdown",
   "metadata": {},
   "source": [
    "Здесь мы просто выбираем по одной странице за раз, а затем выполняем какое-то действие на странице. Как бы это выглядело без генератора? Либо выборка и обработка должны происходить в одной и той же функции (что приводит к высокосвязанному коду, который трудно протестировать), либо нам нужно получить все ссылки перед обработкой одной страницы."
   ]
  },
  {
   "cell_type": "code",
   "execution_count": null,
   "metadata": {},
   "outputs": [],
   "source": []
  },
  {
   "cell_type": "code",
   "execution_count": null,
   "metadata": {},
   "outputs": [],
   "source": []
  },
  {
   "cell_type": "code",
   "execution_count": null,
   "metadata": {},
   "outputs": [],
   "source": []
  },
  {
   "cell_type": "markdown",
   "metadata": {},
   "source": [
    "Теперь трудная часть:\n",
    "В первый запуск вашей функции, она будет исполняться от начала до того момента, когда она наткнётся на yield — тогда она вернёт первое значение из цикла. На каждый следующий вызов будет происходить ещё одна итерация написанного вами цикла, возвращаться будет следующее значение — и так пока значения не кончатся.\n",
    "Генератор считается пустым, как только при исполнении кода функции не встречается yield. Это может случиться из-за конца цикла, или же если не выполняется какое-то из условий «if/else»."
   ]
  },
  {
   "cell_type": "code",
   "execution_count": 71,
   "metadata": {},
   "outputs": [],
   "source": [
    "# Создаём метод узла, который будет возвращать генератор\n",
    "def _get_child_candidates(self, distance, min_dist, max_dist):\n",
    "  # Этот код будет вызываться при каждом обращении к объекту-генератору:\n",
    "  # Если у узла есть потомок слева\n",
    "  # И с расстоянием всё в порядке, возвращаем этого потомка\n",
    "    if self._leftchild and distance - max_dist < self._median:\n",
    "        yield self._leftchild\n",
    "  # Если у узла есть потомок справа\n",
    "  # И с расстоянием всё в порядке, возвращаем этого потомка\n",
    "    if self._rightchild and distance + max_dist >= self._median:\n",
    "        yield self._rightchild\n",
    "  # Если исполнение дошло до этого места, генератор считается пустым\n",
    "# вызов \n",
    "  # Создаём пустой список и список со ссылкой на текущий объект\n",
    "    result, candidates = list(), [self]\n",
    "  # Входим в цикл по кандидатам (в начале там только один элемент)\n",
    "    while candidates:\n",
    "\n",
    "  # Вытягиваем последнего кандидата и удаляем его из списка\n",
    "        node = candidates.pop()\n",
    "\n",
    "  # Вычисляем расстояние между объектом и кандидатом\n",
    "        distance = node._get_dist(obj)\n",
    "\n",
    "  # Если с расстоянием всё в порядке, добавляем в результат\n",
    "        if distance <= max_dist and distance >= min_dist:\n",
    "            result.extend(node._values)\n",
    "\n",
    "  # Добавляем потомков кандидата в список кандидатов,\n",
    "  # чтобы цикл продолжал исполняться до тех пор,\n",
    "  # пока не обойдёт всех потомков потомков <...> кандидата\n",
    "        candidates.extend(node._get_child_candidates(distance, min_dist, max_dist))\n",
    "    return result"
   ]
  },
  {
   "cell_type": "code",
   "execution_count": null,
   "metadata": {},
   "outputs": [],
   "source": []
  },
  {
   "cell_type": "markdown",
   "metadata": {},
   "source": [
    "Этот код содержит несколько меньших частей:\n",
    "* Цикл итерируется по списку, но списко расширяется во время итерации :-) Это лаконичный способ обойти все сгрупиррованные данные, зоть это и немного опасно, так как может обернуться бесконечным циклом. В таком случае candidates.extend(node._get_child_candidates(distance, min_dist, max_dist)) исчерпает все значения генератора, но при этом продолжит создавать новые объекты-генераторы, которые будут давать значения, отличные от предыдущих (поскольку применяются к к другим узлам).\n",
    "* Метод extend() это метод объекта списка, который ожидает на вход что-нибудь итерируемое и добавляет его значения к списку.\n",
    "Обычно мы передаём ему список.\n",
    "Но в нашем коде он принимает генератор, что хорошо по следующим причинам:\n",
    "\n",
    "* Нет необходимости читать значения дважды.\n",
    "* Может случиться так, что потомков много и хранить их всех в памяти не хочется.\n",
    "\n",
    "И это работает, потому что Python всё равно, является аргумент этого метода списком или нет. Python ожидает итерируемый объект, так что это сработает со строками, списками, кортежами и генераторами! Это называется утиной типизацией и является одной из причин, почему Python так крут. Но это другая история для другого вопроса…\n",
    "Читатель может остановиться здесь, или же прочитать ещё немного о продвинутом использовании генераторов:\n"
   ]
  },
  {
   "cell_type": "code",
   "execution_count": 79,
   "metadata": {},
   "outputs": [
    {
     "name": "stdout",
     "output_type": "stream",
     "text": [
      "$100\n"
     ]
    }
   ],
   "source": [
    "class Bank(): # создаём банк, строящий банкоматы (ATM — Automatic Teller Machine)\n",
    "    crisis = False\n",
    "    def create_atm(self):\n",
    "        while not self.crisis:\n",
    "            yield \"$100\"\n",
    "\n",
    "# когда всё хорошо, можно получить сколько угодно денег из банкомата\n",
    "hsbc = Bank() \n",
    "corner_street_atm = hsbc.create_atm()\n",
    "\n",
    "print(next(corner_street_atm))"
   ]
  },
  {
   "cell_type": "code",
   "execution_count": 80,
   "metadata": {},
   "outputs": [
    {
     "name": "stdout",
     "output_type": "stream",
     "text": [
      "['$100', '$100', '$100', '$100', '$100']\n"
     ]
    }
   ],
   "source": [
    "print([next(corner_street_atm) for cash in range(5)])"
   ]
  },
  {
   "cell_type": "code",
   "execution_count": 81,
   "metadata": {},
   "outputs": [
    {
     "name": "stdout",
     "output_type": "stream",
     "text": [
      "пришёл кризис, денег больше нет!\n"
     ]
    }
   ],
   "source": [
    "hsbc.crisis = True # пришёл кризис, денег больше нет!\n",
    "try: \n",
    "    print(next(corner_street_atm))\n",
    "except StopIteration:\n",
    "    print(\"пришёл кризис, денег больше нет!\")"
   ]
  },
  {
   "cell_type": "code",
   "execution_count": 82,
   "metadata": {},
   "outputs": [
    {
     "name": "stdout",
     "output_type": "stream",
     "text": [
      "пришёл кризис, денег больше нет!\n"
     ]
    }
   ],
   "source": [
    "wall_street_atm = hsbc.create_atm() # что верно даже для новых автоматов\n",
    "try: \n",
    "    print(next(wall_street_atm))\n",
    "except StopIteration:\n",
    "    print(\"пришёл кризис, денег больше нет!\")"
   ]
  },
  {
   "cell_type": "code",
   "execution_count": 83,
   "metadata": {},
   "outputs": [
    {
     "name": "stdout",
     "output_type": "stream",
     "text": [
      "пришёл кризис, денег больше нет!\n"
     ]
    }
   ],
   "source": [
    "hsbc.crisis = False # проблема в том, что когда кризис прошёл, автоматы по-прежнему пустые...\n",
    "try: \n",
    "    print(next(corner_street_atm))\n",
    "except StopIteration:\n",
    "    print(\"пришёл кризис, денег больше нет!\")"
   ]
  },
  {
   "cell_type": "code",
   "execution_count": 3,
   "metadata": {},
   "outputs": [],
   "source": [
    "#brand_new_atm = hsbc.create_atm() # но если построить ещё один, будешь снова в деле!\n",
    "#for cash in brand_new_atm:\n",
    "    # print(cash) никогда не включать эту строку, нагенерит миллиарды!!!!!!!!!!!!!!!!!"
   ]
  },
  {
   "cell_type": "markdown",
   "metadata": {},
   "source": [
    "Модуль itertools содержит специальные функции для работы с итерируемыми объектами. Желаете продублировать генератор? Соединить два генератора последовательно? Сгруппировать значения вложенных списков в одну строчку? Применить map или zip без создания ещё одного списка?\n",
    "\n",
    "Просто добавьте import itertools.\n",
    "\n",
    "Хотите пример? Давайте посмотрим на возможные порядки финиширования на скачках (4 лошади):"
   ]
  },
  {
   "cell_type": "code",
   "execution_count": 1,
   "metadata": {},
   "outputs": [
    {
     "name": "stdout",
     "output_type": "stream",
     "text": [
      "[(1, 2, 3, 4), (1, 2, 4, 3), (1, 3, 2, 4), (1, 3, 4, 2), (1, 4, 2, 3), (1, 4, 3, 2), (2, 1, 3, 4), (2, 1, 4, 3), (2, 3, 1, 4), (2, 3, 4, 1), (2, 4, 1, 3), (2, 4, 3, 1), (3, 1, 2, 4), (3, 1, 4, 2), (3, 2, 1, 4), (3, 2, 4, 1), (3, 4, 1, 2), (3, 4, 2, 1), (4, 1, 2, 3), (4, 1, 3, 2), (4, 2, 1, 3), (4, 2, 3, 1), (4, 3, 1, 2), (4, 3, 2, 1)]\n"
     ]
    }
   ],
   "source": [
    "import itertools\n",
    "horses = [1, 2, 3, 4]\n",
    "races = itertools.permutations(horses)\n",
    "print(list(itertools.permutations(horses)))"
   ]
  },
  {
   "cell_type": "markdown",
   "metadata": {},
   "source": [
    "Бывают iterators, iterables и generators.\n",
    "* Iterable (iterable interface) — интерфейс, позволяющий итерироваться (метод next/__next__ и raise StopIteration в конце).\n",
    "* Iterator — объект с iterable interface.\n",
    "* Generator — функция, возвращающая iterator."
   ]
  },
  {
   "cell_type": "code",
   "execution_count": null,
   "metadata": {},
   "outputs": [],
   "source": []
  },
  {
   "cell_type": "markdown",
   "metadata": {},
   "source": [
    "## Переменные в Питон"
   ]
  },
  {
   "cell_type": "code",
   "execution_count": null,
   "metadata": {},
   "outputs": [],
   "source": []
  },
  {
   "cell_type": "code",
   "execution_count": 62,
   "metadata": {},
   "outputs": [],
   "source": [
    "xx, yy = 1, 2"
   ]
  },
  {
   "cell_type": "markdown",
   "metadata": {},
   "source": [
    "## Библиотеки машинного обучения"
   ]
  },
  {
   "cell_type": "markdown",
   "metadata": {},
   "source": [
    "### Sktime\n",
    "Инструментарий для машинного обучения на Python с открытым исходным кодом, разработанный специально для работы с временными рядами. Этот проект разрабатывается сообществом и финансируется Британским Советом по экономическим и социальным исследованиям, центром Consumer Data Research и Институтом Алана Тьюринга.\n",
    "Основная идея проекта: «sktime предлагает понятное и интегрируемое машинное обучение с использованием временных рядов. Он располагает алгоритмами, которые совместимы с scikit-learn и инструментами совместного использования моделей, поддерживаемые четкой таксономией задач обучения, с понятной документацией и дружелюбным сообществом.»\n",
    "\n",
    "В этой статье я выделю некоторые уникальные особенности sktime.\n",
    "\n",
    "Корректная модель данных для временных рядов\n",
    "\n",
    "Sktime использует вложенную структуру данных для временных рядов в виде датафреймов pandas.\n",
    "\n",
    "Каждая строчка в типичном датафрейме содержит независимые и одинаково распределенные случайные величины – наблюдения, а столбцы – различные переменные. Для методов sktime каждая ячейка датафрейма Pandas теперь может содержать целый временной ряд. Такой формат является гибким для многомерных, панельных и гетерогенных данных и позволяет повторно использовать методы как в Pandas, так и в scikit-learn.\n",
    "\n",
    "В таблице ниже каждая строка – это наблюдение, содержащее массив временных рядов, в столбце Х и значение класса в столбце Y. Оценщики и трансформаторы sktime умеют работать с такими временными рядами.\n"
   ]
  },
  {
   "cell_type": "code",
   "execution_count": 19,
   "metadata": {},
   "outputs": [
    {
     "data": {
      "image/png": "[encoded data removed]",
      "text/plain": [
       "<IPython.core.display.Image object>"
      ]
     },
     "execution_count": 19,
     "metadata": {},
     "output_type": "execute_result"
    }
   ],
   "source": [
    "# Вставка картинки в Jupyter\n",
    "from IPython.display import Image\n",
    "from IPython.core.display import HTML \n",
    "PATH = \"C:\\\\Users\\\\Professional\\\\Desktop\\\\Справка по питону\\\\\"\n",
    "Image(filename = PATH + \"ccy877nk3nvuxsuncxujnc2xtj4.png\")\n",
    "''' \n",
    "Что бы вставить картинку пришлось немного попыхтеть, потому что Jupyter как и куча другого\n",
    "софта была написана для работы исключительно под Nix, в итоге путь в Win-стиле ему\n",
    "не нравится. Нативно он переваривает только пути с таким раздедителем /, а пути с таким \\\n",
    "он воспринимает как Unix-команды. В итоге везде стоит двойной слеш, что бы эта скотина\n",
    "понимала его буквально как слеш, а не команду.\n",
    "'''"
   ]
  },
  {
   "cell_type": "markdown",
   "metadata": {},
   "source": [
    "Согласно странице на GitHub, sktime в настоящее время предоставляет следующие возможности:\n",
    "\n",
    "   * Современные алгоритмы классификации временных рядов, регрессионного анализа и прогнозирования (портированного из инструментария tsml на Java);\n",
    "   * Трансформаторы для временных рядов: преобразования одиночных рядов (например, детрендинг или десезонализация), преобразования рядов как признаков (например, извлечение признаков), и инструменты для совместного использования нескольких трансформаторов.\n",
    "   * Пайплайны для трансформаторов и моделей;\n",
    "   * Настройка модели;\n",
    "   * Ансамбль моделей, например, полностью настраиваемый случайный лес для классификации и регрессии временных рядов, ансамбль для многомерных задач.\n",
    "   \n",
    "Следующий пример – это адаптация руководства по прогнозированию с GitHub. Ряд в данном примере (набор данных авиакомпании Box-Jenkins) показывает количество международных пассажиров самолетов в месяц с 1949 по 1960 год.\n",
    "\n",
    "Для начала загрузите данные и разделите их на обучающий и тестовый наборы, а также сделайте график. В sktime есть две удобные функции для легкого выполнения этих задач — temporal_train_test_splitfor, которая разделит набор данных по времени и plot_ys, которая построит графики на основе тестовой и обучающей выборки.\n"
   ]
  },
  {
   "cell_type": "code",
   "execution_count": 20,
   "metadata": {},
   "outputs": [
    {
     "name": "stdout",
     "output_type": "stream",
     "text": [
      "Collecting sktime\n",
      "  Downloading sktime-0.4.3-cp38-cp38-win_amd64.whl (4.3 MB)\n",
      "Requirement already satisfied: scikit-learn>=0.23.0 in c:\\programdata\\anaconda3\\lib\\site-packages (from sktime) (0.23.1)\n",
      "Requirement already satisfied: pandas>=1.0.0 in c:\\users\\professional\\appdata\\roaming\\python\\python38\\site-packages (from sktime) (1.1.3)\n",
      "Collecting statsmodels>=0.12.0\n",
      "  Using cached statsmodels-0.12.1-cp38-none-win_amd64.whl (9.2 MB)\n",
      "Requirement already satisfied: numpy>=1.18.0 in c:\\programdata\\anaconda3\\lib\\site-packages (from sktime) (1.18.5)\n",
      "Requirement already satisfied: wheel in c:\\programdata\\anaconda3\\lib\\site-packages (from sktime) (0.34.2)\n",
      "Requirement already satisfied: joblib>=0.11 in c:\\programdata\\anaconda3\\lib\\site-packages (from scikit-learn>=0.23.0->sktime) (0.16.0)\n",
      "Requirement already satisfied: scipy>=0.19.1 in c:\\users\\professional\\appdata\\roaming\\python\\python38\\site-packages (from scikit-learn>=0.23.0->sktime) (1.5.3)\n",
      "Requirement already satisfied: threadpoolctl>=2.0.0 in c:\\programdata\\anaconda3\\lib\\site-packages (from scikit-learn>=0.23.0->sktime) (2.1.0)\n",
      "Requirement already satisfied: python-dateutil>=2.7.3 in c:\\users\\professional\\appdata\\roaming\\python\\python38\\site-packages (from pandas>=1.0.0->sktime) (2.8.1)\n",
      "Requirement already satisfied: pytz>=2017.2 in c:\\programdata\\anaconda3\\lib\\site-packages (from pandas>=1.0.0->sktime) (2020.1)\n",
      "Requirement already satisfied: patsy>=0.5 in c:\\programdata\\anaconda3\\lib\\site-packages (from statsmodels>=0.12.0->sktime) (0.5.1)\n",
      "Requirement already satisfied: six>=1.5 in c:\\users\\professional\\appdata\\roaming\\python\\python38\\site-packages (from python-dateutil>=2.7.3->pandas>=1.0.0->sktime) (1.15.0)\n",
      "Installing collected packages: statsmodels, sktime\n",
      "  Attempting uninstall: statsmodels\n",
      "    Found existing installation: statsmodels 0.11.1\n",
      "    Uninstalling statsmodels-0.11.1:\n",
      "      Successfully uninstalled statsmodels-0.11.1\n",
      "Successfully installed sktime-0.4.3 statsmodels-0.12.1\n"
     ]
    }
   ],
   "source": [
    "!pip install sktime"
   ]
  },
  {
   "cell_type": "code",
   "execution_count": 37,
   "metadata": {},
   "outputs": [
    {
     "name": "stdout",
     "output_type": "stream",
     "text": [
      "Name: sktime\n",
      "Version: 0.4.3\n",
      "Summary: A unified Python toolbox for machine learning with time series\n",
      "Home-page: https://github.com/alan-turing-institute/sktime\n",
      "Author: None\n",
      "Author-email: None\n",
      "License: BSD-3-Clause\n",
      "Location: c:\\programdata\\anaconda3\\lib\\site-packages\n",
      "Requires: scikit-learn, wheel, statsmodels, numpy, pandas\n",
      "Required-by: \n"
     ]
    }
   ],
   "source": [
    "!pip show sktime"
   ]
  },
  {
   "cell_type": "markdown",
   "metadata": {},
   "source": [
    "В общем подробности есть тут\n",
    "https://habr.com/ru/company/otus/blog/511782/"
   ]
  },
  {
   "cell_type": "code",
   "execution_count": null,
   "metadata": {},
   "outputs": [],
   "source": []
  },
  {
   "cell_type": "code",
   "execution_count": null,
   "metadata": {},
   "outputs": [],
   "source": []
  },
  {
   "cell_type": "code",
   "execution_count": null,
   "metadata": {},
   "outputs": [],
   "source": []
  },
  {
   "cell_type": "code",
   "execution_count": null,
   "metadata": {},
   "outputs": [],
   "source": []
  },
  {
   "cell_type": "markdown",
   "metadata": {},
   "source": [
    "## Просто странные штуки"
   ]
  },
  {
   "cell_type": "code",
   "execution_count": 7,
   "metadata": {},
   "outputs": [],
   "source": [
    "# Последовательность Рекамана\n",
    "\n",
    "import numpy as np\n",
    "\n",
    "def recaman(n):\n",
    "    series = np.zeros(n)\n",
    "    series[0] = 0\n",
    "    for i in range(1, n):\n",
    "        if series[i - 1] - i > 0 and series[i - 1] - i not in series:\n",
    "            series[i] = series[i - 1] - i\n",
    "        else:\n",
    "            series[i] = series[i - 1] + i\n",
    "    return series"
   ]
  }
 ],
 "metadata": {
  "kernelspec": {
   "display_name": "Python 3",
   "language": "python",
   "name": "python3"
  },
  "language_info": {
   "codemirror_mode": {
    "name": "ipython",
    "version": 3
   },
   "file_extension": ".py",
   "mimetype": "text/x-python",
   "name": "python",
   "nbconvert_exporter": "python",
   "pygments_lexer": "ipython3",
   "version": "3.8.3"
  },
  "latex_envs": {
   "LaTeX_envs_menu_present": true,
   "autoclose": true,
   "autocomplete": true,
   "bibliofile": "biblio.bib",
   "cite_by": "apalike",
   "current_citInitial": 1,
   "eqLabelWithNumbers": true,
   "eqNumInitial": 1,
   "hotkeys": {
    "equation": "Ctrl-E",
    "itemize": "Ctrl-I"
   },
   "labels_anchors": false,
   "latex_user_defs": false,
   "report_style_numbering": true,
   "user_envs_cfg": true
  },
  "toc": {
   "base_numbering": 1,
   "nav_menu": {
    "height": "109px",
    "width": "245px"
   },
   "number_sections": true,
   "sideBar": true,
   "skip_h1_title": true,
   "title_cell": "Table of Contents",
   "title_sidebar": "Contents",
   "toc_cell": true,
   "toc_position": {
    "height": "calc(100% - 180px)",
    "left": "10px",
    "top": "150px",
    "width": "165px"
   },
   "toc_section_display": true,
   "toc_window_display": true
  },
  "varInspector": {
   "cols": {
    "lenName": 16,
    "lenType": 16,
    "lenVar": 40
   },
   "kernels_config": {
    "python": {
     "delete_cmd_postfix": "",
     "delete_cmd_prefix": "del ",
     "library": "var_list.py",
     "varRefreshCmd": "print(var_dic_list())"
    },
    "r": {
     "delete_cmd_postfix": ") ",
     "delete_cmd_prefix": "rm(",
     "library": "var_list.r",
     "varRefreshCmd": "cat(var_dic_list()) "
    }
   },
   "types_to_exclude": [
    "module",
    "function",
    "builtin_function_or_method",
    "instance",
    "_Feature"
   ],
   "window_display": false
  }
 },
 "nbformat": 4,
 "nbformat_minor": 4
}

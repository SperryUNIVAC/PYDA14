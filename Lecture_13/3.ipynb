{
 "cells": [
  {
   "cell_type": "markdown",
   "metadata": {},
   "source": [
    "В задаче сквозной аналитики вам предоставили данные по местоположению пользователей.  \n",
    "Т. е. для каждого user_id известна последовательность координат (широта/долгота), когда они требовались приложению для полноценной работы.  \n",
    "Как бы вы добавили эти сведения в таблицу визитов и покупок? Для составления ответа можно использовать вопросы:\n",
    "\n",
    "* У каждого пользователя известен набор координат. А для связывания с визитом или фактом покупки скорее всего потребуется одно-два числа. Как их получить?\n",
    "* Наборы координат одного и того же пользователя могут быть значительно удалены друг от друга. Как это отразится на вопросе расчетах пункта 1?\n",
    "* Какие дополнительные признаки можно получить из координат? Ведь это просто числа, которые сами по себе мало что дают.\n"
   ]
  },
  {
   "cell_type": "code",
   "execution_count": 9,
   "metadata": {},
   "outputs": [
    {
     "data": {
      "text/html": [
       "<div>\n",
       "<style scoped>\n",
       "    .dataframe tbody tr th:only-of-type {\n",
       "        vertical-align: middle;\n",
       "    }\n",
       "\n",
       "    .dataframe tbody tr th {\n",
       "        vertical-align: top;\n",
       "    }\n",
       "\n",
       "    .dataframe thead th {\n",
       "        text-align: right;\n",
       "    }\n",
       "</style>\n",
       "<table border=\"1\" class=\"dataframe\">\n",
       "  <thead>\n",
       "    <tr style=\"text-align: right;\">\n",
       "      <th></th>\n",
       "      <th>user_id</th>\n",
       "      <th>geotag_x</th>\n",
       "      <th>geotag_y</th>\n",
       "      <th>timestamp</th>\n",
       "    </tr>\n",
       "  </thead>\n",
       "  <tbody>\n",
       "    <tr>\n",
       "      <th>0</th>\n",
       "      <td>154511</td>\n",
       "      <td>41.40110</td>\n",
       "      <td>2.57403</td>\n",
       "      <td>964982703</td>\n",
       "    </tr>\n",
       "    <tr>\n",
       "      <th>1</th>\n",
       "      <td>154511</td>\n",
       "      <td>41.50560</td>\n",
       "      <td>2.57621</td>\n",
       "      <td>688978276</td>\n",
       "    </tr>\n",
       "    <tr>\n",
       "      <th>2</th>\n",
       "      <td>154511</td>\n",
       "      <td>41.67880</td>\n",
       "      <td>2.14560</td>\n",
       "      <td>565439823</td>\n",
       "    </tr>\n",
       "    <tr>\n",
       "      <th>3</th>\n",
       "      <td>67114</td>\n",
       "      <td>41.54338</td>\n",
       "      <td>2.17890</td>\n",
       "      <td>789324575</td>\n",
       "    </tr>\n",
       "    <tr>\n",
       "      <th>4</th>\n",
       "      <td>67114</td>\n",
       "      <td>41.67338</td>\n",
       "      <td>2.17654</td>\n",
       "      <td>422555985</td>\n",
       "    </tr>\n",
       "    <tr>\n",
       "      <th>5</th>\n",
       "      <td>463453</td>\n",
       "      <td>41.78380</td>\n",
       "      <td>2.99900</td>\n",
       "      <td>911290567</td>\n",
       "    </tr>\n",
       "  </tbody>\n",
       "</table>\n",
       "</div>"
      ],
      "text/plain": [
       "   user_id  geotag_x  geotag_y  timestamp\n",
       "0   154511  41.40110   2.57403  964982703\n",
       "1   154511  41.50560   2.57621  688978276\n",
       "2   154511  41.67880   2.14560  565439823\n",
       "3    67114  41.54338   2.17890  789324575\n",
       "4    67114  41.67338   2.17654  422555985\n",
       "5   463453  41.78380   2.99900  911290567"
      ]
     },
     "execution_count": 9,
     "metadata": {},
     "output_type": "execute_result"
    }
   ],
   "source": [
    "# насколько я понял, выглядят геометки как-то так\n",
    "\n",
    "import pandas as pd\n",
    "user_tracking_df = pd.DataFrame(\n",
    "    {\n",
    "        'user_id': [154511, 154511, 154511, 67114, 67114, 463453],\n",
    "        'geotag_x': [41.4011, 41.5056, 41.6788, 41.54338, 41.67338, 41.7838],\n",
    "        'geotag_y': [2.57403, 2.57621, 2.1456, 2.1789, 2.17654, 2.999],\n",
    "        'timestamp': [964982703, 688978276, 565439823, 789324575, 422555985, 911290567]\n",
    "    }\n",
    ")\n",
    "user_tracking_df "
   ]
  },
  {
   "cell_type": "code",
   "execution_count": 10,
   "metadata": {},
   "outputs": [
    {
     "data": {
      "text/html": [
       "<div>\n",
       "<style scoped>\n",
       "    .dataframe tbody tr th:only-of-type {\n",
       "        vertical-align: middle;\n",
       "    }\n",
       "\n",
       "    .dataframe tbody tr th {\n",
       "        vertical-align: top;\n",
       "    }\n",
       "\n",
       "    .dataframe thead th {\n",
       "        text-align: right;\n",
       "    }\n",
       "</style>\n",
       "<table border=\"1\" class=\"dataframe\">\n",
       "  <thead>\n",
       "    <tr style=\"text-align: right;\">\n",
       "      <th></th>\n",
       "      <th>user_id</th>\n",
       "      <th>shop_id</th>\n",
       "      <th>purchases_id</th>\n",
       "      <th>timestamp</th>\n",
       "    </tr>\n",
       "  </thead>\n",
       "  <tbody>\n",
       "    <tr>\n",
       "      <th>0</th>\n",
       "      <td>154511</td>\n",
       "      <td>6545131</td>\n",
       "      <td>[654131, 8722]</td>\n",
       "      <td>964982703</td>\n",
       "    </tr>\n",
       "    <tr>\n",
       "      <th>1</th>\n",
       "      <td>23112</td>\n",
       "      <td>534522</td>\n",
       "      <td>[]</td>\n",
       "      <td>688978276</td>\n",
       "    </tr>\n",
       "    <tr>\n",
       "      <th>2</th>\n",
       "      <td>614423</td>\n",
       "      <td>656723</td>\n",
       "      <td>[2454131, 8722, 4533]</td>\n",
       "      <td>565439823</td>\n",
       "    </tr>\n",
       "    <tr>\n",
       "      <th>3</th>\n",
       "      <td>67114</td>\n",
       "      <td>65764</td>\n",
       "      <td>[94584, 764131, 67722]</td>\n",
       "      <td>789324575</td>\n",
       "    </tr>\n",
       "    <tr>\n",
       "      <th>4</th>\n",
       "      <td>878615</td>\n",
       "      <td>743225</td>\n",
       "      <td>[98726]</td>\n",
       "      <td>422555985</td>\n",
       "    </tr>\n",
       "    <tr>\n",
       "      <th>5</th>\n",
       "      <td>463453</td>\n",
       "      <td>46345</td>\n",
       "      <td>[543232, 234, 524, 5342, 51211]</td>\n",
       "      <td>911290567</td>\n",
       "    </tr>\n",
       "  </tbody>\n",
       "</table>\n",
       "</div>"
      ],
      "text/plain": [
       "   user_id  shop_id                     purchases_id  timestamp\n",
       "0   154511  6545131                   [654131, 8722]  964982703\n",
       "1    23112   534522                               []  688978276\n",
       "2   614423   656723            [2454131, 8722, 4533]  565439823\n",
       "3    67114    65764           [94584, 764131, 67722]  789324575\n",
       "4   878615   743225                          [98726]  422555985\n",
       "5   463453    46345  [543232, 234, 524, 5342, 51211]  911290567"
      ]
     },
     "execution_count": 10,
     "metadata": {},
     "output_type": "execute_result"
    }
   ],
   "source": [
    "user_purchase_df = pd.DataFrame(\n",
    "    {\n",
    "        'user_id': [154511, 23112, 614423, 67114, 878615, 463453],\n",
    "        'shop_id': [6545131, 534522, 656723, 65764, 743225, 46345],\n",
    "        'purchases_id': [[654131, 8722], [], [2454131, 8722, 4533], [94584, 764131, 67722], [98726], [543232, 234, 524, 5342, 51211]],\n",
    "        'timestamp': [964982703, 688978276, 565439823, 789324575, 422555985, 911290567]\n",
    "    }\n",
    ")\n",
    "user_purchase_df"
   ]
  },
  {
   "cell_type": "markdown",
   "metadata": {},
   "source": [
    "Насколько я понял, это выглядит как-то так?  \n",
    "То есть есть метки юзера, магазина, список покупок и отметка времени  \n",
    "А из другого источника есть метки где он находился в это время?"
   ]
  },
  {
   "cell_type": "markdown",
   "metadata": {},
   "source": [
    "В таком случае, логично увязать их по меткам времени, наверное, если они присутствуют и там и там. Ну вообще, очевидно, что по каким-то меткам, которые есть в обоих фреймах, но, там общего ничего нет, кроме ID и времени"
   ]
  },
  {
   "cell_type": "markdown",
   "metadata": {},
   "source": [
    "Хотя, если мы знаем координаты магазина, то можем привязать по ним"
   ]
  },
  {
   "cell_type": "markdown",
   "metadata": {},
   "source": [
    "В общем суть проблемы я немного не догнал"
   ]
  },
  {
   "cell_type": "code",
   "execution_count": null,
   "metadata": {},
   "outputs": [],
   "source": []
  }
 ],
 "metadata": {
  "kernelspec": {
   "display_name": "Python 3",
   "language": "python",
   "name": "python3"
  },
  "language_info": {
   "codemirror_mode": {
    "name": "ipython",
    "version": 3
   },
   "file_extension": ".py",
   "mimetype": "text/x-python",
   "name": "python",
   "nbconvert_exporter": "python",
   "pygments_lexer": "ipython3",
   "version": "3.8.3"
  }
 },
 "nbformat": 4,
 "nbformat_minor": 4
}

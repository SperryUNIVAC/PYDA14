{
 "cells": [
  {
   "cell_type": "markdown",
   "metadata": {},
   "source": [
    "# Задание 2"
   ]
  },
  {
   "cell_type": "code",
   "execution_count": null,
   "metadata": {},
   "outputs": [],
   "source": [
    "import re\n",
    "\n",
    "some_string = '''Напишите функцию функцию, которая будет будет будет будет\n",
    "удалять все все все все последовательные повторы слов\n",
    "из из из из заданной строки строки при помощи регулярных выражений'''\n",
    "\n",
    "\n",
    "def duplicate_replacer(some_string):\n",
    "    duplicate = r'(\\w+)(\\s\\1)+'\n",
    "    replace = r'\\1'\n",
    "    some_string = re.sub(duplicate, replace, some_string)\n",
    "    return some_string\n",
    "\n",
    "\n",
    "print(duplicate_replacer(some_string))"
   ]
  },
  {
   "cell_type": "markdown",
   "metadata": {},
   "source": [
    "# Задание 3"
   ]
  },
  {
   "cell_type": "code",
   "execution_count": null,
   "metadata": {},
   "outputs": [],
   "source": [
    "import re\n",
    "\n",
    "some_string = 'Near field communication'\n",
    "\n",
    "\n",
    "def abbreviation(some_string):\n",
    "    some_string = some_string.upper()\n",
    "    find = r'(\\w)\\w+.'\n",
    "    replace = r'\\1'\n",
    "    abbreviation = re.sub(find, replace, some_string)\n",
    "    return abbreviation\n",
    "\n",
    "\n",
    "print(abbreviation(some_string))"
   ]
  }
 ],
 "metadata": {
  "kernelspec": {
   "display_name": "Python 3",
   "language": "python",
   "name": "python3"
  },
  "language_info": {
   "codemirror_mode": {
    "name": "ipython",
    "version": 3
   },
   "file_extension": ".py",
   "mimetype": "text/x-python",
   "name": "python",
   "nbconvert_exporter": "python",
   "pygments_lexer": "ipython3",
   "version": "3.8.3"
  }
 },
 "nbformat": 4,
 "nbformat_minor": 4
}

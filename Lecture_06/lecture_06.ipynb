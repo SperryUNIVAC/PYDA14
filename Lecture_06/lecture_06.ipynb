{
 "cells": [
  {
   "cell_type": "markdown",
   "metadata": {},
   "source": [
    "# задание 1\n",
    "в отдельной папке"
   ]
  },
  {
   "cell_type": "markdown",
   "metadata": {},
   "source": [
    "# задание 2"
   ]
  },
  {
   "cell_type": "code",
   "execution_count": null,
   "metadata": {},
   "outputs": [],
   "source": [
    "import re\n",
    "\n",
    "some_string = '''Напишите функцию функцию, которая будет будет будет будет\n",
    "удалять все все все все последовательные повторы слов\n",
    "из из из из заданной строки строки при помощи регулярных выражений'''\n",
    "\n",
    "# здесь у меня непонятный облом. В сервисе regex101 прогон\n",
    "# этого регекспа несколько раз приводит строку к нормальному виду, как\n",
    "# заказывали, но здесь, почему-то этого не происходит\n",
    "\n",
    "\n",
    "def duplicate_replacer(some_string):\n",
    "    duplicate = r'(\\w+) \\1[^\\w]'\n",
    "    replace = r'\\1'\n",
    "    for i in range(0, len(some_string.split())):\n",
    "        some_string = re.sub(duplicate, replace, some_string)\n",
    "    return some_string\n",
    "\n",
    "\n",
    "print(duplicate_replacer(some_string))"
   ]
  },
  {
   "cell_type": "markdown",
   "metadata": {},
   "source": [
    "# задание 3"
   ]
  },
  {
   "cell_type": "code",
   "execution_count": null,
   "metadata": {},
   "outputs": [],
   "source": [
    "import re\n",
    "\n",
    "some_string = 'Near field communication'\n",
    "\n",
    "# конечно это не за один-единственный регексп, но этот код куда\n",
    "# понятнее и читабельнее и регекспы в нем тоже есть\n",
    "\n",
    "\n",
    "def abbreviation(some_string):\n",
    "    some_string = some_string.upper()\n",
    "    word = re.findall(r'\\w+', some_string)\n",
    "    for i in range(0, len(some_string.split())):\n",
    "        first_letter = re.findall(r'\\w', word[i])[0]\n",
    "        abbreviation = re.sub(word[i], first_letter, some_string)\n",
    "        some_string = abbreviation\n",
    "    abbreviation = abbreviation.replace(' ', '')\n",
    "    return abbreviation\n",
    "\n",
    "\n",
    "print(abbreviation(some_string))"
   ]
  },
  {
   "cell_type": "markdown",
   "metadata": {},
   "source": [
    "# задание 4"
   ]
  },
  {
   "cell_type": "code",
   "execution_count": null,
   "metadata": {},
   "outputs": [],
   "source": [
    "import re\n",
    "\n",
    "emails_list = ['test@gmail.com', 'xyz@test.in', 'test@ya.ru',\n",
    "               'xyz@mail.ru', 'xyz@ya.ru', 'xyz@gmail.com']\n",
    "\n",
    "\n",
    "def emails(emails_list):\n",
    "    # превратим список в строку\n",
    "    emails_string = ''.join(emails_list)\n",
    "# двойным применением findall вытащим домены\n",
    "    domen_name = re.findall(\n",
    "        r'\\w+\\.\\w{2,3}', str(re.findall(r'@\\w+\\.\\w{2,3}', emails_string)))\n",
    "# итерируемся по количеству унгикальных элементов\n",
    "    for i in range(0, len(set(domen_name))):\n",
    "        number = domen_name.count(domen_name[i])\n",
    "        print(domen_name[i], number)"
   ]
  },
  {
   "cell_type": "markdown",
   "metadata": {},
   "source": [
    "# задание 5"
   ]
  },
  {
   "cell_type": "code",
   "execution_count": null,
   "metadata": {},
   "outputs": [],
   "source": [
    "import re\n",
    "\n",
    "test_string = '''Эталонной реализацией Python является интерпретатор CPython, поддерживающий\n",
    "большинство активно используемых платформ. Он распространяется под свободной лицензией Python\n",
    "Software Foundation License, позволяющей использовать его без ограничений в любых приложениях,\n",
    "включая проприетарные.'''\n",
    "\n",
    "\n",
    "def vovels_consonans_test(test_string):\n",
    "    rus_vovels = r'( [я, у, о, ы, и, э, я, ю, ё, е]\\w+)'\n",
    "    rus_consonants = r'( [б, в, г, д, ж, з, й, к, л, м, н, п, р, с, т, ф, х, ц, ч, ш, щ]\\w+)'\n",
    "    eng_vovels = r'( [a, e, i, o, u]\\w+)'\n",
    "    eng_consonants = r'( [b, c, d, f, g, h, j, k, l, m, n, p, q, r, s, t, v, w, x, y, z]\\w+)'\n",
    "\n",
    "    rus_vovels_list = re.findall(rus_vovels, test_string, flags=re.I)\n",
    "    rus_consonants_list = re.findall(rus_consonants, test_string, flags=re.I)\n",
    "    eng_vovels_list = re.findall(eng_vovels, test_string, flags=re.I)\n",
    "    eng_consonants_list = re.findall(eng_consonants, test_string, flags=re.I)\n",
    "\n",
    "    print('Слов на гласные буквы: ', len(rus_vovels_list)+len(eng_vovels_list))\n",
    "    print('Слов на согласные буквы: ', len(\n",
    "        rus_consonants_list)+len(eng_consonants_list))"
   ]
  },
  {
   "cell_type": "markdown",
   "metadata": {},
   "source": [
    "# задание 6"
   ]
  },
  {
   "cell_type": "code",
   "execution_count": null,
   "metadata": {},
   "outputs": [],
   "source": [
    "# сначала я вспомнил принципы комбинаторной генерации и накидал возможные варианты номеров\n",
    "# они в текстовом файле приложены, в принципе можно было даже их оттуда читать, но я дописывал это уже\n",
    "# в последний момент и мне стало лениво, так что я просто кусок захардкодил в test_numbers_valid\n",
    "# аналогично можно вписать тестовые значения в test_numbers_invalid и проверить\n",
    "# на самом деле я сначала думал о каком-то огромном регекспе, но потом заметил элементарное\n",
    "# по сути же номер должен удовлетворять очень маленькому набору правил, если мы допускаем что вводящий его\n",
    "# не опечатался и не вбил что-то совсем дикое\n",
    "# поэтому можно оч\n",
    "\n",
    "import re\n",
    "\n",
    "test_numbers_valid = ['89215380431', '8921 538 04 31',\n",
    "                      '8-921-5380431', '8 (921) 5380431', '+7(921) 5380431']\n",
    "test_numbers_invalid = []\n",
    "\n",
    "# первая цифра опкода - всегда 9, среди 2х оставшихся эти НЕ встречаются\n",
    "# это намного проще, чем искать среди 70+ встречающихся и легче модифицировать\n",
    "# если какой-то из этих займет новый оператор\n",
    "invalid_opcodes_list = [7, 40, 41, 42, 43, 44, 45, 46, 47, 48, 49,\n",
    "                        54, 55, 56, 57, 59, 70, 71, 72, 73, 74, 75, 76, 79, 90, 97, 98]\n",
    "\n",
    "# на вход подается список номеров (сделал так ибо пачкой их тестить было сильно проще, можно цикл убрать и будет для одного номера)\n",
    "\n",
    "\n",
    "def phone_validator(numbers_list):\n",
    "    for i in range(0, len(numbers_list)):\n",
    "        # вычистим весь мусор\n",
    "        test_number_clean = re.sub(r' |\\(|\\)|\\+|-', '', numbers_list[i])\n",
    "        # теперь осталось только проверить, подходит ли номер по формату\n",
    "        # если номер начинается с 7 или 8\n",
    "        condition_first_78 = re.fullmatch(r'[7,8][9]\\d{9}', test_number_clean)\n",
    "        condition_lenght_78 = len(test_number_clean) == 11\n",
    "        # если номер начинается с 9\n",
    "        condition_first_9 = re.fullmatch(r'[9]\\d{9}', test_number_clean)\n",
    "        condition_lenght_9 = len(test_number_clean) == 10\n",
    "        # совпадают ли коды операторов\n",
    "        condition_opcodes_78 = re.match(\n",
    "            r'(?<=[7,8]9)\\d{2}', test_number_clean) not in invalid_opcodes_list\n",
    "        condition_opcodes_9 = re.match(\n",
    "            r'(?<=9)\\d{2}', test_number_clean) not in invalid_opcodes_list\n",
    "        if condition_first_78 and condition_lenght_78 and condition_opcodes_78:\n",
    "            # в этом месте какой-то странный косяк с заменой снова, в проверялке регэкспов\n",
    "            # все работает как часы, а тут меняет на хз что почему-то\n",
    "            number = re.sub(\n",
    "                r'[7,8](\\d{3})(\\d{3})\\d{2}(\\d{2})', '\\+7-\\1-\\2-\\3', test_number_clean)\n",
    "        elif condition_first_9 and condition_lenght_9 and condition_opcodes_9:\n",
    "            number = re.sub(r'(\\d{3})(\\d{3})\\d{2}(\\d{2})',\n",
    "                            '\\+7-\\1-\\2-\\3', test_number_clean)\n",
    "        else:\n",
    "            number = '*** INVALID NUMBER ***'\n",
    "        print(number)"
   ]
  }
 ],
 "metadata": {
  "kernelspec": {
   "display_name": "Python 3",
   "language": "python",
   "name": "python3"
  },
  "language_info": {
   "codemirror_mode": {
    "name": "ipython",
    "version": 3
   },
   "file_extension": ".py",
   "mimetype": "text/x-python",
   "name": "python",
   "nbconvert_exporter": "python",
   "pygments_lexer": "ipython3",
   "version": "3.8.3"
  }
 },
 "nbformat": 4,
 "nbformat_minor": 4
}

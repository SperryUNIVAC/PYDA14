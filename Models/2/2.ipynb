{
 "cells": [
  {
   "cell_type": "markdown",
   "id": "0c47fc4e",
   "metadata": {
    "toc": true
   },
   "source": [
    "<h1>Table of Contents<span class=\"tocSkip\"></span></h1>\n",
    "<div class=\"toc\"><ul class=\"toc-item\"></ul></div>"
   ]
  },
  {
   "cell_type": "code",
   "execution_count": 1,
   "id": "6e47ab3a",
   "metadata": {},
   "outputs": [],
   "source": [
    "import pandas as pd\n",
    "import numpy as np\n",
    "import seaborn as sns\n",
    "from sklearn import datasets"
   ]
  },
  {
   "cell_type": "code",
   "execution_count": 2,
   "id": "aeeeeb06",
   "metadata": {},
   "outputs": [],
   "source": [
    "# нормализация (применяется к фрейму, а не numpy array)\n",
    "def normalize(X):\n",
    "    for i in range(X.shape[1]):\n",
    "        X = (X - X.mean(axis=0))/X.std(axis=0)   \n",
    "    return X"
   ]
  },
  {
   "cell_type": "code",
   "execution_count": 3,
   "id": "1e8499b3",
   "metadata": {},
   "outputs": [],
   "source": [
    "# выколупывание классов в удобный вид\n",
    "iris = datasets.load_iris()\n",
    "df = pd.DataFrame(data= np.c_[iris['data'], iris['target']],columns= iris['feature_names'] + ['target'])\n",
    "df = df.drop(np.where(df['target'] == 2)[0])\n",
    "\n",
    "# разделим руками датафрейм (что-бы все было по хардкору)\n",
    "# РАЗМЕР тестовой выборки влияет значительно\n",
    "test_index = np.random.choice (df.index, int (len (df.index)/2), replace = False)\n",
    "test_df = df.loc [test_index]\n",
    "train_df = df.loc [~ df.index.isin (test_index)]\n",
    "\n",
    "train_dX = train_df.drop(df.columns[[4]], axis=1)\n",
    "train_dy = train_df.drop(df.columns[[0, 1, 2, 3]], axis=1)\n",
    "\n",
    "test_dX = test_df .drop(df.columns[[4]], axis=1)\n",
    "test_dy = test_df .drop(df.columns[[0, 1, 2, 3]], axis=1)\n",
    "\n",
    "\n",
    "train_dX = normalize(train_dX)\n",
    "# здесь я прилепил дополнительный столбец в фичи, содержащий единицы,  \n",
    "# что-бы линейная часть имела канонический вид W*X+B. В итоге, как оказалось,\n",
    "# на точность это влияет в моем случае максимум +/-2%, так что я его закомментил \n",
    "\n",
    "# train_dX['free_coef'] = 1 \n",
    "train_X = train_dX.to_numpy()\n",
    "train_y = train_dy.to_numpy()\n",
    "\n",
    "test_dX = normalize(test_dX)\n",
    "# test_dX['free_coef'] = 1 \n",
    "test_X = test_dX.to_numpy()\n",
    "test_y = test_dy.to_numpy()"
   ]
  },
  {
   "cell_type": "code",
   "execution_count": 4,
   "id": "67751802",
   "metadata": {},
   "outputs": [],
   "source": [
    "# определяем начальное приближение \n",
    "def init(X):\n",
    "    return np.random.uniform(0, 1, (X.shape[1], 1))"
   ]
  },
  {
   "cell_type": "code",
   "execution_count": 5,
   "id": "4fe4d932",
   "metadata": {},
   "outputs": [],
   "source": [
    "# определяем сигмоид\n",
    "def sigmoid(z):\n",
    "    return 1.0/(1 + np.exp(-z))"
   ]
  },
  {
   "cell_type": "code",
   "execution_count": 6,
   "id": "0ccc3e5a",
   "metadata": {},
   "outputs": [],
   "source": [
    "# определяем решающую функцию (логистическая регрессия на основе sigmoid)\n",
    "def H(X, W):\n",
    "    return sigmoid(X@W)"
   ]
  },
  {
   "cell_type": "code",
   "execution_count": 7,
   "id": "fd740d92",
   "metadata": {},
   "outputs": [],
   "source": [
    "# функция потерь (кросс-энтропия)\n",
    "# здесь y_hat = H(X, W)\n",
    "def loss(y, y_hat):\n",
    "    return -np.mean(y*(np.log(y_hat)) - (1-y)*np.log(1-y_hat))"
   ]
  },
  {
   "cell_type": "code",
   "execution_count": 8,
   "id": "7f50075c",
   "metadata": {},
   "outputs": [],
   "source": [
    "# градиент кросс-энтропии\n",
    "def grad(X, y, y_hat):\n",
    "    return (1/X.shape[0])*(X.T@(y_hat - y))"
   ]
  },
  {
   "cell_type": "code",
   "execution_count": 9,
   "id": "30b7a924",
   "metadata": {},
   "outputs": [],
   "source": [
    "# градиентный спуск с постоянным шагом без регуляризации\n",
    "def grad_desc(λ, ε):\n",
    "    losses = []\n",
    "    W_0 = init(train_X) # начальные коэффициенты\n",
    "    W_new = W_0 - λ*grad(train_X, train_y, H(train_X, W_0))\n",
    "    while abs(max(W_new - W_0)[0])>ε:\n",
    "        W_0 = W_new\n",
    "        W_new = W_0 - λ*grad(train_X, train_y, H(train_X, W_0))\n",
    "        losses.append(loss(train_y, H(train_X, W_new)))\n",
    "    else:\n",
    "        return W_new, losses"
   ]
  },
  {
   "cell_type": "code",
   "execution_count": 10,
   "id": "cb652763",
   "metadata": {},
   "outputs": [],
   "source": [
    "# предсказатель\n",
    "def predict(X):\n",
    "    pred_X = H(X, W_opt)\n",
    "    pred_class = []\n",
    "    # пороговое значение ни на что не влияет особо  \n",
    "    pred_class = [1 if i > 0.8 else 0 for i in pred_X]\n",
    "    return np.array(pred_class)"
   ]
  },
  {
   "cell_type": "code",
   "execution_count": 11,
   "id": "9e6c60a1",
   "metadata": {},
   "outputs": [],
   "source": [
    "# точность\n",
    "def accuracy(y, y_pred):\n",
    "    # хитровыделанное преобразование массива тестовых данных\n",
    "    # к виду, аналогичному выводу предикта\n",
    "    accuracy = round((np.sum(y.T[0].astype(int) == y_pred) / len(y)),3)\n",
    "    print(f\"Accuracy is {accuracy * 100}%\")"
   ]
  },
  {
   "cell_type": "markdown",
   "id": "2c354969",
   "metadata": {},
   "source": [
    "**Теперь соберем все в кучу**"
   ]
  },
  {
   "cell_type": "code",
   "execution_count": 12,
   "id": "76578cb9",
   "metadata": {},
   "outputs": [],
   "source": [
    "λ = 0.001          # статичный шаг \n",
    "ε = 0.00001        # погрешность \n",
    "W_opt, losses = grad_desc(λ, ε)"
   ]
  },
  {
   "cell_type": "code",
   "execution_count": 13,
   "id": "0eb283a4",
   "metadata": {},
   "outputs": [
    {
     "data": {
      "text/plain": [
       "array([[ 0.8446167 ],\n",
       "       [-0.95603831],\n",
       "       [ 1.76927816],\n",
       "       [ 2.04561977]])"
      ]
     },
     "execution_count": 13,
     "metadata": {},
     "output_type": "execute_result"
    }
   ],
   "source": [
    "W_opt"
   ]
  },
  {
   "cell_type": "code",
   "execution_count": 14,
   "id": "dd69f54b",
   "metadata": {},
   "outputs": [
    {
     "data": {
      "text/plain": [
       "0.013799066095620694"
      ]
     },
     "execution_count": 14,
     "metadata": {},
     "output_type": "execute_result"
    }
   ],
   "source": [
    "losses[-1]"
   ]
  },
  {
   "cell_type": "code",
   "execution_count": 15,
   "id": "2081b623",
   "metadata": {},
   "outputs": [],
   "source": [
    "# глянем на график функции потерь\n",
    "t = [i for i in range(0, len(losses))]\n",
    "dictOne = {\"t\":t, \"losses\":losses}\n",
    "df_losses = pd.DataFrame(dictOne)"
   ]
  },
  {
   "cell_type": "code",
   "execution_count": 16,
   "id": "7b2f25e6",
   "metadata": {},
   "outputs": [
    {
     "data": {
      "text/plain": [
       "<seaborn.axisgrid.FacetGrid at 0x1cbb69af4f0>"
      ]
     },
     "execution_count": 16,
     "metadata": {},
     "output_type": "execute_result"
    },
    {
     "data": {
      "image/png": "[encoded data removed]",
      "text/plain": [
       "<Figure size 360x360 with 1 Axes>"
      ]
     },
     "metadata": {},
     "output_type": "display_data"
    }
   ],
   "source": [
    "sns.set_theme()\n",
    "sns.relplot(\n",
    "    data = df_losses,\n",
    "    x = \"t\", y = \"losses\")"
   ]
  },
  {
   "cell_type": "code",
   "execution_count": 17,
   "id": "1f385745",
   "metadata": {},
   "outputs": [
    {
     "data": {
      "text/plain": [
       "array([0, 1, 1, 0, 0, 0, 0, 1, 1, 1, 0, 0, 0, 0, 1, 1, 0, 0, 0, 1, 0, 0,\n",
       "       0, 1, 1, 1, 1, 0, 1, 1, 0, 1, 0, 1, 1, 0, 0, 0, 1, 1, 0, 1, 0, 0,\n",
       "       0, 1, 1, 0, 0, 0])"
      ]
     },
     "execution_count": 17,
     "metadata": {},
     "output_type": "execute_result"
    }
   ],
   "source": [
    "pred_y = predict(test_X)\n",
    "pred_y"
   ]
  },
  {
   "cell_type": "code",
   "execution_count": 18,
   "id": "45affcde",
   "metadata": {},
   "outputs": [
    {
     "name": "stdout",
     "output_type": "stream",
     "text": [
      "Accuracy is 100.0%\n"
     ]
    }
   ],
   "source": [
    "# not bad)\n",
    "accuracy(test_y, pred_y)"
   ]
  },
  {
   "cell_type": "code",
   "execution_count": 19,
   "id": "c2a1bb1d",
   "metadata": {},
   "outputs": [],
   "source": [
    "# определяем начальное приближение иначе\n",
    "def init_mm(X):\n",
    "    a = np.min(X)\n",
    "    b = np.max(X)\n",
    "    return np.random.uniform(a, b, (X.shape[1], 1))\n",
    "\n",
    "def grad_desc_mm(λ, ε):\n",
    "    losses = []\n",
    "    W_0 = init_mm(train_X) # начальные коэффициенты\n",
    "    W_new = W_0 - λ*grad(train_X, train_y, H(train_X, W_0))\n",
    "    while abs(max(W_new - W_0)[0])>ε:\n",
    "        W_0 = W_new\n",
    "        W_new = W_0 - λ*grad(train_X, train_y, H(train_X, W_0))\n",
    "        losses.append(loss(train_y, H(train_X, W_new)))\n",
    "    else:\n",
    "        return W_new, losses"
   ]
  },
  {
   "cell_type": "code",
   "execution_count": 20,
   "id": "137663e7",
   "metadata": {},
   "outputs": [
    {
     "name": "stdout",
     "output_type": "stream",
     "text": [
      "Accuracy is 96.0%\n"
     ]
    }
   ],
   "source": [
    "λ = 0.001          # статичный шаг\n",
    "ε = 0.00001        # погрешность\n",
    "W_opt, losses = grad_desc_mm(λ, ε)\n",
    "pred_y = predict(test_X)\n",
    "\n",
    "# офигеть\n",
    "accuracy(test_y, pred_y)"
   ]
  },
  {
   "cell_type": "markdown",
   "id": "18e81978",
   "metadata": {},
   "source": [
    "**Ладно, попробуем методы Momentum и  NAG (по https://towardsdatascience.com/learning-parameters-part-2-a190bef2d12 изложение там мне показалось самым вменяемым)**"
   ]
  },
  {
   "cell_type": "code",
   "execution_count": 21,
   "id": "6edc2859",
   "metadata": {
    "code_folding": []
   },
   "outputs": [],
   "source": [
    "def momentum_desc(λ, γ, ε):\n",
    "    losses = []\n",
    "    W_0 = init(train_X) # начальные коэффициенты\n",
    "    Δ_0 = 0\n",
    "    W_1 = W_0 - Δ_0\n",
    "    Δ_1 = γ*Δ_0 - λ*grad(train_X, train_y, H(train_X, W_1))\n",
    "    while abs(max(W_1 - W_0)[0])>ε:\n",
    "        W_0 = W_1\n",
    "        Δ_0 = Δ_1\n",
    "        W_1 = W_0 - Δ_0\n",
    "        Δ_1 = γ*Δ_0 - λ*grad(train_X, train_y, H(train_X, W_1))\n",
    "        losses.append(loss(train_y, H(train_X, W_0)))\n",
    "    else:\n",
    "        return W_0, losses"
   ]
  },
  {
   "cell_type": "code",
   "execution_count": 22,
   "id": "b7e4edc6",
   "metadata": {},
   "outputs": [
    {
     "name": "stdout",
     "output_type": "stream",
     "text": [
      "Accuracy is 56.00000000000001%\n"
     ]
    }
   ],
   "source": [
    "γ = 0.9            # момент\n",
    "λ = 0.001          # статичный шаг\n",
    "ε = 0.00001        # погрешность\n",
    "W_opt, losses = momentum_desc(λ, γ, ε)\n",
    "pred_y = predict(test_X)\n",
    "\n",
    "# чет не очень\n",
    "accuracy(test_y, pred_y)"
   ]
  },
  {
   "cell_type": "code",
   "execution_count": 23,
   "id": "90c3ebf3",
   "metadata": {},
   "outputs": [],
   "source": [
    "# Спуск Нестерова\n",
    "def NAG_desc(λ, γ, ε):\n",
    "    losses = []\n",
    "    W_0 = init(train_X) # начальные коэффициенты\n",
    "    Δ_0 = 0\n",
    "    W_lh = W_0 - γ*Δ_0  \n",
    "    Δ_new = γ*Δ_0 + λ*grad(train_X, train_y, H(train_X, W_lh))\n",
    "    W_new = W_0 - Δ_new\n",
    "    while abs(max(W_new - W_0)[0])>ε:\n",
    "        W_0 = W_new\n",
    "        Δ_0 = Δ_new\n",
    "        W_lh = W_0 - γ*Δ_0  \n",
    "        Δ_new = γ*Δ_0 + λ*grad(train_X, train_y, H(train_X, W_lh))\n",
    "        W_new = W_0 - Δ_new\n",
    "        losses.append(loss(train_y, H(train_X, W_0)))\n",
    "    else:\n",
    "        return W_0, losses"
   ]
  },
  {
   "cell_type": "code",
   "execution_count": 24,
   "id": "aa80f27d",
   "metadata": {},
   "outputs": [
    {
     "name": "stdout",
     "output_type": "stream",
     "text": [
      "Accuracy is 100.0%\n"
     ]
    }
   ],
   "source": [
    "γ = 0.9            # момент\n",
    "λ = 0.001          # статичный шаг\n",
    "ε = 0.00001        # погрешность\n",
    "W_opt, losses = NAG_desc(λ, γ, ε)\n",
    "pred_y = predict(test_X)\n",
    "\n",
    "# отлично\n",
    "accuracy(test_y, pred_y)"
   ]
  },
  {
   "cell_type": "markdown",
   "id": "b78b6f90",
   "metadata": {},
   "source": [
    "**RMSProp (по https://towardsdatascience.com/understanding-rmsprop-faster-neural-network-learning-62e116fcf29a)**"
   ]
  },
  {
   "cell_type": "code",
   "execution_count": 29,
   "id": "4c3e815b",
   "metadata": {},
   "outputs": [],
   "source": [
    "def RMSProp(λ, γ, ε):\n",
    "    η = 0.0001\n",
    "    losses = []\n",
    "    W_0 = init(train_X) # начальные коэффициенты\n",
    "    E_0 = 0\n",
    "    E = γ*E_0 + (1-γ)*(grad(train_X, train_y, H(train_X, W_0)))**2\n",
    "    W_new = W_0 - (λ/( E**(1/2) + η))*grad(train_X, train_y, H(train_X, W_0))\n",
    "    while abs(max(W_new - W_0)[0])>ε:\n",
    "        W_0 = W_new\n",
    "        E_0 = E\n",
    "        E = γ*E_0 + (1-γ)*(grad(train_X, train_y, H(train_X, W_0)))**2\n",
    "        W_new = W_0 - (λ/( E**(1/2) + η))*grad(train_X, train_y, H(train_X, W_0))\n",
    "    else:\n",
    "        return W_0, losses"
   ]
  },
  {
   "cell_type": "code",
   "execution_count": 30,
   "id": "6a755fcf",
   "metadata": {},
   "outputs": [
    {
     "name": "stdout",
     "output_type": "stream",
     "text": [
      "Accuracy is 100.0%\n"
     ]
    }
   ],
   "source": [
    "γ = 0.9            # момент\n",
    "λ = 0.001          # статичный шаг\n",
    "ε = 0.00001        # погрешность\n",
    "W_opt, losses = RMSProp(λ, γ, ε)\n",
    "pred_y = predict(test_X)\n",
    "\n",
    "# отлично\n",
    "accuracy(test_y, pred_y)"
   ]
  },
  {
   "cell_type": "code",
   "execution_count": null,
   "id": "c7ae32d9",
   "metadata": {},
   "outputs": [],
   "source": []
  },
  {
   "cell_type": "code",
   "execution_count": null,
   "id": "1fd6b90a",
   "metadata": {},
   "outputs": [],
   "source": []
  },
  {
   "cell_type": "code",
   "execution_count": null,
   "id": "8079d157",
   "metadata": {},
   "outputs": [],
   "source": []
  },
  {
   "cell_type": "code",
   "execution_count": null,
   "id": "73648e01",
   "metadata": {},
   "outputs": [],
   "source": []
  },
  {
   "cell_type": "code",
   "execution_count": null,
   "id": "30a7e1ae",
   "metadata": {},
   "outputs": [],
   "source": []
  },
  {
   "cell_type": "code",
   "execution_count": null,
   "id": "1441c280",
   "metadata": {},
   "outputs": [],
   "source": []
  },
  {
   "cell_type": "code",
   "execution_count": null,
   "id": "3cdd0ea5",
   "metadata": {},
   "outputs": [],
   "source": []
  },
  {
   "cell_type": "code",
   "execution_count": null,
   "id": "88845749",
   "metadata": {},
   "outputs": [],
   "source": []
  },
  {
   "cell_type": "code",
   "execution_count": null,
   "id": "cc2c74c2",
   "metadata": {},
   "outputs": [],
   "source": []
  },
  {
   "cell_type": "code",
   "execution_count": null,
   "id": "a4b22d99",
   "metadata": {},
   "outputs": [],
   "source": []
  },
  {
   "cell_type": "code",
   "execution_count": null,
   "id": "27e09959",
   "metadata": {},
   "outputs": [],
   "source": []
  },
  {
   "cell_type": "code",
   "execution_count": null,
   "id": "9aa8a3f5",
   "metadata": {},
   "outputs": [],
   "source": []
  },
  {
   "cell_type": "code",
   "execution_count": null,
   "id": "40b3b180",
   "metadata": {},
   "outputs": [],
   "source": []
  },
  {
   "cell_type": "code",
   "execution_count": null,
   "id": "1f4834fa",
   "metadata": {},
   "outputs": [],
   "source": []
  },
  {
   "cell_type": "code",
   "execution_count": null,
   "id": "18e30fb9",
   "metadata": {},
   "outputs": [],
   "source": []
  },
  {
   "cell_type": "code",
   "execution_count": null,
   "id": "0762ed53",
   "metadata": {},
   "outputs": [],
   "source": []
  },
  {
   "cell_type": "code",
   "execution_count": null,
   "id": "7b7a9341",
   "metadata": {},
   "outputs": [],
   "source": []
  },
  {
   "cell_type": "code",
   "execution_count": null,
   "id": "b0eef12d",
   "metadata": {},
   "outputs": [],
   "source": []
  },
  {
   "cell_type": "code",
   "execution_count": null,
   "id": "469ba4bb",
   "metadata": {},
   "outputs": [],
   "source": []
  },
  {
   "cell_type": "code",
   "execution_count": null,
   "id": "a3b54ac6",
   "metadata": {},
   "outputs": [],
   "source": []
  },
  {
   "cell_type": "code",
   "execution_count": null,
   "id": "17754807",
   "metadata": {},
   "outputs": [],
   "source": []
  }
 ],
 "metadata": {
  "kernelspec": {
   "display_name": "Python 3",
   "language": "python",
   "name": "python3"
  },
  "language_info": {
   "codemirror_mode": {
    "name": "ipython",
    "version": 3
   },
   "file_extension": ".py",
   "mimetype": "text/x-python",
   "name": "python",
   "nbconvert_exporter": "python",
   "pygments_lexer": "ipython3",
   "version": "3.8.8"
  },
  "toc": {
   "base_numbering": 1,
   "nav_menu": {},
   "number_sections": true,
   "sideBar": true,
   "skip_h1_title": true,
   "title_cell": "Table of Contents",
   "title_sidebar": "Contents",
   "toc_cell": true,
   "toc_position": {},
   "toc_section_display": true,
   "toc_window_display": true
  },
  "varInspector": {
   "cols": {
    "lenName": 16,
    "lenType": 16,
    "lenVar": 40
   },
   "kernels_config": {
    "python": {
     "delete_cmd_postfix": "",
     "delete_cmd_prefix": "del ",
     "library": "var_list.py",
     "varRefreshCmd": "print(var_dic_list())"
    },
    "r": {
     "delete_cmd_postfix": ") ",
     "delete_cmd_prefix": "rm(",
     "library": "var_list.r",
     "varRefreshCmd": "cat(var_dic_list()) "
    }
   },
   "types_to_exclude": [
    "module",
    "function",
    "builtin_function_or_method",
    "instance",
    "_Feature"
   ],
   "window_display": false
  }
 },
 "nbformat": 4,
 "nbformat_minor": 5
}

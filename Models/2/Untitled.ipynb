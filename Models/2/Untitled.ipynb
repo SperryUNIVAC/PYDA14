{
 "cells": [
  {
   "cell_type": "markdown",
   "id": "0c47fc4e",
   "metadata": {
    "toc": true
   },
   "source": [
    "<h1>Table of Contents<span class=\"tocSkip\"></span></h1>\n",
    "<div class=\"toc\"><ul class=\"toc-item\"></ul></div>"
   ]
  },
  {
   "cell_type": "code",
   "execution_count": 3,
   "id": "6e47ab3a",
   "metadata": {},
   "outputs": [],
   "source": [
    "import pandas as pd\n",
    "import numpy as np\n",
    "from sklearn import datasets"
   ]
  },
  {
   "cell_type": "code",
   "execution_count": 4,
   "id": "1e8499b3",
   "metadata": {},
   "outputs": [],
   "source": [
    "# выколупывание классов в удобный вид\n",
    "iris = datasets.load_iris()\n",
    "df = pd.DataFrame(data= np.c_[iris['data'], iris['target']],columns= iris['feature_names'] + ['target'])\n",
    "df = df.drop(np.where(df['target'] == 2)[0])\n",
    "dfX = df.drop(df.columns[[4]], axis=1)\n",
    "dfy = df.drop(df.columns[[0, 1, 2, 3]], axis=1)    \n",
    "X = dfX.to_numpy().T\n",
    "y = dfy.to_numpy().T"
   ]
  },
  {
   "cell_type": "code",
   "execution_count": 5,
   "id": "ae675457",
   "metadata": {},
   "outputs": [],
   "source": [
    "# определяем стандартную сигма-функцию\n",
    "def sigma(X, theta):\n",
    "    z = np.dot(theta, X)\n",
    "    return 1/(1+np.exp(-(z)))"
   ]
  },
  {
   "cell_type": "code",
   "execution_count": 6,
   "id": "382eed0a",
   "metadata": {},
   "outputs": [],
   "source": [
    "# функция потерь\n",
    "def cost(X, y, theta):\n",
    "    y_cost = sigma(X, theta)\n",
    "    return -(1/len(X)) * np.sum(y*np.log(y_cost) + (1-y)*np.log(1-y_cost))"
   ]
  },
  {
   "cell_type": "code",
   "execution_count": 7,
   "id": "291fc00e",
   "metadata": {},
   "outputs": [],
   "source": [
    "# градиентный спуск\n",
    "def grad_descent(X, y, theta, alpha, epochs):\n",
    "    m =len(X)\n",
    "    J = [cost(X, y, theta)] \n",
    "    for i in range(0, epochs):\n",
    "        h = sigma(X, theta)\n",
    "        for i in range(0, len(dfX.columns)):\n",
    "            theta[i] -= (alpha/m) * np.sum((h-y)*X)\n",
    "        J.append(cost(X, y, theta))\n",
    "    return J, theta"
   ]
  },
  {
   "cell_type": "code",
   "execution_count": 8,
   "id": "3fcc7305",
   "metadata": {},
   "outputs": [],
   "source": [
    "# собственно, расчет\n",
    "def predict(X, y, theta, alpha, epochs):\n",
    "    J, th = grad_descent(X, y, theta, alpha, epochs) \n",
    "    h = sigma(X, theta)\n",
    "    for i in range(len(h)):\n",
    "        h[i]=1 if h[i]>=0.5 else 0\n",
    "    y = list(y)\n",
    "    acc = np.sum([y[i] == h[i] for i in range(len(y))])/len(y)\n",
    "    return J, acc"
   ]
  },
  {
   "cell_type": "code",
   "execution_count": 9,
   "id": "a7869d5a",
   "metadata": {},
   "outputs": [
    {
     "data": {
      "text/plain": [
       "50.0"
      ]
     },
     "execution_count": 9,
     "metadata": {},
     "output_type": "execute_result"
    }
   ],
   "source": [
    "theta = [0.1]*len(dfX.columns)\n",
    "J, acc = predict(X, y, theta, 0.001, 20000)\n",
    "acc"
   ]
  },
  {
   "cell_type": "code",
   "execution_count": null,
   "id": "d86744e1",
   "metadata": {},
   "outputs": [],
   "source": []
  },
  {
   "cell_type": "code",
   "execution_count": null,
   "id": "5bc0abfc",
   "metadata": {},
   "outputs": [],
   "source": []
  },
  {
   "cell_type": "code",
   "execution_count": null,
   "id": "8da02dd4",
   "metadata": {},
   "outputs": [],
   "source": []
  },
  {
   "cell_type": "code",
   "execution_count": null,
   "id": "472d9df1",
   "metadata": {},
   "outputs": [],
   "source": []
  },
  {
   "cell_type": "code",
   "execution_count": null,
   "id": "d2f8ebea",
   "metadata": {},
   "outputs": [],
   "source": []
  },
  {
   "cell_type": "code",
   "execution_count": null,
   "id": "41847dda",
   "metadata": {},
   "outputs": [],
   "source": []
  },
  {
   "cell_type": "code",
   "execution_count": null,
   "id": "b1c9f325",
   "metadata": {},
   "outputs": [],
   "source": []
  },
  {
   "cell_type": "code",
   "execution_count": null,
   "id": "3a9966c8",
   "metadata": {},
   "outputs": [],
   "source": []
  },
  {
   "cell_type": "code",
   "execution_count": null,
   "id": "966dde51",
   "metadata": {},
   "outputs": [],
   "source": []
  },
  {
   "cell_type": "code",
   "execution_count": null,
   "id": "609bbbb0",
   "metadata": {},
   "outputs": [],
   "source": []
  },
  {
   "cell_type": "code",
   "execution_count": null,
   "id": "15fb1fb5",
   "metadata": {},
   "outputs": [],
   "source": []
  },
  {
   "cell_type": "code",
   "execution_count": null,
   "id": "6da273ad",
   "metadata": {},
   "outputs": [],
   "source": []
  },
  {
   "cell_type": "code",
   "execution_count": null,
   "id": "246e8d96",
   "metadata": {},
   "outputs": [],
   "source": []
  },
  {
   "cell_type": "code",
   "execution_count": null,
   "id": "7bc95e6a",
   "metadata": {},
   "outputs": [],
   "source": []
  },
  {
   "cell_type": "code",
   "execution_count": null,
   "id": "7b7a9341",
   "metadata": {},
   "outputs": [],
   "source": []
  },
  {
   "cell_type": "code",
   "execution_count": null,
   "id": "b0eef12d",
   "metadata": {},
   "outputs": [],
   "source": []
  },
  {
   "cell_type": "code",
   "execution_count": null,
   "id": "469ba4bb",
   "metadata": {},
   "outputs": [],
   "source": []
  },
  {
   "cell_type": "code",
   "execution_count": null,
   "id": "f3882e5e",
   "metadata": {},
   "outputs": [],
   "source": []
  },
  {
   "cell_type": "code",
   "execution_count": null,
   "id": "fe9364a6",
   "metadata": {},
   "outputs": [],
   "source": []
  }
 ],
 "metadata": {
  "kernelspec": {
   "display_name": "Python 3",
   "language": "python",
   "name": "python3"
  },
  "language_info": {
   "codemirror_mode": {
    "name": "ipython",
    "version": 3
   },
   "file_extension": ".py",
   "mimetype": "text/x-python",
   "name": "python",
   "nbconvert_exporter": "python",
   "pygments_lexer": "ipython3",
   "version": "3.8.8"
  },
  "toc": {
   "base_numbering": 1,
   "nav_menu": {},
   "number_sections": true,
   "sideBar": true,
   "skip_h1_title": true,
   "title_cell": "Table of Contents",
   "title_sidebar": "Contents",
   "toc_cell": true,
   "toc_position": {},
   "toc_section_display": true,
   "toc_window_display": true
  },
  "varInspector": {
   "cols": {
    "lenName": 16,
    "lenType": 16,
    "lenVar": 40
   },
   "kernels_config": {
    "python": {
     "delete_cmd_postfix": "",
     "delete_cmd_prefix": "del ",
     "library": "var_list.py",
     "varRefreshCmd": "print(var_dic_list())"
    },
    "r": {
     "delete_cmd_postfix": ") ",
     "delete_cmd_prefix": "rm(",
     "library": "var_list.r",
     "varRefreshCmd": "cat(var_dic_list()) "
    }
   },
   "types_to_exclude": [
    "module",
    "function",
    "builtin_function_or_method",
    "instance",
    "_Feature"
   ],
   "window_display": false
  }
 },
 "nbformat": 4,
 "nbformat_minor": 5
}

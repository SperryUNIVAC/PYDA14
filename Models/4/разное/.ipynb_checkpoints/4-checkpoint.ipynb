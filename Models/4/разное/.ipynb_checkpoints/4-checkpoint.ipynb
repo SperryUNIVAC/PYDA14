{
 "cells": [
  {
   "cell_type": "markdown",
   "id": "027e1b6c",
   "metadata": {
    "toc": true
   },
   "source": [
    "<h1>Table of Contents<span class=\"tocSkip\"></span></h1>\n",
    "<div class=\"toc\"><ul class=\"toc-item\"></ul></div>"
   ]
  },
  {
   "cell_type": "code",
   "execution_count": 135,
   "id": "ec2340cb",
   "metadata": {},
   "outputs": [],
   "source": [
    "import numpy as np\n",
    "import pandas as pd\n",
    "import seaborn as sns\n",
    "import random as rn\n",
    "\n",
    "from sklearn.linear_model import LinearRegression\n",
    "from sklearn.metrics import mean_absolute_error"
   ]
  },
  {
   "cell_type": "markdown",
   "id": "59179fbd",
   "metadata": {},
   "source": [
    "А запилим-ка мы игрушечный датасет в котором стоимость б/у машин будет линейно зависеть от возраста, прожорливости двигателя и транспортного налога на тачку, при этом в качестве базовых возьмем разные параметры движка и прочую мишуру"
   ]
  },
  {
   "cell_type": "code",
   "execution_count": 80,
   "id": "172c4735",
   "metadata": {},
   "outputs": [],
   "source": [
    "random.seed(42)\n",
    "n_samples = 1000"
   ]
  },
  {
   "cell_type": "markdown",
   "id": "a83735a3",
   "metadata": {},
   "source": [
    "Я, конечно, немного угорел, включив в список 16ти цилиндровых монстров, тем не менее, такие машины существуют и существовали годов с 1930-х, хоть их и было мало, объем двигателя прикинут довольно реалистично, мощность тоже, за исключением некоторого провала на максимальном объеме, но я уж не стал настолько сложные модели строить."
   ]
  },
  {
   "cell_type": "code",
   "execution_count": 81,
   "id": "790a5a0d",
   "metadata": {},
   "outputs": [],
   "source": [
    "# сгенерируем год\n",
    "my_list = [i for i in range(1975, 2021, 1)]   \n",
    "year_list = [rn.choice(my_list) for i in range(0, n_samples)]\n",
    "\n",
    "# число цилиндров\n",
    "my_list = [4,6,8,10,12,16]\n",
    "engine_list = [rn.choice(my_list) for i in range(0, n_samples)]\n",
    "\n",
    "# прожорливость\n",
    "fuel_consumption_list = [round((engine_list[i] * 1.2 + rn.uniform(-1, 5)),2) for i in range(0, n_samples)]   \n",
    "\n",
    "# объем двигателя \n",
    "displacement_list = [int((engine_list[i] * 0.5 + rn.uniform(-1, 4))*1000) for i in range(0, n_samples)]\n",
    "\n",
    "# мощность\n",
    "power_list = [int(((engine_list[i]**2)*2.6 + rn.uniform(-20, 30))) for i in range(0, n_samples)]"
   ]
  },
  {
   "cell_type": "code",
   "execution_count": 82,
   "id": "452d48a2",
   "metadata": {},
   "outputs": [],
   "source": [
    "# скрытый параметр - русский транспортный налог на 2021, \n",
    "# посчитал его в баксах для удобства\n",
    "def foo(arg):\n",
    "    buck = 72.25\n",
    "    if arg < 100:\n",
    "        return (arg * 2.5)/buck\n",
    "    elif (arg >= 100) and (arg <= 150):\n",
    "        return (arg * 3.5)/buck\n",
    "    elif (arg > 150) and (arg <= 200):\n",
    "        return (arg * 5)/buck\n",
    "    elif (arg > 200) and (arg <= 250):\n",
    "        return (arg * 7)/buck\n",
    "    elif arg > 250:\n",
    "        return (arg * 15)/buck\n",
    "\n",
    "taxe_list = [round((foo(power_list[i])), 2) for i in range(0, n_samples)]\n",
    "\n",
    "# скрытый параметр - сколько лет машине\n",
    "years_old_list = [2021 - year_list[i]  for i in range(0, n_samples)]"
   ]
  },
  {
   "cell_type": "code",
   "execution_count": 129,
   "id": "328d9f44",
   "metadata": {},
   "outputs": [],
   "source": [
    "price_list = [int(taxe_list[i] * 2000 - fuel_consumption_list[i] * 500 - years_old_list[i] * 741 + 35000) for i in range(0, n_samples)]"
   ]
  },
  {
   "cell_type": "code",
   "execution_count": 130,
   "id": "ad3b54a5",
   "metadata": {},
   "outputs": [
    {
     "data": {
      "text/plain": [
       "69"
      ]
     },
     "execution_count": 130,
     "metadata": {},
     "output_type": "execute_result"
    }
   ],
   "source": [
    "min(price_list)"
   ]
  },
  {
   "cell_type": "code",
   "execution_count": 131,
   "id": "cc39bf7a",
   "metadata": {},
   "outputs": [
    {
     "data": {
      "text/plain": [
       "311234"
      ]
     },
     "execution_count": 131,
     "metadata": {},
     "output_type": "execute_result"
    }
   ],
   "source": [
    "max(price_list)"
   ]
  },
  {
   "cell_type": "markdown",
   "id": "25b40e14",
   "metadata": {},
   "source": [
    "в целом довольно адекватно - от 311к баксов за современный суперкар до 70 баксов за развалюху 40 летней древности"
   ]
  },
  {
   "cell_type": "code",
   "execution_count": 134,
   "id": "cd0a1bfa",
   "metadata": {},
   "outputs": [
    {
     "data": {
      "text/html": [
       "<div>\n",
       "<style scoped>\n",
       "    .dataframe tbody tr th:only-of-type {\n",
       "        vertical-align: middle;\n",
       "    }\n",
       "\n",
       "    .dataframe tbody tr th {\n",
       "        vertical-align: top;\n",
       "    }\n",
       "\n",
       "    .dataframe thead th {\n",
       "        text-align: right;\n",
       "    }\n",
       "</style>\n",
       "<table border=\"1\" class=\"dataframe\">\n",
       "  <thead>\n",
       "    <tr style=\"text-align: right;\">\n",
       "      <th></th>\n",
       "      <th>Year</th>\n",
       "      <th>Engine</th>\n",
       "      <th>Fuel_consumption</th>\n",
       "      <th>Displacement</th>\n",
       "      <th>Power</th>\n",
       "      <th>Price</th>\n",
       "    </tr>\n",
       "  </thead>\n",
       "  <tbody>\n",
       "    <tr>\n",
       "      <th>0</th>\n",
       "      <td>2015</td>\n",
       "      <td>4</td>\n",
       "      <td>8.07</td>\n",
       "      <td>2715</td>\n",
       "      <td>22</td>\n",
       "      <td>28039</td>\n",
       "    </tr>\n",
       "    <tr>\n",
       "      <th>1</th>\n",
       "      <td>1982</td>\n",
       "      <td>16</td>\n",
       "      <td>21.30</td>\n",
       "      <td>7546</td>\n",
       "      <td>670</td>\n",
       "      <td>273651</td>\n",
       "    </tr>\n",
       "    <tr>\n",
       "      <th>2</th>\n",
       "      <td>1976</td>\n",
       "      <td>6</td>\n",
       "      <td>6.95</td>\n",
       "      <td>6000</td>\n",
       "      <td>79</td>\n",
       "      <td>3640</td>\n",
       "    </tr>\n",
       "    <tr>\n",
       "      <th>3</th>\n",
       "      <td>1992</td>\n",
       "      <td>8</td>\n",
       "      <td>9.10</td>\n",
       "      <td>7649</td>\n",
       "      <td>181</td>\n",
       "      <td>34021</td>\n",
       "    </tr>\n",
       "    <tr>\n",
       "      <th>4</th>\n",
       "      <td>1990</td>\n",
       "      <td>16</td>\n",
       "      <td>19.16</td>\n",
       "      <td>10702</td>\n",
       "      <td>685</td>\n",
       "      <td>286869</td>\n",
       "    </tr>\n",
       "    <tr>\n",
       "      <th>5</th>\n",
       "      <td>1989</td>\n",
       "      <td>12</td>\n",
       "      <td>16.10</td>\n",
       "      <td>7579</td>\n",
       "      <td>373</td>\n",
       "      <td>158118</td>\n",
       "    </tr>\n",
       "    <tr>\n",
       "      <th>6</th>\n",
       "      <td>1983</td>\n",
       "      <td>16</td>\n",
       "      <td>21.28</td>\n",
       "      <td>9759</td>\n",
       "      <td>677</td>\n",
       "      <td>277302</td>\n",
       "    </tr>\n",
       "    <tr>\n",
       "      <th>7</th>\n",
       "      <td>1981</td>\n",
       "      <td>6</td>\n",
       "      <td>11.19</td>\n",
       "      <td>3654</td>\n",
       "      <td>112</td>\n",
       "      <td>10625</td>\n",
       "    </tr>\n",
       "    <tr>\n",
       "      <th>8</th>\n",
       "      <td>2018</td>\n",
       "      <td>10</td>\n",
       "      <td>11.55</td>\n",
       "      <td>6131</td>\n",
       "      <td>271</td>\n",
       "      <td>139522</td>\n",
       "    </tr>\n",
       "    <tr>\n",
       "      <th>9</th>\n",
       "      <td>2009</td>\n",
       "      <td>4</td>\n",
       "      <td>9.26</td>\n",
       "      <td>3310</td>\n",
       "      <td>51</td>\n",
       "      <td>24998</td>\n",
       "    </tr>\n",
       "    <tr>\n",
       "      <th>10</th>\n",
       "      <td>1980</td>\n",
       "      <td>12</td>\n",
       "      <td>18.30</td>\n",
       "      <td>8988</td>\n",
       "      <td>356</td>\n",
       "      <td>143289</td>\n",
       "    </tr>\n",
       "    <tr>\n",
       "      <th>11</th>\n",
       "      <td>2012</td>\n",
       "      <td>6</td>\n",
       "      <td>11.51</td>\n",
       "      <td>5148</td>\n",
       "      <td>79</td>\n",
       "      <td>28036</td>\n",
       "    </tr>\n",
       "    <tr>\n",
       "      <th>12</th>\n",
       "      <td>2002</td>\n",
       "      <td>16</td>\n",
       "      <td>23.78</td>\n",
       "      <td>7931</td>\n",
       "      <td>687</td>\n",
       "      <td>294291</td>\n",
       "    </tr>\n",
       "    <tr>\n",
       "      <th>13</th>\n",
       "      <td>1977</td>\n",
       "      <td>6</td>\n",
       "      <td>8.69</td>\n",
       "      <td>5286</td>\n",
       "      <td>76</td>\n",
       "      <td>3311</td>\n",
       "    </tr>\n",
       "    <tr>\n",
       "      <th>14</th>\n",
       "      <td>1976</td>\n",
       "      <td>8</td>\n",
       "      <td>10.98</td>\n",
       "      <td>4977</td>\n",
       "      <td>152</td>\n",
       "      <td>17205</td>\n",
       "    </tr>\n",
       "    <tr>\n",
       "      <th>15</th>\n",
       "      <td>1980</td>\n",
       "      <td>6</td>\n",
       "      <td>8.44</td>\n",
       "      <td>5686</td>\n",
       "      <td>95</td>\n",
       "      <td>6979</td>\n",
       "    </tr>\n",
       "    <tr>\n",
       "      <th>16</th>\n",
       "      <td>1988</td>\n",
       "      <td>4</td>\n",
       "      <td>6.12</td>\n",
       "      <td>5415</td>\n",
       "      <td>27</td>\n",
       "      <td>9347</td>\n",
       "    </tr>\n",
       "    <tr>\n",
       "      <th>17</th>\n",
       "      <td>1989</td>\n",
       "      <td>4</td>\n",
       "      <td>4.29</td>\n",
       "      <td>3247</td>\n",
       "      <td>34</td>\n",
       "      <td>11503</td>\n",
       "    </tr>\n",
       "    <tr>\n",
       "      <th>18</th>\n",
       "      <td>2007</td>\n",
       "      <td>6</td>\n",
       "      <td>7.55</td>\n",
       "      <td>4147</td>\n",
       "      <td>108</td>\n",
       "      <td>31311</td>\n",
       "    </tr>\n",
       "    <tr>\n",
       "      <th>19</th>\n",
       "      <td>2013</td>\n",
       "      <td>8</td>\n",
       "      <td>10.51</td>\n",
       "      <td>3022</td>\n",
       "      <td>156</td>\n",
       "      <td>45417</td>\n",
       "    </tr>\n",
       "  </tbody>\n",
       "</table>\n",
       "</div>"
      ],
      "text/plain": [
       "    Year  Engine  Fuel_consumption  Displacement  Power   Price\n",
       "0   2015       4              8.07          2715     22   28039\n",
       "1   1982      16             21.30          7546    670  273651\n",
       "2   1976       6              6.95          6000     79    3640\n",
       "3   1992       8              9.10          7649    181   34021\n",
       "4   1990      16             19.16         10702    685  286869\n",
       "5   1989      12             16.10          7579    373  158118\n",
       "6   1983      16             21.28          9759    677  277302\n",
       "7   1981       6             11.19          3654    112   10625\n",
       "8   2018      10             11.55          6131    271  139522\n",
       "9   2009       4              9.26          3310     51   24998\n",
       "10  1980      12             18.30          8988    356  143289\n",
       "11  2012       6             11.51          5148     79   28036\n",
       "12  2002      16             23.78          7931    687  294291\n",
       "13  1977       6              8.69          5286     76    3311\n",
       "14  1976       8             10.98          4977    152   17205\n",
       "15  1980       6              8.44          5686     95    6979\n",
       "16  1988       4              6.12          5415     27    9347\n",
       "17  1989       4              4.29          3247     34   11503\n",
       "18  2007       6              7.55          4147    108   31311\n",
       "19  2013       8             10.51          3022    156   45417"
      ]
     },
     "execution_count": 134,
     "metadata": {},
     "output_type": "execute_result"
    }
   ],
   "source": [
    "data = pd.DataFrame({'Year': year_list, 'Engine': engine_list, 'Fuel_consumption': fuel_consumption_list, 'Displacement': displacement_list, 'Power':power_list, 'Price':price_list})\n",
    "data.head(20)"
   ]
  },
  {
   "cell_type": "markdown",
   "id": "775e8fa9",
   "metadata": {},
   "source": [
    "вообще довольно прикольно получилось, так можно, например, генерировать стоимость лута в игрушках"
   ]
  },
  {
   "cell_type": "markdown",
   "id": "7d72fd9b",
   "metadata": {},
   "source": [
    "ну и пошли угорать"
   ]
  },
  {
   "cell_type": "code",
   "execution_count": 136,
   "id": "21e9cde0",
   "metadata": {},
   "outputs": [
    {
     "name": "stdout",
     "output_type": "stream",
     "text": [
      "Weights: [ 7.59231831e+02 -3.19728950e+03 -5.96284796e+02  3.49805322e-01\n",
      "  5.27633414e+02]\n",
      "Bias: -1518712.4833129747\n",
      "Error: 13983.459048017727\n"
     ]
    }
   ],
   "source": [
    "X = data[['Year', 'Engine', 'Fuel_consumption', 'Displacement', 'Power']]\n",
    "y = data['Price']\n",
    "reg = LinearRegression().fit(X, y)\n",
    "print('Weights: {}'.format(reg.coef_))\n",
    "print('Bias: {}'.format(reg.intercept_))\n",
    "\n",
    "pred_values = reg.predict(data[['Year', 'Engine', 'Fuel_consumption', 'Displacement', 'Power']])\n",
    "print('Error: {}'.format(mean_absolute_error(pred_values, y)))"
   ]
  },
  {
   "cell_type": "markdown",
   "id": "24765fc6",
   "metadata": {},
   "source": [
    "а теперь учтем налог и возраст"
   ]
  },
  {
   "cell_type": "code",
   "execution_count": 140,
   "id": "115805b1",
   "metadata": {},
   "outputs": [
    {
     "data": {
      "text/html": [
       "<div>\n",
       "<style scoped>\n",
       "    .dataframe tbody tr th:only-of-type {\n",
       "        vertical-align: middle;\n",
       "    }\n",
       "\n",
       "    .dataframe tbody tr th {\n",
       "        vertical-align: top;\n",
       "    }\n",
       "\n",
       "    .dataframe thead th {\n",
       "        text-align: right;\n",
       "    }\n",
       "</style>\n",
       "<table border=\"1\" class=\"dataframe\">\n",
       "  <thead>\n",
       "    <tr style=\"text-align: right;\">\n",
       "      <th></th>\n",
       "      <th>Year</th>\n",
       "      <th>Engine</th>\n",
       "      <th>Fuel_consumption</th>\n",
       "      <th>Displacement</th>\n",
       "      <th>Power</th>\n",
       "      <th>Price</th>\n",
       "      <th>Years_old</th>\n",
       "      <th>Taxe</th>\n",
       "    </tr>\n",
       "  </thead>\n",
       "  <tbody>\n",
       "    <tr>\n",
       "      <th>0</th>\n",
       "      <td>2015</td>\n",
       "      <td>4</td>\n",
       "      <td>8.07</td>\n",
       "      <td>2715</td>\n",
       "      <td>22</td>\n",
       "      <td>28039</td>\n",
       "      <td>6</td>\n",
       "      <td>0.76</td>\n",
       "    </tr>\n",
       "    <tr>\n",
       "      <th>1</th>\n",
       "      <td>1982</td>\n",
       "      <td>16</td>\n",
       "      <td>21.30</td>\n",
       "      <td>7546</td>\n",
       "      <td>670</td>\n",
       "      <td>273651</td>\n",
       "      <td>39</td>\n",
       "      <td>139.10</td>\n",
       "    </tr>\n",
       "    <tr>\n",
       "      <th>2</th>\n",
       "      <td>1976</td>\n",
       "      <td>6</td>\n",
       "      <td>6.95</td>\n",
       "      <td>6000</td>\n",
       "      <td>79</td>\n",
       "      <td>3640</td>\n",
       "      <td>45</td>\n",
       "      <td>2.73</td>\n",
       "    </tr>\n",
       "    <tr>\n",
       "      <th>3</th>\n",
       "      <td>1992</td>\n",
       "      <td>8</td>\n",
       "      <td>9.10</td>\n",
       "      <td>7649</td>\n",
       "      <td>181</td>\n",
       "      <td>34021</td>\n",
       "      <td>29</td>\n",
       "      <td>12.53</td>\n",
       "    </tr>\n",
       "    <tr>\n",
       "      <th>4</th>\n",
       "      <td>1990</td>\n",
       "      <td>16</td>\n",
       "      <td>19.16</td>\n",
       "      <td>10702</td>\n",
       "      <td>685</td>\n",
       "      <td>286869</td>\n",
       "      <td>31</td>\n",
       "      <td>142.21</td>\n",
       "    </tr>\n",
       "  </tbody>\n",
       "</table>\n",
       "</div>"
      ],
      "text/plain": [
       "   Year  Engine  Fuel_consumption  Displacement  Power   Price  Years_old  \\\n",
       "0  2015       4              8.07          2715     22   28039          6   \n",
       "1  1982      16             21.30          7546    670  273651         39   \n",
       "2  1976       6              6.95          6000     79    3640         45   \n",
       "3  1992       8              9.10          7649    181   34021         29   \n",
       "4  1990      16             19.16         10702    685  286869         31   \n",
       "\n",
       "     Taxe  \n",
       "0    0.76  \n",
       "1  139.10  \n",
       "2    2.73  \n",
       "3   12.53  \n",
       "4  142.21  "
      ]
     },
     "execution_count": 140,
     "metadata": {},
     "output_type": "execute_result"
    }
   ],
   "source": [
    "data['Years_old'] = pd.DataFrame({'Years_old': years_old_list}) \n",
    "data['Taxe'] = pd.DataFrame({'Taxe': taxe_list})\n",
    "data.head()"
   ]
  },
  {
   "cell_type": "code",
   "execution_count": 142,
   "id": "a052de3d",
   "metadata": {},
   "outputs": [
    {
     "name": "stdout",
     "output_type": "stream",
     "text": [
      "Weights: [-7.41000000e+02 -5.86197757e-12 -5.00000000e+02  4.07140988e-12\n",
      "  3.19300142e-13  2.00000000e+03]\n",
      "Bias: 34999.99999997423\n",
      "Error: 8.212267857743428e-09\n"
     ]
    }
   ],
   "source": [
    "X = data[['Years_old', 'Engine', 'Fuel_consumption', 'Displacement', 'Power', 'Taxe']]\n",
    "y = data['Price']\n",
    "reg = LinearRegression().fit(X, y)\n",
    "print('Weights: {}'.format(reg.coef_))\n",
    "print('Bias: {}'.format(reg.intercept_))\n",
    "\n",
    "pred_values = reg.predict(data[['Years_old', 'Engine', 'Fuel_consumption', 'Displacement', 'Power', 'Taxe']])\n",
    "print('Error: {}'.format(mean_absolute_error(pred_values, y)))"
   ]
  },
  {
   "cell_type": "markdown",
   "id": "c067e78a",
   "metadata": {},
   "source": [
    "**В разы улучшилось, даже с учетом что мы не снесли лишние параметры**"
   ]
  },
  {
   "cell_type": "code",
   "execution_count": null,
   "id": "04df53a9",
   "metadata": {},
   "outputs": [],
   "source": []
  }
 ],
 "metadata": {
  "kernelspec": {
   "display_name": "Python 3",
   "language": "python",
   "name": "python3"
  },
  "language_info": {
   "codemirror_mode": {
    "name": "ipython",
    "version": 3
   },
   "file_extension": ".py",
   "mimetype": "text/x-python",
   "name": "python",
   "nbconvert_exporter": "python",
   "pygments_lexer": "ipython3",
   "version": "3.8.8"
  },
  "toc": {
   "base_numbering": 1,
   "nav_menu": {},
   "number_sections": true,
   "sideBar": true,
   "skip_h1_title": true,
   "title_cell": "Table of Contents",
   "title_sidebar": "Contents",
   "toc_cell": true,
   "toc_position": {},
   "toc_section_display": true,
   "toc_window_display": true
  },
  "varInspector": {
   "cols": {
    "lenName": 16,
    "lenType": 16,
    "lenVar": 40
   },
   "kernels_config": {
    "python": {
     "delete_cmd_postfix": "",
     "delete_cmd_prefix": "del ",
     "library": "var_list.py",
     "varRefreshCmd": "print(var_dic_list())"
    },
    "r": {
     "delete_cmd_postfix": ") ",
     "delete_cmd_prefix": "rm(",
     "library": "var_list.r",
     "varRefreshCmd": "cat(var_dic_list()) "
    }
   },
   "types_to_exclude": [
    "module",
    "function",
    "builtin_function_or_method",
    "instance",
    "_Feature"
   ],
   "window_display": false
  }
 },
 "nbformat": 4,
 "nbformat_minor": 5
}

{
 "cells": [
  {
   "cell_type": "markdown",
   "metadata": {
    "toc": true
   },
   "source": [
    "<h1>Table of Contents<span class=\"tocSkip\"></span></h1>\n",
    "<div class=\"toc\"><ul class=\"toc-item\"><li><span><a href=\"#Анализ-игр\" data-toc-modified-id=\"Анализ-игр-1\"><span class=\"toc-item-num\">1&nbsp;&nbsp;</span>Анализ игр</a></span><ul class=\"toc-item\"><li><span><a href=\"#Как-критики-относятся-к-спортивным-играм?\" data-toc-modified-id=\"Как-критики-относятся-к-спортивным-играм?-1.1\"><span class=\"toc-item-num\">1.1&nbsp;&nbsp;</span>Как критики относятся к спортивным играм?</a></span></li><li><span><a href=\"#Критикам-нравятся-больше-игры-на-PC-или-на-PS4?\" data-toc-modified-id=\"Критикам-нравятся-больше-игры-на-PC-или-на-PS4?-1.2\"><span class=\"toc-item-num\">1.2&nbsp;&nbsp;</span>Критикам нравятся больше игры на PC или на PS4?</a></span></li><li><span><a href=\"#Критикам-больше-нравятся-стрелялки-или-стратегии?\" data-toc-modified-id=\"Критикам-больше-нравятся-стрелялки-или-стратегии?-1.3\"><span class=\"toc-item-num\">1.3&nbsp;&nbsp;</span>Критикам больше нравятся стрелялки или стратегии?</a></span></li></ul></li></ul></div>"
   ]
  },
  {
   "cell_type": "code",
   "execution_count": 1,
   "metadata": {},
   "outputs": [],
   "source": [
    "import pandas as pd\n",
    "import numpy as np\n",
    "import seaborn as sns\n",
    "\n",
    "from collections import Counter\n",
    "from collections import OrderedDict\n",
    "import copy\n",
    "from itertools import groupby\n",
    "\n",
    "from scipy import stats as st\n",
    "from scipy.stats import normaltest\n",
    "from scipy.stats import f_oneway\n",
    "from scipy.stats import shapiro\n",
    "from scipy.stats import ttest_rel\n",
    "\n",
    "from sklearn.neighbors import KNeighborsRegressor\n",
    "from sklearn.linear_model import LinearRegression\n",
    "from sklearn.svm import SVR\n",
    "from sklearn.ensemble import RandomForestRegressor\n",
    "from sklearn.metrics import r2_score\n",
    "from sklearn.model_selection import train_test_split\n",
    "from sklearn.preprocessing import PolynomialFeatures"
   ]
  },
  {
   "cell_type": "code",
   "execution_count": 2,
   "metadata": {},
   "outputs": [
    {
     "data": {
      "text/html": [
       "<div>\n",
       "<style scoped>\n",
       "    .dataframe tbody tr th:only-of-type {\n",
       "        vertical-align: middle;\n",
       "    }\n",
       "\n",
       "    .dataframe tbody tr th {\n",
       "        vertical-align: top;\n",
       "    }\n",
       "\n",
       "    .dataframe thead th {\n",
       "        text-align: right;\n",
       "    }\n",
       "</style>\n",
       "<table border=\"1\" class=\"dataframe\">\n",
       "  <thead>\n",
       "    <tr style=\"text-align: right;\">\n",
       "      <th></th>\n",
       "      <th>Rank</th>\n",
       "      <th>Name</th>\n",
       "      <th>basename</th>\n",
       "      <th>Genre</th>\n",
       "      <th>ESRB_Rating</th>\n",
       "      <th>Platform</th>\n",
       "      <th>Publisher</th>\n",
       "      <th>Developer</th>\n",
       "      <th>VGChartz_Score</th>\n",
       "      <th>Critic_Score</th>\n",
       "      <th>...</th>\n",
       "      <th>NA_Sales</th>\n",
       "      <th>PAL_Sales</th>\n",
       "      <th>JP_Sales</th>\n",
       "      <th>Other_Sales</th>\n",
       "      <th>Year</th>\n",
       "      <th>Last_Update</th>\n",
       "      <th>url</th>\n",
       "      <th>status</th>\n",
       "      <th>Vgchartzscore</th>\n",
       "      <th>img_url</th>\n",
       "    </tr>\n",
       "  </thead>\n",
       "  <tbody>\n",
       "    <tr>\n",
       "      <th>0</th>\n",
       "      <td>1</td>\n",
       "      <td>Wii Sports</td>\n",
       "      <td>wii-sports</td>\n",
       "      <td>Sports</td>\n",
       "      <td>E</td>\n",
       "      <td>Wii</td>\n",
       "      <td>Nintendo</td>\n",
       "      <td>Nintendo EAD</td>\n",
       "      <td>NaN</td>\n",
       "      <td>7.7</td>\n",
       "      <td>...</td>\n",
       "      <td>NaN</td>\n",
       "      <td>NaN</td>\n",
       "      <td>NaN</td>\n",
       "      <td>NaN</td>\n",
       "      <td>2006.0</td>\n",
       "      <td>NaN</td>\n",
       "      <td>http://www.vgchartz.com/game/2667/wii-sports/?...</td>\n",
       "      <td>1</td>\n",
       "      <td>NaN</td>\n",
       "      <td>/games/boxart/full_2258645AmericaFrontccc.jpg</td>\n",
       "    </tr>\n",
       "    <tr>\n",
       "      <th>1</th>\n",
       "      <td>2</td>\n",
       "      <td>Super Mario Bros.</td>\n",
       "      <td>super-mario-bros</td>\n",
       "      <td>Platform</td>\n",
       "      <td>NaN</td>\n",
       "      <td>NES</td>\n",
       "      <td>Nintendo</td>\n",
       "      <td>Nintendo EAD</td>\n",
       "      <td>NaN</td>\n",
       "      <td>10.0</td>\n",
       "      <td>...</td>\n",
       "      <td>NaN</td>\n",
       "      <td>NaN</td>\n",
       "      <td>NaN</td>\n",
       "      <td>NaN</td>\n",
       "      <td>1985.0</td>\n",
       "      <td>NaN</td>\n",
       "      <td>http://www.vgchartz.com/game/6455/super-mario-...</td>\n",
       "      <td>1</td>\n",
       "      <td>NaN</td>\n",
       "      <td>/games/boxart/8972270ccc.jpg</td>\n",
       "    </tr>\n",
       "    <tr>\n",
       "      <th>2</th>\n",
       "      <td>3</td>\n",
       "      <td>Mario Kart Wii</td>\n",
       "      <td>mario-kart-wii</td>\n",
       "      <td>Racing</td>\n",
       "      <td>E</td>\n",
       "      <td>Wii</td>\n",
       "      <td>Nintendo</td>\n",
       "      <td>Nintendo EAD</td>\n",
       "      <td>NaN</td>\n",
       "      <td>8.2</td>\n",
       "      <td>...</td>\n",
       "      <td>NaN</td>\n",
       "      <td>NaN</td>\n",
       "      <td>NaN</td>\n",
       "      <td>NaN</td>\n",
       "      <td>2008.0</td>\n",
       "      <td>11th Apr 18</td>\n",
       "      <td>http://www.vgchartz.com/game/6968/mario-kart-w...</td>\n",
       "      <td>1</td>\n",
       "      <td>8.7</td>\n",
       "      <td>/games/boxart/full_8932480AmericaFrontccc.jpg</td>\n",
       "    </tr>\n",
       "    <tr>\n",
       "      <th>3</th>\n",
       "      <td>4</td>\n",
       "      <td>PlayerUnknown's Battlegrounds</td>\n",
       "      <td>playerunknowns-battlegrounds</td>\n",
       "      <td>Shooter</td>\n",
       "      <td>NaN</td>\n",
       "      <td>PC</td>\n",
       "      <td>PUBG Corporation</td>\n",
       "      <td>PUBG Corporation</td>\n",
       "      <td>NaN</td>\n",
       "      <td>NaN</td>\n",
       "      <td>...</td>\n",
       "      <td>NaN</td>\n",
       "      <td>NaN</td>\n",
       "      <td>NaN</td>\n",
       "      <td>NaN</td>\n",
       "      <td>2017.0</td>\n",
       "      <td>13th Nov 18</td>\n",
       "      <td>http://www.vgchartz.com/game/215988/playerunkn...</td>\n",
       "      <td>1</td>\n",
       "      <td>NaN</td>\n",
       "      <td>/games/boxart/full_8052843AmericaFrontccc.jpg</td>\n",
       "    </tr>\n",
       "    <tr>\n",
       "      <th>4</th>\n",
       "      <td>5</td>\n",
       "      <td>Wii Sports Resort</td>\n",
       "      <td>wii-sports-resort</td>\n",
       "      <td>Sports</td>\n",
       "      <td>E</td>\n",
       "      <td>Wii</td>\n",
       "      <td>Nintendo</td>\n",
       "      <td>Nintendo EAD</td>\n",
       "      <td>NaN</td>\n",
       "      <td>8.0</td>\n",
       "      <td>...</td>\n",
       "      <td>NaN</td>\n",
       "      <td>NaN</td>\n",
       "      <td>NaN</td>\n",
       "      <td>NaN</td>\n",
       "      <td>2009.0</td>\n",
       "      <td>NaN</td>\n",
       "      <td>http://www.vgchartz.com/game/24656/wii-sports-...</td>\n",
       "      <td>1</td>\n",
       "      <td>8.8</td>\n",
       "      <td>/games/boxart/full_7295041AmericaFrontccc.jpg</td>\n",
       "    </tr>\n",
       "  </tbody>\n",
       "</table>\n",
       "<p>5 rows × 23 columns</p>\n",
       "</div>"
      ],
      "text/plain": [
       "   Rank                           Name                      basename  \\\n",
       "0     1                     Wii Sports                    wii-sports   \n",
       "1     2              Super Mario Bros.              super-mario-bros   \n",
       "2     3                 Mario Kart Wii                mario-kart-wii   \n",
       "3     4  PlayerUnknown's Battlegrounds  playerunknowns-battlegrounds   \n",
       "4     5              Wii Sports Resort             wii-sports-resort   \n",
       "\n",
       "      Genre ESRB_Rating Platform         Publisher         Developer  \\\n",
       "0    Sports           E      Wii          Nintendo      Nintendo EAD   \n",
       "1  Platform         NaN      NES          Nintendo      Nintendo EAD   \n",
       "2    Racing           E      Wii          Nintendo      Nintendo EAD   \n",
       "3   Shooter         NaN       PC  PUBG Corporation  PUBG Corporation   \n",
       "4    Sports           E      Wii          Nintendo      Nintendo EAD   \n",
       "\n",
       "   VGChartz_Score  Critic_Score  ...  NA_Sales  PAL_Sales  JP_Sales  \\\n",
       "0             NaN           7.7  ...       NaN        NaN       NaN   \n",
       "1             NaN          10.0  ...       NaN        NaN       NaN   \n",
       "2             NaN           8.2  ...       NaN        NaN       NaN   \n",
       "3             NaN           NaN  ...       NaN        NaN       NaN   \n",
       "4             NaN           8.0  ...       NaN        NaN       NaN   \n",
       "\n",
       "   Other_Sales    Year  Last_Update  \\\n",
       "0          NaN  2006.0          NaN   \n",
       "1          NaN  1985.0          NaN   \n",
       "2          NaN  2008.0  11th Apr 18   \n",
       "3          NaN  2017.0  13th Nov 18   \n",
       "4          NaN  2009.0          NaN   \n",
       "\n",
       "                                                 url  status Vgchartzscore  \\\n",
       "0  http://www.vgchartz.com/game/2667/wii-sports/?...       1           NaN   \n",
       "1  http://www.vgchartz.com/game/6455/super-mario-...       1           NaN   \n",
       "2  http://www.vgchartz.com/game/6968/mario-kart-w...       1           8.7   \n",
       "3  http://www.vgchartz.com/game/215988/playerunkn...       1           NaN   \n",
       "4  http://www.vgchartz.com/game/24656/wii-sports-...       1           8.8   \n",
       "\n",
       "                                         img_url  \n",
       "0  /games/boxart/full_2258645AmericaFrontccc.jpg  \n",
       "1                   /games/boxart/8972270ccc.jpg  \n",
       "2  /games/boxart/full_8932480AmericaFrontccc.jpg  \n",
       "3  /games/boxart/full_8052843AmericaFrontccc.jpg  \n",
       "4  /games/boxart/full_7295041AmericaFrontccc.jpg  \n",
       "\n",
       "[5 rows x 23 columns]"
      ]
     },
     "execution_count": 2,
     "metadata": {},
     "output_type": "execute_result"
    }
   ],
   "source": [
    "video_games_df = pd.read_csv('video_games_sales.csv')\n",
    "video_games_df.head()"
   ]
  },
  {
   "cell_type": "code",
   "execution_count": 3,
   "metadata": {},
   "outputs": [
    {
     "name": "stdout",
     "output_type": "stream",
     "text": [
      "<class 'pandas.core.frame.DataFrame'>\n",
      "RangeIndex: 55792 entries, 0 to 55791\n",
      "Data columns (total 23 columns):\n",
      " #   Column          Non-Null Count  Dtype  \n",
      "---  ------          --------------  -----  \n",
      " 0   Rank            55792 non-null  int64  \n",
      " 1   Name            55792 non-null  object \n",
      " 2   basename        55792 non-null  object \n",
      " 3   Genre           55792 non-null  object \n",
      " 4   ESRB_Rating     23623 non-null  object \n",
      " 5   Platform        55792 non-null  object \n",
      " 6   Publisher       55792 non-null  object \n",
      " 7   Developer       55775 non-null  object \n",
      " 8   VGChartz_Score  0 non-null      float64\n",
      " 9   Critic_Score    6536 non-null   float64\n",
      " 10  User_Score      335 non-null    float64\n",
      " 11  Total_Shipped   1827 non-null   float64\n",
      " 12  Global_Sales    19415 non-null  float64\n",
      " 13  NA_Sales        12964 non-null  float64\n",
      " 14  PAL_Sales       13189 non-null  float64\n",
      " 15  JP_Sales        7043 non-null   float64\n",
      " 16  Other_Sales     15522 non-null  float64\n",
      " 17  Year            54813 non-null  float64\n",
      " 18  Last_Update     9186 non-null   object \n",
      " 19  url             55792 non-null  object \n",
      " 20  status          55792 non-null  int64  \n",
      " 21  Vgchartzscore   799 non-null    float64\n",
      " 22  img_url         55792 non-null  object \n",
      "dtypes: float64(11), int64(2), object(10)\n",
      "memory usage: 9.8+ MB\n"
     ]
    }
   ],
   "source": [
    "video_games_df.info()"
   ]
  },
  {
   "cell_type": "markdown",
   "metadata": {},
   "source": [
    "## Анализ игр "
   ]
  },
  {
   "cell_type": "markdown",
   "metadata": {},
   "source": [
    "### Как критики относятся к спортивным играм?"
   ]
  },
  {
   "cell_type": "markdown",
   "metadata": {},
   "source": [
    "Нас поджидает небольшая проблема. Из 55792 записей оценки критиков стоят только у 6536. Оценить результаты на основании чуть более 10% данных это как-то не круто. Впрочем, нас интересуют оценки только за спортивные игры, надо посмотреть, как там с этим у критиков. "
   ]
  },
  {
   "cell_type": "code",
   "execution_count": 4,
   "metadata": {},
   "outputs": [
    {
     "name": "stdout",
     "output_type": "stream",
     "text": [
      "<class 'pandas.core.frame.DataFrame'>\n",
      "Int64Index: 5244 entries, 0 to 55719\n",
      "Data columns (total 23 columns):\n",
      " #   Column          Non-Null Count  Dtype  \n",
      "---  ------          --------------  -----  \n",
      " 0   Rank            5244 non-null   int64  \n",
      " 1   Name            5244 non-null   object \n",
      " 2   basename        5244 non-null   object \n",
      " 3   Genre           5244 non-null   object \n",
      " 4   ESRB_Rating     2934 non-null   object \n",
      " 5   Platform        5244 non-null   object \n",
      " 6   Publisher       5244 non-null   object \n",
      " 7   Developer       5244 non-null   object \n",
      " 8   VGChartz_Score  0 non-null      float64\n",
      " 9   Critic_Score    688 non-null    float64\n",
      " 10  User_Score      8 non-null      float64\n",
      " 11  Total_Shipped   54 non-null     float64\n",
      " 12  Global_Sales    2618 non-null   float64\n",
      " 13  NA_Sales        1985 non-null   float64\n",
      " 14  PAL_Sales       1900 non-null   float64\n",
      " 15  JP_Sales        668 non-null    float64\n",
      " 16  Other_Sales     2311 non-null   float64\n",
      " 17  Year            5211 non-null   float64\n",
      " 18  Last_Update     604 non-null    object \n",
      " 19  url             5244 non-null   object \n",
      " 20  status          5244 non-null   int64  \n",
      " 21  Vgchartzscore   40 non-null     float64\n",
      " 22  img_url         5244 non-null   object \n",
      "dtypes: float64(11), int64(2), object(10)\n",
      "memory usage: 983.2+ KB\n"
     ]
    }
   ],
   "source": [
    "sport_games_df = video_games_df[video_games_df['Genre'] == 'Sports']\n",
    "sport_games_df.info()"
   ]
  },
  {
   "cell_type": "markdown",
   "metadata": {},
   "source": [
    "В общем далее 3/4 документа - попытки (спойлер: безуспешные, но увлекательные) поправить эту проблему, а в самом конце дефолтное решение."
   ]
  },
  {
   "cell_type": "markdown",
   "metadata": {},
   "source": [
    "Нда, лучше не стало, по-прежнему имеем чуть более 10% игр, оцененных критиками. Чето они не очень постарались, придется делать за них их работу. Впрочем, юзеры постарались и того меньше - тут оценок вообще 8!!  \n",
    "Вопрос жизни, вселенной и вообще - и как нам быть. Sales и прочее как-то не шибко помогают понять ситуацию. VG Chartz Score вообще отпадный - там рейтинг указан ровно у НУЛЯ игр. Быстрая прогулка на их сайт тоже не помогла прояснить ситуацию - там сходу у первой 10ки самых кассовых игр всех времен и народов VGChartz_Score = NaN. Ну офигеть теперь. Все приходится делать руками.  \n",
    "Ок, давайте попытаемся понять, от чего в большей степени может зависеть рейтинг игр и спрогнозировать его.  "
   ]
  },
  {
   "cell_type": "code",
   "execution_count": 5,
   "metadata": {},
   "outputs": [
    {
     "name": "stdout",
     "output_type": "stream",
     "text": [
      "<class 'pandas.core.frame.DataFrame'>\n",
      "RangeIndex: 688 entries, 0 to 687\n",
      "Data columns (total 23 columns):\n",
      " #   Column          Non-Null Count  Dtype  \n",
      "---  ------          --------------  -----  \n",
      " 0   Rank            688 non-null    int64  \n",
      " 1   Name            688 non-null    object \n",
      " 2   basename        688 non-null    object \n",
      " 3   Genre           688 non-null    object \n",
      " 4   ESRB_Rating     653 non-null    object \n",
      " 5   Platform        688 non-null    object \n",
      " 6   Publisher       688 non-null    object \n",
      " 7   Developer       688 non-null    object \n",
      " 8   VGChartz_Score  0 non-null      float64\n",
      " 9   Critic_Score    688 non-null    float64\n",
      " 10  User_Score      4 non-null      float64\n",
      " 11  Total_Shipped   27 non-null     float64\n",
      " 12  Global_Sales    545 non-null    float64\n",
      " 13  NA_Sales        516 non-null    float64\n",
      " 14  PAL_Sales       472 non-null    float64\n",
      " 15  JP_Sales        125 non-null    float64\n",
      " 16  Other_Sales     537 non-null    float64\n",
      " 17  Year            686 non-null    float64\n",
      " 18  Last_Update     89 non-null     object \n",
      " 19  url             688 non-null    object \n",
      " 20  status          688 non-null    int64  \n",
      " 21  Vgchartzscore   27 non-null     float64\n",
      " 22  img_url         688 non-null    object \n",
      "dtypes: float64(11), int64(2), object(10)\n",
      "memory usage: 123.8+ KB\n"
     ]
    }
   ],
   "source": [
    "# выкинем все строки в которых не определен рейтинг критиков\n",
    "critics_df = sport_games_df.dropna(subset=['Critic_Score'])\n",
    "critics_df = critics_df.reset_index(drop=True)\n",
    "critics_df.info()\n"
   ]
  },
  {
   "cell_type": "markdown",
   "metadata": {},
   "source": [
    "А что такое ESRB и какой он бывает?"
   ]
  },
  {
   "cell_type": "code",
   "execution_count": 6,
   "metadata": {},
   "outputs": [
    {
     "data": {
      "text/plain": [
       "{'E', 'E10', 'M', 'T', nan}"
      ]
     },
     "execution_count": 6,
     "metadata": {},
     "output_type": "execute_result"
    }
   ],
   "source": [
    "set(list(critics_df['ESRB_Rating']))"
   ]
  },
  {
   "cell_type": "markdown",
   "metadata": {},
   "source": [
    "Тьфу, это возрастной рейтинг. Так, ладно, оно нам не поможет. Хотя хотел бы я знать, что за спортивные игры содержат \"жестокое насилие, большое количество крови с расчленением, непристойные сексуальные сцены или грубую ненормативную лексику\". Неужели они сделали симулятор ММА? "
   ]
  },
  {
   "cell_type": "markdown",
   "metadata": {},
   "source": [
    "Выкинем все мусорные столбцы типа названия жанра, он у нас и так определен, и начнем, помолясь"
   ]
  },
  {
   "cell_type": "code",
   "execution_count": 7,
   "metadata": {},
   "outputs": [
    {
     "name": "stdout",
     "output_type": "stream",
     "text": [
      "<class 'pandas.core.frame.DataFrame'>\n",
      "RangeIndex: 688 entries, 0 to 687\n",
      "Data columns (total 14 columns):\n",
      " #   Column         Non-Null Count  Dtype  \n",
      "---  ------         --------------  -----  \n",
      " 0   Rank           688 non-null    int64  \n",
      " 1   Platform       688 non-null    object \n",
      " 2   Publisher      688 non-null    object \n",
      " 3   Developer      688 non-null    object \n",
      " 4   Critic_Score   688 non-null    float64\n",
      " 5   User_Score     4 non-null      float64\n",
      " 6   Total_Shipped  27 non-null     float64\n",
      " 7   Global_Sales   545 non-null    float64\n",
      " 8   NA_Sales       516 non-null    float64\n",
      " 9   PAL_Sales      472 non-null    float64\n",
      " 10  JP_Sales       125 non-null    float64\n",
      " 11  Other_Sales    537 non-null    float64\n",
      " 12  Year           686 non-null    float64\n",
      " 13  Vgchartzscore  27 non-null     float64\n",
      "dtypes: float64(10), int64(1), object(3)\n",
      "memory usage: 75.4+ KB\n"
     ]
    }
   ],
   "source": [
    "corr_df = critics_df.drop(critics_df.columns[[1, 2, 3, 4, 8, 18, 19, 20, 22]], axis='columns')\n",
    "corr_df.info()"
   ]
  },
  {
   "cell_type": "markdown",
   "metadata": {},
   "source": [
    "Перед тем как искать корреляцию, глянем на распределение и выбросы продаж"
   ]
  },
  {
   "cell_type": "code",
   "execution_count": 8,
   "metadata": {},
   "outputs": [
    {
     "data": {
      "text/plain": [
       "<AxesSubplot:>"
      ]
     },
     "execution_count": 8,
     "metadata": {},
     "output_type": "execute_result"
    },
    {
     "data": {
      "image/png": "[encoded data removed]",
      "text/plain": [
       "<Figure size 432x288 with 1 Axes>"
      ]
     },
     "metadata": {
      "needs_background": "light"
     },
     "output_type": "display_data"
    }
   ],
   "source": [
    "corr_df.boxplot(column=['Global_Sales'])"
   ]
  },
  {
   "cell_type": "code",
   "execution_count": 9,
   "metadata": {},
   "outputs": [
    {
     "data": {
      "text/plain": [
       "<AxesSubplot:>"
      ]
     },
     "execution_count": 9,
     "metadata": {},
     "output_type": "execute_result"
    },
    {
     "data": {
      "image/png": "[encoded data removed]",
      "text/plain": [
       "<Figure size 432x288 with 1 Axes>"
      ]
     },
     "metadata": {
      "needs_background": "light"
     },
     "output_type": "display_data"
    }
   ],
   "source": [
    "corr_df.boxplot(column=['NA_Sales'])"
   ]
  },
  {
   "cell_type": "code",
   "execution_count": 10,
   "metadata": {},
   "outputs": [
    {
     "data": {
      "text/plain": [
       "<AxesSubplot:>"
      ]
     },
     "execution_count": 10,
     "metadata": {},
     "output_type": "execute_result"
    },
    {
     "data": {
      "image/png": "[encoded data removed]",
      "text/plain": [
       "<Figure size 432x288 with 1 Axes>"
      ]
     },
     "metadata": {
      "needs_background": "light"
     },
     "output_type": "display_data"
    }
   ],
   "source": [
    "corr_df.boxplot(column=['PAL_Sales'])"
   ]
  },
  {
   "cell_type": "code",
   "execution_count": 11,
   "metadata": {},
   "outputs": [
    {
     "data": {
      "image/png": "[encoded data removed]",
      "text/plain": [
       "<Figure size 432x288 with 1 Axes>"
      ]
     },
     "metadata": {
      "needs_background": "light"
     },
     "output_type": "display_data"
    }
   ],
   "source": [
    "sns_plot = sns.distplot(corr_df['Global_Sales'])\n",
    "fig = sns_plot.get_figure()"
   ]
  },
  {
   "cell_type": "code",
   "execution_count": 12,
   "metadata": {},
   "outputs": [
    {
     "data": {
      "image/png": "[encoded data removed]",
      "text/plain": [
       "<Figure size 432x288 with 1 Axes>"
      ]
     },
     "metadata": {
      "needs_background": "light"
     },
     "output_type": "display_data"
    }
   ],
   "source": [
    "sns_plot = sns.distplot(corr_df['NA_Sales'])\n",
    "fig = sns_plot.get_figure()"
   ]
  },
  {
   "cell_type": "code",
   "execution_count": 13,
   "metadata": {},
   "outputs": [
    {
     "data": {
      "image/png": "[encoded data removed]",
      "text/plain": [
       "<Figure size 432x288 with 1 Axes>"
      ]
     },
     "metadata": {
      "needs_background": "light"
     },
     "output_type": "display_data"
    }
   ],
   "source": [
    "sns_plot = sns.distplot(corr_df['PAL_Sales'])\n",
    "fig = sns_plot.get_figure()"
   ]
  },
  {
   "cell_type": "markdown",
   "metadata": {},
   "source": [
    "Ндааа, наше распределение мягко говоря далековато от нормального"
   ]
  },
  {
   "cell_type": "markdown",
   "metadata": {},
   "source": [
    "Давайте попробуем выкинуть самые самые аномально хайповые продажи, это немного улучшит картину"
   ]
  },
  {
   "cell_type": "code",
   "execution_count": 14,
   "metadata": {},
   "outputs": [
    {
     "data": {
      "text/plain": [
       "<AxesSubplot:>"
      ]
     },
     "execution_count": 14,
     "metadata": {},
     "output_type": "execute_result"
    },
    {
     "data": {
      "image/png": "[encoded data removed]",
      "text/plain": [
       "<Figure size 432x288 with 1 Axes>"
      ]
     },
     "metadata": {
      "needs_background": "light"
     },
     "output_type": "display_data"
    }
   ],
   "source": [
    "corr_df.boxplot(column=['Global_Sales'])"
   ]
  },
  {
   "cell_type": "code",
   "execution_count": 15,
   "metadata": {},
   "outputs": [
    {
     "data": {
      "text/html": [
       "<div>\n",
       "<style scoped>\n",
       "    .dataframe tbody tr th:only-of-type {\n",
       "        vertical-align: middle;\n",
       "    }\n",
       "\n",
       "    .dataframe tbody tr th {\n",
       "        vertical-align: top;\n",
       "    }\n",
       "\n",
       "    .dataframe thead th {\n",
       "        text-align: right;\n",
       "    }\n",
       "</style>\n",
       "<table border=\"1\" class=\"dataframe\">\n",
       "  <thead>\n",
       "    <tr style=\"text-align: right;\">\n",
       "      <th></th>\n",
       "      <th>Rank</th>\n",
       "      <th>Platform</th>\n",
       "      <th>Publisher</th>\n",
       "      <th>Developer</th>\n",
       "      <th>Critic_Score</th>\n",
       "      <th>User_Score</th>\n",
       "      <th>Total_Shipped</th>\n",
       "      <th>Global_Sales</th>\n",
       "      <th>NA_Sales</th>\n",
       "      <th>PAL_Sales</th>\n",
       "      <th>JP_Sales</th>\n",
       "      <th>Other_Sales</th>\n",
       "      <th>Year</th>\n",
       "      <th>Vgchartzscore</th>\n",
       "    </tr>\n",
       "  </thead>\n",
       "  <tbody>\n",
       "    <tr>\n",
       "      <th>34</th>\n",
       "      <td>422</td>\n",
       "      <td>PS2</td>\n",
       "      <td>Konami</td>\n",
       "      <td>Konami</td>\n",
       "      <td>8.2</td>\n",
       "      <td>NaN</td>\n",
       "      <td>NaN</td>\n",
       "      <td>3.63</td>\n",
       "      <td>0.05</td>\n",
       "      <td>0.00</td>\n",
       "      <td>0.64</td>\n",
       "      <td>2.93</td>\n",
       "      <td>2008.0</td>\n",
       "      <td>NaN</td>\n",
       "    </tr>\n",
       "    <tr>\n",
       "      <th>4</th>\n",
       "      <td>69</td>\n",
       "      <td>PS4</td>\n",
       "      <td>EA Sports</td>\n",
       "      <td>EA Vancouver</td>\n",
       "      <td>8.3</td>\n",
       "      <td>NaN</td>\n",
       "      <td>NaN</td>\n",
       "      <td>11.80</td>\n",
       "      <td>1.27</td>\n",
       "      <td>8.64</td>\n",
       "      <td>0.15</td>\n",
       "      <td>1.73</td>\n",
       "      <td>2017.0</td>\n",
       "      <td>NaN</td>\n",
       "    </tr>\n",
       "    <tr>\n",
       "      <th>5</th>\n",
       "      <td>77</td>\n",
       "      <td>PS4</td>\n",
       "      <td>Electronic Arts</td>\n",
       "      <td>EA Canada</td>\n",
       "      <td>8.9</td>\n",
       "      <td>NaN</td>\n",
       "      <td>NaN</td>\n",
       "      <td>10.94</td>\n",
       "      <td>1.26</td>\n",
       "      <td>7.95</td>\n",
       "      <td>0.12</td>\n",
       "      <td>1.61</td>\n",
       "      <td>2016.0</td>\n",
       "      <td>NaN</td>\n",
       "    </tr>\n",
       "    <tr>\n",
       "      <th>7</th>\n",
       "      <td>154</td>\n",
       "      <td>PS3</td>\n",
       "      <td>EA Sports</td>\n",
       "      <td>EA Canada</td>\n",
       "      <td>9.2</td>\n",
       "      <td>NaN</td>\n",
       "      <td>NaN</td>\n",
       "      <td>6.65</td>\n",
       "      <td>0.84</td>\n",
       "      <td>4.33</td>\n",
       "      <td>0.11</td>\n",
       "      <td>1.37</td>\n",
       "      <td>2011.0</td>\n",
       "      <td>NaN</td>\n",
       "    </tr>\n",
       "    <tr>\n",
       "      <th>6</th>\n",
       "      <td>119</td>\n",
       "      <td>PS4</td>\n",
       "      <td>EA Sports</td>\n",
       "      <td>EA Canada</td>\n",
       "      <td>8.5</td>\n",
       "      <td>NaN</td>\n",
       "      <td>NaN</td>\n",
       "      <td>8.22</td>\n",
       "      <td>1.15</td>\n",
       "      <td>5.77</td>\n",
       "      <td>0.07</td>\n",
       "      <td>1.23</td>\n",
       "      <td>2015.0</td>\n",
       "      <td>NaN</td>\n",
       "    </tr>\n",
       "    <tr>\n",
       "      <th>116</th>\n",
       "      <td>1386</td>\n",
       "      <td>PS2</td>\n",
       "      <td>Konami</td>\n",
       "      <td>Konami</td>\n",
       "      <td>7.2</td>\n",
       "      <td>NaN</td>\n",
       "      <td>NaN</td>\n",
       "      <td>1.57</td>\n",
       "      <td>0.10</td>\n",
       "      <td>0.18</td>\n",
       "      <td>0.12</td>\n",
       "      <td>1.16</td>\n",
       "      <td>2009.0</td>\n",
       "      <td>NaN</td>\n",
       "    </tr>\n",
       "    <tr>\n",
       "      <th>11</th>\n",
       "      <td>248</td>\n",
       "      <td>PS3</td>\n",
       "      <td>EA Sports</td>\n",
       "      <td>EA Canada</td>\n",
       "      <td>8.7</td>\n",
       "      <td>NaN</td>\n",
       "      <td>NaN</td>\n",
       "      <td>5.08</td>\n",
       "      <td>0.61</td>\n",
       "      <td>3.28</td>\n",
       "      <td>0.06</td>\n",
       "      <td>1.12</td>\n",
       "      <td>2010.0</td>\n",
       "      <td>NaN</td>\n",
       "    </tr>\n",
       "    <tr>\n",
       "      <th>8</th>\n",
       "      <td>168</td>\n",
       "      <td>PS4</td>\n",
       "      <td>EA Sports</td>\n",
       "      <td>EA Canada</td>\n",
       "      <td>8.1</td>\n",
       "      <td>NaN</td>\n",
       "      <td>NaN</td>\n",
       "      <td>6.32</td>\n",
       "      <td>0.83</td>\n",
       "      <td>4.49</td>\n",
       "      <td>0.05</td>\n",
       "      <td>0.94</td>\n",
       "      <td>2014.0</td>\n",
       "      <td>NaN</td>\n",
       "    </tr>\n",
       "    <tr>\n",
       "      <th>24</th>\n",
       "      <td>357</td>\n",
       "      <td>PS2</td>\n",
       "      <td>EA Sports</td>\n",
       "      <td>Team Fusion</td>\n",
       "      <td>8.4</td>\n",
       "      <td>NaN</td>\n",
       "      <td>NaN</td>\n",
       "      <td>4.11</td>\n",
       "      <td>0.71</td>\n",
       "      <td>2.48</td>\n",
       "      <td>0.03</td>\n",
       "      <td>0.89</td>\n",
       "      <td>2006.0</td>\n",
       "      <td>NaN</td>\n",
       "    </tr>\n",
       "    <tr>\n",
       "      <th>20</th>\n",
       "      <td>316</td>\n",
       "      <td>PS2</td>\n",
       "      <td>Konami</td>\n",
       "      <td>Konami Computer Entertainment Tokyo</td>\n",
       "      <td>8.8</td>\n",
       "      <td>NaN</td>\n",
       "      <td>NaN</td>\n",
       "      <td>4.39</td>\n",
       "      <td>0.10</td>\n",
       "      <td>2.39</td>\n",
       "      <td>1.05</td>\n",
       "      <td>0.86</td>\n",
       "      <td>2007.0</td>\n",
       "      <td>NaN</td>\n",
       "    </tr>\n",
       "  </tbody>\n",
       "</table>\n",
       "</div>"
      ],
      "text/plain": [
       "     Rank Platform        Publisher                            Developer  \\\n",
       "34    422      PS2           Konami                               Konami   \n",
       "4      69      PS4        EA Sports                         EA Vancouver   \n",
       "5      77      PS4  Electronic Arts                            EA Canada   \n",
       "7     154      PS3        EA Sports                            EA Canada   \n",
       "6     119      PS4        EA Sports                            EA Canada   \n",
       "116  1386      PS2           Konami                               Konami   \n",
       "11    248      PS3        EA Sports                            EA Canada   \n",
       "8     168      PS4        EA Sports                            EA Canada   \n",
       "24    357      PS2        EA Sports                          Team Fusion   \n",
       "20    316      PS2           Konami  Konami Computer Entertainment Tokyo   \n",
       "\n",
       "     Critic_Score  User_Score  Total_Shipped  Global_Sales  NA_Sales  \\\n",
       "34            8.2         NaN            NaN          3.63      0.05   \n",
       "4             8.3         NaN            NaN         11.80      1.27   \n",
       "5             8.9         NaN            NaN         10.94      1.26   \n",
       "7             9.2         NaN            NaN          6.65      0.84   \n",
       "6             8.5         NaN            NaN          8.22      1.15   \n",
       "116           7.2         NaN            NaN          1.57      0.10   \n",
       "11            8.7         NaN            NaN          5.08      0.61   \n",
       "8             8.1         NaN            NaN          6.32      0.83   \n",
       "24            8.4         NaN            NaN          4.11      0.71   \n",
       "20            8.8         NaN            NaN          4.39      0.10   \n",
       "\n",
       "     PAL_Sales  JP_Sales  Other_Sales    Year  Vgchartzscore  \n",
       "34        0.00      0.64         2.93  2008.0            NaN  \n",
       "4         8.64      0.15         1.73  2017.0            NaN  \n",
       "5         7.95      0.12         1.61  2016.0            NaN  \n",
       "7         4.33      0.11         1.37  2011.0            NaN  \n",
       "6         5.77      0.07         1.23  2015.0            NaN  \n",
       "116       0.18      0.12         1.16  2009.0            NaN  \n",
       "11        3.28      0.06         1.12  2010.0            NaN  \n",
       "8         4.49      0.05         0.94  2014.0            NaN  \n",
       "24        2.48      0.03         0.89  2006.0            NaN  \n",
       "20        2.39      1.05         0.86  2007.0            NaN  "
      ]
     },
     "execution_count": 15,
     "metadata": {},
     "output_type": "execute_result"
    }
   ],
   "source": [
    "corr_df_sorted = corr_df.sort_values(\"Other_Sales\", ascending=False)\n",
    "corr_df_sorted.head(10)"
   ]
  },
  {
   "cell_type": "code",
   "execution_count": 16,
   "metadata": {},
   "outputs": [],
   "source": [
    "corr_df.drop(corr_df[corr_df.Total_Shipped > 10].index, inplace=True)\n",
    "corr_df.drop(corr_df[corr_df.Global_Sales > 7].index, inplace=True)\n",
    "corr_df.drop(corr_df[corr_df.NA_Sales > 4].index, inplace=True)\n",
    "corr_df.drop(corr_df[corr_df.PAL_Sales > 5].index, inplace=True)\n",
    "corr_df.drop(corr_df[corr_df.Other_Sales > 1.5].index, inplace=True)\n"
   ]
  },
  {
   "cell_type": "code",
   "execution_count": 17,
   "metadata": {},
   "outputs": [
    {
     "data": {
      "text/plain": [
       "<AxesSubplot:>"
      ]
     },
     "execution_count": 17,
     "metadata": {},
     "output_type": "execute_result"
    },
    {
     "data": {
      "image/png": "[encoded data removed]",
      "text/plain": [
       "<Figure size 432x288 with 1 Axes>"
      ]
     },
     "metadata": {
      "needs_background": "light"
     },
     "output_type": "display_data"
    }
   ],
   "source": [
    "corr_df.boxplot(column=['Global_Sales'])"
   ]
  },
  {
   "cell_type": "code",
   "execution_count": 18,
   "metadata": {},
   "outputs": [
    {
     "data": {
      "image/png": "[encoded data removed]",
      "text/plain": [
       "<Figure size 432x288 with 1 Axes>"
      ]
     },
     "metadata": {
      "needs_background": "light"
     },
     "output_type": "display_data"
    }
   ],
   "source": [
    "sns_plot = sns.distplot(corr_df['Global_Sales'])\n",
    "fig = sns_plot.get_figure()"
   ]
  },
  {
   "cell_type": "code",
   "execution_count": 19,
   "metadata": {},
   "outputs": [
    {
     "data": {
      "text/html": [
       "<div>\n",
       "<style scoped>\n",
       "    .dataframe tbody tr th:only-of-type {\n",
       "        vertical-align: middle;\n",
       "    }\n",
       "\n",
       "    .dataframe tbody tr th {\n",
       "        vertical-align: top;\n",
       "    }\n",
       "\n",
       "    .dataframe thead th {\n",
       "        text-align: right;\n",
       "    }\n",
       "</style>\n",
       "<table border=\"1\" class=\"dataframe\">\n",
       "  <thead>\n",
       "    <tr style=\"text-align: right;\">\n",
       "      <th></th>\n",
       "      <th>Rank</th>\n",
       "      <th>Critic_Score</th>\n",
       "      <th>User_Score</th>\n",
       "      <th>Total_Shipped</th>\n",
       "      <th>Global_Sales</th>\n",
       "      <th>NA_Sales</th>\n",
       "      <th>PAL_Sales</th>\n",
       "      <th>JP_Sales</th>\n",
       "      <th>Other_Sales</th>\n",
       "      <th>Year</th>\n",
       "      <th>Vgchartzscore</th>\n",
       "    </tr>\n",
       "  </thead>\n",
       "  <tbody>\n",
       "    <tr>\n",
       "      <th>Rank</th>\n",
       "      <td>1.000000</td>\n",
       "      <td>-0.357174</td>\n",
       "      <td>-0.5</td>\n",
       "      <td>-0.999506</td>\n",
       "      <td>-0.999937</td>\n",
       "      <td>-0.824548</td>\n",
       "      <td>-0.752156</td>\n",
       "      <td>-0.206052</td>\n",
       "      <td>-0.913258</td>\n",
       "      <td>-0.326472</td>\n",
       "      <td>-0.436371</td>\n",
       "    </tr>\n",
       "    <tr>\n",
       "      <th>Critic_Score</th>\n",
       "      <td>-0.357174</td>\n",
       "      <td>1.000000</td>\n",
       "      <td>-0.5</td>\n",
       "      <td>-0.218758</td>\n",
       "      <td>0.401709</td>\n",
       "      <td>0.419956</td>\n",
       "      <td>0.266115</td>\n",
       "      <td>-0.019468</td>\n",
       "      <td>0.267092</td>\n",
       "      <td>-0.081744</td>\n",
       "      <td>0.861828</td>\n",
       "    </tr>\n",
       "    <tr>\n",
       "      <th>User_Score</th>\n",
       "      <td>-0.500000</td>\n",
       "      <td>-0.500000</td>\n",
       "      <td>1.0</td>\n",
       "      <td>NaN</td>\n",
       "      <td>0.500000</td>\n",
       "      <td>0.500000</td>\n",
       "      <td>1.000000</td>\n",
       "      <td>NaN</td>\n",
       "      <td>0.500000</td>\n",
       "      <td>1.000000</td>\n",
       "      <td>NaN</td>\n",
       "    </tr>\n",
       "    <tr>\n",
       "      <th>Total_Shipped</th>\n",
       "      <td>-0.999506</td>\n",
       "      <td>-0.218758</td>\n",
       "      <td>NaN</td>\n",
       "      <td>1.000000</td>\n",
       "      <td>NaN</td>\n",
       "      <td>NaN</td>\n",
       "      <td>NaN</td>\n",
       "      <td>NaN</td>\n",
       "      <td>NaN</td>\n",
       "      <td>0.167907</td>\n",
       "      <td>NaN</td>\n",
       "    </tr>\n",
       "    <tr>\n",
       "      <th>Global_Sales</th>\n",
       "      <td>-0.999937</td>\n",
       "      <td>0.401709</td>\n",
       "      <td>0.5</td>\n",
       "      <td>NaN</td>\n",
       "      <td>1.000000</td>\n",
       "      <td>0.824573</td>\n",
       "      <td>0.752217</td>\n",
       "      <td>0.206606</td>\n",
       "      <td>0.913230</td>\n",
       "      <td>0.335303</td>\n",
       "      <td>0.602335</td>\n",
       "    </tr>\n",
       "    <tr>\n",
       "      <th>NA_Sales</th>\n",
       "      <td>-0.824548</td>\n",
       "      <td>0.419956</td>\n",
       "      <td>0.5</td>\n",
       "      <td>NaN</td>\n",
       "      <td>0.824573</td>\n",
       "      <td>1.000000</td>\n",
       "      <td>0.394409</td>\n",
       "      <td>-0.268594</td>\n",
       "      <td>0.684864</td>\n",
       "      <td>0.252129</td>\n",
       "      <td>0.604550</td>\n",
       "    </tr>\n",
       "    <tr>\n",
       "      <th>PAL_Sales</th>\n",
       "      <td>-0.752156</td>\n",
       "      <td>0.266115</td>\n",
       "      <td>1.0</td>\n",
       "      <td>NaN</td>\n",
       "      <td>0.752217</td>\n",
       "      <td>0.394409</td>\n",
       "      <td>1.000000</td>\n",
       "      <td>0.377385</td>\n",
       "      <td>0.735398</td>\n",
       "      <td>0.379033</td>\n",
       "      <td>0.355955</td>\n",
       "    </tr>\n",
       "    <tr>\n",
       "      <th>JP_Sales</th>\n",
       "      <td>-0.206052</td>\n",
       "      <td>-0.019468</td>\n",
       "      <td>NaN</td>\n",
       "      <td>NaN</td>\n",
       "      <td>0.206606</td>\n",
       "      <td>-0.268594</td>\n",
       "      <td>0.377385</td>\n",
       "      <td>1.000000</td>\n",
       "      <td>0.228181</td>\n",
       "      <td>0.103203</td>\n",
       "      <td>0.271672</td>\n",
       "    </tr>\n",
       "    <tr>\n",
       "      <th>Other_Sales</th>\n",
       "      <td>-0.913258</td>\n",
       "      <td>0.267092</td>\n",
       "      <td>0.5</td>\n",
       "      <td>NaN</td>\n",
       "      <td>0.913230</td>\n",
       "      <td>0.684864</td>\n",
       "      <td>0.735398</td>\n",
       "      <td>0.228181</td>\n",
       "      <td>1.000000</td>\n",
       "      <td>0.486111</td>\n",
       "      <td>0.546027</td>\n",
       "    </tr>\n",
       "    <tr>\n",
       "      <th>Year</th>\n",
       "      <td>-0.326472</td>\n",
       "      <td>-0.081744</td>\n",
       "      <td>1.0</td>\n",
       "      <td>0.167907</td>\n",
       "      <td>0.335303</td>\n",
       "      <td>0.252129</td>\n",
       "      <td>0.379033</td>\n",
       "      <td>0.103203</td>\n",
       "      <td>0.486111</td>\n",
       "      <td>1.000000</td>\n",
       "      <td>-0.000843</td>\n",
       "    </tr>\n",
       "    <tr>\n",
       "      <th>Vgchartzscore</th>\n",
       "      <td>-0.436371</td>\n",
       "      <td>0.861828</td>\n",
       "      <td>NaN</td>\n",
       "      <td>NaN</td>\n",
       "      <td>0.602335</td>\n",
       "      <td>0.604550</td>\n",
       "      <td>0.355955</td>\n",
       "      <td>0.271672</td>\n",
       "      <td>0.546027</td>\n",
       "      <td>-0.000843</td>\n",
       "      <td>1.000000</td>\n",
       "    </tr>\n",
       "  </tbody>\n",
       "</table>\n",
       "</div>"
      ],
      "text/plain": [
       "                   Rank  Critic_Score  User_Score  Total_Shipped  \\\n",
       "Rank           1.000000     -0.357174        -0.5      -0.999506   \n",
       "Critic_Score  -0.357174      1.000000        -0.5      -0.218758   \n",
       "User_Score    -0.500000     -0.500000         1.0            NaN   \n",
       "Total_Shipped -0.999506     -0.218758         NaN       1.000000   \n",
       "Global_Sales  -0.999937      0.401709         0.5            NaN   \n",
       "NA_Sales      -0.824548      0.419956         0.5            NaN   \n",
       "PAL_Sales     -0.752156      0.266115         1.0            NaN   \n",
       "JP_Sales      -0.206052     -0.019468         NaN            NaN   \n",
       "Other_Sales   -0.913258      0.267092         0.5            NaN   \n",
       "Year          -0.326472     -0.081744         1.0       0.167907   \n",
       "Vgchartzscore -0.436371      0.861828         NaN            NaN   \n",
       "\n",
       "               Global_Sales  NA_Sales  PAL_Sales  JP_Sales  Other_Sales  \\\n",
       "Rank              -0.999937 -0.824548  -0.752156 -0.206052    -0.913258   \n",
       "Critic_Score       0.401709  0.419956   0.266115 -0.019468     0.267092   \n",
       "User_Score         0.500000  0.500000   1.000000       NaN     0.500000   \n",
       "Total_Shipped           NaN       NaN        NaN       NaN          NaN   \n",
       "Global_Sales       1.000000  0.824573   0.752217  0.206606     0.913230   \n",
       "NA_Sales           0.824573  1.000000   0.394409 -0.268594     0.684864   \n",
       "PAL_Sales          0.752217  0.394409   1.000000  0.377385     0.735398   \n",
       "JP_Sales           0.206606 -0.268594   0.377385  1.000000     0.228181   \n",
       "Other_Sales        0.913230  0.684864   0.735398  0.228181     1.000000   \n",
       "Year               0.335303  0.252129   0.379033  0.103203     0.486111   \n",
       "Vgchartzscore      0.602335  0.604550   0.355955  0.271672     0.546027   \n",
       "\n",
       "                   Year  Vgchartzscore  \n",
       "Rank          -0.326472      -0.436371  \n",
       "Critic_Score  -0.081744       0.861828  \n",
       "User_Score     1.000000            NaN  \n",
       "Total_Shipped  0.167907            NaN  \n",
       "Global_Sales   0.335303       0.602335  \n",
       "NA_Sales       0.252129       0.604550  \n",
       "PAL_Sales      0.379033       0.355955  \n",
       "JP_Sales       0.103203       0.271672  \n",
       "Other_Sales    0.486111       0.546027  \n",
       "Year           1.000000      -0.000843  \n",
       "Vgchartzscore -0.000843       1.000000  "
      ]
     },
     "execution_count": 19,
     "metadata": {},
     "output_type": "execute_result"
    }
   ],
   "source": [
    "corr_df.corr(method='spearman')"
   ]
  },
  {
   "cell_type": "code",
   "execution_count": 20,
   "metadata": {},
   "outputs": [
    {
     "data": {
      "image/png": "[encoded data removed]",
      "text/plain": [
       "<Figure size 432x288 with 2 Axes>"
      ]
     },
     "metadata": {
      "needs_background": "light"
     },
     "output_type": "display_data"
    }
   ],
   "source": [
    "cols = ['Rank', 'Critic_Score', 'Global_Sales', 'NA_Sales', 'JP_Sales', 'Other_Sales']\n",
    "hm = sns.heatmap(corr_df[cols].corr(),\n",
    "                 cbar=True,\n",
    "                 annot=True)"
   ]
  },
  {
   "cell_type": "markdown",
   "metadata": {},
   "source": [
    "Дополнительно визуализируем наиболее интересные корелляции"
   ]
  },
  {
   "cell_type": "code",
   "execution_count": 21,
   "metadata": {},
   "outputs": [
    {
     "data": {
      "text/plain": [
       "<matplotlib.collections.PathCollection at 0x1e232b0cf70>"
      ]
     },
     "execution_count": 21,
     "metadata": {},
     "output_type": "execute_result"
    },
    {
     "data": {
      "image/png": "[encoded data removed]",
      "text/plain": [
       "<Figure size 432x288 with 1 Axes>"
      ]
     },
     "metadata": {
      "needs_background": "light"
     },
     "output_type": "display_data"
    }
   ],
   "source": [
    "import matplotlib.pyplot as plt\n",
    "plt.scatter(corr_df['Critic_Score'], corr_df['Rank'])"
   ]
  },
  {
   "cell_type": "markdown",
   "metadata": {},
   "source": [
    "Нда, в общем и целом получается слабая __отрицательная__ корреляция - для примерно трети игр высокая оценка критиков означает низкие продажи. Что ж, яснее нам жить не стало"
   ]
  },
  {
   "cell_type": "code",
   "execution_count": 22,
   "metadata": {},
   "outputs": [
    {
     "data": {
      "text/plain": [
       "<matplotlib.collections.PathCollection at 0x1e232b74250>"
      ]
     },
     "execution_count": 22,
     "metadata": {},
     "output_type": "execute_result"
    },
    {
     "data": {
      "image/png": "[encoded data removed]",
      "text/plain": [
       "<Figure size 432x288 with 1 Axes>"
      ]
     },
     "metadata": {
      "needs_background": "light"
     },
     "output_type": "display_data"
    }
   ],
   "source": [
    "plt.scatter(corr_df['Critic_Score'], corr_df['Vgchartzscore'])"
   ]
  },
  {
   "cell_type": "markdown",
   "metadata": {},
   "source": [
    "а вот тут все прекрасно - высокие оценки критиков практически линейно ложаться на высокие оценки Vgchartzscore. Одна проблема - этих оценок еще меньше в 20 раз чем оценок критиков"
   ]
  },
  {
   "cell_type": "code",
   "execution_count": 23,
   "metadata": {},
   "outputs": [
    {
     "data": {
      "text/plain": [
       "<matplotlib.collections.PathCollection at 0x1e232bc7af0>"
      ]
     },
     "execution_count": 23,
     "metadata": {},
     "output_type": "execute_result"
    },
    {
     "data": {
      "image/png": "[encoded data removed]",
      "text/plain": [
       "<Figure size 432x288 with 1 Axes>"
      ]
     },
     "metadata": {
      "needs_background": "light"
     },
     "output_type": "display_data"
    }
   ],
   "source": [
    "plt.scatter(corr_df['Critic_Score'], corr_df['NA_Sales'])"
   ]
  },
  {
   "cell_type": "markdown",
   "metadata": {},
   "source": [
    "так, уже горячее - большая часть игр укладывается в параметры \"оценка критиков больше 6, NA_Sales меньше 2\". Аналогичную зависимость мы видим и в случае Global_Sales, только она чууууть менее коррелирует с рейтингом. "
   ]
  },
  {
   "cell_type": "code",
   "execution_count": 24,
   "metadata": {},
   "outputs": [
    {
     "data": {
      "text/html": [
       "<div>\n",
       "<style scoped>\n",
       "    .dataframe tbody tr th:only-of-type {\n",
       "        vertical-align: middle;\n",
       "    }\n",
       "\n",
       "    .dataframe tbody tr th {\n",
       "        vertical-align: top;\n",
       "    }\n",
       "\n",
       "    .dataframe thead th {\n",
       "        text-align: right;\n",
       "    }\n",
       "</style>\n",
       "<table border=\"1\" class=\"dataframe\">\n",
       "  <thead>\n",
       "    <tr style=\"text-align: right;\">\n",
       "      <th></th>\n",
       "      <th>Critic_Score</th>\n",
       "      <th>NA_Sales</th>\n",
       "    </tr>\n",
       "  </thead>\n",
       "  <tbody>\n",
       "    <tr>\n",
       "      <th>Critic_Score</th>\n",
       "      <td>1.000000</td>\n",
       "      <td>0.291615</td>\n",
       "    </tr>\n",
       "    <tr>\n",
       "      <th>NA_Sales</th>\n",
       "      <td>0.291615</td>\n",
       "      <td>1.000000</td>\n",
       "    </tr>\n",
       "  </tbody>\n",
       "</table>\n",
       "</div>"
      ],
      "text/plain": [
       "              Critic_Score  NA_Sales\n",
       "Critic_Score      1.000000  0.291615\n",
       "NA_Sales          0.291615  1.000000"
      ]
     },
     "execution_count": 24,
     "metadata": {},
     "output_type": "execute_result"
    }
   ],
   "source": [
    "corr_df[['Critic_Score', 'NA_Sales']].corr(method='kendall')"
   ]
  },
  {
   "cell_type": "markdown",
   "metadata": {},
   "source": [
    "По Кендаллу корреляция получается еще меньше, но все равно наблюдается. Ладно, мы сделали все что могли. Вообще по уму тут бы надо бухнуть не корреляцию, а полноценный тест Фишера что-ли, но не будем так углубляться."
   ]
  },
  {
   "cell_type": "markdown",
   "metadata": {},
   "source": [
    "Посмотрим, что будет с корреляцией по платформам и конторам, для этого позаменяем все что можно на числа"
   ]
  },
  {
   "cell_type": "markdown",
   "metadata": {},
   "source": [
    "Вот с этим я реально убился"
   ]
  },
  {
   "cell_type": "code",
   "execution_count": 25,
   "metadata": {},
   "outputs": [
    {
     "data": {
      "image/png": "[encoded data removed]",
      "text/plain": [
       "<Figure size 1440x360 with 1 Axes>"
      ]
     },
     "metadata": {
      "needs_background": "light"
     },
     "output_type": "display_data"
    }
   ],
   "source": [
    "# какие же у нас есть платформы?\n",
    "\n",
    "platform_list = set(list(critics_df['Platform']))\n",
    "h = critics_df['Platform'].hist(figsize=(20,5), bins=len(platform_list))\n",
    "fig = h.get_figure()"
   ]
  },
  {
   "cell_type": "markdown",
   "metadata": {},
   "source": [
    "Несложно видеть, что есть платформы, которые вообще фактически неизвестны людям. Давайте объединим их для упрощения работы."
   ]
  },
  {
   "cell_type": "code",
   "execution_count": 26,
   "metadata": {},
   "outputs": [],
   "source": [
    "'''\n",
    "Раз уж мы придумали себе проблему - будем весело ее решать, для этого создадим \n",
    "список всех платформ, для которых больше 10 игр\n",
    "Затем заменим в датафрейме названия всех платформ, для которых меньше 10 игр на 0, а названия\n",
    "платформ, для которых больше 10 игр, на их номер в списке платформ, почищенных от \n",
    "тех, которых меньше. Немного запутано звучит и код тоже запутанный, но получается неплохо.\n",
    "И все это ради того, что бы не писать 23 замены вручную..\n",
    "'''\n",
    "pl_count_dict = dict(Counter(list(critics_df['Platform'])))\n",
    "platforms_list = list(pl_count_dict)\n",
    "\n",
    "pl_count_copy_dict = copy.deepcopy(pl_count_dict)\n",
    "remove = [k for k in pl_count_copy_dict.keys() if pl_count_copy_dict[k] < 10]\n",
    "for k in remove: del pl_count_copy_dict[k]\n",
    "pl_count_list = list(pl_count_copy_dict)\n",
    "replace_list = []\n",
    "for k in pl_count_dict.keys():\n",
    "    if k in pl_count_list:\n",
    "        replace_list.append(pl_count_list.index(k)+1)\n",
    "    else:\n",
    "        replace_list.append(0)\n"
   ]
  },
  {
   "cell_type": "markdown",
   "metadata": {},
   "source": [
    "**Лепота!**"
   ]
  },
  {
   "cell_type": "code",
   "execution_count": 27,
   "metadata": {},
   "outputs": [
    {
     "data": {
      "text/html": [
       "<div>\n",
       "<style scoped>\n",
       "    .dataframe tbody tr th:only-of-type {\n",
       "        vertical-align: middle;\n",
       "    }\n",
       "\n",
       "    .dataframe tbody tr th {\n",
       "        vertical-align: top;\n",
       "    }\n",
       "\n",
       "    .dataframe thead th {\n",
       "        text-align: right;\n",
       "    }\n",
       "</style>\n",
       "<table border=\"1\" class=\"dataframe\">\n",
       "  <thead>\n",
       "    <tr style=\"text-align: right;\">\n",
       "      <th></th>\n",
       "      <th>Rank</th>\n",
       "      <th>Platform</th>\n",
       "      <th>Publisher</th>\n",
       "      <th>Developer</th>\n",
       "      <th>Critic_Score</th>\n",
       "      <th>User_Score</th>\n",
       "      <th>Total_Shipped</th>\n",
       "      <th>Global_Sales</th>\n",
       "      <th>NA_Sales</th>\n",
       "      <th>PAL_Sales</th>\n",
       "      <th>JP_Sales</th>\n",
       "      <th>Other_Sales</th>\n",
       "      <th>Year</th>\n",
       "      <th>Vgchartzscore</th>\n",
       "    </tr>\n",
       "  </thead>\n",
       "  <tbody>\n",
       "    <tr>\n",
       "      <th>7</th>\n",
       "      <td>154</td>\n",
       "      <td>3</td>\n",
       "      <td>EA Sports</td>\n",
       "      <td>EA Canada</td>\n",
       "      <td>9.2</td>\n",
       "      <td>NaN</td>\n",
       "      <td>NaN</td>\n",
       "      <td>6.65</td>\n",
       "      <td>0.84</td>\n",
       "      <td>4.33</td>\n",
       "      <td>0.11</td>\n",
       "      <td>1.37</td>\n",
       "      <td>2011.0</td>\n",
       "      <td>NaN</td>\n",
       "    </tr>\n",
       "    <tr>\n",
       "      <th>8</th>\n",
       "      <td>168</td>\n",
       "      <td>2</td>\n",
       "      <td>EA Sports</td>\n",
       "      <td>EA Canada</td>\n",
       "      <td>8.1</td>\n",
       "      <td>NaN</td>\n",
       "      <td>NaN</td>\n",
       "      <td>6.32</td>\n",
       "      <td>0.83</td>\n",
       "      <td>4.49</td>\n",
       "      <td>0.05</td>\n",
       "      <td>0.94</td>\n",
       "      <td>2014.0</td>\n",
       "      <td>NaN</td>\n",
       "    </tr>\n",
       "    <tr>\n",
       "      <th>10</th>\n",
       "      <td>246</td>\n",
       "      <td>5</td>\n",
       "      <td>Sega</td>\n",
       "      <td>Sega</td>\n",
       "      <td>7.0</td>\n",
       "      <td>NaN</td>\n",
       "      <td>NaN</td>\n",
       "      <td>5.10</td>\n",
       "      <td>1.63</td>\n",
       "      <td>2.46</td>\n",
       "      <td>0.44</td>\n",
       "      <td>0.57</td>\n",
       "      <td>2008.0</td>\n",
       "      <td>NaN</td>\n",
       "    </tr>\n",
       "    <tr>\n",
       "      <th>11</th>\n",
       "      <td>248</td>\n",
       "      <td>3</td>\n",
       "      <td>EA Sports</td>\n",
       "      <td>EA Canada</td>\n",
       "      <td>8.7</td>\n",
       "      <td>NaN</td>\n",
       "      <td>NaN</td>\n",
       "      <td>5.08</td>\n",
       "      <td>0.61</td>\n",
       "      <td>3.28</td>\n",
       "      <td>0.06</td>\n",
       "      <td>1.12</td>\n",
       "      <td>2010.0</td>\n",
       "      <td>NaN</td>\n",
       "    </tr>\n",
       "    <tr>\n",
       "      <th>12</th>\n",
       "      <td>252</td>\n",
       "      <td>6</td>\n",
       "      <td>Activision</td>\n",
       "      <td>Neversoft Entertainment</td>\n",
       "      <td>9.6</td>\n",
       "      <td>NaN</td>\n",
       "      <td>NaN</td>\n",
       "      <td>5.02</td>\n",
       "      <td>3.42</td>\n",
       "      <td>1.38</td>\n",
       "      <td>0.02</td>\n",
       "      <td>0.20</td>\n",
       "      <td>1999.0</td>\n",
       "      <td>NaN</td>\n",
       "    </tr>\n",
       "    <tr>\n",
       "      <th>...</th>\n",
       "      <td>...</td>\n",
       "      <td>...</td>\n",
       "      <td>...</td>\n",
       "      <td>...</td>\n",
       "      <td>...</td>\n",
       "      <td>...</td>\n",
       "      <td>...</td>\n",
       "      <td>...</td>\n",
       "      <td>...</td>\n",
       "      <td>...</td>\n",
       "      <td>...</td>\n",
       "      <td>...</td>\n",
       "      <td>...</td>\n",
       "      <td>...</td>\n",
       "    </tr>\n",
       "    <tr>\n",
       "      <th>683</th>\n",
       "      <td>50562</td>\n",
       "      <td>13</td>\n",
       "      <td>Sega</td>\n",
       "      <td>Eurocom Entertainment Software</td>\n",
       "      <td>5.0</td>\n",
       "      <td>NaN</td>\n",
       "      <td>NaN</td>\n",
       "      <td>NaN</td>\n",
       "      <td>NaN</td>\n",
       "      <td>NaN</td>\n",
       "      <td>NaN</td>\n",
       "      <td>NaN</td>\n",
       "      <td>2010.0</td>\n",
       "      <td>NaN</td>\n",
       "    </tr>\n",
       "    <tr>\n",
       "      <th>684</th>\n",
       "      <td>50731</td>\n",
       "      <td>14</td>\n",
       "      <td>Sega</td>\n",
       "      <td>Hitmaker</td>\n",
       "      <td>9.2</td>\n",
       "      <td>NaN</td>\n",
       "      <td>NaN</td>\n",
       "      <td>NaN</td>\n",
       "      <td>NaN</td>\n",
       "      <td>NaN</td>\n",
       "      <td>NaN</td>\n",
       "      <td>NaN</td>\n",
       "      <td>2000.0</td>\n",
       "      <td>NaN</td>\n",
       "    </tr>\n",
       "    <tr>\n",
       "      <th>685</th>\n",
       "      <td>50732</td>\n",
       "      <td>0</td>\n",
       "      <td>Sega</td>\n",
       "      <td>Hitmaker</td>\n",
       "      <td>3.6</td>\n",
       "      <td>NaN</td>\n",
       "      <td>NaN</td>\n",
       "      <td>NaN</td>\n",
       "      <td>NaN</td>\n",
       "      <td>NaN</td>\n",
       "      <td>NaN</td>\n",
       "      <td>NaN</td>\n",
       "      <td>2003.0</td>\n",
       "      <td>NaN</td>\n",
       "    </tr>\n",
       "    <tr>\n",
       "      <th>686</th>\n",
       "      <td>50841</td>\n",
       "      <td>0</td>\n",
       "      <td>Virtual Toys</td>\n",
       "      <td>Virtual Toys</td>\n",
       "      <td>4.0</td>\n",
       "      <td>NaN</td>\n",
       "      <td>NaN</td>\n",
       "      <td>NaN</td>\n",
       "      <td>NaN</td>\n",
       "      <td>NaN</td>\n",
       "      <td>NaN</td>\n",
       "      <td>NaN</td>\n",
       "      <td>2010.0</td>\n",
       "      <td>NaN</td>\n",
       "    </tr>\n",
       "    <tr>\n",
       "      <th>687</th>\n",
       "      <td>51762</td>\n",
       "      <td>13</td>\n",
       "      <td>Konami</td>\n",
       "      <td>Konami Computer Entertainment Tokyo</td>\n",
       "      <td>9.1</td>\n",
       "      <td>NaN</td>\n",
       "      <td>NaN</td>\n",
       "      <td>NaN</td>\n",
       "      <td>NaN</td>\n",
       "      <td>NaN</td>\n",
       "      <td>NaN</td>\n",
       "      <td>NaN</td>\n",
       "      <td>2004.0</td>\n",
       "      <td>NaN</td>\n",
       "    </tr>\n",
       "  </tbody>\n",
       "</table>\n",
       "<p>678 rows × 14 columns</p>\n",
       "</div>"
      ],
      "text/plain": [
       "      Rank  Platform     Publisher                            Developer  \\\n",
       "7      154         3     EA Sports                            EA Canada   \n",
       "8      168         2     EA Sports                            EA Canada   \n",
       "10     246         5          Sega                                 Sega   \n",
       "11     248         3     EA Sports                            EA Canada   \n",
       "12     252         6    Activision              Neversoft Entertainment   \n",
       "..     ...       ...           ...                                  ...   \n",
       "683  50562        13          Sega       Eurocom Entertainment Software   \n",
       "684  50731        14          Sega                             Hitmaker   \n",
       "685  50732         0          Sega                             Hitmaker   \n",
       "686  50841         0  Virtual Toys                         Virtual Toys   \n",
       "687  51762        13        Konami  Konami Computer Entertainment Tokyo   \n",
       "\n",
       "     Critic_Score  User_Score  Total_Shipped  Global_Sales  NA_Sales  \\\n",
       "7             9.2         NaN            NaN          6.65      0.84   \n",
       "8             8.1         NaN            NaN          6.32      0.83   \n",
       "10            7.0         NaN            NaN          5.10      1.63   \n",
       "11            8.7         NaN            NaN          5.08      0.61   \n",
       "12            9.6         NaN            NaN          5.02      3.42   \n",
       "..            ...         ...            ...           ...       ...   \n",
       "683           5.0         NaN            NaN           NaN       NaN   \n",
       "684           9.2         NaN            NaN           NaN       NaN   \n",
       "685           3.6         NaN            NaN           NaN       NaN   \n",
       "686           4.0         NaN            NaN           NaN       NaN   \n",
       "687           9.1         NaN            NaN           NaN       NaN   \n",
       "\n",
       "     PAL_Sales  JP_Sales  Other_Sales    Year  Vgchartzscore  \n",
       "7         4.33      0.11         1.37  2011.0            NaN  \n",
       "8         4.49      0.05         0.94  2014.0            NaN  \n",
       "10        2.46      0.44         0.57  2008.0            NaN  \n",
       "11        3.28      0.06         1.12  2010.0            NaN  \n",
       "12        1.38      0.02         0.20  1999.0            NaN  \n",
       "..         ...       ...          ...     ...            ...  \n",
       "683        NaN       NaN          NaN  2010.0            NaN  \n",
       "684        NaN       NaN          NaN  2000.0            NaN  \n",
       "685        NaN       NaN          NaN  2003.0            NaN  \n",
       "686        NaN       NaN          NaN  2010.0            NaN  \n",
       "687        NaN       NaN          NaN  2004.0            NaN  \n",
       "\n",
       "[678 rows x 14 columns]"
      ]
     },
     "execution_count": 27,
     "metadata": {},
     "output_type": "execute_result"
    }
   ],
   "source": [
    "corr_df['Platform'].replace(to_replace = platforms_list, value = replace_list, inplace=True)\n",
    "corr_df"
   ]
  },
  {
   "cell_type": "markdown",
   "metadata": {},
   "source": [
    "Кто у нас что пубиликовал и разрабатывал?"
   ]
  },
  {
   "cell_type": "code",
   "execution_count": 28,
   "metadata": {},
   "outputs": [
    {
     "data": {
      "image/png": "[encoded data removed]",
      "text/plain": [
       "<Figure size 3600x720 with 1 Axes>"
      ]
     },
     "metadata": {
      "needs_background": "light"
     },
     "output_type": "display_data"
    }
   ],
   "source": [
    "# какие же у нас есть платформы?\n",
    "pub_list = set(list(critics_df['Publisher']))\n",
    "h = critics_df['Publisher'].hist(figsize=(50,10), bins=len(pub_list))\n",
    "fig = h.get_figure()"
   ]
  },
  {
   "cell_type": "code",
   "execution_count": 29,
   "metadata": {},
   "outputs": [
    {
     "data": {
      "image/png": "[encoded data removed]",
      "text/plain": [
       "<Figure size 3600x720 with 1 Axes>"
      ]
     },
     "metadata": {
      "needs_background": "light"
     },
     "output_type": "display_data"
    }
   ],
   "source": [
    "dev_list = set(list(critics_df['Developer']))\n",
    "h = critics_df['Developer'].hist(figsize=(50,10), bins=len(dev_list))\n",
    "fig = h.get_figure()"
   ]
  },
  {
   "cell_type": "markdown",
   "metadata": {},
   "source": [
    "ой как все запущено..."
   ]
  },
  {
   "cell_type": "code",
   "execution_count": 30,
   "metadata": {},
   "outputs": [],
   "source": [
    "pub_count_dict = dict(Counter(list(critics_df['Publisher'])))"
   ]
  },
  {
   "cell_type": "code",
   "execution_count": 31,
   "metadata": {},
   "outputs": [
    {
     "data": {
      "text/plain": [
       "{'Nintendo': 27,\n",
       " 'EA Sports': 203,\n",
       " 'Electronic Arts': 38,\n",
       " 'Sega': 55,\n",
       " 'Activision': 40,\n",
       " 'Konami': 45,\n",
       " '2K Sports': 74,\n",
       " 'Sony Computer Entertainment': 36,\n",
       " 'Microsoft Game Studios': 1,\n",
       " 'Microsoft Studios': 1,\n",
       " 'Ubisoft': 24,\n",
       " '505 Games': 9,\n",
       " 'EA Sports BIG': 9,\n",
       " 'Namco Bandai': 1,\n",
       " 'THQ': 11,\n",
       " 'Hudson Soft': 2,\n",
       " 'Midway Games': 19,\n",
       " 'Rockstar Games': 2,\n",
       " 'Konami Digital Entertainment': 3,\n",
       " 'Acclaim Entertainment': 19,\n",
       " '2K Games': 3,\n",
       " 'Tecmo': 4,\n",
       " 'Sony Interactive Entertainment': 1,\n",
       " 'Sony Computer Entertainment America': 2,\n",
       " 'Take-Two Interactive': 2,\n",
       " 'Crave Entertainment': 5,\n",
       " 'Atlus': 2,\n",
       " 'Atari': 5,\n",
       " 'Codemasters': 5,\n",
       " 'SouthPeak Interactive': 2,\n",
       " 'Psyonix Studios': 1,\n",
       " 'Majesco': 2,\n",
       " 'Mattel Interactive': 2,\n",
       " 'Tommo': 1,\n",
       " 'Destineer': 1,\n",
       " 'Psygnosis': 2,\n",
       " 'Mindscape': 1,\n",
       " 'Ignition Entertainment': 1,\n",
       " 'Focus Home Interactive': 2,\n",
       " '3DO': 2,\n",
       " 'Unknown': 3,\n",
       " 'Home Entertainment Suppliers': 1,\n",
       " 'Skyworks Interactive': 1,\n",
       " 'PixelStorm': 1,\n",
       " 'Agetec': 2,\n",
       " 'Eidos Interactive': 2,\n",
       " 'Hudson Entertainment': 1,\n",
       " 'Aksys Games': 1,\n",
       " 'Nokia': 3,\n",
       " 'DK Games': 1,\n",
       " 'DSI Games': 1,\n",
       " 'Gameloft': 2,\n",
       " 'Natsume': 1,\n",
       " 'The Code Monkeys': 1,\n",
       " 'Enjoy Gaming': 1,\n",
       " 'Virtual Toys': 1}"
      ]
     },
     "execution_count": 31,
     "metadata": {},
     "output_type": "execute_result"
    }
   ],
   "source": [
    "pub_count_dict"
   ]
  },
  {
   "cell_type": "code",
   "execution_count": 32,
   "metadata": {},
   "outputs": [],
   "source": [
    "publishers_list = list(pub_count_dict)\n",
    "\n",
    "pub_count_copy_dict = copy.deepcopy(pub_count_dict)\n",
    "remove = [k for k in pub_count_copy_dict.keys() if pub_count_copy_dict[k] < 5]\n",
    "for k in remove: del pub_count_copy_dict[k]\n",
    "pub_count_list = list(pub_count_copy_dict)\n",
    "pub_replace_list = []\n",
    "for k in pub_count_dict.keys():\n",
    "    if k in pub_count_list:\n",
    "        pub_replace_list.append(pub_count_list.index(k)+1)\n",
    "    else:\n",
    "        pub_replace_list.append(0)"
   ]
  },
  {
   "cell_type": "markdown",
   "metadata": {},
   "source": [
    "Все красиво, но надо вручную поправить несколько значений - EA Sports и Electronic Arts это, по сути, одно и тоже, как и все игро-подразделения Sony"
   ]
  },
  {
   "cell_type": "code",
   "execution_count": 33,
   "metadata": {},
   "outputs": [],
   "source": [
    "pub_replace_list[2] = 2\n",
    "pub_replace_list[22] = 8\n",
    "pub_replace_list[23] = 8"
   ]
  },
  {
   "cell_type": "code",
   "execution_count": 34,
   "metadata": {},
   "outputs": [],
   "source": [
    "corr_df['Publisher'].replace(to_replace = publishers_list, value = pub_replace_list, inplace=True)"
   ]
  },
  {
   "cell_type": "markdown",
   "metadata": {},
   "source": [
    "ну и аналогично раскидаем с девелоперами"
   ]
  },
  {
   "cell_type": "code",
   "execution_count": 35,
   "metadata": {},
   "outputs": [
    {
     "data": {
      "text/plain": [
       "OrderedDict([('10tacle Studios AG', 1),\n",
       "             ('2K Czech', 3),\n",
       "             ('2K Sports', 5),\n",
       "             ('989 Sports', 4),\n",
       "             ('989 Studios', 1),\n",
       "             ('Acclaim', 1),\n",
       "             ('Acclaim Entertainment', 5),\n",
       "             ('Action Pants Inc.', 1),\n",
       "             ('Adrenalin Entertainment', 2),\n",
       "             ('AlphaDream Corporation', 1),\n",
       "             ('Amusement Vision', 1),\n",
       "             ('Anchor', 1),\n",
       "             ('Ars System Works', 1),\n",
       "             ('Asobo Studio', 1),\n",
       "             ('Aspyr', 1),\n",
       "             ('Athletic Design AB', 1),\n",
       "             ('Attention To Detail', 1),\n",
       "             ('Avalanche Software', 3),\n",
       "             ('Backbone Emeryville', 1),\n",
       "             ('Backbone Entertainment', 1),\n",
       "             ('Bandai Namco Games', 1),\n",
       "             ('Bandai Namco Games / NOW Production', 1),\n",
       "             ('Black Box', 1),\n",
       "             ('Blitz Games', 2),\n",
       "             ('Blue Castle Games', 3),\n",
       "             ('Bongfish GmbH', 1),\n",
       "             ('Boss Game Studios', 1),\n",
       "             ('Bottoms Up', 1),\n",
       "             ('Bright Future', 1),\n",
       "             ('Buzz Monkey Software', 1),\n",
       "             ('CAProduction', 1),\n",
       "             ('Camelot Software Planning', 9),\n",
       "             ('Cauldron', 1),\n",
       "             ('Clap Hanz', 7),\n",
       "             ('Codemasters', 4),\n",
       "             ('Criterion Games', 1),\n",
       "             ('Crystal Dynamics', 1),\n",
       "             ('Cyanide Studio', 5),\n",
       "             ('DK Games', 1),\n",
       "             ('Darkblack', 1),\n",
       "             ('Digital Fiction', 1),\n",
       "             ('EA Black Box', 3),\n",
       "             ('EA Canada', 108),\n",
       "             ('EA Montreal', 6),\n",
       "             ('EA Redwood Shores', 6),\n",
       "             ('EA Salt Lake', 1),\n",
       "             ('EA Seattle', 1),\n",
       "             ('EA Sports', 10),\n",
       "             ('EA Tiburon', 82),\n",
       "             ('EA Vancouver', 10),\n",
       "             ('Edge of Reality', 3),\n",
       "             ('Electronic Arts', 2),\n",
       "             ('Enjoy Gaming ltd.', 1),\n",
       "             ('Eurocom Entertainment Software', 3),\n",
       "             ('Exient Entertainment', 9),\n",
       "             ('FUN Labs', 1),\n",
       "             ('Firaxis Games', 1),\n",
       "             ('Full Fat', 3),\n",
       "             ('Full-Fat', 1),\n",
       "             ('Gameloft', 2),\n",
       "             ('Gear Head Entertainment', 1),\n",
       "             ('HB Studios', 3),\n",
       "             ('HB Studios Multimedia', 6),\n",
       "             ('High Voltage Software', 2),\n",
       "             ('Hitmaker', 3),\n",
       "             ('Hokus Pokus', 1),\n",
       "             ('HotGen Studios', 1),\n",
       "             ('Hudson Entertainment', 1),\n",
       "             ('Hudson Soft', 1),\n",
       "             ('Humongous Entertainment', 1),\n",
       "             ('Ignition Entertainment', 1),\n",
       "             ('Indie Built', 3),\n",
       "             ('Judo Baby', 1),\n",
       "             ('KCEO', 2),\n",
       "             ('Konami', 32),\n",
       "             ('Konami Computer Entertainment Hawaii', 1),\n",
       "             ('Konami Computer Entertainment Nagoya', 1),\n",
       "             ('Konami Computer Entertainment Osaka', 3),\n",
       "             ('Konami Computer Entertainment Tokyo', 7),\n",
       "             ('Krome Studios', 2),\n",
       "             ('Kush Games', 6),\n",
       "             ('Left Field Productions', 2),\n",
       "             ('Magic Pockets', 1),\n",
       "             ('Midway', 1),\n",
       "             ('Midway Games', 7),\n",
       "             ('Mistic Software', 2),\n",
       "             ('Mobius Entertainment', 2),\n",
       "             ('Namco / NOW Production', 1),\n",
       "             ('Namco Bandai Games', 1),\n",
       "             ('Natsume', 2),\n",
       "             ('NaturalMotion Games', 2),\n",
       "             ('Neversoft Entertainment', 17),\n",
       "             ('Next Level Games', 2),\n",
       "             ('Nintendo', 3),\n",
       "             ('Nintendo EAD', 5),\n",
       "             ('NuFX', 1),\n",
       "             ('Page 44 Studios', 2),\n",
       "             ('Pam Development', 2),\n",
       "             ('ParityBit', 1),\n",
       "             ('PawaPuro Production', 1),\n",
       "             ('PixelStorm', 1),\n",
       "             ('Point of View', 4),\n",
       "             ('Poponchi', 1),\n",
       "             ('Probe Entertainment Limited', 1),\n",
       "             ('Psyonix Studios', 4),\n",
       "             ('Racdym', 1),\n",
       "             ('Rage Software', 2),\n",
       "             ('Rainbow Studios', 1),\n",
       "             ('Rare Ltd.', 2),\n",
       "             ('Robomodo / Buzz Monkey Software', 2),\n",
       "             ('Rockstar San Diego', 2),\n",
       "             ('Runecraft', 1),\n",
       "             ('SCE San Diego Studio', 12),\n",
       "             ('SCEA', 2),\n",
       "             ('SCEA San Diego Studios', 7),\n",
       "             ('SCEE London Studio', 1),\n",
       "             ('SIMS', 1),\n",
       "             ('Sega', 7),\n",
       "             ('Sega Sports R&D', 1),\n",
       "             ('Sega Studios Australia', 3),\n",
       "             ('Sega-AM2', 4),\n",
       "             ('Shaba Games', 3),\n",
       "             ('Shen Studios', 2),\n",
       "             ('Silicon Dreams', 1),\n",
       "             ('Skyworks Interactive', 1),\n",
       "             ('Smart Dog', 1),\n",
       "             ('Smilebit', 1),\n",
       "             ('Software Creations', 1),\n",
       "             ('SolWorks', 1),\n",
       "             ('Sony Computer Entertainment', 1),\n",
       "             ('Sports Interactive', 14),\n",
       "             ('Square Enix', 2),\n",
       "             ('Starfish', 1),\n",
       "             ('Sumo Digital', 9),\n",
       "             ('Sunset Entertainment, Inc.', 1),\n",
       "             ('THQ', 3),\n",
       "             ('Tamsoft', 1),\n",
       "             ('Team Fusion', 4),\n",
       "             ('Team Ninja', 2),\n",
       "             ('Tecmo', 2),\n",
       "             ('The Code Monkeys', 1),\n",
       "             ('Titanium Studios', 1),\n",
       "             ('Toys for Bob', 1),\n",
       "             ('Transmission Games', 1),\n",
       "             ('Treyarch', 4),\n",
       "             ('UEP Systems', 1),\n",
       "             ('Ubisoft', 2),\n",
       "             ('Ubisoft Barcelona', 1),\n",
       "             ('Ubisoft Milan', 1),\n",
       "             ('Ubisoft Montreal', 12),\n",
       "             ('Ubisoft Vancouver', 3),\n",
       "             ('Unknown', 1),\n",
       "             ('Venom Games', 1),\n",
       "             ('Vicarious Visions', 4),\n",
       "             ('Virtual Toys', 1),\n",
       "             ('Visual Concepts', 60),\n",
       "             ('VooFoo Studios', 1),\n",
       "             ('West One', 1),\n",
       "             ('Wicked Witch Software', 2),\n",
       "             (\"William's Entertainment\", 1),\n",
       "             ('Wow Entertainment', 3),\n",
       "             ('Z-Axis', 1),\n",
       "             ('Z-Axis, Ltd.', 5)])"
      ]
     },
     "execution_count": 35,
     "metadata": {},
     "output_type": "execute_result"
    }
   ],
   "source": [
    "dev_count_dict = dict(Counter(list(critics_df['Developer'])))\n",
    "dev_sort_dict = OrderedDict(sorted(dev_count_dict.items(), key=lambda t: t[0]))\n",
    "dev_sort_dict"
   ]
  },
  {
   "cell_type": "markdown",
   "metadata": {},
   "source": [
    "Нда, тут уже руками будет поправить сложновато"
   ]
  },
  {
   "cell_type": "code",
   "execution_count": 36,
   "metadata": {},
   "outputs": [
    {
     "data": {
      "text/plain": [
       "OrderedDict([('10tacle Studios AG', 1),\n",
       "             ('2K', 8),\n",
       "             ('989 Studios', 5),\n",
       "             ('Acclaim Entertainment', 6),\n",
       "             ('Action Pants Inc.', 1),\n",
       "             ('Adrenalin Entertainment', 2),\n",
       "             ('AlphaDream Corporation', 1),\n",
       "             ('Amusement Vision', 1),\n",
       "             ('Anchor', 1),\n",
       "             ('Ars System Works', 1),\n",
       "             ('Asobo Studio', 1),\n",
       "             ('Aspyr', 1),\n",
       "             ('Athletic Design AB', 1),\n",
       "             ('Attention To Detail', 1),\n",
       "             ('Avalanche Software', 3),\n",
       "             ('Backbone Emeryville', 1),\n",
       "             ('Backbone Entertainment', 1),\n",
       "             ('Bandai Namco Games', 1),\n",
       "             ('Bandai Namco Games / NOW Production', 1),\n",
       "             ('Black Box', 1),\n",
       "             ('Blitz Games', 2),\n",
       "             ('Blue Castle Games', 3),\n",
       "             ('Bongfish GmbH', 1),\n",
       "             ('Boss Game Studios', 1),\n",
       "             ('Bottoms Up', 1),\n",
       "             ('Bright Future', 1),\n",
       "             ('Buzz Monkey Software', 1),\n",
       "             ('CAProduction', 1),\n",
       "             ('Camelot Software Planning', 9),\n",
       "             ('Cauldron', 1),\n",
       "             ('Clap Hanz', 7),\n",
       "             ('Codemasters', 4),\n",
       "             ('Criterion Games', 1),\n",
       "             ('Crystal Dynamics', 1),\n",
       "             ('Cyanide Studio', 5),\n",
       "             ('DK Games', 1),\n",
       "             ('Darkblack', 1),\n",
       "             ('Digital Fiction', 1),\n",
       "             ('Edge of Reality', 3),\n",
       "             ('Electronic Arts', 224),\n",
       "             ('Enjoy Gaming ltd.', 1),\n",
       "             ('Eurocom Entertainment Software', 3),\n",
       "             ('Exient Entertainment', 9),\n",
       "             ('FUN Labs', 1),\n",
       "             ('Firaxis Games', 1),\n",
       "             ('Full Fat', 4),\n",
       "             ('Gameloft', 2),\n",
       "             ('Gear Head Entertainment', 1),\n",
       "             ('HB Studios Multimedia', 9),\n",
       "             ('High Voltage Software', 2),\n",
       "             ('Hitmaker', 3),\n",
       "             ('Hokus Pokus', 1),\n",
       "             ('HotGen Studios', 1),\n",
       "             ('Hudson Entertainment', 1),\n",
       "             ('Hudson Soft', 1),\n",
       "             ('Humongous Entertainment', 1),\n",
       "             ('Ignition Entertainment', 1),\n",
       "             ('Indie Built', 3),\n",
       "             ('Judo Baby', 1),\n",
       "             ('KCEO', 2),\n",
       "             ('Konami Computer Entertainment', 43),\n",
       "             ('Krome Studios', 2),\n",
       "             ('Kush Games', 6),\n",
       "             ('Left Field Productions', 2),\n",
       "             ('Magic Pockets', 1),\n",
       "             ('Midway Games', 8),\n",
       "             ('Mistic Software', 2),\n",
       "             ('Mobius Entertainment', 2),\n",
       "             ('Namco / NOW Production', 1),\n",
       "             ('Namco Bandai Games', 1),\n",
       "             ('Natsume', 2),\n",
       "             ('NaturalMotion Games', 2),\n",
       "             ('Neversoft Entertainment', 17),\n",
       "             ('Next Level Games', 2),\n",
       "             ('Nintendo EAD', 4),\n",
       "             ('NuFX', 1),\n",
       "             ('Page 44 Studios', 2),\n",
       "             ('Pam Development', 2),\n",
       "             ('ParityBit', 1),\n",
       "             ('PawaPuro Production', 1),\n",
       "             ('PixelStorm', 1),\n",
       "             ('Point of View', 4),\n",
       "             ('Poponchi', 1),\n",
       "             ('Probe Entertainment Limited', 1),\n",
       "             ('Psyonix Studios', 4),\n",
       "             ('Racdym', 1),\n",
       "             ('Rage Software', 2),\n",
       "             ('Rainbow Studios', 1),\n",
       "             ('Rare Ltd.', 2),\n",
       "             ('Robomodo / Buzz Monkey Software', 2),\n",
       "             ('Rockstar San Diego', 2),\n",
       "             ('Runecraft', 1),\n",
       "             ('SIE San Diego Studio', 19),\n",
       "             ('SIMS', 1),\n",
       "             ('Sega', 15),\n",
       "             ('Shaba Games', 3),\n",
       "             ('Shen Studios', 2),\n",
       "             ('Silicon Dreams', 1),\n",
       "             ('Skyworks Interactive', 1),\n",
       "             ('Smart Dog', 1),\n",
       "             ('Smilebit', 1),\n",
       "             ('Software Creations', 1),\n",
       "             ('SolWorks', 1),\n",
       "             ('Sony', 4),\n",
       "             ('Sports Interactive', 14),\n",
       "             ('Square Enix', 2),\n",
       "             ('Starfish', 1),\n",
       "             ('Sumo Digital', 9),\n",
       "             ('Sunset Entertainment, Inc.', 1),\n",
       "             ('THQ', 3),\n",
       "             ('Tamsoft', 1),\n",
       "             ('Team Fusion', 4),\n",
       "             ('Team Ninja', 2),\n",
       "             ('Tecmo', 2),\n",
       "             ('The Code Monkeys', 1),\n",
       "             ('Titanium Studios', 1),\n",
       "             ('Toys for Bob', 1),\n",
       "             ('Transmission Games', 1),\n",
       "             ('Treyarch', 4),\n",
       "             ('UEP Systems', 1),\n",
       "             ('Ubisoft', 19),\n",
       "             ('Unknown', 1),\n",
       "             ('Venom Games', 1),\n",
       "             ('Vicarious Visions', 4),\n",
       "             ('Virtual Toys', 1),\n",
       "             ('Visual Concepts', 60),\n",
       "             ('VooFoo Studios', 1),\n",
       "             ('West One', 1),\n",
       "             ('Wicked Witch Software', 2),\n",
       "             (\"William's Entertainment\", 1),\n",
       "             ('Wow Entertainment', 3),\n",
       "             ('Z-Axis, Ltd.', 6)])"
      ]
     },
     "execution_count": 36,
     "metadata": {},
     "output_type": "execute_result"
    }
   ],
   "source": [
    "# Откатимся и начнем с начала и уже на основании этого \n",
    "# словаря сперва приведем в порядок датафрейм\n",
    "\n",
    "\n",
    "corr_df['Developer'].replace('2K Czech', '2K', inplace=True)\n",
    "corr_df['Developer'].replace('2K Sports', '2K', inplace=True)\n",
    "corr_df['Developer'].replace('989 Sports', '989 Studios', inplace=True)\n",
    "corr_df['Developer'].replace('Acclaim', 'Acclaim Entertainment', inplace=True)\n",
    "corr_df['Developer'].replace('EA Black Box', 'Electronic Arts', inplace=True)\n",
    "corr_df['Developer'].replace('EA Canada', 'Electronic Arts', inplace=True)\n",
    "corr_df['Developer'].replace('EA Montreal', 'Electronic Arts', inplace=True)\n",
    "corr_df['Developer'].replace('EA Redwood Shores', 'Electronic Arts', inplace=True)\n",
    "corr_df['Developer'].replace('EA Salt Lake', 'Electronic Arts', inplace=True)\n",
    "corr_df['Developer'].replace('EA Seattle', 'Electronic Arts', inplace=True)\n",
    "corr_df['Developer'].replace('EA Sports', 'Electronic Arts', inplace=True)\n",
    "corr_df['Developer'].replace('EA Tiburon', 'Electronic Arts', inplace=True)\n",
    "corr_df['Developer'].replace('EA Vancouver', 'Electronic Arts', inplace=True)\n",
    "corr_df['Developer'].replace('Full-Fat', 'Full Fat', inplace=True)\n",
    "corr_df['Developer'].replace('HB Studios', 'HB Studios Multimedia', inplace=True)\n",
    "corr_df['Developer'].replace('Konami', 'Konami Computer Entertainment', inplace=True)\n",
    "corr_df['Developer'].replace('Konami Computer Entertainment Hawaii', 'Konami Computer Entertainment', inplace=True)\n",
    "corr_df['Developer'].replace('Konami Computer Entertainment Nagoya', 'Konami Computer Entertainment', inplace=True)\n",
    "corr_df['Developer'].replace('Konami Computer Entertainment Osaka', 'Konami Computer Entertainment', inplace=True)\n",
    "corr_df['Developer'].replace('Konami Computer Entertainment Tokyo', 'Konami Computer Entertainment', inplace=True)\n",
    "corr_df['Developer'].replace('Midway', 'Midway Games', inplace=True)\n",
    "corr_df['Developer'].replace('Nintendo', 'Nintendo EAD', inplace=True)\n",
    "corr_df['Developer'].replace('SCE San Diego Studio', 'SIE San Diego Studio', inplace=True)\n",
    "corr_df['Developer'].replace('SCEA San Diego Studios', 'SIE San Diego Studio', inplace=True)\n",
    "corr_df['Developer'].replace('SCEA', 'Sony', inplace=True)\n",
    "corr_df['Developer'].replace('SCEE London Studio', 'Sony', inplace=True)\n",
    "corr_df['Developer'].replace('Sony Computer Entertainment', 'Sony', inplace=True)\n",
    "corr_df['Developer'].replace('Sega Sports R&D', 'Sega', inplace=True)\n",
    "corr_df['Developer'].replace('Sega Studios Australia', 'Sega', inplace=True)\n",
    "corr_df['Developer'].replace('Sega-AM2', 'Sega', inplace=True)\n",
    "corr_df['Developer'].replace('Ubisoft Barcelona', 'Ubisoft', inplace=True)\n",
    "corr_df['Developer'].replace('Ubisoft Milan', 'Ubisoft', inplace=True)\n",
    "corr_df['Developer'].replace('Ubisoft Montreal', 'Ubisoft', inplace=True)\n",
    "corr_df['Developer'].replace('Ubisoft Vancouver', 'Ubisoft', inplace=True)\n",
    "corr_df['Developer'].replace('Z-Axis', 'Z-Axis, Ltd.', inplace=True)\n",
    "\n",
    "# и еще разок повторим\n",
    "dev_count_dict = dict(Counter(list(corr_df['Developer'])))\n",
    "dev_sort_dict = OrderedDict(sorted(dev_count_dict.items(), key=lambda t: t[0]))\n",
    "dev_sort_dict"
   ]
  },
  {
   "cell_type": "markdown",
   "metadata": {},
   "source": [
    "Совсем другое дело!"
   ]
  },
  {
   "cell_type": "code",
   "execution_count": 37,
   "metadata": {},
   "outputs": [],
   "source": [
    "devs_list = list(dev_sort_dict)\n",
    "\n",
    "dev_sort_copy_dict = copy.deepcopy(dev_sort_dict)\n",
    "remove = [k for k in dev_sort_copy_dict.keys() if dev_sort_copy_dict[k] < 5]\n",
    "for k in remove: del dev_sort_copy_dict[k]\n",
    "dev_count_list = list(dev_sort_copy_dict)\n",
    "dev_replace_list = []\n",
    "for k in dev_sort_dict.keys():\n",
    "    if k in dev_count_list:\n",
    "        dev_replace_list.append(dev_count_list.index(k)+1)\n",
    "    else:\n",
    "        dev_replace_list.append(0)"
   ]
  },
  {
   "cell_type": "code",
   "execution_count": 38,
   "metadata": {},
   "outputs": [],
   "source": [
    "corr_df['Developer'].replace(to_replace = devs_list, value = dev_replace_list, inplace=True)"
   ]
  },
  {
   "cell_type": "code",
   "execution_count": 39,
   "metadata": {},
   "outputs": [
    {
     "data": {
      "text/html": [
       "<div>\n",
       "<style scoped>\n",
       "    .dataframe tbody tr th:only-of-type {\n",
       "        vertical-align: middle;\n",
       "    }\n",
       "\n",
       "    .dataframe tbody tr th {\n",
       "        vertical-align: top;\n",
       "    }\n",
       "\n",
       "    .dataframe thead th {\n",
       "        text-align: right;\n",
       "    }\n",
       "</style>\n",
       "<table border=\"1\" class=\"dataframe\">\n",
       "  <thead>\n",
       "    <tr style=\"text-align: right;\">\n",
       "      <th></th>\n",
       "      <th>Rank</th>\n",
       "      <th>Platform</th>\n",
       "      <th>Publisher</th>\n",
       "      <th>Developer</th>\n",
       "      <th>Critic_Score</th>\n",
       "      <th>Global_Sales</th>\n",
       "      <th>NA_Sales</th>\n",
       "      <th>PAL_Sales</th>\n",
       "      <th>Other_Sales</th>\n",
       "    </tr>\n",
       "  </thead>\n",
       "  <tbody>\n",
       "    <tr>\n",
       "      <th>7</th>\n",
       "      <td>154</td>\n",
       "      <td>3</td>\n",
       "      <td>2</td>\n",
       "      <td>7</td>\n",
       "      <td>9.2</td>\n",
       "      <td>6.65</td>\n",
       "      <td>0.84</td>\n",
       "      <td>4.33</td>\n",
       "      <td>1.37</td>\n",
       "    </tr>\n",
       "    <tr>\n",
       "      <th>8</th>\n",
       "      <td>168</td>\n",
       "      <td>2</td>\n",
       "      <td>2</td>\n",
       "      <td>7</td>\n",
       "      <td>8.1</td>\n",
       "      <td>6.32</td>\n",
       "      <td>0.83</td>\n",
       "      <td>4.49</td>\n",
       "      <td>0.94</td>\n",
       "    </tr>\n",
       "    <tr>\n",
       "      <th>10</th>\n",
       "      <td>246</td>\n",
       "      <td>5</td>\n",
       "      <td>4</td>\n",
       "      <td>15</td>\n",
       "      <td>7.0</td>\n",
       "      <td>5.10</td>\n",
       "      <td>1.63</td>\n",
       "      <td>2.46</td>\n",
       "      <td>0.57</td>\n",
       "    </tr>\n",
       "    <tr>\n",
       "      <th>11</th>\n",
       "      <td>248</td>\n",
       "      <td>3</td>\n",
       "      <td>2</td>\n",
       "      <td>7</td>\n",
       "      <td>8.7</td>\n",
       "      <td>5.08</td>\n",
       "      <td>0.61</td>\n",
       "      <td>3.28</td>\n",
       "      <td>1.12</td>\n",
       "    </tr>\n",
       "    <tr>\n",
       "      <th>12</th>\n",
       "      <td>252</td>\n",
       "      <td>6</td>\n",
       "      <td>5</td>\n",
       "      <td>13</td>\n",
       "      <td>9.6</td>\n",
       "      <td>5.02</td>\n",
       "      <td>3.42</td>\n",
       "      <td>1.38</td>\n",
       "      <td>0.20</td>\n",
       "    </tr>\n",
       "    <tr>\n",
       "      <th>...</th>\n",
       "      <td>...</td>\n",
       "      <td>...</td>\n",
       "      <td>...</td>\n",
       "      <td>...</td>\n",
       "      <td>...</td>\n",
       "      <td>...</td>\n",
       "      <td>...</td>\n",
       "      <td>...</td>\n",
       "      <td>...</td>\n",
       "    </tr>\n",
       "    <tr>\n",
       "      <th>683</th>\n",
       "      <td>50562</td>\n",
       "      <td>13</td>\n",
       "      <td>4</td>\n",
       "      <td>0</td>\n",
       "      <td>5.0</td>\n",
       "      <td>NaN</td>\n",
       "      <td>NaN</td>\n",
       "      <td>NaN</td>\n",
       "      <td>NaN</td>\n",
       "    </tr>\n",
       "    <tr>\n",
       "      <th>684</th>\n",
       "      <td>50731</td>\n",
       "      <td>14</td>\n",
       "      <td>4</td>\n",
       "      <td>0</td>\n",
       "      <td>9.2</td>\n",
       "      <td>NaN</td>\n",
       "      <td>NaN</td>\n",
       "      <td>NaN</td>\n",
       "      <td>NaN</td>\n",
       "    </tr>\n",
       "    <tr>\n",
       "      <th>685</th>\n",
       "      <td>50732</td>\n",
       "      <td>0</td>\n",
       "      <td>4</td>\n",
       "      <td>0</td>\n",
       "      <td>3.6</td>\n",
       "      <td>NaN</td>\n",
       "      <td>NaN</td>\n",
       "      <td>NaN</td>\n",
       "      <td>NaN</td>\n",
       "    </tr>\n",
       "    <tr>\n",
       "      <th>686</th>\n",
       "      <td>50841</td>\n",
       "      <td>0</td>\n",
       "      <td>0</td>\n",
       "      <td>0</td>\n",
       "      <td>4.0</td>\n",
       "      <td>NaN</td>\n",
       "      <td>NaN</td>\n",
       "      <td>NaN</td>\n",
       "      <td>NaN</td>\n",
       "    </tr>\n",
       "    <tr>\n",
       "      <th>687</th>\n",
       "      <td>51762</td>\n",
       "      <td>13</td>\n",
       "      <td>6</td>\n",
       "      <td>10</td>\n",
       "      <td>9.1</td>\n",
       "      <td>NaN</td>\n",
       "      <td>NaN</td>\n",
       "      <td>NaN</td>\n",
       "      <td>NaN</td>\n",
       "    </tr>\n",
       "  </tbody>\n",
       "</table>\n",
       "<p>678 rows × 9 columns</p>\n",
       "</div>"
      ],
      "text/plain": [
       "      Rank  Platform  Publisher  Developer  Critic_Score  Global_Sales  \\\n",
       "7      154         3          2          7           9.2          6.65   \n",
       "8      168         2          2          7           8.1          6.32   \n",
       "10     246         5          4         15           7.0          5.10   \n",
       "11     248         3          2          7           8.7          5.08   \n",
       "12     252         6          5         13           9.6          5.02   \n",
       "..     ...       ...        ...        ...           ...           ...   \n",
       "683  50562        13          4          0           5.0           NaN   \n",
       "684  50731        14          4          0           9.2           NaN   \n",
       "685  50732         0          4          0           3.6           NaN   \n",
       "686  50841         0          0          0           4.0           NaN   \n",
       "687  51762        13          6         10           9.1           NaN   \n",
       "\n",
       "     NA_Sales  PAL_Sales  Other_Sales  \n",
       "7        0.84       4.33         1.37  \n",
       "8        0.83       4.49         0.94  \n",
       "10       1.63       2.46         0.57  \n",
       "11       0.61       3.28         1.12  \n",
       "12       3.42       1.38         0.20  \n",
       "..        ...        ...          ...  \n",
       "683       NaN        NaN          NaN  \n",
       "684       NaN        NaN          NaN  \n",
       "685       NaN        NaN          NaN  \n",
       "686       NaN        NaN          NaN  \n",
       "687       NaN        NaN          NaN  \n",
       "\n",
       "[678 rows x 9 columns]"
      ]
     },
     "execution_count": 39,
     "metadata": {},
     "output_type": "execute_result"
    }
   ],
   "source": [
    "# И окончательно выкинем все столбцы, которыми не собирались пользоваться\n",
    "corr_df = corr_df.drop(corr_df.columns[[5, 6, 10, 12, 13]], axis='columns')\n",
    "corr_df"
   ]
  },
  {
   "cell_type": "markdown",
   "metadata": {},
   "source": [
    "Итак, осталось посмотреть корреляцию платформы, разработчика и издателя с оценками критиков"
   ]
  },
  {
   "cell_type": "code",
   "execution_count": 40,
   "metadata": {},
   "outputs": [
    {
     "name": "stdout",
     "output_type": "stream",
     "text": [
      "<class 'pandas.core.frame.DataFrame'>\n",
      "Int64Index: 678 entries, 7 to 687\n",
      "Data columns (total 9 columns):\n",
      " #   Column        Non-Null Count  Dtype  \n",
      "---  ------        --------------  -----  \n",
      " 0   Rank          678 non-null    int64  \n",
      " 1   Platform      678 non-null    int64  \n",
      " 2   Publisher     678 non-null    int64  \n",
      " 3   Developer     678 non-null    int64  \n",
      " 4   Critic_Score  678 non-null    float64\n",
      " 5   Global_Sales  539 non-null    float64\n",
      " 6   NA_Sales      510 non-null    float64\n",
      " 7   PAL_Sales     466 non-null    float64\n",
      " 8   Other_Sales   531 non-null    float64\n",
      "dtypes: float64(5), int64(4)\n",
      "memory usage: 53.0 KB\n"
     ]
    }
   ],
   "source": [
    "corr_df.info()"
   ]
  },
  {
   "cell_type": "code",
   "execution_count": 41,
   "metadata": {},
   "outputs": [
    {
     "data": {
      "image/png": "[encoded data removed]",
      "text/plain": [
       "<Figure size 432x288 with 2 Axes>"
      ]
     },
     "metadata": {
      "needs_background": "light"
     },
     "output_type": "display_data"
    }
   ],
   "source": [
    "cols = ['Rank', 'Platform', 'Publisher', 'Developer', 'Critic_Score', 'Global_Sales', 'NA_Sales', 'PAL_Sales', 'Other_Sales']\n",
    "hm = sns.heatmap(corr_df[cols].corr(),\n",
    "                 cbar=True,\n",
    "                 annot=True)"
   ]
  },
  {
   "cell_type": "markdown",
   "metadata": {},
   "source": [
    "Эх, ради чего и мучались.. Что же, уличить критиков в проплаченности и однозначной симпатии к конкретной платформе или студии нам не удалось.  \n",
    "Итак, в сухом остатке  \n",
    "* Ниже среднего отрицательная корреляция с рангом\n",
    "* Ниже среднего, но побольше положительная  корреляция с Global Sales\n",
    "* Такая же с NA Sales\n",
    "* Чуть меньшая положительная с Other Sales\n",
    "* Еще немного меньше с PAL Sales"
   ]
  },
  {
   "cell_type": "markdown",
   "metadata": {},
   "source": [
    "В целом наша задача сейчас - построить модель, максимально правдоподобно описывающую зависимость оценок критиков от указанных параметров. Попробуем извратится с разнообразными нелинейными моделями."
   ]
  },
  {
   "cell_type": "markdown",
   "metadata": {},
   "source": [
    "немного укопавшись в теорию перед применением кучи разных методов мы выясняем, что есть некоторые ограничения"
   ]
  },
  {
   "cell_type": "markdown",
   "metadata": {},
   "source": [
    "Во-первых, нам желательно нормальное распределение предсказываемой величины."
   ]
  },
  {
   "cell_type": "code",
   "execution_count": 42,
   "metadata": {},
   "outputs": [
    {
     "data": {
      "text/plain": [
       "(0.9213933348655701, 1.8529941735499453e-18)"
      ]
     },
     "execution_count": 42,
     "metadata": {},
     "output_type": "execute_result"
    }
   ],
   "source": [
    "# Тест Шапиро-Уилка показывает, что данные распределены нормально\n",
    "data = critics_df['Critic_Score']\n",
    "stat, p = shapiro(data)\n",
    "stat, p"
   ]
  },
  {
   "cell_type": "markdown",
   "metadata": {},
   "source": [
    "Далее нам необходимо отсутствие мультиколлинеарности. Теория учит нас следующему. Когда независимые переменные коррелируют друг с другом, говорят о возникновении мультиколлинеарности.\n",
    "\n",
    "В машинном обучении мультиколлинеарность может стать причиной переобучаемости модели, что приведет к неверному результату. Кроме того, избыточные коэффициенты увеличивают сложность модели машинного обучения, а значит, время ее тренировки возрастает. Еще мультиколлинеарность факторов плоха тем, что математическая модель регрессии содержит избыточные переменные, а это значит:\n",
    "\n",
    "* осложняется интерпретация параметров множественной регрессии как величин действия факторов, параметры регрессии теряют смысл и следует рассматривать другие переменные;\n",
    "* оценки параметров ненадежны – получаются большие стандартные ошибки, которые меняются с изменением объема наблюдений, что делает модель регрессии непригодной для прогнозирования.\n",
    " "
   ]
  },
  {
   "cell_type": "markdown",
   "metadata": {},
   "source": [
    "С мультиколлинеарностью у нас все довольно плохо и это логически ясно даже без тестов, потому что топовые игры имеют высокий уровень продаж во всех регионах, потому они и называются топовыми, а неуспешные игры обычно проваливаются почти на всех рынках. В итоге можно сделать вывод о том, что эти данные сильно зависимы."
   ]
  },
  {
   "cell_type": "code",
   "execution_count": 43,
   "metadata": {},
   "outputs": [
    {
     "data": {
      "image/png": "[encoded data removed]",
      "text/plain": [
       "<Figure size 432x288 with 2 Axes>"
      ]
     },
     "metadata": {
      "needs_background": "light"
     },
     "output_type": "display_data"
    }
   ],
   "source": [
    "# Мне очень понравилась красивая тепловая карта, так что не грех показать ее еще разок\n",
    "\n",
    "cols = ['Global_Sales', 'NA_Sales', 'PAL_Sales', 'Other_Sales']\n",
    "hm = sns.heatmap(corr_df[cols].corr(),\n",
    "                 cbar=True,\n",
    "                 annot=True)"
   ]
  },
  {
   "cell_type": "markdown",
   "metadata": {},
   "source": [
    "Ужас, почти все столбцы продаж имеют сильную корреляцию между собой! Отсюда мораль, можем смело выкидывать все, кроме NA_Sales и PAL_Sales.  \n",
    "Далее неплохо бы было провести тест на гетероскедастичность, но мы не будем так заморачиваться."
   ]
  },
  {
   "cell_type": "code",
   "execution_count": 44,
   "metadata": {},
   "outputs": [],
   "source": [
    "# Отделим от нашей выборки прогнозные значения:\n",
    "corr_df.dropna(inplace=True)\n",
    "X = corr_df.drop(['Rank', 'Critic_Score', 'Platform', 'Publisher', 'Developer', 'Global_Sales', 'Other_Sales'], axis=1)\n",
    "y = corr_df['Critic_Score']"
   ]
  },
  {
   "cell_type": "code",
   "execution_count": 45,
   "metadata": {},
   "outputs": [
    {
     "data": {
      "text/html": [
       "<div>\n",
       "<style scoped>\n",
       "    .dataframe tbody tr th:only-of-type {\n",
       "        vertical-align: middle;\n",
       "    }\n",
       "\n",
       "    .dataframe tbody tr th {\n",
       "        vertical-align: top;\n",
       "    }\n",
       "\n",
       "    .dataframe thead th {\n",
       "        text-align: right;\n",
       "    }\n",
       "</style>\n",
       "<table border=\"1\" class=\"dataframe\">\n",
       "  <thead>\n",
       "    <tr style=\"text-align: right;\">\n",
       "      <th></th>\n",
       "      <th>NA_Sales</th>\n",
       "      <th>PAL_Sales</th>\n",
       "    </tr>\n",
       "  </thead>\n",
       "  <tbody>\n",
       "    <tr>\n",
       "      <th>7</th>\n",
       "      <td>0.84</td>\n",
       "      <td>4.33</td>\n",
       "    </tr>\n",
       "    <tr>\n",
       "      <th>8</th>\n",
       "      <td>0.83</td>\n",
       "      <td>4.49</td>\n",
       "    </tr>\n",
       "    <tr>\n",
       "      <th>10</th>\n",
       "      <td>1.63</td>\n",
       "      <td>2.46</td>\n",
       "    </tr>\n",
       "    <tr>\n",
       "      <th>11</th>\n",
       "      <td>0.61</td>\n",
       "      <td>3.28</td>\n",
       "    </tr>\n",
       "    <tr>\n",
       "      <th>12</th>\n",
       "      <td>3.42</td>\n",
       "      <td>1.38</td>\n",
       "    </tr>\n",
       "    <tr>\n",
       "      <th>...</th>\n",
       "      <td>...</td>\n",
       "      <td>...</td>\n",
       "    </tr>\n",
       "    <tr>\n",
       "      <th>555</th>\n",
       "      <td>0.01</td>\n",
       "      <td>0.00</td>\n",
       "    </tr>\n",
       "    <tr>\n",
       "      <th>556</th>\n",
       "      <td>0.00</td>\n",
       "      <td>0.00</td>\n",
       "    </tr>\n",
       "    <tr>\n",
       "      <th>557</th>\n",
       "      <td>0.00</td>\n",
       "      <td>0.00</td>\n",
       "    </tr>\n",
       "    <tr>\n",
       "      <th>560</th>\n",
       "      <td>0.00</td>\n",
       "      <td>0.00</td>\n",
       "    </tr>\n",
       "    <tr>\n",
       "      <th>563</th>\n",
       "      <td>0.00</td>\n",
       "      <td>0.00</td>\n",
       "    </tr>\n",
       "  </tbody>\n",
       "</table>\n",
       "<p>435 rows × 2 columns</p>\n",
       "</div>"
      ],
      "text/plain": [
       "     NA_Sales  PAL_Sales\n",
       "7        0.84       4.33\n",
       "8        0.83       4.49\n",
       "10       1.63       2.46\n",
       "11       0.61       3.28\n",
       "12       3.42       1.38\n",
       "..        ...        ...\n",
       "555      0.01       0.00\n",
       "556      0.00       0.00\n",
       "557      0.00       0.00\n",
       "560      0.00       0.00\n",
       "563      0.00       0.00\n",
       "\n",
       "[435 rows x 2 columns]"
      ]
     },
     "execution_count": 45,
     "metadata": {},
     "output_type": "execute_result"
    }
   ],
   "source": [
    "X"
   ]
  },
  {
   "cell_type": "markdown",
   "metadata": {},
   "source": [
    "Рассмотрим несколько моделей, хотя и так ясно, что линейная регрессия нам не сильно поможет"
   ]
  },
  {
   "cell_type": "code",
   "execution_count": 46,
   "metadata": {},
   "outputs": [],
   "source": [
    "X_train, X_test, y_train, y_test = train_test_split(X, y, test_size=0.3, random_state=42)"
   ]
  },
  {
   "cell_type": "code",
   "execution_count": 47,
   "metadata": {},
   "outputs": [
    {
     "name": "stdout",
     "output_type": "stream",
     "text": [
      "r2_score: 0.17870708285874382\n"
     ]
    }
   ],
   "source": [
    "# метод наименьших квадратов - он же линейная регрессия\n",
    "LRreg = LinearRegression().fit(X_train, y_train)\n",
    "LRy_pred = LRreg.predict(X_test)\n",
    "print('r2_score:', r2_score(y_test, LRy_pred)) "
   ]
  },
  {
   "cell_type": "code",
   "execution_count": 48,
   "metadata": {},
   "outputs": [
    {
     "data": {
      "text/plain": [
       "<AxesSubplot:xlabel='Critic_Score'>"
      ]
     },
     "execution_count": 48,
     "metadata": {},
     "output_type": "execute_result"
    },
    {
     "data": {
      "image/png": "[encoded data removed]",
      "text/plain": [
       "<Figure size 432x288 with 1 Axes>"
      ]
     },
     "metadata": {
      "needs_background": "light"
     },
     "output_type": "display_data"
    }
   ],
   "source": [
    "sns.scatterplot(y_test, LRy_pred)"
   ]
  },
  {
   "cell_type": "markdown",
   "metadata": {},
   "source": [
    "в случае отличного предсказания все точки лежали бы на прямой под углом 45 градусов, а здесь мы видим настоящий кошмар, чего и следовало ожидать"
   ]
  },
  {
   "cell_type": "code",
   "execution_count": 49,
   "metadata": {},
   "outputs": [
    {
     "name": "stdout",
     "output_type": "stream",
     "text": [
      "r2_score: -0.050108046983377674\n"
     ]
    }
   ],
   "source": [
    "# случайный лес\n",
    "RFreg = RandomForestRegressor(n_estimators=500, max_features ='sqrt').fit(X_train, y_train)\n",
    "RFy_pred = RFreg.predict(X_test)\n",
    "print('r2_score:', r2_score(y_test, RFy_pred))"
   ]
  },
  {
   "cell_type": "code",
   "execution_count": 50,
   "metadata": {},
   "outputs": [
    {
     "data": {
      "text/plain": [
       "<AxesSubplot:xlabel='Critic_Score'>"
      ]
     },
     "execution_count": 50,
     "metadata": {},
     "output_type": "execute_result"
    },
    {
     "data": {
      "image/png": "[encoded data removed]",
      "text/plain": [
       "<Figure size 432x288 with 1 Axes>"
      ]
     },
     "metadata": {
      "needs_background": "light"
     },
     "output_type": "display_data"
    }
   ],
   "source": [
    "sns.scatterplot(y_test, RFy_pred)"
   ]
  },
  {
   "cell_type": "code",
   "execution_count": 51,
   "metadata": {},
   "outputs": [
    {
     "name": "stdout",
     "output_type": "stream",
     "text": [
      "r2_score: 0.01887849152631227\n"
     ]
    }
   ],
   "source": [
    "# метод ближайших соседей\n",
    "KNreg = KNeighborsRegressor(n_neighbors=6).fit(X_train, y_train)\n",
    "KNy_pred = KNreg.predict(X_test)\n",
    "print('r2_score:', r2_score(y_test, KNy_pred))"
   ]
  },
  {
   "cell_type": "code",
   "execution_count": 52,
   "metadata": {},
   "outputs": [
    {
     "data": {
      "text/plain": [
       "<AxesSubplot:xlabel='Critic_Score'>"
      ]
     },
     "execution_count": 52,
     "metadata": {},
     "output_type": "execute_result"
    },
    {
     "data": {
      "image/png": "[encoded data removed]",
      "text/plain": [
       "<Figure size 432x288 with 1 Axes>"
      ]
     },
     "metadata": {
      "needs_background": "light"
     },
     "output_type": "display_data"
    }
   ],
   "source": [
    "sns.scatterplot(y_test, KNy_pred)"
   ]
  },
  {
   "cell_type": "markdown",
   "metadata": {},
   "source": [
    "В общем из коробки все эти модели работают кошмарно"
   ]
  },
  {
   "cell_type": "markdown",
   "metadata": {},
   "source": [
    "Есть еще изуверский вариант попробовать что-то типа полиномиальных фич, но я не шибко пока разобрался, как конвертировать результат их работы во вменяемый ответ"
   ]
  },
  {
   "cell_type": "code",
   "execution_count": 53,
   "metadata": {},
   "outputs": [],
   "source": [
    "model = LinearRegression()\n",
    "poly = PolynomialFeatures(degree=3, include_bias=False)\n",
    "X_new = poly.fit_transform(X_train)\n",
    "model.fit(X_new, y_train)\n",
    "y_pred = model.predict(X_new)"
   ]
  },
  {
   "cell_type": "code",
   "execution_count": 54,
   "metadata": {},
   "outputs": [
    {
     "name": "stdout",
     "output_type": "stream",
     "text": [
      "[ 7.56668637  8.28903298  7.64599197  7.30643933  6.90193259  6.98532197\n",
      "  6.70738576  6.83859987  6.72840952  6.7001387   7.07447947  8.00790208\n",
      "  6.94423322  8.00344078  6.98587216  7.87970294  6.77151158  7.20695619\n",
      "  7.44755394  8.45387633  7.64731867  7.51157143  8.37380131  7.65316606\n",
      "  7.20566657  8.11738555  6.66416796  6.84473877  7.47309526  7.52632312\n",
      "  7.53138756  7.79187222  7.39667393  6.98012905  6.66416796  8.41071774\n",
      "  8.07578686  7.03947622  7.60226265  7.45553789  6.98826548  7.83459411\n",
      "  7.9700682   6.9702987   6.56799983  8.98320458  6.982526    6.88339044\n",
      "  7.43210441  6.95343028  7.41686047  8.06426403  7.29212606  7.57505893\n",
      "  7.85953217  7.48725976  6.75638955  7.78325302  6.64271875  7.46797912\n",
      "  6.63508446  7.61452003  7.7204906   7.48370333  7.7932541   7.04079913\n",
      "  7.95485144  7.07077003  7.86045998  7.21889114  8.45387633  8.08414233\n",
      "  6.69295648  8.16357966  7.05432976  7.56118893  7.53648685  6.60570448\n",
      "  7.63772298  7.56604521  7.1639328   8.40000504  8.52231618  7.93987304\n",
      "  7.64489233  7.56127708  7.04680512  7.67162532  7.67653177  8.22201186\n",
      "  7.06351918  7.04079913  7.42593188  6.95803683  6.8506027   6.74965454\n",
      "  7.00333308  8.27063843  7.67259707  6.96025337  6.97343332  7.38504433\n",
      "  7.200617    8.39358002  6.82651916  7.67441815  7.10458298  6.83859987\n",
      "  6.67157561  7.29719814  7.00513555  7.82342737  7.41587363  6.72145151\n",
      "  7.1065893   6.63508446  7.11088542  7.97763962  9.42871897  6.81078301\n",
      "  7.14913319  7.15322211  7.22766447  7.36737567  7.53911393  6.92718276\n",
      "  7.12609651  7.202201    6.63508446  6.66416796  7.60226265  6.90345408\n",
      "  7.76181873  8.02972851  7.63043361  7.10287526  6.98081981  8.05479549\n",
      "  7.79832705  7.08584015  6.93902515  6.75638955  8.23007389  6.89768435\n",
      "  8.34840892  7.11099965  7.4839645   7.11099965  8.41906373  6.59790701\n",
      "  7.79396102  8.00732816  7.35223219  7.66189098  7.87396712  8.1700054\n",
      "  8.39886089  8.43740615  7.17703109  8.08664288  6.85721211  7.03600099\n",
      "  7.58259976  7.76858842  8.4024812   7.48725976  6.85996756  6.89568756\n",
      "  7.46168792  8.2586264   6.96025337  7.11519346  7.29719814  6.98927258\n",
      "  6.82426456 10.25659675  7.13505689  6.72145151  8.1864582   7.6567288\n",
      "  6.63508446  7.58139291  7.72356199  7.99523173  7.22935642  7.54736733\n",
      "  7.76753796  8.06245642  8.14986423  7.03347488  7.11281815  6.72145151\n",
      "  8.23677279  6.93490958  7.62065255  7.33618743  7.25469372  7.87008817\n",
      "  6.85957652  7.49461897  8.00493431  8.05305253  7.50314628  7.26801346\n",
      "  7.02986862  7.93591396  6.90631248  9.14265824  7.3215843   8.47816945\n",
      "  6.69295648  6.8919802   7.70399681  7.11518268  6.78408029  6.96025337\n",
      "  7.11518268  7.7056284   7.11391961  7.20621777  6.69295648  7.37651989\n",
      "  6.60570448  6.67157561  7.00129206  6.92373548  6.90454483  7.51335848\n",
      "  7.89783064  8.43822869  7.34795184  7.20316731  6.94634418  6.8537874\n",
      "  7.52461286  8.50044838  8.25440416  6.63508446  8.1526182   8.55258663\n",
      "  7.56374017  7.74069802  6.9582826   6.71736924  6.96784733  6.94950749\n",
      "  8.44921986  6.98587216  7.34825776  7.12310762  8.10847385  7.0943478\n",
      "  7.92267664  6.98428981  7.76181873  7.02986862  6.59790701  8.00604753\n",
      "  7.13520669  6.58411777  7.05432976  7.41752549  7.93433298  6.87135261\n",
      "  8.23814476  7.22359285  7.5485658   6.56799983  7.51654002  7.25787299\n",
      "  8.38610217  8.12885742  6.98587216  6.95343028  7.04900119  8.71366663\n",
      "  7.13520669  7.87686975  7.24940602  7.66255223  6.72840952  7.18900653\n",
      "  6.63508446  6.94423322  7.3209358   6.83470649  7.51227264  7.88585585\n",
      "  7.59035044  6.83075261  8.32968918  6.77005466  7.84303707  6.98532197\n",
      "  7.56449317  7.33534831  6.56799983  7.59465827  7.80775909  8.5098467\n",
      "  7.43764821  7.38533093  6.94423322  7.69147628]\n"
     ]
    }
   ],
   "source": [
    "print(y_pred)"
   ]
  },
  {
   "cell_type": "markdown",
   "metadata": {},
   "source": [
    "Еще есть альтернатива попробовать другие нелинейные модели, но прикол в том, что те же деревья не дали адекватного результата.  \n",
    "В итоге я убил кучу времени, в результате получив шыш:)\n",
    "\n",
    "Какой ценный опыт я извлек в процессе?  \n",
    "* надо знать на порядки больше sklearn, чего нам не рассказывали, увы  \n",
    "* в разы больше практики с разными моделями\n",
    "* полностью осознал чего эта фигня по сути делает - фактически мне надо было решить задачу отыскания интерполирующего полинома (ну или добиться того же результата еще кучей разных техник), причем статистика в этом плане отличается от того, что я делал когда-то только бэкграундом (со всеми этими надматематическими предположениями о взаимосвязи данных и тп) ну и статистическими оценками насколько можно доверять полученному решению.  \n",
    "* а технически - когда я осознал что от меня требуется, то понял, что легко решил бы эту задачу в Matlab на чистом матане, даже без особого привлечения хипстерских терминов вроде полиномиальных фич, обучения моделей и тд и тп, которые слегка наводят тень на плетень:) в мое время мы называли такие штуки обычными задачами интерполяции  \n",
    "* ну и тут я облажался в основном потому что очень плохо знаю этот инструмент пока, в частности sklearn, его функции, их настройки и кучу всяких тонкостей и во всем этом нужно разбираться. То есть до меня дошло, чего от меня хотят, но как это выразить синтаксисом Питона - пока нет. Так что надо дальше развлекаться."
   ]
  },
  {
   "cell_type": "markdown",
   "metadata": {},
   "source": [
    "Ну и наконец давайте просто в лоб решим поставленную в начале задачу, раз уж наш поход вглубь не принес результатов. "
   ]
  },
  {
   "cell_type": "code",
   "execution_count": 55,
   "metadata": {},
   "outputs": [],
   "source": [
    "# сначала для извлечения списка я использовал функцию set, но быстро осознал, что она \n",
    "# не сохраняет порядок, так что пришлось немного покостылить\n",
    "genres_list = list(video_games_df['Genre'])"
   ]
  },
  {
   "cell_type": "code",
   "execution_count": 56,
   "metadata": {},
   "outputs": [
    {
     "name": "stdout",
     "output_type": "stream",
     "text": [
      "Requirement already satisfied: more_itertools in c:\\programdata\\anaconda3\\lib\\site-packages (8.4.0)\n"
     ]
    }
   ],
   "source": [
    "!pip install more_itertools"
   ]
  },
  {
   "cell_type": "code",
   "execution_count": 57,
   "metadata": {},
   "outputs": [
    {
     "data": {
      "text/plain": [
       "['Action',\n",
       " 'Action-Adventure',\n",
       " 'Adventure',\n",
       " 'Board Game',\n",
       " 'Education',\n",
       " 'Fighting',\n",
       " 'MMO',\n",
       " 'Misc',\n",
       " 'Music',\n",
       " 'Party',\n",
       " 'Platform',\n",
       " 'Puzzle',\n",
       " 'Racing',\n",
       " 'Role-Playing',\n",
       " 'Sandbox',\n",
       " 'Shooter',\n",
       " 'Simulation',\n",
       " 'Sports',\n",
       " 'Strategy',\n",
       " 'Visual Novel']"
      ]
     },
     "execution_count": 57,
     "metadata": {},
     "output_type": "execute_result"
    }
   ],
   "source": [
    "from more_itertools import unique_everseen\n",
    "genres_unq = sorted(list(unique_everseen(genres_list)))\n",
    "genres_unq"
   ]
  },
  {
   "cell_type": "code",
   "execution_count": 58,
   "metadata": {},
   "outputs": [
    {
     "name": "stdout",
     "output_type": "stream",
     "text": [
      "<class 'pandas.core.frame.DataFrame'>\n",
      "RangeIndex: 1024 entries, 0 to 1023\n",
      "Data columns (total 20 columns):\n",
      " #   Column            Non-Null Count  Dtype  \n",
      "---  ------            --------------  -----  \n",
      " 0   Action            1024 non-null   float64\n",
      " 1   Action-Adventure  99 non-null     float64\n",
      " 2   Adventure         394 non-null    float64\n",
      " 3   Board Game        1 non-null      float64\n",
      " 4   Education         1 non-null      float64\n",
      " 5   Fighting          328 non-null    float64\n",
      " 6   MMO               10 non-null     float64\n",
      " 7   Misc              338 non-null    float64\n",
      " 8   Music             25 non-null     float64\n",
      " 9   Party             15 non-null     float64\n",
      " 10  Platform          564 non-null    float64\n",
      " 11  Puzzle            285 non-null    float64\n",
      " 12  Racing            463 non-null    float64\n",
      " 13  Role-Playing      857 non-null    float64\n",
      " 14  Sandbox           1 non-null      float64\n",
      " 15  Shooter           843 non-null    float64\n",
      " 16  Simulation        229 non-null    float64\n",
      " 17  Sports            688 non-null    float64\n",
      " 18  Strategy          369 non-null    float64\n",
      " 19  Visual Novel      2 non-null      float64\n",
      "dtypes: float64(20)\n",
      "memory usage: 160.1 KB\n"
     ]
    }
   ],
   "source": [
    "# поскольку join и merge у меня упорно отказывались работать как надо в цикле\n",
    "# пришлось ехать из Питера в Москву через Дагестан и обойти проблему словарем\n",
    "\n",
    "list_dict = {}\n",
    "for genre in genres_unq:\n",
    "    genre_critics_df = video_games_df[video_games_df['Genre'] == genre].dropna(subset=['Critic_Score']).reset_index(drop=True)\n",
    "    genre_critics_df = genre_critics_df.drop(genre_critics_df.columns[[0, 1, 2, 3, 4, 5, 6, 7, 8, 10, 11, 12, 13, 14, 15, 16, 17, 18, 19, 20, 21, 22]], axis='columns')\n",
    "    genre_critics_df.rename(columns={'Critic_Score': genre}, inplace=True)\n",
    "    genre_list = list(genre_critics_df[genre])\n",
    "    list_dict.setdefault(genre, genre_list)\n",
    "critics_total = pd.DataFrame.from_dict(list_dict, orient='index').transpose()\n",
    "\n",
    "# в итоге у нас получился отличный датафрейм с критикой по жанрам\n",
    "critics_total.info()"
   ]
  },
  {
   "cell_type": "code",
   "execution_count": 59,
   "metadata": {},
   "outputs": [
    {
     "name": "stdout",
     "output_type": "stream",
     "text": [
      "<class 'pandas.core.frame.DataFrame'>\n",
      "RangeIndex: 1024 entries, 0 to 1023\n",
      "Data columns (total 12 columns):\n",
      " #   Column        Non-Null Count  Dtype  \n",
      "---  ------        --------------  -----  \n",
      " 0   Action        1024 non-null   float64\n",
      " 1   Adventure     394 non-null    float64\n",
      " 2   Fighting      328 non-null    float64\n",
      " 3   Misc          338 non-null    float64\n",
      " 4   Platform      564 non-null    float64\n",
      " 5   Puzzle        285 non-null    float64\n",
      " 6   Racing        463 non-null    float64\n",
      " 7   Role-Playing  857 non-null    float64\n",
      " 8   Shooter       843 non-null    float64\n",
      " 9   Simulation    229 non-null    float64\n",
      " 10  Sports        688 non-null    float64\n",
      " 11  Strategy      369 non-null    float64\n",
      "dtypes: float64(12)\n",
      "memory usage: 96.1 KB\n"
     ]
    }
   ],
   "source": [
    "# выкинем мусор\n",
    "critics_total.drop(critics_total.columns[[1,3,4,6,8,9,14,19]], axis='columns', inplace=True)\n",
    "critics_total.info()"
   ]
  },
  {
   "cell_type": "code",
   "execution_count": 60,
   "metadata": {},
   "outputs": [],
   "source": [
    "cd = critics_total.dropna()"
   ]
  },
  {
   "cell_type": "markdown",
   "metadata": {},
   "source": [
    "сделаем все по канону и узнаем, одинаковые ли дисперсии  \n"
   ]
  },
  {
   "cell_type": "code",
   "execution_count": 61,
   "metadata": {},
   "outputs": [
    {
     "data": {
      "text/plain": [
       "[1.301956484430122,\n",
       " 2.0845388150492923,\n",
       " 1.5927179115577506,\n",
       " 2.1357483648290443,\n",
       " 1.8538456551171785,\n",
       " 1.309639785663889,\n",
       " 1.6173326214221697,\n",
       " 0.9063389332773976,\n",
       " 1.4296599988558574,\n",
       " 2.3710165710036057,\n",
       " 0.9302946168074595,\n",
       " 1.6472557731545927]"
      ]
     },
     "execution_count": 61,
     "metadata": {},
     "output_type": "execute_result"
    }
   ],
   "source": [
    "headers_list =  cd.columns.values.tolist() \n",
    "var_list = [np.var(cd[header]) for header in headers_list]\n",
    "var_list"
   ]
  },
  {
   "cell_type": "markdown",
   "metadata": {},
   "source": [
    "нас интересует вот это значение 0,93... Максимально близкая к нему дисперсия у Role-Playing и Action"
   ]
  },
  {
   "cell_type": "code",
   "execution_count": 62,
   "metadata": {},
   "outputs": [
    {
     "data": {
      "text/plain": [
       "[6.66134809534924e-08,\n",
       " 1.5393061403301544e-07,\n",
       " 5.636842104195239e-10,\n",
       " 6.349456782572815e-08,\n",
       " 9.851697541307658e-06,\n",
       " 2.8552156550176733e-07,\n",
       " 1.6755862475292815e-07,\n",
       " 2.5622273369663162e-06,\n",
       " 2.8301768040250863e-08,\n",
       " 8.579211646653206e-11,\n",
       " 2.959867373419911e-08,\n",
       " 4.4182604796993985e-10]"
      ]
     },
     "execution_count": 62,
     "metadata": {},
     "output_type": "execute_result"
    }
   ],
   "source": [
    "normal_list = []\n",
    "for header in headers_list:\n",
    "    shapiro_test = st.shapiro(cd[header])\n",
    "    p = shapiro_test.pvalue\n",
    "    normal_list.append(p)\n",
    "normal_list"
   ]
  },
  {
   "cell_type": "markdown",
   "metadata": {},
   "source": [
    "Как видим распределение везде нормальное"
   ]
  },
  {
   "cell_type": "code",
   "execution_count": 63,
   "metadata": {},
   "outputs": [
    {
     "data": {
      "text/plain": [
       "F_onewayResult(statistic=1.2052121989807447, pvalue=0.30026388221220257)"
      ]
     },
     "execution_count": 63,
     "metadata": {},
     "output_type": "execute_result"
    }
   ],
   "source": [
    "data0 = cd['Sports']\n",
    "data1 = cd['Action']\n",
    "data2 = cd['Role-Playing']\n",
    "data3 = cd['Shooter']\n",
    "data4 = cd['Platform']\n",
    "\n",
    "f_onewayResult = f_oneway(data0, data1, data2)\n",
    "f_onewayResult"
   ]
  },
  {
   "cell_type": "markdown",
   "metadata": {},
   "source": [
    "__Итак, использовав тест ANOVA, мы показали что распределение оценок для этих жанров явно не совпадает__"
   ]
  },
  {
   "cell_type": "code",
   "execution_count": 64,
   "metadata": {},
   "outputs": [
    {
     "data": {
      "text/plain": [
       "Ttest_relResult(statistic=-1.5466566622503217, pvalue=0.12333293311039985)"
      ]
     },
     "execution_count": 64,
     "metadata": {},
     "output_type": "execute_result"
    }
   ],
   "source": [
    "st.ttest_rel(data0,data1)"
   ]
  },
  {
   "cell_type": "code",
   "execution_count": 65,
   "metadata": {},
   "outputs": [
    {
     "data": {
      "text/plain": [
       "Ttest_relResult(statistic=-1.0203578228982506, pvalue=0.3086402401975975)"
      ]
     },
     "execution_count": 65,
     "metadata": {},
     "output_type": "execute_result"
    }
   ],
   "source": [
    "st.ttest_rel(data0,data2)"
   ]
  },
  {
   "cell_type": "code",
   "execution_count": 66,
   "metadata": {},
   "outputs": [
    {
     "data": {
      "text/plain": [
       "Ttest_relResult(statistic=-0.0772574246043542, pvalue=0.9384865136367495)"
      ]
     },
     "execution_count": 66,
     "metadata": {},
     "output_type": "execute_result"
    }
   ],
   "source": [
    "st.ttest_rel(data0,data3)"
   ]
  },
  {
   "cell_type": "code",
   "execution_count": 67,
   "metadata": {},
   "outputs": [
    {
     "data": {
      "text/plain": [
       "Ttest_relResult(statistic=4.287956245550483, pvalue=2.663116413197523e-05)"
      ]
     },
     "execution_count": 67,
     "metadata": {},
     "output_type": "execute_result"
    }
   ],
   "source": [
    "st.ttest_rel(data0,data4)"
   ]
  },
  {
   "cell_type": "markdown",
   "metadata": {},
   "source": [
    "__А вот что нам сказал парный тест Стьюдента. При альфа = 0.05 его не проходят все, кроме Platform!__ "
   ]
  },
  {
   "cell_type": "markdown",
   "metadata": {},
   "source": [
    "Ок, прогоним все это добро через Welch’s t-test "
   ]
  },
  {
   "cell_type": "code",
   "execution_count": 68,
   "metadata": {},
   "outputs": [
    {
     "data": {
      "text/plain": [
       "Ttest_indResult(statistic=-1.496098255097224, pvalue=0.1353389861607342)"
      ]
     },
     "execution_count": 68,
     "metadata": {},
     "output_type": "execute_result"
    }
   ],
   "source": [
    "st.ttest_ind(data0, data1, equal_var = False)"
   ]
  },
  {
   "cell_type": "code",
   "execution_count": 69,
   "metadata": {},
   "outputs": [
    {
     "data": {
      "text/plain": [
       "Ttest_indResult(statistic=-0.9633539328989955, pvalue=0.3358806029576554)"
      ]
     },
     "execution_count": 69,
     "metadata": {},
     "output_type": "execute_result"
    }
   ],
   "source": [
    "st.ttest_ind(data0, data2, equal_var = False)"
   ]
  },
  {
   "cell_type": "code",
   "execution_count": 70,
   "metadata": {},
   "outputs": [
    {
     "data": {
      "text/plain": [
       "Ttest_indResult(statistic=-0.07296742778636635, pvalue=0.9418654638068378)"
      ]
     },
     "execution_count": 70,
     "metadata": {},
     "output_type": "execute_result"
    }
   ],
   "source": [
    "st.ttest_ind(data0, data3, equal_var = False)"
   ]
  },
  {
   "cell_type": "code",
   "execution_count": 71,
   "metadata": {},
   "outputs": [
    {
     "data": {
      "text/plain": [
       "Ttest_indResult(statistic=3.7343772919143317, pvalue=0.00021474549780235188)"
      ]
     },
     "execution_count": 71,
     "metadata": {},
     "output_type": "execute_result"
    }
   ],
   "source": [
    "st.ttest_ind(data0, data4, equal_var = False)"
   ]
  },
  {
   "cell_type": "markdown",
   "metadata": {},
   "source": [
    "В общем парные тесты показали нам картину куда более интересную - согластно Студенту и Уэльшу критики с такой же предвзятостью как к спорт.играм относятся разве что к платформерам. их они оценивают более-менее равным образом"
   ]
  },
  {
   "cell_type": "markdown",
   "metadata": {},
   "source": [
    "Ну и сравним еще с константой, принимая, что если средний рейтинг игр выше 3/4 максимального балла, то игры критикам нравятся"
   ]
  },
  {
   "cell_type": "code",
   "execution_count": 72,
   "metadata": {},
   "outputs": [
    {
     "name": "stdout",
     "output_type": "stream",
     "text": [
      "Не отвергаем нулевую гипотезу, спорт нравится критикам\n"
     ]
    }
   ],
   "source": [
    "# обратите внимание, что тут мы колупали почти оригинальный датасет\n",
    "alpha = 0.05\n",
    "result = st.ttest_1samp(critics_df['Critic_Score'], 7.5) \n",
    "if (result.statistic > 0) & (result.pvalue / 2 < alpha):\n",
    "    print('Отвергаем нулевую гипотезу, среднее меньше 7.5')\n",
    "else:\n",
    "    print('Не отвергаем нулевую гипотезу, спорт нравится критикам')"
   ]
  },
  {
   "cell_type": "markdown",
   "metadata": {},
   "source": [
    "__В итоге критикам таки нравятся спортивные игры, при этом распределение их оценок схоже разве что с платформерами и отличается от прочих__"
   ]
  },
  {
   "cell_type": "markdown",
   "metadata": {},
   "source": [
    "### Критикам нравятся больше игры на PC или на PS4?"
   ]
  },
  {
   "cell_type": "markdown",
   "metadata": {},
   "source": [
    "Ну в принципе тут процедура полностью аналогична, только мы так извращаться больше не станем и посчитаем все сразу"
   ]
  },
  {
   "cell_type": "code",
   "execution_count": 73,
   "metadata": {},
   "outputs": [
    {
     "name": "stdout",
     "output_type": "stream",
     "text": [
      "<class 'pandas.core.frame.DataFrame'>\n",
      "RangeIndex: 865 entries, 0 to 864\n",
      "Data columns (total 13 columns):\n",
      " #   Column        Non-Null Count  Dtype  \n",
      "---  ------        --------------  -----  \n",
      " 0   Rank          865 non-null    int64  \n",
      " 1   Name          865 non-null    object \n",
      " 2   basename      865 non-null    object \n",
      " 3   Genre         865 non-null    object \n",
      " 4   ESRB_Rating   724 non-null    object \n",
      " 5   Platform      865 non-null    object \n",
      " 6   Publisher     865 non-null    object \n",
      " 7   Developer     865 non-null    object \n",
      " 8   Critic_Score  865 non-null    float64\n",
      " 9   Global_Sales  398 non-null    float64\n",
      " 10  PAL_Sales     384 non-null    float64\n",
      " 11  Other_Sales   363 non-null    float64\n",
      " 12  Year          864 non-null    float64\n",
      "dtypes: float64(5), int64(1), object(7)\n",
      "memory usage: 88.0+ KB\n"
     ]
    }
   ],
   "source": [
    "games_pc_df = video_games_df[video_games_df['Platform'] == 'PC']\n",
    "games_pc_df = games_pc_df.dropna(subset=['Critic_Score'])\n",
    "games_pc_df = games_pc_df.reset_index(drop=True)\n",
    "games_pc_df.drop(games_pc_df.columns[[8,10,11,13,15,18,19,20,21,22]], axis='columns', inplace=True)\n",
    "games_pc_df.info()"
   ]
  },
  {
   "cell_type": "code",
   "execution_count": 74,
   "metadata": {},
   "outputs": [
    {
     "name": "stdout",
     "output_type": "stream",
     "text": [
      "<class 'pandas.core.frame.DataFrame'>\n",
      "RangeIndex: 109 entries, 0 to 108\n",
      "Data columns (total 13 columns):\n",
      " #   Column        Non-Null Count  Dtype  \n",
      "---  ------        --------------  -----  \n",
      " 0   Rank          109 non-null    int64  \n",
      " 1   Name          109 non-null    object \n",
      " 2   basename      109 non-null    object \n",
      " 3   Genre         109 non-null    object \n",
      " 4   ESRB_Rating   104 non-null    object \n",
      " 5   Platform      109 non-null    object \n",
      " 6   Publisher     109 non-null    object \n",
      " 7   Developer     109 non-null    object \n",
      " 8   Critic_Score  109 non-null    float64\n",
      " 9   Global_Sales  84 non-null     float64\n",
      " 10  PAL_Sales     76 non-null     float64\n",
      " 11  Other_Sales   82 non-null     float64\n",
      " 12  Year          109 non-null    float64\n",
      "dtypes: float64(5), int64(1), object(7)\n",
      "memory usage: 11.2+ KB\n"
     ]
    }
   ],
   "source": [
    "games_ps4_df = video_games_df[video_games_df['Platform'] == 'PS4']\n",
    "games_ps4_df = games_ps4_df.dropna(subset=['Critic_Score'])\n",
    "games_ps4_df = games_ps4_df.reset_index(drop=True)\n",
    "games_ps4_df.drop(games_ps4_df.columns[[8,10,11,13,15,18,19,20,21,22]], axis='columns', inplace=True)\n",
    "games_ps4_df.info()"
   ]
  },
  {
   "cell_type": "code",
   "execution_count": 75,
   "metadata": {},
   "outputs": [
    {
     "name": "stdout",
     "output_type": "stream",
     "text": [
      "games_pc var =  2.057393110361195\n",
      "games_ps4 var =  1.6364009763487923\n"
     ]
    }
   ],
   "source": [
    "print('games_pc var = ', np.var(games_pc_df['Critic_Score']))\n",
    "print('games_ps4 var = ', np.var(games_ps4_df['Critic_Score']))"
   ]
  },
  {
   "cell_type": "code",
   "execution_count": 76,
   "metadata": {},
   "outputs": [
    {
     "name": "stdout",
     "output_type": "stream",
     "text": [
      "games_pc shapiro_test =  1.7335325677314844e-22\n",
      "games_ps4 shapiro_test =  2.9303817150605482e-09\n"
     ]
    }
   ],
   "source": [
    "shapiro_test = st.shapiro(games_pc_df['Critic_Score'])\n",
    "print('games_pc shapiro_test = ', shapiro_test.pvalue)\n",
    "shapiro_test = st.shapiro(games_ps4_df['Critic_Score'])\n",
    "print('games_ps4 shapiro_test = ', shapiro_test.pvalue)"
   ]
  },
  {
   "cell_type": "code",
   "execution_count": 77,
   "metadata": {},
   "outputs": [
    {
     "data": {
      "text/plain": [
       "Ttest_indResult(statistic=-2.7394476056351627, pvalue=0.006931808250254211)"
      ]
     },
     "execution_count": 77,
     "metadata": {},
     "output_type": "execute_result"
    }
   ],
   "source": [
    "data0 = games_pc_df['Critic_Score']\n",
    "data1 = games_ps4_df['Critic_Score']\n",
    "st.ttest_ind(data0, data1, equal_var = False)"
   ]
  },
  {
   "cell_type": "markdown",
   "metadata": {},
   "source": [
    "Вывод - игры нравятся критикам одинаково "
   ]
  },
  {
   "cell_type": "markdown",
   "metadata": {},
   "source": [
    "### Критикам больше нравятся стрелялки или стратегии?"
   ]
  },
  {
   "cell_type": "markdown",
   "metadata": {},
   "source": [
    "Ну и тащемто последний совсем несложный вопрос "
   ]
  },
  {
   "cell_type": "code",
   "execution_count": null,
   "metadata": {},
   "outputs": [],
   "source": [
    "shooter_df = video_games_df[video_games_df['Genre'] == 'Shooter']\n",
    "shooter_df = shooter_df.dropna(subset=['Critic_Score'])\n",
    "shooter_df = shooter_df.reset_index(drop=True)\n",
    "shooter_df.drop(shooter_df.columns[[8,10,11,13,15,18,19,20,21,22]], axis='columns', inplace=True)\n",
    "shooter_df.info()"
   ]
  },
  {
   "cell_type": "code",
   "execution_count": null,
   "metadata": {},
   "outputs": [],
   "source": [
    "strategy_df = video_games_df[video_games_df['Genre'] == 'Strategy']\n",
    "strategy_df = strategy_df.dropna(subset=['Critic_Score'])\n",
    "strategy_df = strategy_df.reset_index(drop=True)\n",
    "strategy_df.drop(strategy_df.columns[[8,10,11,13,15,18,19,20,21,22]], axis='columns', inplace=True)\n",
    "strategy_df.info()"
   ]
  },
  {
   "cell_type": "code",
   "execution_count": null,
   "metadata": {},
   "outputs": [],
   "source": [
    "result = st.ttest_ind(shooter_df['Critic_Score'], strategy_df['Critic_Score'], equal_var=False)\n",
    "print(result)"
   ]
  },
  {
   "cell_type": "markdown",
   "metadata": {},
   "source": [
    "критики оперелеленно предпочитают шутеры стратегиям"
   ]
  },
  {
   "cell_type": "code",
   "execution_count": null,
   "metadata": {},
   "outputs": [],
   "source": []
  },
  {
   "cell_type": "code",
   "execution_count": null,
   "metadata": {},
   "outputs": [],
   "source": []
  },
  {
   "cell_type": "code",
   "execution_count": null,
   "metadata": {},
   "outputs": [],
   "source": []
  },
  {
   "cell_type": "code",
   "execution_count": null,
   "metadata": {},
   "outputs": [],
   "source": []
  }
 ],
 "metadata": {
  "kernelspec": {
   "display_name": "Python 3",
   "language": "python",
   "name": "python3"
  },
  "language_info": {
   "codemirror_mode": {
    "name": "ipython",
    "version": 3
   },
   "file_extension": ".py",
   "mimetype": "text/x-python",
   "name": "python",
   "nbconvert_exporter": "python",
   "pygments_lexer": "ipython3",
   "version": "3.8.3"
  },
  "latex_envs": {
   "LaTeX_envs_menu_present": true,
   "autoclose": true,
   "autocomplete": true,
   "bibliofile": "biblio.bib",
   "cite_by": "apalike",
   "current_citInitial": 1,
   "eqLabelWithNumbers": true,
   "eqNumInitial": 1,
   "hotkeys": {
    "equation": "Ctrl-E",
    "itemize": "Ctrl-I"
   },
   "labels_anchors": false,
   "latex_user_defs": false,
   "report_style_numbering": true,
   "user_envs_cfg": true
  },
  "toc": {
   "base_numbering": 1,
   "nav_menu": {},
   "number_sections": true,
   "sideBar": true,
   "skip_h1_title": true,
   "title_cell": "Table of Contents",
   "title_sidebar": "Contents",
   "toc_cell": true,
   "toc_position": {
    "height": "calc(100% - 180px)",
    "left": "10px",
    "top": "150px",
    "width": "165px"
   },
   "toc_section_display": true,
   "toc_window_display": true
  },
  "varInspector": {
   "cols": {
    "lenName": 16,
    "lenType": 16,
    "lenVar": 40
   },
   "kernels_config": {
    "python": {
     "delete_cmd_postfix": "",
     "delete_cmd_prefix": "del ",
     "library": "var_list.py",
     "varRefreshCmd": "print(var_dic_list())"
    },
    "r": {
     "delete_cmd_postfix": ") ",
     "delete_cmd_prefix": "rm(",
     "library": "var_list.r",
     "varRefreshCmd": "cat(var_dic_list()) "
    }
   },
   "types_to_exclude": [
    "module",
    "function",
    "builtin_function_or_method",
    "instance",
    "_Feature"
   ],
   "window_display": false
  }
 },
 "nbformat": 4,
 "nbformat_minor": 4
}

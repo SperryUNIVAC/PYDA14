{
 "cells": [
  {
   "cell_type": "markdown",
   "metadata": {},
   "source": [
    "Честно скажу, начал все это делать буквально за час до дедлайна, так что сделал минимум, увы, да и то, не факт что идеально. Не хотелось продлевать дедлайн, так что лучше сдам, а потом доработаю, если нужно)"
   ]
  },
  {
   "cell_type": "markdown",
   "metadata": {},
   "source": [
    "## Задание 1"
   ]
  },
  {
   "cell_type": "code",
   "execution_count": null,
   "metadata": {},
   "outputs": [],
   "source": [
    "import datetime\n",
    "import calendar\n",
    "import re\n",
    "\n",
    "month_dict = {name: num for num, name in enumerate(calendar.month_abbr) if num}\n",
    "\n",
    "\n",
    "mt_date = 'Wednesday, October 2, 2002'\n",
    "g_date = 'Friday, 11.10.13'\n",
    "dn_date = 'Thursday, 18 August 1977'\n",
    "\n",
    "# надеюсь вообще правильно понял, что нужно написать что-то, что переводит даты в нормальный формат datetime\n",
    "\n",
    "def the_moscow_times_date(mt_date):\n",
    "    mt_date = mt_date.replace(',', '')\n",
    "    year_mt_date = int(mt_date.split()[3])\n",
    "    month_mt_date = month_dict[mt_date.split()[1][0:3]]\n",
    "    day_mt_date = int(mt_date.split()[2])\n",
    "    print(datetime.date(year_mt_date, month_mt_date, day_mt_date))\n",
    "\n",
    "\n",
    "def the_guardian_date(g_date):\n",
    "    g_date = g_date.split()[1]\n",
    "    g_date_year = re.search(r'(\\d\\d)(\\.)(\\d\\d)(\\.)(\\d\\d)', g_date)\n",
    "    g_date = g_date.replace(g_date_year[5], '20'+g_date_year[5])\n",
    "    g_date = re.sub(r'(\\.)', '/', g_date)\n",
    "    print(datetime.strptime(g_date, \"%d/%m/%Y\"))\n",
    "\n",
    "\n",
    "def daily_news(dn_date):\n",
    "    dn_date = dn_date.replace(',', '')\n",
    "    year_dn_date = int(dn_date.split()[3])\n",
    "    month_dn_date = month_dict[dn_date.split()[2][0:3]]\n",
    "    day_dn_date = int(dn_date.split()[1])\n",
    "    print(datetime.date(year_dn_date, month_dn_date, day_dn_date))"
   ]
  },
  {
   "cell_type": "markdown",
   "metadata": {},
   "source": [
    "## Задание 2"
   ]
  },
  {
   "cell_type": "code",
   "execution_count": null,
   "metadata": {},
   "outputs": [],
   "source": [
    "stream = ['2018-04-02', '2018-02-29', '2018-19-02']\n",
    "\n",
    "# решил для простоты, а пускай сама функция и проверяет - нормальый ей формат дали или нет\n",
    "\n",
    "for i in range(0, len(stream)):\n",
    "    date = stream[i].split('-')\n",
    "    datetime.date(int(date[0]), int(date[1]), int(date[2]))\n",
    "    try:\n",
    "        print('True')\n",
    "    except ValueError:\n",
    "        print('False')"
   ]
  }
 ],
 "metadata": {
  "kernelspec": {
   "display_name": "Python 3",
   "language": "python",
   "name": "python3"
  },
  "language_info": {
   "codemirror_mode": {
    "name": "ipython",
    "version": 3
   },
   "file_extension": ".py",
   "mimetype": "text/x-python",
   "name": "python",
   "nbconvert_exporter": "python",
   "pygments_lexer": "ipython3",
   "version": "3.8.3"
  }
 },
 "nbformat": 4,
 "nbformat_minor": 4
}

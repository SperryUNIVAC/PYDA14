{
 "cells": [
  {
   "cell_type": "markdown",
   "metadata": {},
   "source": [
    "## Задания 1-2"
   ]
  },
  {
   "cell_type": "code",
   "execution_count": null,
   "metadata": {},
   "outputs": [],
   "source": [
    "import numpy as np\n",
    "\n",
    "# создадим перевернутый массив\n",
    "N = int(input('Введите N: '))\n",
    "first_array = np.array(list(reversed([i for i in range(0, N)])))\n",
    "print(first_array)\n",
    "\n",
    "# создадим из него диагональную матрицу\n",
    "mat = np.diag(first_array)\n",
    "print(mat)\n",
    "\n",
    "# найдем след этой матрицы\n",
    "print(np.trace(mat))"
   ]
  },
  {
   "cell_type": "markdown",
   "metadata": {},
   "source": [
    "## Задание 3"
   ]
  },
  {
   "cell_type": "code",
   "execution_count": null,
   "metadata": {},
   "outputs": [],
   "source": [
    "# Тут все невероятно примитивно, я сначала хотел написать метод Гаусса с поддержкой вычислений в\n",
    "# обыкновенных дробях, но решил, что функционал Matlab все равно никто не оценит, да и не нужно\n",
    "\n",
    "a = np.array([[4, 2, 1], [1, 3, 0], [0, 5, 4]], float)\n",
    "b = np.array([[4], [12], [-3]], float)\n",
    "\n",
    "# Поэтому я быстро провел три базовых теста, хотя и так ясно, что система решится\n",
    "\n",
    "# Тест на совместность, воспользуемся теоремой Кронекера о ранге и установим, совместна ли система\n",
    "c = np.concatenate((a, b), axis=1)\n",
    "print(np.linalg.matrix_rank(a) == np.linalg.matrix_rank(c))\n",
    "\n",
    "# Тест на определенность\n",
    "print(np.linalg.matrix_rank(a) == len(a[1]))\n",
    "\n",
    "# Тест на неоднородность\n",
    "print(any(b != 0))\n",
    "\n",
    "# Итак, мы доказали, что решение существует и единственно и только после этого можем\n",
    "# использовать с чистой совестью встроенный матричный метод\n",
    "print(np.linalg.solve(a, b))\n",
    "\n",
    "# Заметим, что в случае однородности системы с этим методом мы бы дали маху и пришлось таки писать метод Гауса,\n",
    "# да еще и с поддержкой символьных вычислений (если, конечно, есть цель найти общее решение системы)"
   ]
  },
  {
   "cell_type": "markdown",
   "metadata": {},
   "source": [
    "## Задание 4"
   ]
  },
  {
   "cell_type": "code",
   "execution_count": null,
   "metadata": {},
   "outputs": [],
   "source": [
    "user_stats = np.array(\n",
    "    [\n",
    "        [2, 1, 0, 0, 0, 0],\n",
    "        [1, 1, 2, 1, 0, 0],\n",
    "        [2, 0, 1, 0, 0, 0],\n",
    "        [1, 1, 2, 1, 0, 1],\n",
    "        [0, 0, 1, 1, 0, 0],\n",
    "        [0, 0, 0, 2, 0, 5],\n",
    "        [1, 0, 0, 0, 0, 0],\n",
    "        [0, 1, 1, 0, 0, 0],\n",
    "        [0, 0, 0, 1, 1, 3],\n",
    "        [1, 0, 0, 2, 1, 4]\n",
    "    ], np.int32\n",
    ")\n",
    "\n",
    "next_user_stats = np.array([0, 1, 2, 0, 0, 0])\n",
    "\n",
    "# Тут тоже все очень просто. Определим функцию вычисления косинуса и применим ко всем строкам, так и цикл писать не нужно\n",
    "\n",
    "\n",
    "def cos_array(x):\n",
    "    return np.dot(x, next_user_stats)/(np.linalg.norm(user_stats[0]) * np.linalg.norm(x))\n",
    "\n",
    "\n",
    "cos_list = list(np.apply_along_axis(cos_array, axis=1, arr=user_stats))\n",
    "\n",
    "# Вернем результат в виде вектора, соответствующего максимальному косинусу, а значит, минимальному углу\n",
    "print(user_stats[cos_list.index(max(cos_list))])"
   ]
  }
 ],
 "metadata": {
  "kernelspec": {
   "display_name": "Python 3",
   "language": "python",
   "name": "python3"
  },
  "language_info": {
   "codemirror_mode": {
    "name": "ipython",
    "version": 3
   },
   "file_extension": ".py",
   "mimetype": "text/x-python",
   "name": "python",
   "nbconvert_exporter": "python",
   "pygments_lexer": "ipython3",
   "version": "3.8.3"
  }
 },
 "nbformat": 4,
 "nbformat_minor": 4
}

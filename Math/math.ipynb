{
 "cells": [
  {
   "cell_type": "markdown",
   "metadata": {
    "toc": true
   },
   "source": [
    "<h1>Table of Contents<span class=\"tocSkip\"></span></h1>\n",
    "<div class=\"toc\"><ul class=\"toc-item\"><li><span><a href=\"#Домашнее-задание-&quot;Линейная-алгебра.-Векторы&quot;\" data-toc-modified-id=\"Домашнее-задание-&quot;Линейная-алгебра.-Векторы&quot;-1\"><span class=\"toc-item-num\">1&nbsp;&nbsp;</span>Домашнее задание \"Линейная алгебра. Векторы\"</a></span></li><li><span><a href=\"#Домашнее-задание-&quot;Линейная-алгебра.-Матрицы&quot;\" data-toc-modified-id=\"Домашнее-задание-&quot;Линейная-алгебра.-Матрицы&quot;-2\"><span class=\"toc-item-num\">2&nbsp;&nbsp;</span>Домашнее задание \"Линейная алгебра. Матрицы\"</a></span><ul class=\"toc-item\"><li><span><a href=\"#Задание-1\" data-toc-modified-id=\"Задание-1-2.1\"><span class=\"toc-item-num\">2.1&nbsp;&nbsp;</span>Задание 1</a></span></li><li><span><a href=\"#Задание-2\" data-toc-modified-id=\"Задание-2-2.2\"><span class=\"toc-item-num\">2.2&nbsp;&nbsp;</span>Задание 2</a></span></li></ul></li></ul></div>"
   ]
  },
  {
   "cell_type": "code",
   "execution_count": 1,
   "metadata": {},
   "outputs": [],
   "source": [
    "import numpy as np\n",
    "import matplotlib.pyplot as plt\n",
    "import math"
   ]
  },
  {
   "cell_type": "markdown",
   "metadata": {},
   "source": [
    "## Домашнее задание \"Линейная алгебра. Векторы\""
   ]
  },
  {
   "cell_type": "code",
   "execution_count": 2,
   "metadata": {},
   "outputs": [],
   "source": [
    "v = np.array([[1, 1], [2, 0], [0, 2]])"
   ]
  },
  {
   "cell_type": "code",
   "execution_count": 3,
   "metadata": {},
   "outputs": [
    {
     "data": {
      "image/png": "[encoded data removed]",
      "text/plain": [
       "<Figure size 432x288 with 1 Axes>"
      ]
     },
     "metadata": {
      "needs_background": "light"
     },
     "output_type": "display_data"
    }
   ],
   "source": [
    "ax = plt.axes()\n",
    "ax.arrow(0, 0, *v[0], head_width=0.05, head_length=0.1)\n",
    "ax.arrow(0, 0, *v[1], head_width=0.05, head_length=0.1)\n",
    "ax.arrow(0, 0, *v[2], head_width=0.05, head_length=0.1)\n",
    "ax.arrow(0, 0, *(v[0]+v[1]+v[2]), head_width=0.05, head_length=0.1, color = 'r' )\n",
    "plt.ylim(-1,5)\n",
    "plt.xlim(-1,5)\n",
    "plt.show()"
   ]
  },
  {
   "cell_type": "code",
   "execution_count": 4,
   "metadata": {},
   "outputs": [],
   "source": [
    "def angle(v1, v2, acute):\n",
    "    angle = np.arccos(np.dot(v1, v2) / (np.linalg.norm(v1) * np.linalg.norm(v2)))\n",
    "    if (acute == True):\n",
    "        return angle\n",
    "    else:\n",
    "        return 2 * np.pi - angle"
   ]
  },
  {
   "cell_type": "code",
   "execution_count": 5,
   "metadata": {},
   "outputs": [
    {
     "name": "stdout",
     "output_type": "stream",
     "text": [
      "0.785 rad, 45.0 deg\n"
     ]
    }
   ],
   "source": [
    "ang = angle(v[0], v[1], True)\n",
    "print(f\"{round(ang, 3)} rad, {round(ang*(180/np.pi), 3)} deg\")"
   ]
  },
  {
   "cell_type": "markdown",
   "metadata": {},
   "source": [
    "## Домашнее задание \"Линейная алгебра. Матрицы\""
   ]
  },
  {
   "cell_type": "markdown",
   "metadata": {},
   "source": [
    "### Задание 1"
   ]
  },
  {
   "cell_type": "code",
   "execution_count": 6,
   "metadata": {},
   "outputs": [
    {
     "data": {
      "text/plain": [
       "array([[ 2.,  2.,  3.],\n",
       "       [ 4.,  6.,  6.],\n",
       "       [ 7.,  8., 10.]])"
      ]
     },
     "execution_count": 6,
     "metadata": {},
     "output_type": "execute_result"
    }
   ],
   "source": [
    "m = np.arange(1,10).reshape(3,3)\n",
    "u = np.eye(3)\n",
    "m + u"
   ]
  },
  {
   "cell_type": "code",
   "execution_count": 7,
   "metadata": {},
   "outputs": [
    {
     "data": {
      "text/plain": [
       "array([1, 2, 3])"
      ]
     },
     "execution_count": 7,
     "metadata": {},
     "output_type": "execute_result"
    }
   ],
   "source": [
    "v = np.arange(1,4)\n",
    "v"
   ]
  },
  {
   "cell_type": "code",
   "execution_count": 8,
   "metadata": {},
   "outputs": [
    {
     "name": "stdout",
     "output_type": "stream",
     "text": [
      "[31. 38. 45.] [15. 34. 53.]\n"
     ]
    }
   ],
   "source": [
    "# в задании не сказано, левое или правое умножение, так что можно и так и так\n",
    "\n",
    "print(v.dot(m + u), (m + u).dot(v))"
   ]
  },
  {
   "cell_type": "code",
   "execution_count": 9,
   "metadata": {},
   "outputs": [
    {
     "data": {
      "text/plain": [
       "array([[-6. , -2. ,  3. ],\n",
       "       [-1. ,  0.5,  0. ],\n",
       "       [ 5. ,  1. , -2. ]])"
      ]
     },
     "execution_count": 9,
     "metadata": {},
     "output_type": "execute_result"
    }
   ],
   "source": [
    "from numpy import linalg\n",
    "\n",
    "# В задании сказано инвертировать результат умножения матрицы на вектор, \n",
    "# но это технически невозможно, так как обратные матрицы определены только \n",
    "# для квадратных. Так что инвертируем то, что можно\n",
    "\n",
    "linalg.inv(m + u)"
   ]
  },
  {
   "cell_type": "markdown",
   "metadata": {},
   "source": [
    "### Задание 2"
   ]
  },
  {
   "cell_type": "code",
   "execution_count": 10,
   "metadata": {},
   "outputs": [
    {
     "data": {
      "text/plain": [
       "(-200.0, 200.0)"
      ]
     },
     "execution_count": 10,
     "metadata": {},
     "output_type": "execute_result"
    },
    {
     "data": {
      "image/png": "[encoded data removed]",
      "text/plain": [
       "<Figure size 432x288 with 1 Axes>"
      ]
     },
     "metadata": {
      "needs_background": "light"
     },
     "output_type": "display_data"
    }
   ],
   "source": [
    "A = [\n",
    "[-100, -100, 1],\n",
    "[-100, 100, 1],\n",
    "[100, 100, 1],\n",
    "[0, 0, 1],\n",
    "[100, -100, 1],\n",
    "[-100, -100, 1]\n",
    "]\n",
    "\n",
    "A = np.array(A)\n",
    "x = A[:,0]\n",
    "y = A[:,1]\n",
    "\n",
    "plt.plot(x, y)\n",
    "plt.ylim([-200, 200])\n",
    "plt.xlim([-200, 200])"
   ]
  },
  {
   "cell_type": "markdown",
   "metadata": {},
   "source": [
    "* Уменьшить объект в два раза\n",
    "* Повернуть на 130 градусов\n",
    "* Отразить объект относительно прямой y=x\n",
    "* Выполнить смещение объекта и масштабирование (применить 2 матрицы трансформаций). Смещение на (200, 300) и масштабирование на (0.5, 1.2)\n"
   ]
  },
  {
   "cell_type": "markdown",
   "metadata": {},
   "source": [
    "У нас имеется 6 векторов в двумерных однородных координатах, объединенных в массив А. Для того, что бы произвести с массивом операцию трансформации, необходимо произвести ее с каждым вектором."
   ]
  },
  {
   "cell_type": "code",
   "execution_count": 36,
   "metadata": {},
   "outputs": [],
   "source": [
    "# Изменение размера \n",
    "\n",
    "def figure_scale(A, a, b):\n",
    "    scale_matrix = np.array([[a, 0, 0], [0, b, 0], [0, 0, 1]])\n",
    "    A_scale = []\n",
    "    for i in range(0, len(A)):\n",
    "        A_transform = scale_matrix.dot(A[i])\n",
    "        A_scale.append(A_transform)\n",
    "    return A_scale"
   ]
  },
  {
   "cell_type": "code",
   "execution_count": 37,
   "metadata": {},
   "outputs": [
    {
     "data": {
      "text/plain": [
       "(-200.0, 200.0)"
      ]
     },
     "execution_count": 37,
     "metadata": {},
     "output_type": "execute_result"
    },
    {
     "data": {
      "image/png": "[encoded data removed]",
      "text/plain": [
       "<Figure size 432x288 with 1 Axes>"
      ]
     },
     "metadata": {
      "needs_background": "light"
     },
     "output_type": "display_data"
    }
   ],
   "source": [
    "a = 1/2\n",
    "b = 1/2\n",
    "\n",
    "x_scale = np.array(figure_scale(A, a, b))[:,0]\n",
    "y_scale = np.array(figure_scale(A, a, b))[:,1]  \n",
    "plt.plot(x_scale, y_scale)\n",
    "plt.ylim([-200, 200])\n",
    "plt.xlim([-200, 200])"
   ]
  },
  {
   "cell_type": "code",
   "execution_count": 38,
   "metadata": {},
   "outputs": [],
   "source": [
    "# Поворот \n",
    "# В задании не указано - по часовой стрелке или против, так что сделал оба\n",
    "\n",
    "def figure_rotate(A, deg_angle, clockwise):\n",
    "    cos_angle = round(math.cos(deg_angle*np.pi/180), 5)\n",
    "    sin_angle = round(math.sin(deg_angle*np.pi/180), 5)\n",
    "    if clockwise == True:\n",
    "        rotate_matrix = np.array([[sin_angle, cos_angle, 0], [cos_angle, -sin_angle, 0], [0, 0, 1]])\n",
    "    else:\n",
    "        rotate_matrix = np.array([[cos_angle, -sin_angle, 0], [sin_angle, cos_angle, 0], [0, 0, 1]])\n",
    "    A_rotate = []\n",
    "    for i in range(0, len(A)):\n",
    "        A_transform = rotate_matrix.dot(A[i])\n",
    "        A_rotate.append(A_transform)\n",
    "    return A_rotate"
   ]
  },
  {
   "cell_type": "code",
   "execution_count": 39,
   "metadata": {},
   "outputs": [
    {
     "data": {
      "text/plain": [
       "(-200.0, 200.0)"
      ]
     },
     "execution_count": 39,
     "metadata": {},
     "output_type": "execute_result"
    },
    {
     "data": {
      "image/png": "[encoded data removed]",
      "text/plain": [
       "<Figure size 432x288 with 1 Axes>"
      ]
     },
     "metadata": {
      "needs_background": "light"
     },
     "output_type": "display_data"
    }
   ],
   "source": [
    "deg_angle = 130\n",
    "\n",
    "x_rotate = np.array(figure_rotate(A, deg_angle, True))[:,0]\n",
    "y_rotate = np.array(figure_rotate(A, deg_angle, True))[:,1]  \n",
    "plt.plot(x_rotate, y_rotate)\n",
    "plt.ylim([-200, 200])\n",
    "plt.xlim([-200, 200])"
   ]
  },
  {
   "cell_type": "markdown",
   "metadata": {},
   "source": [
    "Немного кривовато вышло, не очень врубился, почему"
   ]
  },
  {
   "cell_type": "code",
   "execution_count": 40,
   "metadata": {},
   "outputs": [],
   "source": [
    "# Отражение относительно осей\n",
    "\n",
    "def figure_reflect(A, axis):\n",
    "    if axis == 'x':\n",
    "        reflect_matrix = np.array([[1, 0, 0], [0, -1, 0], [0, 0, 1]])\n",
    "    elif axis == 'y':\n",
    "        reflect_matrix = np.array([[-1, 0, 0], [0, 1, 0], [0, 0, 1]])\n",
    "    elif axis == 'origin':\n",
    "        reflect_matrix = np.array([[-1, 0, 0], [0, -1, 0], [0, 0, 1]])\n",
    "    A_reflect = []\n",
    "    for i in range(0, len(A)):\n",
    "        A_transform = reflect_matrix.dot(A[i])\n",
    "        A_reflect.append(A_transform)\n",
    "    return A_reflect"
   ]
  },
  {
   "cell_type": "code",
   "execution_count": 41,
   "metadata": {},
   "outputs": [],
   "source": [
    "# Сдвиг\n",
    "\n",
    "def figure_translate(A, X, Y):\n",
    "    translate_matrix = np.array([[1, 0, X], [0, 1, Y], [0, 0, 1]])\n",
    "    A_translate = []\n",
    "    for i in range(0, len(A)):\n",
    "        A_transform = translate_matrix.dot(A[i])\n",
    "        A_translate.append(A_transform)\n",
    "    return A_translate"
   ]
  },
  {
   "cell_type": "markdown",
   "metadata": {},
   "source": [
    "Но у нас-то отражение относительно y=x, а для такой фигуры это эквивалент поворота на 90 градусов и сдвига насколько я это по0быстрому представил)"
   ]
  },
  {
   "cell_type": "code",
   "execution_count": 45,
   "metadata": {},
   "outputs": [
    {
     "data": {
      "text/plain": [
       "(-200.0, 300.0)"
      ]
     },
     "execution_count": 45,
     "metadata": {},
     "output_type": "execute_result"
    },
    {
     "data": {
      "image/png": "[encoded data removed]",
      "text/plain": [
       "<Figure size 432x288 with 1 Axes>"
      ]
     },
     "metadata": {
      "needs_background": "light"
     },
     "output_type": "display_data"
    }
   ],
   "source": [
    "deg_angle = 90\n",
    "X = 100\n",
    "Y = 0\n",
    "\n",
    "x_reflect = np.array(figure_translate(figure_rotate(A, deg_angle, False), X, Y))[:,0]\n",
    "y_reflect = np.array(figure_translate(figure_rotate(A, deg_angle, False), X, Y))[:,1]  \n",
    "plt.plot(x_reflect, y_reflect)\n",
    "plt.ylim([-200, 200])\n",
    "plt.xlim([-200, 300])"
   ]
  },
  {
   "cell_type": "markdown",
   "metadata": {},
   "source": [
    "И последнее"
   ]
  },
  {
   "cell_type": "code",
   "execution_count": 47,
   "metadata": {},
   "outputs": [
    {
     "data": {
      "text/plain": [
       "(-200.0, 400.0)"
      ]
     },
     "execution_count": 47,
     "metadata": {},
     "output_type": "execute_result"
    },
    {
     "data": {
      "image/png": "[encoded data removed]",
      "text/plain": [
       "<Figure size 432x288 with 1 Axes>"
      ]
     },
     "metadata": {
      "needs_background": "light"
     },
     "output_type": "display_data"
    }
   ],
   "source": [
    "a = 0.5\n",
    "b = 1.2\n",
    "\n",
    "X = 200\n",
    "Y = 300\n",
    "\n",
    "x_comp = np.array(figure_scale(figure_translate(A, X, Y), a, b))[:,0]\n",
    "y_comp = np.array(figure_scale(figure_translate(A, X, Y), a, b))[:,1]  \n",
    "plt.plot(x_comp, y_comp)\n",
    "plt.ylim([-200, 500])\n",
    "plt.xlim([-200, 400])"
   ]
  }
 ],
 "metadata": {
  "kernelspec": {
   "display_name": "Python 3",
   "language": "python",
   "name": "python3"
  },
  "language_info": {
   "codemirror_mode": {
    "name": "ipython",
    "version": 3
   },
   "file_extension": ".py",
   "mimetype": "text/x-python",
   "name": "python",
   "nbconvert_exporter": "python",
   "pygments_lexer": "ipython3",
   "version": "3.8.3"
  },
  "toc": {
   "base_numbering": 1,
   "nav_menu": {},
   "number_sections": true,
   "sideBar": true,
   "skip_h1_title": true,
   "title_cell": "Table of Contents",
   "title_sidebar": "Contents",
   "toc_cell": true,
   "toc_position": {},
   "toc_section_display": true,
   "toc_window_display": true
  },
  "varInspector": {
   "cols": {
    "lenName": 16,
    "lenType": 16,
    "lenVar": 40
   },
   "kernels_config": {
    "python": {
     "delete_cmd_postfix": "",
     "delete_cmd_prefix": "del ",
     "library": "var_list.py",
     "varRefreshCmd": "print(var_dic_list())"
    },
    "r": {
     "delete_cmd_postfix": ") ",
     "delete_cmd_prefix": "rm(",
     "library": "var_list.r",
     "varRefreshCmd": "cat(var_dic_list()) "
    }
   },
   "types_to_exclude": [
    "module",
    "function",
    "builtin_function_or_method",
    "instance",
    "_Feature"
   ],
   "window_display": false
  }
 },
 "nbformat": 4,
 "nbformat_minor": 4
}

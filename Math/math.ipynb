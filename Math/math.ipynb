{
 "cells": [
  {
   "cell_type": "markdown",
   "metadata": {
    "toc": true
   },
   "source": [
    "<h1>Table of Contents<span class=\"tocSkip\"></span></h1>\n",
    "<div class=\"toc\"><ul class=\"toc-item\"><li><span><a href=\"#Домашнее-задание-&quot;Линейная-алгебра.-Векторы&quot;\" data-toc-modified-id=\"Домашнее-задание-&quot;Линейная-алгебра.-Векторы&quot;-1\"><span class=\"toc-item-num\">1&nbsp;&nbsp;</span>Домашнее задание \"Линейная алгебра. Векторы\"</a></span></li><li><span><a href=\"#Домашнее-задание-&quot;Линейная-алгебра.-Матрицы&quot;\" data-toc-modified-id=\"Домашнее-задание-&quot;Линейная-алгебра.-Матрицы&quot;-2\"><span class=\"toc-item-num\">2&nbsp;&nbsp;</span>Домашнее задание \"Линейная алгебра. Матрицы\"</a></span><ul class=\"toc-item\"><li><span><a href=\"#Задание-1\" data-toc-modified-id=\"Задание-1-2.1\"><span class=\"toc-item-num\">2.1&nbsp;&nbsp;</span>Задание 1</a></span></li><li><span><a href=\"#Задание-2\" data-toc-modified-id=\"Задание-2-2.2\"><span class=\"toc-item-num\">2.2&nbsp;&nbsp;</span>Задание 2</a></span></li></ul></li><li><span><a href=\"#Домашнее-задание-&quot;Продвинутая-линейная-алгебра&quot;\" data-toc-modified-id=\"Домашнее-задание-&quot;Продвинутая-линейная-алгебра&quot;-3\"><span class=\"toc-item-num\">3&nbsp;&nbsp;</span>Домашнее задание \"Продвинутая линейная алгебра\"</a></span><ul class=\"toc-item\"><li><span><a href=\"#Задание-1\" data-toc-modified-id=\"Задание-1-3.1\"><span class=\"toc-item-num\">3.1&nbsp;&nbsp;</span>Задание 1</a></span></li><li><span><a href=\"#Задание-2\" data-toc-modified-id=\"Задание-2-3.2\"><span class=\"toc-item-num\">3.2&nbsp;&nbsp;</span>Задание 2</a></span></li></ul></li><li><span><a href=\"#Домашнее-задание-&quot;Математический-анализ.-Производная&quot;\" data-toc-modified-id=\"Домашнее-задание-&quot;Математический-анализ.-Производная&quot;-4\"><span class=\"toc-item-num\">4&nbsp;&nbsp;</span>Домашнее задание \"Математический анализ. Производная\"</a></span></li><li><span><a href=\"#Домашнее-задание-&quot;Производная-функции-нескольких-аргументов&quot;\" data-toc-modified-id=\"Домашнее-задание-&quot;Производная-функции-нескольких-аргументов&quot;-5\"><span class=\"toc-item-num\">5&nbsp;&nbsp;</span>Домашнее задание \"Производная функции нескольких аргументов\"</a></span></li></ul></div>"
   ]
  },
  {
   "cell_type": "code",
   "execution_count": 4,
   "metadata": {},
   "outputs": [],
   "source": [
    "import numpy as np\n",
    "from numpy import linalg\n",
    "import matplotlib.pyplot as plt\n",
    "import math\n",
    "import sympy as sym\n",
    "\n",
    "from sklearn.datasets import load_digits\n",
    "from sklearn.decomposition import PCA\n",
    "from sklearn.metrics import mean_squared_error"
   ]
  },
  {
   "cell_type": "markdown",
   "metadata": {},
   "source": [
    "## Домашнее задание \"Линейная алгебра. Векторы\""
   ]
  },
  {
   "cell_type": "code",
   "execution_count": 2,
   "metadata": {},
   "outputs": [],
   "source": [
    "v = np.array([[1, 1], [2, 0], [0, 2]])"
   ]
  },
  {
   "cell_type": "code",
   "execution_count": 3,
   "metadata": {},
   "outputs": [
    {
     "data": {
      "image/png": "[encoded data removed]",
      "text/plain": [
       "<Figure size 432x288 with 1 Axes>"
      ]
     },
     "metadata": {
      "needs_background": "light"
     },
     "output_type": "display_data"
    }
   ],
   "source": [
    "ax = plt.axes()\n",
    "ax.arrow(0, 0, *v[0], head_width=0.05, head_length=0.1)\n",
    "ax.arrow(0, 0, *v[1], head_width=0.05, head_length=0.1)\n",
    "ax.arrow(0, 0, *v[2], head_width=0.05, head_length=0.1)\n",
    "ax.arrow(0, 0, *(v[0]+v[1]+v[2]), head_width=0.05, head_length=0.1, color = 'r' )\n",
    "plt.ylim(-1,5)\n",
    "plt.xlim(-1,5)\n",
    "plt.show()"
   ]
  },
  {
   "cell_type": "code",
   "execution_count": 4,
   "metadata": {},
   "outputs": [],
   "source": [
    "def angle(v1, v2, acute):\n",
    "    angle = np.arccos(np.dot(v1, v2) / (np.linalg.norm(v1) * np.linalg.norm(v2)))\n",
    "    if (acute == True):\n",
    "        return angle\n",
    "    else:\n",
    "        return 2 * np.pi - angle"
   ]
  },
  {
   "cell_type": "code",
   "execution_count": 5,
   "metadata": {},
   "outputs": [
    {
     "name": "stdout",
     "output_type": "stream",
     "text": [
      "0.785 rad, 45.0 deg\n"
     ]
    }
   ],
   "source": [
    "ang = angle(v[0], v[1], True)\n",
    "print(f\"{round(ang, 3)} rad, {round(ang*(180/np.pi), 3)} deg\")"
   ]
  },
  {
   "cell_type": "markdown",
   "metadata": {},
   "source": [
    "## Домашнее задание \"Линейная алгебра. Матрицы\""
   ]
  },
  {
   "cell_type": "markdown",
   "metadata": {},
   "source": [
    "### Задание 1"
   ]
  },
  {
   "cell_type": "code",
   "execution_count": 6,
   "metadata": {},
   "outputs": [
    {
     "data": {
      "text/plain": [
       "array([[ 2.,  2.,  3.],\n",
       "       [ 4.,  6.,  6.],\n",
       "       [ 7.,  8., 10.]])"
      ]
     },
     "execution_count": 6,
     "metadata": {},
     "output_type": "execute_result"
    }
   ],
   "source": [
    "m = np.arange(1,10).reshape(3,3)\n",
    "u = np.eye(3)\n",
    "m + u"
   ]
  },
  {
   "cell_type": "code",
   "execution_count": 7,
   "metadata": {},
   "outputs": [
    {
     "data": {
      "text/plain": [
       "array([1, 2, 3])"
      ]
     },
     "execution_count": 7,
     "metadata": {},
     "output_type": "execute_result"
    }
   ],
   "source": [
    "v = np.arange(1,4)\n",
    "v"
   ]
  },
  {
   "cell_type": "code",
   "execution_count": 8,
   "metadata": {},
   "outputs": [
    {
     "name": "stdout",
     "output_type": "stream",
     "text": [
      "[31. 38. 45.] [15. 34. 53.]\n"
     ]
    }
   ],
   "source": [
    "# в задании не сказано, левое или правое умножение, так что можно и так и так\n",
    "\n",
    "print(v.dot(m + u), (m + u).dot(v))"
   ]
  },
  {
   "cell_type": "code",
   "execution_count": 9,
   "metadata": {},
   "outputs": [
    {
     "data": {
      "text/plain": [
       "array([[-6. , -2. ,  3. ],\n",
       "       [-1. ,  0.5,  0. ],\n",
       "       [ 5. ,  1. , -2. ]])"
      ]
     },
     "execution_count": 9,
     "metadata": {},
     "output_type": "execute_result"
    }
   ],
   "source": [
    "from numpy import linalg\n",
    "\n",
    "# В задании сказано инвертировать результат умножения матрицы на вектор, \n",
    "# но это технически невозможно, так как обратные матрицы определены только \n",
    "# для квадратных. Так что инвертируем то, что можно\n",
    "\n",
    "linalg.inv(m + u)"
   ]
  },
  {
   "cell_type": "markdown",
   "metadata": {},
   "source": [
    "### Задание 2"
   ]
  },
  {
   "cell_type": "code",
   "execution_count": 10,
   "metadata": {},
   "outputs": [
    {
     "data": {
      "text/plain": [
       "(-200.0, 200.0)"
      ]
     },
     "execution_count": 10,
     "metadata": {},
     "output_type": "execute_result"
    },
    {
     "data": {
      "image/png": "[encoded data removed]",
      "text/plain": [
       "<Figure size 432x288 with 1 Axes>"
      ]
     },
     "metadata": {
      "needs_background": "light"
     },
     "output_type": "display_data"
    }
   ],
   "source": [
    "A = [\n",
    "[-100, -100, 1],\n",
    "[-100, 100, 1],\n",
    "[100, 100, 1],\n",
    "[0, 0, 1],\n",
    "[100, -100, 1],\n",
    "[-100, -100, 1]\n",
    "]\n",
    "\n",
    "A = np.array(A)\n",
    "x = A[:,0]\n",
    "y = A[:,1]\n",
    "\n",
    "plt.plot(x, y)\n",
    "plt.ylim([-200, 200])\n",
    "plt.xlim([-200, 200])"
   ]
  },
  {
   "cell_type": "markdown",
   "metadata": {},
   "source": [
    "* Уменьшить объект в два раза\n",
    "* Повернуть на 130 градусов\n",
    "* Отразить объект относительно прямой y=x\n",
    "* Выполнить смещение объекта и масштабирование (применить 2 матрицы трансформаций). Смещение на (200, 300) и масштабирование на (0.5, 1.2)\n"
   ]
  },
  {
   "cell_type": "markdown",
   "metadata": {},
   "source": [
    "У нас имеется 6 векторов в двумерных однородных координатах, объединенных в массив А. Для того, что бы произвести с массивом операцию трансформации, необходимо произвести ее с каждым вектором."
   ]
  },
  {
   "cell_type": "code",
   "execution_count": 36,
   "metadata": {},
   "outputs": [],
   "source": [
    "# Изменение размера \n",
    "\n",
    "def figure_scale(A, a, b):\n",
    "    scale_matrix = np.array([[a, 0, 0], [0, b, 0], [0, 0, 1]])\n",
    "    A_scale = []\n",
    "    for i in range(0, len(A)):\n",
    "        A_transform = scale_matrix.dot(A[i])\n",
    "        A_scale.append(A_transform)\n",
    "    return A_scale"
   ]
  },
  {
   "cell_type": "code",
   "execution_count": 37,
   "metadata": {},
   "outputs": [
    {
     "data": {
      "text/plain": [
       "(-200.0, 200.0)"
      ]
     },
     "execution_count": 37,
     "metadata": {},
     "output_type": "execute_result"
    },
    {
     "data": {
      "image/png": "[encoded data removed]",
      "text/plain": [
       "<Figure size 432x288 with 1 Axes>"
      ]
     },
     "metadata": {
      "needs_background": "light"
     },
     "output_type": "display_data"
    }
   ],
   "source": [
    "a = 1/2\n",
    "b = 1/2\n",
    "\n",
    "x_scale = np.array(figure_scale(A, a, b))[:,0]\n",
    "y_scale = np.array(figure_scale(A, a, b))[:,1]  \n",
    "plt.plot(x_scale, y_scale)\n",
    "plt.ylim([-200, 200])\n",
    "plt.xlim([-200, 200])"
   ]
  },
  {
   "cell_type": "code",
   "execution_count": 38,
   "metadata": {},
   "outputs": [],
   "source": [
    "# Поворот \n",
    "# В задании не указано - по часовой стрелке или против, так что сделал оба\n",
    "\n",
    "def figure_rotate(A, deg_angle, clockwise):\n",
    "    cos_angle = round(math.cos(deg_angle*np.pi/180), 5)\n",
    "    sin_angle = round(math.sin(deg_angle*np.pi/180), 5)\n",
    "    if clockwise == True:\n",
    "        rotate_matrix = np.array([[sin_angle, cos_angle, 0], [cos_angle, -sin_angle, 0], [0, 0, 1]])\n",
    "    else:\n",
    "        rotate_matrix = np.array([[cos_angle, -sin_angle, 0], [sin_angle, cos_angle, 0], [0, 0, 1]])\n",
    "    A_rotate = []\n",
    "    for i in range(0, len(A)):\n",
    "        A_transform = rotate_matrix.dot(A[i])\n",
    "        A_rotate.append(A_transform)\n",
    "    return A_rotate"
   ]
  },
  {
   "cell_type": "code",
   "execution_count": 39,
   "metadata": {},
   "outputs": [
    {
     "data": {
      "text/plain": [
       "(-200.0, 200.0)"
      ]
     },
     "execution_count": 39,
     "metadata": {},
     "output_type": "execute_result"
    },
    {
     "data": {
      "image/png": "[encoded data removed]",
      "text/plain": [
       "<Figure size 432x288 with 1 Axes>"
      ]
     },
     "metadata": {
      "needs_background": "light"
     },
     "output_type": "display_data"
    }
   ],
   "source": [
    "deg_angle = 130\n",
    "\n",
    "x_rotate = np.array(figure_rotate(A, deg_angle, True))[:,0]\n",
    "y_rotate = np.array(figure_rotate(A, deg_angle, True))[:,1]  \n",
    "plt.plot(x_rotate, y_rotate)\n",
    "plt.ylim([-200, 200])\n",
    "plt.xlim([-200, 200])"
   ]
  },
  {
   "cell_type": "markdown",
   "metadata": {},
   "source": [
    "Немного кривовато вышло, не очень врубился, почему"
   ]
  },
  {
   "cell_type": "code",
   "execution_count": 40,
   "metadata": {},
   "outputs": [],
   "source": [
    "# Отражение относительно осей\n",
    "\n",
    "def figure_reflect(A, axis):\n",
    "    if axis == 'x':\n",
    "        reflect_matrix = np.array([[1, 0, 0], [0, -1, 0], [0, 0, 1]])\n",
    "    elif axis == 'y':\n",
    "        reflect_matrix = np.array([[-1, 0, 0], [0, 1, 0], [0, 0, 1]])\n",
    "    elif axis == 'origin':\n",
    "        reflect_matrix = np.array([[-1, 0, 0], [0, -1, 0], [0, 0, 1]])\n",
    "    A_reflect = []\n",
    "    for i in range(0, len(A)):\n",
    "        A_transform = reflect_matrix.dot(A[i])\n",
    "        A_reflect.append(A_transform)\n",
    "    return A_reflect"
   ]
  },
  {
   "cell_type": "code",
   "execution_count": 41,
   "metadata": {},
   "outputs": [],
   "source": [
    "# Сдвиг\n",
    "\n",
    "def figure_translate(A, X, Y):\n",
    "    translate_matrix = np.array([[1, 0, X], [0, 1, Y], [0, 0, 1]])\n",
    "    A_translate = []\n",
    "    for i in range(0, len(A)):\n",
    "        A_transform = translate_matrix.dot(A[i])\n",
    "        A_translate.append(A_transform)\n",
    "    return A_translate"
   ]
  },
  {
   "cell_type": "markdown",
   "metadata": {},
   "source": [
    "Но у нас-то отражение относительно y=x, а для такой фигуры это эквивалент поворота на 90 градусов и сдвига насколько я это по-быстрому представил)"
   ]
  },
  {
   "cell_type": "code",
   "execution_count": 45,
   "metadata": {},
   "outputs": [
    {
     "data": {
      "text/plain": [
       "(-200.0, 300.0)"
      ]
     },
     "execution_count": 45,
     "metadata": {},
     "output_type": "execute_result"
    },
    {
     "data": {
      "image/png": "[encoded data removed]",
      "text/plain": [
       "<Figure size 432x288 with 1 Axes>"
      ]
     },
     "metadata": {
      "needs_background": "light"
     },
     "output_type": "display_data"
    }
   ],
   "source": [
    "deg_angle = 90\n",
    "X = 100\n",
    "Y = 0\n",
    "\n",
    "x_reflect = np.array(figure_translate(figure_rotate(A, deg_angle, False), X, Y))[:,0]\n",
    "y_reflect = np.array(figure_translate(figure_rotate(A, deg_angle, False), X, Y))[:,1]  \n",
    "plt.plot(x_reflect, y_reflect)\n",
    "plt.ylim([-200, 200])\n",
    "plt.xlim([-200, 300])"
   ]
  },
  {
   "cell_type": "markdown",
   "metadata": {},
   "source": [
    "И последнее"
   ]
  },
  {
   "cell_type": "code",
   "execution_count": 47,
   "metadata": {},
   "outputs": [
    {
     "data": {
      "text/plain": [
       "(-200.0, 400.0)"
      ]
     },
     "execution_count": 47,
     "metadata": {},
     "output_type": "execute_result"
    },
    {
     "data": {
      "image/png": "[encoded data removed]",
      "text/plain": [
       "<Figure size 432x288 with 1 Axes>"
      ]
     },
     "metadata": {
      "needs_background": "light"
     },
     "output_type": "display_data"
    }
   ],
   "source": [
    "a = 0.5\n",
    "b = 1.2\n",
    "\n",
    "X = 200\n",
    "Y = 300\n",
    "\n",
    "x_comp = np.array(figure_scale(figure_translate(A, X, Y), a, b))[:,0]\n",
    "y_comp = np.array(figure_scale(figure_translate(A, X, Y), a, b))[:,1]  \n",
    "plt.plot(x_comp, y_comp)\n",
    "plt.ylim([-200, 500])\n",
    "plt.xlim([-200, 400])"
   ]
  },
  {
   "cell_type": "markdown",
   "metadata": {},
   "source": [
    "## Домашнее задание \"Продвинутая линейная алгебра\""
   ]
  },
  {
   "cell_type": "markdown",
   "metadata": {},
   "source": [
    "### Задание 1"
   ]
  },
  {
   "cell_type": "markdown",
   "metadata": {},
   "source": [
    "Матрицы:  \n",
    "a) Диагональная, ортогональная, но не единичная  \n",
    "b) Верхнетреугольная, ортогональная  \n",
    "c) Нижнетреугольная, ортогональная  \n",
    "d) Матрица, у которой определитель = 1, и все элементы не равны 0  \n",
    "\n",
    "Во всех пунктах ответом должна быть ненулевая матрица размерности не менее 2."
   ]
  },
  {
   "cell_type": "code",
   "execution_count": 10,
   "metadata": {},
   "outputs": [
    {
     "data": {
      "text/plain": [
       "array([[-1,  0,  0],\n",
       "       [ 0, -1,  0],\n",
       "       [ 0,  0, -1]])"
      ]
     },
     "execution_count": 10,
     "metadata": {},
     "output_type": "execute_result"
    }
   ],
   "source": [
    "A = np.array([[-1, 0, 0], [0, -1, 0], [0, 0, -1]])\n",
    "A"
   ]
  },
  {
   "cell_type": "code",
   "execution_count": 11,
   "metadata": {},
   "outputs": [
    {
     "data": {
      "text/plain": [
       "array([[1, 0, 0],\n",
       "       [0, 1, 0],\n",
       "       [0, 0, 1]])"
      ]
     },
     "execution_count": 11,
     "metadata": {},
     "output_type": "execute_result"
    }
   ],
   "source": [
    "A.dot(A.T)"
   ]
  },
  {
   "cell_type": "markdown",
   "metadata": {},
   "source": [
    "Вообще отметим, что вещественная матрица может быть одновременно ортогональной и диагональной лишь в двух случаях - когда элементы на главной диагонали равны 1 или же -1, потому что"
   ]
  },
  {
   "cell_type": "markdown",
   "metadata": {},
   "source": [
    "$$\\begin{pmatrix}\n",
    "  d_{11}&\\ldots&0\\\\\n",
    "  \\vdots&\\ddots&\\vdots\\\\\n",
    "  0&\\ldots&d_{nn}\n",
    "\\end{pmatrix}*\\begin{pmatrix}\n",
    "  d_{11}&\\ldots&0\\\\\n",
    "  \\vdots&\\ddots&\\vdots\\\\\n",
    "  0&\\ldots&d_{nn}\n",
    "\\end{pmatrix}=\\begin{pmatrix}\n",
    "  1&\\ldots&0\\\\\n",
    "  \\vdots&\\ddots&\\vdots\\\\\n",
    "  0&\\ldots&1\n",
    "\\end{pmatrix}$$"
   ]
  },
  {
   "cell_type": "markdown",
   "metadata": {},
   "source": [
    "только если "
   ]
  },
  {
   "cell_type": "markdown",
   "metadata": {},
   "source": [
    "\\begin{equation*}\n",
    " \\begin{cases}\n",
    "   d_{11}^2 = 1, \n",
    "   \\\\\n",
    "   \\ldots,\n",
    "   \\\\\n",
    "   d_{nn}^2 = 1.\n",
    " \\end{cases}\n",
    "\\end{equation*}"
   ]
  },
  {
   "cell_type": "markdown",
   "metadata": {},
   "source": [
    "**Для рассмотрения верхних и нижних матриц воспользуемся SymPy, что бы не делать руками то, что может сделать машина**"
   ]
  },
  {
   "cell_type": "code",
   "execution_count": 69,
   "metadata": {},
   "outputs": [],
   "source": [
    "d = sym.symbols('d1:6')"
   ]
  },
  {
   "cell_type": "code",
   "execution_count": 70,
   "metadata": {},
   "outputs": [
    {
     "data": {
      "text/latex": [
       "$\\displaystyle \\left[\\begin{matrix}d_{1} & d_{2} & d_{3}\\\\0 & d_{4} & d_{5}\\\\0 & 0 & d_{6}\\end{matrix}\\right]$"
      ],
      "text/plain": [
       "Matrix([\n",
       "[d1, d2, d3],\n",
       "[ 0, d4, d5],\n",
       "[ 0,  0, d6]])"
      ]
     },
     "execution_count": 70,
     "metadata": {},
     "output_type": "execute_result"
    }
   ],
   "source": [
    "U = sym.Matrix([[d1, d2, d3], [0, d4, d5], [0, 0, d6]])\n",
    "U"
   ]
  },
  {
   "cell_type": "code",
   "execution_count": 71,
   "metadata": {},
   "outputs": [
    {
     "data": {
      "text/latex": [
       "$\\displaystyle \\left[\\begin{matrix}d_{1}^{2} + d_{2}^{2} + d_{3}^{2} & d_{2} d_{4} + d_{3} d_{5} & d_{3} d_{6}\\\\d_{2} d_{4} + d_{3} d_{5} & d_{4}^{2} + d_{5}^{2} & d_{5} d_{6}\\\\d_{3} d_{6} & d_{5} d_{6} & d_{6}^{2}\\end{matrix}\\right]$"
      ],
      "text/plain": [
       "Matrix([\n",
       "[d1**2 + d2**2 + d3**2, d2*d4 + d3*d5, d3*d6],\n",
       "[        d2*d4 + d3*d5, d4**2 + d5**2, d5*d6],\n",
       "[                d3*d6,         d5*d6, d6**2]])"
      ]
     },
     "execution_count": 71,
     "metadata": {},
     "output_type": "execute_result"
    }
   ],
   "source": [
    "U*U.T"
   ]
  },
  {
   "cell_type": "code",
   "execution_count": 39,
   "metadata": {},
   "outputs": [],
   "source": [
    "solution = sym.solve((d3*d6, d2*d4 + d3*d5, d5*d6, d1**2 + d2**2 + d3**2 - 1, d4**2 + d5**2 -1, d6**2 -1), (d1, d2, d3, d4, d5, d6))"
   ]
  },
  {
   "cell_type": "code",
   "execution_count": 46,
   "metadata": {},
   "outputs": [
    {
     "data": {
      "text/plain": [
       "[(-1, 0, 0, -1, 0, -1),\n",
       " (-1, 0, 0, -1, 0, 1),\n",
       " (-1, 0, 0, 1, 0, -1),\n",
       " (-1, 0, 0, 1, 0, 1),\n",
       " (1, 0, 0, -1, 0, -1),\n",
       " (1, 0, 0, -1, 0, 1),\n",
       " (1, 0, 0, 1, 0, -1),\n",
       " (1, 0, 0, 1, 0, 1)]"
      ]
     },
     "execution_count": 46,
     "metadata": {},
     "output_type": "execute_result"
    }
   ],
   "source": [
    "solution"
   ]
  },
  {
   "cell_type": "markdown",
   "metadata": {},
   "source": [
    "Ну, собственно, мы показали довольно очевидный факт, что U-матрица может быть ортогональной при тех же условиях, что и диагональная. С L-матрицей в принципе все аналогично."
   ]
  },
  {
   "cell_type": "markdown",
   "metadata": {},
   "source": [
    "Ну и упомянем, что все эти вещи несложно показать и не демонстрируя познания в Python. Пусть Р — ортогональная верхняя треугольная матрица. Тогда, с одной стороны, $$Р^{-1} = Р^T$$ является нижней треугольной, а с другой стороны $$Р^{-1},$$ будучи обратной к верхней треугольной матрице, является верхней треугольной. Одновременно оба условия выполняются, если матрица $$Р^{-1}$$ является диагональной. Тогда и Р — диагональная матрица. Кроме того, так как $$РР = РР^T = РР^{-1} = Е,$$ то диагональные элементы Р могут иметь лишь два значения 1 и —1."
   ]
  },
  {
   "cell_type": "markdown",
   "metadata": {},
   "source": [
    "**Теперь построим нетривиальную матрицу с единичным определителем**"
   ]
  },
  {
   "cell_type": "code",
   "execution_count": 78,
   "metadata": {},
   "outputs": [
    {
     "data": {
      "text/latex": [
       "$\\displaystyle x_{1} x_{5} x_{9} - x_{1} x_{6} x_{8} - x_{2} x_{4} x_{9} + x_{2} x_{6} x_{7} + x_{3} x_{4} x_{8} - x_{3} x_{5} x_{7}$"
      ],
      "text/plain": [
       "x1*x5*x9 - x1*x6*x8 - x2*x4*x9 + x2*x6*x7 + x3*x4*x8 - x3*x5*x7"
      ]
     },
     "execution_count": 78,
     "metadata": {},
     "output_type": "execute_result"
    }
   ],
   "source": [
    "x = sym.var('x0:10')\n",
    "H = sym.Matrix([[x1, x2, x3], [x4, x5, x6], [x7, x8, x9]])\n",
    "H.det()"
   ]
  },
  {
   "cell_type": "code",
   "execution_count": 79,
   "metadata": {},
   "outputs": [],
   "source": [
    "solution = sym.solve((x1*x5*x9-x1*x6*x8-x2*x4*x9+x2*x6*x7+x3*x4*x8-x3*x5*x7-1), (x1, x2, x3, x4, x5, x6, x7,x8, x9))"
   ]
  },
  {
   "cell_type": "code",
   "execution_count": 80,
   "metadata": {},
   "outputs": [
    {
     "data": {
      "text/plain": [
       "[((x2*x4*x9 - x2*x6*x7 - x3*x4*x8 + x3*x5*x7 + 1)/(x5*x9 - x6*x8),\n",
       "  x2,\n",
       "  x3,\n",
       "  x4,\n",
       "  x5,\n",
       "  x6,\n",
       "  x7,\n",
       "  x8,\n",
       "  x9)]"
      ]
     },
     "execution_count": 80,
     "metadata": {},
     "output_type": "execute_result"
    }
   ],
   "source": [
    "solution"
   ]
  },
  {
   "cell_type": "markdown",
   "metadata": {},
   "source": [
    "Ну ответ абсолютно ожидаемый, ок, поиграем с параметрами:"
   ]
  },
  {
   "cell_type": "code",
   "execution_count": 91,
   "metadata": {},
   "outputs": [],
   "source": [
    "x9 = 2\n",
    "x8 = 1\n",
    "x7 = 1\n",
    "x6 = 2\n",
    "x5 = 2\n",
    "x4 = 1\n",
    "x3 = 3\n",
    "x2 = 3\n",
    "x1 = sym.Rational(x2*x4*x9-x2*x6*x7-x3*x4*x8+x3*x5*x7+1, x5*x9-x6*x8)"
   ]
  },
  {
   "cell_type": "code",
   "execution_count": 92,
   "metadata": {},
   "outputs": [
    {
     "data": {
      "text/latex": [
       "$\\displaystyle 2$"
      ],
      "text/plain": [
       "2"
      ]
     },
     "execution_count": 92,
     "metadata": {},
     "output_type": "execute_result"
    }
   ],
   "source": [
    "x1 "
   ]
  },
  {
   "cell_type": "markdown",
   "metadata": {},
   "source": [
    "В итоге одна из многих таких матриц, не только с ненулевыми, но и с натуральными коэффициентами перед нами:"
   ]
  },
  {
   "cell_type": "code",
   "execution_count": 93,
   "metadata": {},
   "outputs": [
    {
     "data": {
      "text/latex": [
       "$\\displaystyle \\left[\\begin{matrix}2 & 3 & 3\\\\1 & 2 & 2\\\\1 & 1 & 2\\end{matrix}\\right]$"
      ],
      "text/plain": [
       "Matrix([\n",
       "[2, 3, 3],\n",
       "[1, 2, 2],\n",
       "[1, 1, 2]])"
      ]
     },
     "execution_count": 93,
     "metadata": {},
     "output_type": "execute_result"
    }
   ],
   "source": [
    "M = sym.Matrix([[2, 3, 3], [1, 2, 2], [1, 1, 2]])\n",
    "M"
   ]
  },
  {
   "cell_type": "code",
   "execution_count": 94,
   "metadata": {},
   "outputs": [
    {
     "data": {
      "text/latex": [
       "$\\displaystyle 1$"
      ],
      "text/plain": [
       "1"
      ]
     },
     "execution_count": 94,
     "metadata": {},
     "output_type": "execute_result"
    }
   ],
   "source": [
    "M.det()"
   ]
  },
  {
   "cell_type": "markdown",
   "metadata": {},
   "source": [
    "### Задание 2"
   ]
  },
  {
   "cell_type": "markdown",
   "metadata": {},
   "source": [
    "**Найдите собственные значения и собственные вектора матрицы:**"
   ]
  },
  {
   "cell_type": "code",
   "execution_count": 8,
   "metadata": {},
   "outputs": [
    {
     "name": "stdout",
     "output_type": "stream",
     "text": [
      "[[2 2]\n",
      " [1 3]]\n"
     ]
    }
   ],
   "source": [
    "m = np.array([[2, 2], [1, 3]])\n",
    "print(m)"
   ]
  },
  {
   "cell_type": "code",
   "execution_count": 9,
   "metadata": {},
   "outputs": [
    {
     "name": "stdout",
     "output_type": "stream",
     "text": [
      "Собственные значения [1.38196601 3.61803399],\n",
      "Собственные векторы\n",
      "[-0.85065081  0.52573111], [0.52573111 0.85065081]\n"
     ]
    }
   ],
   "source": [
    "wa, va = linalg.eigh(m)\n",
    "print(f'Собственные значения {wa},\\nСобственные векторы\\n{va[0]}, {va[1]}')"
   ]
  },
  {
   "cell_type": "markdown",
   "metadata": {},
   "source": [
    "**Постройте зависимость качества восстановления рукописных цифр (MNIST) в зависимости от различного количества компонент PCA. В качестве метрики использовать MSE**"
   ]
  },
  {
   "cell_type": "code",
   "execution_count": 3,
   "metadata": {},
   "outputs": [
    {
     "data": {
      "text/plain": [
       "<Figure size 432x288 with 0 Axes>"
      ]
     },
     "metadata": {},
     "output_type": "display_data"
    },
    {
     "data": {
      "image/png": "[encoded data removed]",
      "text/plain": [
       "<Figure size 288x288 with 1 Axes>"
      ]
     },
     "metadata": {
      "needs_background": "light"
     },
     "output_type": "display_data"
    }
   ],
   "source": [
    "digits = load_digits()\n",
    "plt.gray() \n",
    "plt.matshow(digits.images[10]) \n",
    "plt.show()"
   ]
  },
  {
   "cell_type": "code",
   "execution_count": 4,
   "metadata": {},
   "outputs": [],
   "source": [
    "X_true = digits.images[10]"
   ]
  },
  {
   "cell_type": "markdown",
   "metadata": {},
   "source": [
    "Прогоним один разок и посмотрим что выходит"
   ]
  },
  {
   "cell_type": "code",
   "execution_count": 5,
   "metadata": {},
   "outputs": [
    {
     "data": {
      "text/plain": [
       "array([[ 1.38519212e+01, -1.13630085e+00,  1.79524025e+00,\n",
       "         3.39685565e+00,  1.88619493e-01,  6.89577908e-02,\n",
       "         0.00000000e+00],\n",
       "       [ 2.40127061e+00,  8.60676182e+00, -1.60411201e+00,\n",
       "         1.11512346e+00, -2.43957086e-01, -1.04768196e-02,\n",
       "         0.00000000e+00],\n",
       "       [-8.30153043e+00,  2.00557501e+00, -3.18528133e+00,\n",
       "        -3.59051311e-01, -2.15221559e-01, -4.57991420e-01,\n",
       "         0.00000000e+00],\n",
       "       [-9.18639865e+00, -3.04474246e+00, -2.99718273e-01,\n",
       "         6.21263831e-01, -8.12174049e-01,  1.29342444e+00,\n",
       "         0.00000000e+00],\n",
       "       [-9.49828006e+00, -3.33633775e+00, -5.91024886e-01,\n",
       "         9.60882613e-01,  1.66339044e+00, -2.84258087e-01,\n",
       "         0.00000000e+00],\n",
       "       [-6.75326054e+00, -1.03107001e+00,  4.20642494e+00,\n",
       "        -3.94545480e-01, -9.74782471e-01, -8.65585876e-01,\n",
       "         0.00000000e+00],\n",
       "       [ 4.33682805e+00,  3.15021836e+00,  2.63149521e+00,\n",
       "        -3.36824740e+00,  8.21628356e-01,  5.40246225e-01,\n",
       "         0.00000000e+00],\n",
       "       [ 1.31494498e+01, -5.21410412e+00, -2.95302390e+00,\n",
       "        -1.97228137e+00, -4.27503127e-01, -2.84316251e-01,\n",
       "         0.00000000e+00]])"
      ]
     },
     "execution_count": 5,
     "metadata": {},
     "output_type": "execute_result"
    }
   ],
   "source": [
    "pca = PCA(n_components=7)\n",
    "pca.fit(X_true) \n",
    "X_pca = pca.transform(X_true)\n",
    "X_pca"
   ]
  },
  {
   "cell_type": "code",
   "execution_count": 6,
   "metadata": {},
   "outputs": [
    {
     "data": {
      "text/plain": [
       "array([[ 0.00000000e+00, -4.66293670e-15,  1.00000000e+00,\n",
       "         9.00000000e+00,  1.50000000e+01,  1.10000000e+01,\n",
       "        -2.66453526e-15,  0.00000000e+00],\n",
       "       [ 0.00000000e+00, -4.21884749e-15,  1.10000000e+01,\n",
       "         1.60000000e+01,  8.00000000e+00,  1.40000000e+01,\n",
       "         6.00000000e+00,  0.00000000e+00],\n",
       "       [ 0.00000000e+00,  2.00000000e+00,  1.60000000e+01,\n",
       "         1.00000000e+01, -1.77635684e-15,  9.00000000e+00,\n",
       "         9.00000000e+00,  0.00000000e+00],\n",
       "       [ 0.00000000e+00,  1.00000000e+00,  1.60000000e+01,\n",
       "         4.00000000e+00, -5.32907052e-15,  8.00000000e+00,\n",
       "         8.00000000e+00,  0.00000000e+00],\n",
       "       [ 0.00000000e+00,  4.00000000e+00,  1.60000000e+01,\n",
       "         4.00000000e+00, -7.99360578e-15,  8.00000000e+00,\n",
       "         8.00000000e+00,  0.00000000e+00],\n",
       "       [ 0.00000000e+00,  1.00000000e+00,  1.60000000e+01,\n",
       "         5.00000000e+00,  1.00000000e+00,  1.10000000e+01,\n",
       "         3.00000000e+00,  0.00000000e+00],\n",
       "       [ 0.00000000e+00, -5.32907052e-15,  1.20000000e+01,\n",
       "         1.20000000e+01,  1.00000000e+01,  1.00000000e+01,\n",
       "        -8.88178420e-16,  0.00000000e+00],\n",
       "       [ 0.00000000e+00, -2.22044605e-15,  1.00000000e+00,\n",
       "         1.00000000e+01,  1.30000000e+01,  3.00000000e+00,\n",
       "         0.00000000e+00,  0.00000000e+00]])"
      ]
     },
     "execution_count": 6,
     "metadata": {},
     "output_type": "execute_result"
    }
   ],
   "source": [
    "X_pred = pca.inverse_transform(X_pca)\n",
    "X_pred"
   ]
  },
  {
   "cell_type": "code",
   "execution_count": 7,
   "metadata": {},
   "outputs": [
    {
     "data": {
      "text/plain": [
       "1.5147053826616733e-29"
      ]
     },
     "execution_count": 7,
     "metadata": {},
     "output_type": "execute_result"
    }
   ],
   "source": [
    "mean_squared_error(X_true, X_pred)"
   ]
  },
  {
   "cell_type": "code",
   "execution_count": 10,
   "metadata": {},
   "outputs": [
    {
     "name": "stdout",
     "output_type": "stream",
     "text": [
      "n_components = 2\n",
      "1.3718369022842563\n",
      "n_components = 3\n",
      "0.5949564425996346\n",
      "n_components = 4\n",
      "0.13228517549580718\n",
      "n_components = 5\n",
      "0.04828611154857035\n",
      "n_components = 6\n",
      "1.5697099418733727e-29\n",
      "n_components = 7\n",
      "1.5147053826616733e-29\n"
     ]
    }
   ],
   "source": [
    "n_components = [2,3,4,5,6,7]\n",
    "for component in n_components:\n",
    "    pca = PCA(n_components = component)\n",
    "    pca.fit(X_true) \n",
    "    X_pred = pca.inverse_transform(pca.transform(X_true))\n",
    "    print(f'n_components = {component}')\n",
    "    print(mean_squared_error(X_true, X_pred))"
   ]
  },
  {
   "cell_type": "markdown",
   "metadata": {},
   "source": [
    "## Домашнее задание \"Математический анализ. Производная\""
   ]
  },
  {
   "cell_type": "code",
   "execution_count": 18,
   "metadata": {},
   "outputs": [
    {
     "data": {
      "text/latex": [
       "$\\displaystyle 5 x^{4} - 3 \\sin{\\left(3 x + 3 \\right)} + 8 \\cos{\\left(2 x \\right)}$"
      ],
      "text/plain": [
       "5*x**4 - 3*sin(3*x + 3) + 8*cos(2*x)"
      ]
     },
     "execution_count": 18,
     "metadata": {},
     "output_type": "execute_result"
    }
   ],
   "source": [
    "x = sym.var('x')\n",
    "df = sym.diff(x**5+4*sym.sin(2*x)+sym.cos(3*x+3),x)\n",
    "df"
   ]
  },
  {
   "cell_type": "code",
   "execution_count": 21,
   "metadata": {},
   "outputs": [
    {
     "data": {
      "text/latex": [
       "$\\displaystyle 20 x^{3} - 16 \\sin{\\left(2 x \\right)} - 9 \\cos{\\left(3 \\left(x + 1\\right) \\right)}$"
      ],
      "text/plain": [
       "20*x**3 - 16*sin(2*x) - 9*cos(3*(x + 1))"
      ]
     },
     "execution_count": 21,
     "metadata": {},
     "output_type": "execute_result"
    }
   ],
   "source": [
    "ddf = sym.diff(x**5+4*sym.sin(2*x)+sym.cos(3*x+3),x, 2)\n",
    "ddf"
   ]
  },
  {
   "cell_type": "code",
   "execution_count": 22,
   "metadata": {},
   "outputs": [
    {
     "data": {
      "text/latex": [
       "$\\displaystyle 8 \\cos{\\left(2 \\right)} - 3 \\sin{\\left(6 \\right)} + 5$"
      ],
      "text/plain": [
       "8*cos(2) - 3*sin(6) + 5"
      ]
     },
     "execution_count": 22,
     "metadata": {},
     "output_type": "execute_result"
    }
   ],
   "source": [
    "df.subs(x,1)"
   ]
  },
  {
   "cell_type": "code",
   "execution_count": 24,
   "metadata": {},
   "outputs": [
    {
     "data": {
      "text/latex": [
       "$\\displaystyle - 16 \\sin{\\left(2 \\right)} - 9 \\cos{\\left(6 \\right)} + 20$"
      ],
      "text/plain": [
       "-16*sin(2) - 9*cos(6) + 20"
      ]
     },
     "execution_count": 24,
     "metadata": {},
     "output_type": "execute_result"
    }
   ],
   "source": [
    "ddf.subs(x,1)"
   ]
  },
  {
   "cell_type": "markdown",
   "metadata": {},
   "source": [
    "**Теперь построим график**"
   ]
  },
  {
   "cell_type": "code",
   "execution_count": 25,
   "metadata": {},
   "outputs": [
    {
     "data": {
      "text/latex": [
       "$\\displaystyle 10 \\sin^{4}{\\left(2 x + 1 \\right)} \\cos{\\left(2 x + 1 \\right)}$"
      ],
      "text/plain": [
       "10*sin(2*x + 1)**4*cos(2*x + 1)"
      ]
     },
     "execution_count": 25,
     "metadata": {},
     "output_type": "execute_result"
    }
   ],
   "source": [
    "dsin = sym.diff((sym.sin(2*x+1))**5,x)\n",
    "dsin"
   ]
  },
  {
   "cell_type": "code",
   "execution_count": 33,
   "metadata": {},
   "outputs": [
    {
     "data": {
      "text/plain": [
       "(-5.0, 5.0)"
      ]
     },
     "execution_count": 33,
     "metadata": {},
     "output_type": "execute_result"
    },
    {
     "data": {
      "image/png": "[encoded data removed]",
      "text/plain": [
       "<Figure size 432x288 with 1 Axes>"
      ]
     },
     "metadata": {
      "needs_background": "light"
     },
     "output_type": "display_data"
    }
   ],
   "source": [
    "var_x = np.arange(-5, 5, 0.1)\n",
    "var_dy = [dsin.subs(x,i) for i in var_x]\n",
    "plt.plot(var_x, var_dy)\n",
    "plt.ylim([-3, 3])\n",
    "plt.xlim([-5, 5])"
   ]
  },
  {
   "cell_type": "code",
   "execution_count": 26,
   "metadata": {},
   "outputs": [
    {
     "data": {
      "text/latex": [
       "$\\displaystyle 20 \\left(- \\sin^{2}{\\left(2 x + 1 \\right)} + 4 \\cos^{2}{\\left(2 x + 1 \\right)}\\right) \\sin^{3}{\\left(2 x + 1 \\right)}$"
      ],
      "text/plain": [
       "20*(-sin(2*x + 1)**2 + 4*cos(2*x + 1)**2)*sin(2*x + 1)**3"
      ]
     },
     "execution_count": 26,
     "metadata": {},
     "output_type": "execute_result"
    }
   ],
   "source": [
    "ddsin = sym.diff((sym.sin(2*x+1))**5,x, 2)\n",
    "ddsin"
   ]
  },
  {
   "cell_type": "code",
   "execution_count": 39,
   "metadata": {},
   "outputs": [
    {
     "data": {
      "text/plain": [
       "(-5.0, 5.0)"
      ]
     },
     "execution_count": 39,
     "metadata": {},
     "output_type": "execute_result"
    },
    {
     "data": {
      "image/png": "[encoded data removed]",
      "text/plain": [
       "<Figure size 432x288 with 1 Axes>"
      ]
     },
     "metadata": {
      "needs_background": "light"
     },
     "output_type": "display_data"
    }
   ],
   "source": [
    "var_ddy = [ddsin.subs(x,i) for i in var_x]\n",
    "plt.plot(var_x, var_ddy)\n",
    "plt.ylim([-22, 22])\n",
    "plt.xlim([-5, 5])"
   ]
  },
  {
   "cell_type": "markdown",
   "metadata": {},
   "source": [
    "## Домашнее задание \"Производная функции нескольких аргументов\""
   ]
  },
  {
   "cell_type": "code",
   "execution_count": 41,
   "metadata": {},
   "outputs": [
    {
     "data": {
      "text/latex": [
       "$\\displaystyle 4 x y^{3} + y^{2} - \\frac{1}{x^{2}}$"
      ],
      "text/plain": [
       "4*x*y**3 + y**2 - 1/x**2"
      ]
     },
     "execution_count": 41,
     "metadata": {},
     "output_type": "execute_result"
    }
   ],
   "source": [
    "y = sym.var('y')\n",
    "dpx = sym.diff(2*(x**2)*(y**3) + 1/x + x*y**2 + 7, x)\n",
    "dpx"
   ]
  },
  {
   "cell_type": "code",
   "execution_count": 42,
   "metadata": {},
   "outputs": [
    {
     "data": {
      "text/latex": [
       "$\\displaystyle 6 x^{2} y^{2} + 2 x y$"
      ],
      "text/plain": [
       "6*x**2*y**2 + 2*x*y"
      ]
     },
     "execution_count": 42,
     "metadata": {},
     "output_type": "execute_result"
    }
   ],
   "source": [
    "dpy = sym.diff(2*(x**2)*(y**3) + 1/x + x*y**2 + 7, y)\n",
    "dpy"
   ]
  },
  {
   "cell_type": "code",
   "execution_count": 44,
   "metadata": {},
   "outputs": [
    {
     "name": "stdout",
     "output_type": "stream",
     "text": [
      "[4*x*y**3 + y**2 - 1/x**2, 6*x**2*y**2 + 2*x*y]\n"
     ]
    }
   ],
   "source": [
    "grad_f = [dpx, dpy]\n",
    "print(grad_f)"
   ]
  },
  {
   "cell_type": "code",
   "execution_count": 48,
   "metadata": {},
   "outputs": [
    {
     "data": {
      "text/plain": [
       "[35, 28]"
      ]
     },
     "execution_count": 48,
     "metadata": {},
     "output_type": "execute_result"
    }
   ],
   "source": [
    "grad_fxy = [dpx.subs([(x,1),(y,2)]), dpy.subs([(x,1),(y,2)])]\n",
    "grad_fxy"
   ]
  },
  {
   "cell_type": "markdown",
   "metadata": {},
   "source": [
    "Для второй функции все аналогично, писать мне уже было немного лениво)"
   ]
  },
  {
   "cell_type": "markdown",
   "metadata": {},
   "source": [
    "**Теперь реализуем градиентный спуск**"
   ]
  },
  {
   "cell_type": "markdown",
   "metadata": {},
   "source": [
    "Сорри, мне очень не хотелось подглядывать в лекции, так что я решил вспомнить молодость и закодить его целиком самостоятельно, получилось довольно забавно. Сначала я вообще хотел сделать все в духе Matlab через SymPy, но в процессе пришлось реализовать это более pythonic через обычные функции. "
   ]
  },
  {
   "cell_type": "code",
   "execution_count": 48,
   "metadata": {},
   "outputs": [],
   "source": [
    "x, y =sym.symbols('x y')\n",
    "func = x**2 + y**2\n",
    "\n",
    "learning_rate = 0.1\n",
    "previous_x, current_x = 201, 200\n",
    "previous_y, current_y = 201, 200"
   ]
  },
  {
   "cell_type": "code",
   "execution_count": 49,
   "metadata": {},
   "outputs": [],
   "source": [
    "def f(k1, k2):\n",
    "    return func.subs([(x, k1),(y, k2)])\n",
    "\n",
    "def gx(k1):\n",
    "    return func_grad_x.subs(x, k1)\n",
    "\n",
    "def gy(k2):\n",
    "    return func_grad_y.subs(y, k2)"
   ]
  },
  {
   "cell_type": "code",
   "execution_count": 50,
   "metadata": {},
   "outputs": [
    {
     "name": "stdout",
     "output_type": "stream",
     "text": [
      "После 30 шагов значение функции равно 0.123828704693046\n"
     ]
    }
   ],
   "source": [
    "step_count = 30\n",
    "for i in range(step_count):\n",
    "    current_x = previous_x - learning_rate * gx(previous_x)\n",
    "    current_y = previous_y - learning_rate * gx(previous_x)\n",
    "    previous_x = current_x\n",
    "    previous_y = current_y\n",
    "print(f'После {step_count} шагов значение функции равно {f(current_x, current_y)}')"
   ]
  },
  {
   "cell_type": "code",
   "execution_count": 34,
   "metadata": {},
   "outputs": [],
   "source": []
  },
  {
   "cell_type": "code",
   "execution_count": 17,
   "metadata": {},
   "outputs": [],
   "source": []
  },
  {
   "cell_type": "code",
   "execution_count": null,
   "metadata": {},
   "outputs": [],
   "source": []
  },
  {
   "cell_type": "code",
   "execution_count": null,
   "metadata": {},
   "outputs": [],
   "source": []
  },
  {
   "cell_type": "code",
   "execution_count": null,
   "metadata": {},
   "outputs": [],
   "source": []
  }
 ],
 "metadata": {
  "kernelspec": {
   "display_name": "Python 3",
   "language": "python",
   "name": "python3"
  },
  "language_info": {
   "codemirror_mode": {
    "name": "ipython",
    "version": 3
   },
   "file_extension": ".py",
   "mimetype": "text/x-python",
   "name": "python",
   "nbconvert_exporter": "python",
   "pygments_lexer": "ipython3",
   "version": "3.8.3"
  },
  "toc": {
   "base_numbering": 1,
   "nav_menu": {},
   "number_sections": true,
   "sideBar": true,
   "skip_h1_title": true,
   "title_cell": "Table of Contents",
   "title_sidebar": "Contents",
   "toc_cell": true,
   "toc_position": {},
   "toc_section_display": true,
   "toc_window_display": true
  },
  "varInspector": {
   "cols": {
    "lenName": 16,
    "lenType": 16,
    "lenVar": 40
   },
   "kernels_config": {
    "python": {
     "delete_cmd_postfix": "",
     "delete_cmd_prefix": "del ",
     "library": "var_list.py",
     "varRefreshCmd": "print(var_dic_list())"
    },
    "r": {
     "delete_cmd_postfix": ") ",
     "delete_cmd_prefix": "rm(",
     "library": "var_list.r",
     "varRefreshCmd": "cat(var_dic_list()) "
    }
   },
   "types_to_exclude": [
    "module",
    "function",
    "builtin_function_or_method",
    "instance",
    "_Feature"
   ],
   "window_display": false
  }
 },
 "nbformat": 4,
 "nbformat_minor": 4
}

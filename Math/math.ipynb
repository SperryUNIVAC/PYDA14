{
 "cells": [
  {
   "cell_type": "markdown",
   "metadata": {
    "toc": true
   },
   "source": [
    "<h1>Table of Contents<span class=\"tocSkip\"></span></h1>\n",
    "<div class=\"toc\"><ul class=\"toc-item\"><li><span><a href=\"#Домашнее-задание-&quot;Линейная-алгебра.-Векторы&quot;\" data-toc-modified-id=\"Домашнее-задание-&quot;Линейная-алгебра.-Векторы&quot;-1\"><span class=\"toc-item-num\">1&nbsp;&nbsp;</span>Домашнее задание \"Линейная алгебра. Векторы\"</a></span></li><li><span><a href=\"#Домашнее-задание-&quot;Линейная-алгебра.-Матрицы&quot;\" data-toc-modified-id=\"Домашнее-задание-&quot;Линейная-алгебра.-Матрицы&quot;-2\"><span class=\"toc-item-num\">2&nbsp;&nbsp;</span>Домашнее задание \"Линейная алгебра. Матрицы\"</a></span><ul class=\"toc-item\"><li><span><a href=\"#Задание-1\" data-toc-modified-id=\"Задание-1-2.1\"><span class=\"toc-item-num\">2.1&nbsp;&nbsp;</span>Задание 1</a></span></li><li><span><a href=\"#Задание-2\" data-toc-modified-id=\"Задание-2-2.2\"><span class=\"toc-item-num\">2.2&nbsp;&nbsp;</span>Задание 2</a></span></li></ul></li><li><span><a href=\"#Домашнее-задание-&quot;Продвинутая-линейная-алгебра&quot;\" data-toc-modified-id=\"Домашнее-задание-&quot;Продвинутая-линейная-алгебра&quot;-3\"><span class=\"toc-item-num\">3&nbsp;&nbsp;</span>Домашнее задание \"Продвинутая линейная алгебра\"</a></span><ul class=\"toc-item\"><li><span><a href=\"#Задание-1\" data-toc-modified-id=\"Задание-1-3.1\"><span class=\"toc-item-num\">3.1&nbsp;&nbsp;</span>Задание 1</a></span></li><li><span><a href=\"#Задание-2\" data-toc-modified-id=\"Задание-2-3.2\"><span class=\"toc-item-num\">3.2&nbsp;&nbsp;</span>Задание 2</a></span></li></ul></li><li><span><a href=\"#Домашнее-задание-&quot;Математический-анализ.-Производная&quot;\" data-toc-modified-id=\"Домашнее-задание-&quot;Математический-анализ.-Производная&quot;-4\"><span class=\"toc-item-num\">4&nbsp;&nbsp;</span>Домашнее задание \"Математический анализ. Производная\"</a></span></li><li><span><a href=\"#Домашнее-задание-&quot;Производная-функции-нескольких-аргументов&quot;\" data-toc-modified-id=\"Домашнее-задание-&quot;Производная-функции-нескольких-аргументов&quot;-5\"><span class=\"toc-item-num\">5&nbsp;&nbsp;</span>Домашнее задание \"Производная функции нескольких аргументов\"</a></span></li><li><span><a href=\"#Домашнее-задание-&quot;Теория-оптимизации&quot;\" data-toc-modified-id=\"Домашнее-задание-&quot;Теория-оптимизации&quot;-6\"><span class=\"toc-item-num\">6&nbsp;&nbsp;</span>Домашнее задание \"Теория оптимизации\"</a></span></li></ul></div>"
   ]
  },
  {
   "cell_type": "code",
   "execution_count": 2,
   "metadata": {},
   "outputs": [],
   "source": [
    "import math\n",
    "import numpy as np\n",
    "import sympy as sym\n",
    "import pandas as pd\n",
    "import matplotlib.pyplot as plt\n",
    "import plotly.graph_objects as go\n",
    "\n",
    "from numpy import linalg\n",
    "from sklearn.datasets import load_digits\n",
    "from sklearn.decomposition import PCA\n",
    "from sklearn.metrics import mean_squared_error\n",
    "from scipy.optimize import differential_evolution"
   ]
  },
  {
   "cell_type": "markdown",
   "metadata": {},
   "source": [
    "## Домашнее задание \"Линейная алгебра. Векторы\""
   ]
  },
  {
   "cell_type": "code",
   "execution_count": 2,
   "metadata": {},
   "outputs": [],
   "source": [
    "v = np.array([[1, 1], [2, 0], [0, 2]])"
   ]
  },
  {
   "cell_type": "code",
   "execution_count": 3,
   "metadata": {},
   "outputs": [
    {
     "data": {
      "image/png": "[encoded data removed]",
      "text/plain": [
       "<Figure size 432x288 with 1 Axes>"
      ]
     },
     "metadata": {
      "needs_background": "light"
     },
     "output_type": "display_data"
    }
   ],
   "source": [
    "ax = plt.axes()\n",
    "ax.arrow(0, 0, *v[0], head_width=0.05, head_length=0.1)\n",
    "ax.arrow(0, 0, *v[1], head_width=0.05, head_length=0.1)\n",
    "ax.arrow(0, 0, *v[2], head_width=0.05, head_length=0.1)\n",
    "ax.arrow(0, 0, *(v[0]+v[1]+v[2]), head_width=0.05, head_length=0.1, color = 'r' )\n",
    "plt.ylim(-1,5)\n",
    "plt.xlim(-1,5)\n",
    "plt.show()"
   ]
  },
  {
   "cell_type": "code",
   "execution_count": 4,
   "metadata": {},
   "outputs": [],
   "source": [
    "def angle(v1, v2, acute):\n",
    "    angle = np.arccos(np.dot(v1, v2) / (np.linalg.norm(v1) * np.linalg.norm(v2)))\n",
    "    if (acute == True):\n",
    "        return angle\n",
    "    else:\n",
    "        return 2 * np.pi - angle"
   ]
  },
  {
   "cell_type": "code",
   "execution_count": 5,
   "metadata": {},
   "outputs": [
    {
     "name": "stdout",
     "output_type": "stream",
     "text": [
      "0.785 rad, 45.0 deg\n"
     ]
    }
   ],
   "source": [
    "ang = angle(v[0], v[1], True)\n",
    "print(f\"{round(ang, 3)} rad, {round(ang*(180/np.pi), 3)} deg\")"
   ]
  },
  {
   "cell_type": "markdown",
   "metadata": {},
   "source": [
    "## Домашнее задание \"Линейная алгебра. Матрицы\""
   ]
  },
  {
   "cell_type": "markdown",
   "metadata": {},
   "source": [
    "### Задание 1"
   ]
  },
  {
   "cell_type": "code",
   "execution_count": 6,
   "metadata": {},
   "outputs": [
    {
     "data": {
      "text/plain": [
       "array([[ 2.,  2.,  3.],\n",
       "       [ 4.,  6.,  6.],\n",
       "       [ 7.,  8., 10.]])"
      ]
     },
     "execution_count": 6,
     "metadata": {},
     "output_type": "execute_result"
    }
   ],
   "source": [
    "m = np.arange(1,10).reshape(3,3)\n",
    "u = np.eye(3)\n",
    "m + u"
   ]
  },
  {
   "cell_type": "code",
   "execution_count": 7,
   "metadata": {},
   "outputs": [
    {
     "data": {
      "text/plain": [
       "array([1, 2, 3])"
      ]
     },
     "execution_count": 7,
     "metadata": {},
     "output_type": "execute_result"
    }
   ],
   "source": [
    "v = np.arange(1,4)\n",
    "v"
   ]
  },
  {
   "cell_type": "code",
   "execution_count": 8,
   "metadata": {},
   "outputs": [
    {
     "name": "stdout",
     "output_type": "stream",
     "text": [
      "[31. 38. 45.] [15. 34. 53.]\n"
     ]
    }
   ],
   "source": [
    "# в задании не сказано, левое или правое умножение, так что можно и так и так\n",
    "\n",
    "print(v.dot(m + u), (m + u).dot(v))"
   ]
  },
  {
   "cell_type": "code",
   "execution_count": 9,
   "metadata": {},
   "outputs": [
    {
     "data": {
      "text/plain": [
       "array([[-6. , -2. ,  3. ],\n",
       "       [-1. ,  0.5,  0. ],\n",
       "       [ 5. ,  1. , -2. ]])"
      ]
     },
     "execution_count": 9,
     "metadata": {},
     "output_type": "execute_result"
    }
   ],
   "source": [
    "from numpy import linalg\n",
    "\n",
    "# В задании сказано инвертировать результат умножения матрицы на вектор, \n",
    "# но это технически невозможно, так как обратные матрицы определены только \n",
    "# для квадратных. Так что инвертируем то, что можно\n",
    "\n",
    "linalg.inv(m + u)"
   ]
  },
  {
   "cell_type": "markdown",
   "metadata": {},
   "source": [
    "### Задание 2"
   ]
  },
  {
   "cell_type": "code",
   "execution_count": 10,
   "metadata": {},
   "outputs": [
    {
     "data": {
      "text/plain": [
       "(-200.0, 200.0)"
      ]
     },
     "execution_count": 10,
     "metadata": {},
     "output_type": "execute_result"
    },
    {
     "data": {
      "image/png": "[encoded data removed]",
      "text/plain": [
       "<Figure size 432x288 with 1 Axes>"
      ]
     },
     "metadata": {
      "needs_background": "light"
     },
     "output_type": "display_data"
    }
   ],
   "source": [
    "A = [\n",
    "[-100, -100, 1],\n",
    "[-100, 100, 1],\n",
    "[100, 100, 1],\n",
    "[0, 0, 1],\n",
    "[100, -100, 1],\n",
    "[-100, -100, 1]\n",
    "]\n",
    "\n",
    "A = np.array(A)\n",
    "x = A[:,0]\n",
    "y = A[:,1]\n",
    "\n",
    "plt.plot(x, y)\n",
    "plt.ylim([-200, 200])\n",
    "plt.xlim([-200, 200])"
   ]
  },
  {
   "cell_type": "markdown",
   "metadata": {},
   "source": [
    "* Уменьшить объект в два раза\n",
    "* Повернуть на 130 градусов\n",
    "* Отразить объект относительно прямой y=x\n",
    "* Выполнить смещение объекта и масштабирование (применить 2 матрицы трансформаций). Смещение на (200, 300) и масштабирование на (0.5, 1.2)\n"
   ]
  },
  {
   "cell_type": "markdown",
   "metadata": {},
   "source": [
    "У нас имеется 6 векторов в двумерных однородных координатах, объединенных в массив А. Для того, что бы произвести с массивом операцию трансформации, необходимо произвести ее с каждым вектором."
   ]
  },
  {
   "cell_type": "code",
   "execution_count": 36,
   "metadata": {},
   "outputs": [],
   "source": [
    "# Изменение размера \n",
    "\n",
    "def figure_scale(A, a, b):\n",
    "    scale_matrix = np.array([[a, 0, 0], [0, b, 0], [0, 0, 1]])\n",
    "    A_scale = []\n",
    "    for i in range(0, len(A)):\n",
    "        A_transform = scale_matrix.dot(A[i])\n",
    "        A_scale.append(A_transform)\n",
    "    return A_scale"
   ]
  },
  {
   "cell_type": "code",
   "execution_count": 37,
   "metadata": {},
   "outputs": [
    {
     "data": {
      "text/plain": [
       "(-200.0, 200.0)"
      ]
     },
     "execution_count": 37,
     "metadata": {},
     "output_type": "execute_result"
    },
    {
     "data": {
      "image/png": "[encoded data removed]",
      "text/plain": [
       "<Figure size 432x288 with 1 Axes>"
      ]
     },
     "metadata": {
      "needs_background": "light"
     },
     "output_type": "display_data"
    }
   ],
   "source": [
    "a = 1/2\n",
    "b = 1/2\n",
    "\n",
    "x_scale = np.array(figure_scale(A, a, b))[:,0]\n",
    "y_scale = np.array(figure_scale(A, a, b))[:,1]  \n",
    "plt.plot(x_scale, y_scale)\n",
    "plt.ylim([-200, 200])\n",
    "plt.xlim([-200, 200])"
   ]
  },
  {
   "cell_type": "code",
   "execution_count": 38,
   "metadata": {},
   "outputs": [],
   "source": [
    "# Поворот \n",
    "# В задании не указано - по часовой стрелке или против, так что сделал оба\n",
    "\n",
    "def figure_rotate(A, deg_angle, clockwise):\n",
    "    cos_angle = round(math.cos(deg_angle*np.pi/180), 5)\n",
    "    sin_angle = round(math.sin(deg_angle*np.pi/180), 5)\n",
    "    if clockwise == True:\n",
    "        rotate_matrix = np.array([[sin_angle, cos_angle, 0], [cos_angle, -sin_angle, 0], [0, 0, 1]])\n",
    "    else:\n",
    "        rotate_matrix = np.array([[cos_angle, -sin_angle, 0], [sin_angle, cos_angle, 0], [0, 0, 1]])\n",
    "    A_rotate = []\n",
    "    for i in range(0, len(A)):\n",
    "        A_transform = rotate_matrix.dot(A[i])\n",
    "        A_rotate.append(A_transform)\n",
    "    return A_rotate"
   ]
  },
  {
   "cell_type": "code",
   "execution_count": 39,
   "metadata": {},
   "outputs": [
    {
     "data": {
      "text/plain": [
       "(-200.0, 200.0)"
      ]
     },
     "execution_count": 39,
     "metadata": {},
     "output_type": "execute_result"
    },
    {
     "data": {
      "image/png": "[encoded data removed]",
      "text/plain": [
       "<Figure size 432x288 with 1 Axes>"
      ]
     },
     "metadata": {
      "needs_background": "light"
     },
     "output_type": "display_data"
    }
   ],
   "source": [
    "deg_angle = 130\n",
    "\n",
    "x_rotate = np.array(figure_rotate(A, deg_angle, True))[:,0]\n",
    "y_rotate = np.array(figure_rotate(A, deg_angle, True))[:,1]  \n",
    "plt.plot(x_rotate, y_rotate)\n",
    "plt.ylim([-200, 200])\n",
    "plt.xlim([-200, 200])"
   ]
  },
  {
   "cell_type": "markdown",
   "metadata": {},
   "source": [
    "Немного кривовато вышло, не очень врубился, почему"
   ]
  },
  {
   "cell_type": "code",
   "execution_count": 40,
   "metadata": {},
   "outputs": [],
   "source": [
    "# Отражение относительно осей\n",
    "\n",
    "def figure_reflect(A, axis):\n",
    "    if axis == 'x':\n",
    "        reflect_matrix = np.array([[1, 0, 0], [0, -1, 0], [0, 0, 1]])\n",
    "    elif axis == 'y':\n",
    "        reflect_matrix = np.array([[-1, 0, 0], [0, 1, 0], [0, 0, 1]])\n",
    "    elif axis == 'origin':\n",
    "        reflect_matrix = np.array([[-1, 0, 0], [0, -1, 0], [0, 0, 1]])\n",
    "    A_reflect = []\n",
    "    for i in range(0, len(A)):\n",
    "        A_transform = reflect_matrix.dot(A[i])\n",
    "        A_reflect.append(A_transform)\n",
    "    return A_reflect"
   ]
  },
  {
   "cell_type": "code",
   "execution_count": 41,
   "metadata": {},
   "outputs": [],
   "source": [
    "# Сдвиг\n",
    "\n",
    "def figure_translate(A, X, Y):\n",
    "    translate_matrix = np.array([[1, 0, X], [0, 1, Y], [0, 0, 1]])\n",
    "    A_translate = []\n",
    "    for i in range(0, len(A)):\n",
    "        A_transform = translate_matrix.dot(A[i])\n",
    "        A_translate.append(A_transform)\n",
    "    return A_translate"
   ]
  },
  {
   "cell_type": "markdown",
   "metadata": {},
   "source": [
    "Но у нас-то отражение относительно y=x, а для такой фигуры это эквивалент поворота на 90 градусов и сдвига насколько я это по-быстрому представил)"
   ]
  },
  {
   "cell_type": "code",
   "execution_count": 45,
   "metadata": {},
   "outputs": [
    {
     "data": {
      "text/plain": [
       "(-200.0, 300.0)"
      ]
     },
     "execution_count": 45,
     "metadata": {},
     "output_type": "execute_result"
    },
    {
     "data": {
      "image/png": "[encoded data removed]",
      "text/plain": [
       "<Figure size 432x288 with 1 Axes>"
      ]
     },
     "metadata": {
      "needs_background": "light"
     },
     "output_type": "display_data"
    }
   ],
   "source": [
    "deg_angle = 90\n",
    "X = 100\n",
    "Y = 0\n",
    "\n",
    "x_reflect = np.array(figure_translate(figure_rotate(A, deg_angle, False), X, Y))[:,0]\n",
    "y_reflect = np.array(figure_translate(figure_rotate(A, deg_angle, False), X, Y))[:,1]  \n",
    "plt.plot(x_reflect, y_reflect)\n",
    "plt.ylim([-200, 200])\n",
    "plt.xlim([-200, 300])"
   ]
  },
  {
   "cell_type": "markdown",
   "metadata": {},
   "source": [
    "И последнее"
   ]
  },
  {
   "cell_type": "code",
   "execution_count": 47,
   "metadata": {},
   "outputs": [
    {
     "data": {
      "text/plain": [
       "(-200.0, 400.0)"
      ]
     },
     "execution_count": 47,
     "metadata": {},
     "output_type": "execute_result"
    },
    {
     "data": {
      "image/png": "[encoded data removed]",
      "text/plain": [
       "<Figure size 432x288 with 1 Axes>"
      ]
     },
     "metadata": {
      "needs_background": "light"
     },
     "output_type": "display_data"
    }
   ],
   "source": [
    "a = 0.5\n",
    "b = 1.2\n",
    "\n",
    "X = 200\n",
    "Y = 300\n",
    "\n",
    "x_comp = np.array(figure_scale(figure_translate(A, X, Y), a, b))[:,0]\n",
    "y_comp = np.array(figure_scale(figure_translate(A, X, Y), a, b))[:,1]  \n",
    "plt.plot(x_comp, y_comp)\n",
    "plt.ylim([-200, 500])\n",
    "plt.xlim([-200, 400])"
   ]
  },
  {
   "cell_type": "markdown",
   "metadata": {},
   "source": [
    "## Домашнее задание \"Продвинутая линейная алгебра\""
   ]
  },
  {
   "cell_type": "markdown",
   "metadata": {},
   "source": [
    "### Задание 1"
   ]
  },
  {
   "cell_type": "markdown",
   "metadata": {},
   "source": [
    "Матрицы:  \n",
    "a) Диагональная, ортогональная, но не единичная  \n",
    "b) Верхнетреугольная, ортогональная  \n",
    "c) Нижнетреугольная, ортогональная  \n",
    "d) Матрица, у которой определитель = 1, и все элементы не равны 0  \n",
    "\n",
    "Во всех пунктах ответом должна быть ненулевая матрица размерности не менее 2."
   ]
  },
  {
   "cell_type": "code",
   "execution_count": 10,
   "metadata": {},
   "outputs": [
    {
     "data": {
      "text/plain": [
       "array([[-1,  0,  0],\n",
       "       [ 0, -1,  0],\n",
       "       [ 0,  0, -1]])"
      ]
     },
     "execution_count": 10,
     "metadata": {},
     "output_type": "execute_result"
    }
   ],
   "source": [
    "A = np.array([[-1, 0, 0], [0, -1, 0], [0, 0, -1]])\n",
    "A"
   ]
  },
  {
   "cell_type": "code",
   "execution_count": 11,
   "metadata": {},
   "outputs": [
    {
     "data": {
      "text/plain": [
       "array([[1, 0, 0],\n",
       "       [0, 1, 0],\n",
       "       [0, 0, 1]])"
      ]
     },
     "execution_count": 11,
     "metadata": {},
     "output_type": "execute_result"
    }
   ],
   "source": [
    "A.dot(A.T)"
   ]
  },
  {
   "cell_type": "markdown",
   "metadata": {},
   "source": [
    "Вообще отметим, что вещественная матрица может быть одновременно ортогональной и диагональной лишь в двух случаях - когда элементы на главной диагонали равны 1 или же -1, потому что"
   ]
  },
  {
   "cell_type": "markdown",
   "metadata": {},
   "source": [
    "$$\\begin{pmatrix}\n",
    "  d_{11}&\\ldots&0\\\\\n",
    "  \\vdots&\\ddots&\\vdots\\\\\n",
    "  0&\\ldots&d_{nn}\n",
    "\\end{pmatrix}*\\begin{pmatrix}\n",
    "  d_{11}&\\ldots&0\\\\\n",
    "  \\vdots&\\ddots&\\vdots\\\\\n",
    "  0&\\ldots&d_{nn}\n",
    "\\end{pmatrix}=\\begin{pmatrix}\n",
    "  1&\\ldots&0\\\\\n",
    "  \\vdots&\\ddots&\\vdots\\\\\n",
    "  0&\\ldots&1\n",
    "\\end{pmatrix}$$"
   ]
  },
  {
   "cell_type": "markdown",
   "metadata": {},
   "source": [
    "только если "
   ]
  },
  {
   "cell_type": "markdown",
   "metadata": {},
   "source": [
    "\\begin{equation*}\n",
    " \\begin{cases}\n",
    "   d_{11}^2 = 1, \n",
    "   \\\\\n",
    "   \\ldots,\n",
    "   \\\\\n",
    "   d_{nn}^2 = 1.\n",
    " \\end{cases}\n",
    "\\end{equation*}"
   ]
  },
  {
   "cell_type": "markdown",
   "metadata": {},
   "source": [
    "**Для рассмотрения верхних и нижних матриц воспользуемся SymPy, что бы не делать руками то, что может сделать машина**"
   ]
  },
  {
   "cell_type": "code",
   "execution_count": 69,
   "metadata": {},
   "outputs": [],
   "source": [
    "d = sym.symbols('d1:6')"
   ]
  },
  {
   "cell_type": "code",
   "execution_count": 70,
   "metadata": {},
   "outputs": [
    {
     "data": {
      "text/latex": [
       "$\\displaystyle \\left[\\begin{matrix}d_{1} & d_{2} & d_{3}\\\\0 & d_{4} & d_{5}\\\\0 & 0 & d_{6}\\end{matrix}\\right]$"
      ],
      "text/plain": [
       "Matrix([\n",
       "[d1, d2, d3],\n",
       "[ 0, d4, d5],\n",
       "[ 0,  0, d6]])"
      ]
     },
     "execution_count": 70,
     "metadata": {},
     "output_type": "execute_result"
    }
   ],
   "source": [
    "U = sym.Matrix([[d1, d2, d3], [0, d4, d5], [0, 0, d6]])\n",
    "U"
   ]
  },
  {
   "cell_type": "code",
   "execution_count": 71,
   "metadata": {},
   "outputs": [
    {
     "data": {
      "text/latex": [
       "$\\displaystyle \\left[\\begin{matrix}d_{1}^{2} + d_{2}^{2} + d_{3}^{2} & d_{2} d_{4} + d_{3} d_{5} & d_{3} d_{6}\\\\d_{2} d_{4} + d_{3} d_{5} & d_{4}^{2} + d_{5}^{2} & d_{5} d_{6}\\\\d_{3} d_{6} & d_{5} d_{6} & d_{6}^{2}\\end{matrix}\\right]$"
      ],
      "text/plain": [
       "Matrix([\n",
       "[d1**2 + d2**2 + d3**2, d2*d4 + d3*d5, d3*d6],\n",
       "[        d2*d4 + d3*d5, d4**2 + d5**2, d5*d6],\n",
       "[                d3*d6,         d5*d6, d6**2]])"
      ]
     },
     "execution_count": 71,
     "metadata": {},
     "output_type": "execute_result"
    }
   ],
   "source": [
    "U*U.T"
   ]
  },
  {
   "cell_type": "code",
   "execution_count": 39,
   "metadata": {},
   "outputs": [],
   "source": [
    "solution = sym.solve((d3*d6, d2*d4 + d3*d5, d5*d6, d1**2 + d2**2 + d3**2 - 1, d4**2 + d5**2 -1, d6**2 -1), (d1, d2, d3, d4, d5, d6))"
   ]
  },
  {
   "cell_type": "code",
   "execution_count": 46,
   "metadata": {},
   "outputs": [
    {
     "data": {
      "text/plain": [
       "[(-1, 0, 0, -1, 0, -1),\n",
       " (-1, 0, 0, -1, 0, 1),\n",
       " (-1, 0, 0, 1, 0, -1),\n",
       " (-1, 0, 0, 1, 0, 1),\n",
       " (1, 0, 0, -1, 0, -1),\n",
       " (1, 0, 0, -1, 0, 1),\n",
       " (1, 0, 0, 1, 0, -1),\n",
       " (1, 0, 0, 1, 0, 1)]"
      ]
     },
     "execution_count": 46,
     "metadata": {},
     "output_type": "execute_result"
    }
   ],
   "source": [
    "solution"
   ]
  },
  {
   "cell_type": "markdown",
   "metadata": {},
   "source": [
    "Ну, собственно, мы показали довольно очевидный факт, что U-матрица может быть ортогональной при тех же условиях, что и диагональная. С L-матрицей в принципе все аналогично."
   ]
  },
  {
   "cell_type": "markdown",
   "metadata": {},
   "source": [
    "Ну и упомянем, что все эти вещи несложно показать и не демонстрируя познания в Python. Пусть Р — ортогональная верхняя треугольная матрица. Тогда, с одной стороны, $$Р^{-1} = Р^T$$ является нижней треугольной, а с другой стороны $$Р^{-1},$$ будучи обратной к верхней треугольной матрице, является верхней треугольной. Одновременно оба условия выполняются, если матрица $$Р^{-1}$$ является диагональной. Тогда и Р — диагональная матрица. Кроме того, так как $$РР = РР^T = РР^{-1} = Е,$$ то диагональные элементы Р могут иметь лишь два значения 1 и —1."
   ]
  },
  {
   "cell_type": "markdown",
   "metadata": {},
   "source": [
    "**Теперь построим нетривиальную матрицу с единичным определителем**"
   ]
  },
  {
   "cell_type": "code",
   "execution_count": 78,
   "metadata": {},
   "outputs": [
    {
     "data": {
      "text/latex": [
       "$\\displaystyle x_{1} x_{5} x_{9} - x_{1} x_{6} x_{8} - x_{2} x_{4} x_{9} + x_{2} x_{6} x_{7} + x_{3} x_{4} x_{8} - x_{3} x_{5} x_{7}$"
      ],
      "text/plain": [
       "x1*x5*x9 - x1*x6*x8 - x2*x4*x9 + x2*x6*x7 + x3*x4*x8 - x3*x5*x7"
      ]
     },
     "execution_count": 78,
     "metadata": {},
     "output_type": "execute_result"
    }
   ],
   "source": [
    "x = sym.var('x0:10')\n",
    "H = sym.Matrix([[x1, x2, x3], [x4, x5, x6], [x7, x8, x9]])\n",
    "H.det()"
   ]
  },
  {
   "cell_type": "code",
   "execution_count": 79,
   "metadata": {},
   "outputs": [],
   "source": [
    "solution = sym.solve((x1*x5*x9-x1*x6*x8-x2*x4*x9+x2*x6*x7+x3*x4*x8-x3*x5*x7-1), (x1, x2, x3, x4, x5, x6, x7,x8, x9))"
   ]
  },
  {
   "cell_type": "code",
   "execution_count": 80,
   "metadata": {},
   "outputs": [
    {
     "data": {
      "text/plain": [
       "[((x2*x4*x9 - x2*x6*x7 - x3*x4*x8 + x3*x5*x7 + 1)/(x5*x9 - x6*x8),\n",
       "  x2,\n",
       "  x3,\n",
       "  x4,\n",
       "  x5,\n",
       "  x6,\n",
       "  x7,\n",
       "  x8,\n",
       "  x9)]"
      ]
     },
     "execution_count": 80,
     "metadata": {},
     "output_type": "execute_result"
    }
   ],
   "source": [
    "solution"
   ]
  },
  {
   "cell_type": "markdown",
   "metadata": {},
   "source": [
    "Ну ответ абсолютно ожидаемый, ок, поиграем с параметрами:"
   ]
  },
  {
   "cell_type": "code",
   "execution_count": 91,
   "metadata": {},
   "outputs": [],
   "source": [
    "x9 = 2\n",
    "x8 = 1\n",
    "x7 = 1\n",
    "x6 = 2\n",
    "x5 = 2\n",
    "x4 = 1\n",
    "x3 = 3\n",
    "x2 = 3\n",
    "x1 = sym.Rational(x2*x4*x9-x2*x6*x7-x3*x4*x8+x3*x5*x7+1, x5*x9-x6*x8)"
   ]
  },
  {
   "cell_type": "code",
   "execution_count": 92,
   "metadata": {},
   "outputs": [
    {
     "data": {
      "text/latex": [
       "$\\displaystyle 2$"
      ],
      "text/plain": [
       "2"
      ]
     },
     "execution_count": 92,
     "metadata": {},
     "output_type": "execute_result"
    }
   ],
   "source": [
    "x1 "
   ]
  },
  {
   "cell_type": "markdown",
   "metadata": {},
   "source": [
    "В итоге одна из многих таких матриц, не только с ненулевыми, но и с натуральными коэффициентами перед нами:"
   ]
  },
  {
   "cell_type": "code",
   "execution_count": 93,
   "metadata": {},
   "outputs": [
    {
     "data": {
      "text/latex": [
       "$\\displaystyle \\left[\\begin{matrix}2 & 3 & 3\\\\1 & 2 & 2\\\\1 & 1 & 2\\end{matrix}\\right]$"
      ],
      "text/plain": [
       "Matrix([\n",
       "[2, 3, 3],\n",
       "[1, 2, 2],\n",
       "[1, 1, 2]])"
      ]
     },
     "execution_count": 93,
     "metadata": {},
     "output_type": "execute_result"
    }
   ],
   "source": [
    "M = sym.Matrix([[2, 3, 3], [1, 2, 2], [1, 1, 2]])\n",
    "M"
   ]
  },
  {
   "cell_type": "code",
   "execution_count": 94,
   "metadata": {},
   "outputs": [
    {
     "data": {
      "text/latex": [
       "$\\displaystyle 1$"
      ],
      "text/plain": [
       "1"
      ]
     },
     "execution_count": 94,
     "metadata": {},
     "output_type": "execute_result"
    }
   ],
   "source": [
    "M.det()"
   ]
  },
  {
   "cell_type": "markdown",
   "metadata": {},
   "source": [
    "### Задание 2"
   ]
  },
  {
   "cell_type": "markdown",
   "metadata": {},
   "source": [
    "**Найдите собственные значения и собственные вектора матрицы:**"
   ]
  },
  {
   "cell_type": "code",
   "execution_count": 8,
   "metadata": {},
   "outputs": [
    {
     "name": "stdout",
     "output_type": "stream",
     "text": [
      "[[2 2]\n",
      " [1 3]]\n"
     ]
    }
   ],
   "source": [
    "m = np.array([[2, 2], [1, 3]])\n",
    "print(m)"
   ]
  },
  {
   "cell_type": "code",
   "execution_count": 9,
   "metadata": {},
   "outputs": [
    {
     "name": "stdout",
     "output_type": "stream",
     "text": [
      "Собственные значения [1.38196601 3.61803399],\n",
      "Собственные векторы\n",
      "[-0.85065081  0.52573111], [0.52573111 0.85065081]\n"
     ]
    }
   ],
   "source": [
    "wa, va = linalg.eigh(m)\n",
    "print(f'Собственные значения {wa},\\nСобственные векторы\\n{va[0]}, {va[1]}')"
   ]
  },
  {
   "cell_type": "markdown",
   "metadata": {},
   "source": [
    "**Постройте зависимость качества восстановления рукописных цифр (MNIST) в зависимости от различного количества компонент PCA. В качестве метрики использовать MSE**"
   ]
  },
  {
   "cell_type": "code",
   "execution_count": 3,
   "metadata": {},
   "outputs": [
    {
     "data": {
      "text/plain": [
       "<Figure size 432x288 with 0 Axes>"
      ]
     },
     "metadata": {},
     "output_type": "display_data"
    },
    {
     "data": {
      "image/png": "[encoded data removed]",
      "text/plain": [
       "<Figure size 288x288 with 1 Axes>"
      ]
     },
     "metadata": {
      "needs_background": "light"
     },
     "output_type": "display_data"
    }
   ],
   "source": [
    "digits = load_digits()\n",
    "plt.gray() \n",
    "plt.matshow(digits.images[10]) \n",
    "plt.show()"
   ]
  },
  {
   "cell_type": "code",
   "execution_count": 4,
   "metadata": {},
   "outputs": [],
   "source": [
    "X_true = digits.images[10]"
   ]
  },
  {
   "cell_type": "markdown",
   "metadata": {},
   "source": [
    "Прогоним один разок и посмотрим что выходит"
   ]
  },
  {
   "cell_type": "code",
   "execution_count": 5,
   "metadata": {},
   "outputs": [
    {
     "data": {
      "text/plain": [
       "array([[ 1.38519212e+01, -1.13630085e+00,  1.79524025e+00,\n",
       "         3.39685565e+00,  1.88619493e-01,  6.89577908e-02,\n",
       "         0.00000000e+00],\n",
       "       [ 2.40127061e+00,  8.60676182e+00, -1.60411201e+00,\n",
       "         1.11512346e+00, -2.43957086e-01, -1.04768196e-02,\n",
       "         0.00000000e+00],\n",
       "       [-8.30153043e+00,  2.00557501e+00, -3.18528133e+00,\n",
       "        -3.59051311e-01, -2.15221559e-01, -4.57991420e-01,\n",
       "         0.00000000e+00],\n",
       "       [-9.18639865e+00, -3.04474246e+00, -2.99718273e-01,\n",
       "         6.21263831e-01, -8.12174049e-01,  1.29342444e+00,\n",
       "         0.00000000e+00],\n",
       "       [-9.49828006e+00, -3.33633775e+00, -5.91024886e-01,\n",
       "         9.60882613e-01,  1.66339044e+00, -2.84258087e-01,\n",
       "         0.00000000e+00],\n",
       "       [-6.75326054e+00, -1.03107001e+00,  4.20642494e+00,\n",
       "        -3.94545480e-01, -9.74782471e-01, -8.65585876e-01,\n",
       "         0.00000000e+00],\n",
       "       [ 4.33682805e+00,  3.15021836e+00,  2.63149521e+00,\n",
       "        -3.36824740e+00,  8.21628356e-01,  5.40246225e-01,\n",
       "         0.00000000e+00],\n",
       "       [ 1.31494498e+01, -5.21410412e+00, -2.95302390e+00,\n",
       "        -1.97228137e+00, -4.27503127e-01, -2.84316251e-01,\n",
       "         0.00000000e+00]])"
      ]
     },
     "execution_count": 5,
     "metadata": {},
     "output_type": "execute_result"
    }
   ],
   "source": [
    "pca = PCA(n_components=7)\n",
    "pca.fit(X_true) \n",
    "X_pca = pca.transform(X_true)\n",
    "X_pca"
   ]
  },
  {
   "cell_type": "code",
   "execution_count": 6,
   "metadata": {},
   "outputs": [
    {
     "data": {
      "text/plain": [
       "array([[ 0.00000000e+00, -4.66293670e-15,  1.00000000e+00,\n",
       "         9.00000000e+00,  1.50000000e+01,  1.10000000e+01,\n",
       "        -2.66453526e-15,  0.00000000e+00],\n",
       "       [ 0.00000000e+00, -4.21884749e-15,  1.10000000e+01,\n",
       "         1.60000000e+01,  8.00000000e+00,  1.40000000e+01,\n",
       "         6.00000000e+00,  0.00000000e+00],\n",
       "       [ 0.00000000e+00,  2.00000000e+00,  1.60000000e+01,\n",
       "         1.00000000e+01, -1.77635684e-15,  9.00000000e+00,\n",
       "         9.00000000e+00,  0.00000000e+00],\n",
       "       [ 0.00000000e+00,  1.00000000e+00,  1.60000000e+01,\n",
       "         4.00000000e+00, -5.32907052e-15,  8.00000000e+00,\n",
       "         8.00000000e+00,  0.00000000e+00],\n",
       "       [ 0.00000000e+00,  4.00000000e+00,  1.60000000e+01,\n",
       "         4.00000000e+00, -7.99360578e-15,  8.00000000e+00,\n",
       "         8.00000000e+00,  0.00000000e+00],\n",
       "       [ 0.00000000e+00,  1.00000000e+00,  1.60000000e+01,\n",
       "         5.00000000e+00,  1.00000000e+00,  1.10000000e+01,\n",
       "         3.00000000e+00,  0.00000000e+00],\n",
       "       [ 0.00000000e+00, -5.32907052e-15,  1.20000000e+01,\n",
       "         1.20000000e+01,  1.00000000e+01,  1.00000000e+01,\n",
       "        -8.88178420e-16,  0.00000000e+00],\n",
       "       [ 0.00000000e+00, -2.22044605e-15,  1.00000000e+00,\n",
       "         1.00000000e+01,  1.30000000e+01,  3.00000000e+00,\n",
       "         0.00000000e+00,  0.00000000e+00]])"
      ]
     },
     "execution_count": 6,
     "metadata": {},
     "output_type": "execute_result"
    }
   ],
   "source": [
    "X_pred = pca.inverse_transform(X_pca)\n",
    "X_pred"
   ]
  },
  {
   "cell_type": "code",
   "execution_count": 7,
   "metadata": {},
   "outputs": [
    {
     "data": {
      "text/plain": [
       "1.5147053826616733e-29"
      ]
     },
     "execution_count": 7,
     "metadata": {},
     "output_type": "execute_result"
    }
   ],
   "source": [
    "mean_squared_error(X_true, X_pred)"
   ]
  },
  {
   "cell_type": "code",
   "execution_count": 10,
   "metadata": {},
   "outputs": [
    {
     "name": "stdout",
     "output_type": "stream",
     "text": [
      "n_components = 2\n",
      "1.3718369022842563\n",
      "n_components = 3\n",
      "0.5949564425996346\n",
      "n_components = 4\n",
      "0.13228517549580718\n",
      "n_components = 5\n",
      "0.04828611154857035\n",
      "n_components = 6\n",
      "1.5697099418733727e-29\n",
      "n_components = 7\n",
      "1.5147053826616733e-29\n"
     ]
    }
   ],
   "source": [
    "n_components = [2,3,4,5,6,7]\n",
    "for component in n_components:\n",
    "    pca = PCA(n_components = component)\n",
    "    pca.fit(X_true) \n",
    "    X_pred = pca.inverse_transform(pca.transform(X_true))\n",
    "    print(f'n_components = {component}')\n",
    "    print(mean_squared_error(X_true, X_pred))"
   ]
  },
  {
   "cell_type": "markdown",
   "metadata": {},
   "source": [
    "## Домашнее задание \"Математический анализ. Производная\""
   ]
  },
  {
   "cell_type": "code",
   "execution_count": 18,
   "metadata": {},
   "outputs": [
    {
     "data": {
      "text/latex": [
       "$\\displaystyle 5 x^{4} - 3 \\sin{\\left(3 x + 3 \\right)} + 8 \\cos{\\left(2 x \\right)}$"
      ],
      "text/plain": [
       "5*x**4 - 3*sin(3*x + 3) + 8*cos(2*x)"
      ]
     },
     "execution_count": 18,
     "metadata": {},
     "output_type": "execute_result"
    }
   ],
   "source": [
    "x = sym.var('x')\n",
    "df = sym.diff(x**5+4*sym.sin(2*x)+sym.cos(3*x+3),x)\n",
    "df"
   ]
  },
  {
   "cell_type": "code",
   "execution_count": 21,
   "metadata": {},
   "outputs": [
    {
     "data": {
      "text/latex": [
       "$\\displaystyle 20 x^{3} - 16 \\sin{\\left(2 x \\right)} - 9 \\cos{\\left(3 \\left(x + 1\\right) \\right)}$"
      ],
      "text/plain": [
       "20*x**3 - 16*sin(2*x) - 9*cos(3*(x + 1))"
      ]
     },
     "execution_count": 21,
     "metadata": {},
     "output_type": "execute_result"
    }
   ],
   "source": [
    "ddf = sym.diff(x**5+4*sym.sin(2*x)+sym.cos(3*x+3),x, 2)\n",
    "ddf"
   ]
  },
  {
   "cell_type": "code",
   "execution_count": 22,
   "metadata": {},
   "outputs": [
    {
     "data": {
      "text/latex": [
       "$\\displaystyle 8 \\cos{\\left(2 \\right)} - 3 \\sin{\\left(6 \\right)} + 5$"
      ],
      "text/plain": [
       "8*cos(2) - 3*sin(6) + 5"
      ]
     },
     "execution_count": 22,
     "metadata": {},
     "output_type": "execute_result"
    }
   ],
   "source": [
    "df.subs(x,1)"
   ]
  },
  {
   "cell_type": "code",
   "execution_count": 24,
   "metadata": {},
   "outputs": [
    {
     "data": {
      "text/latex": [
       "$\\displaystyle - 16 \\sin{\\left(2 \\right)} - 9 \\cos{\\left(6 \\right)} + 20$"
      ],
      "text/plain": [
       "-16*sin(2) - 9*cos(6) + 20"
      ]
     },
     "execution_count": 24,
     "metadata": {},
     "output_type": "execute_result"
    }
   ],
   "source": [
    "ddf.subs(x,1)"
   ]
  },
  {
   "cell_type": "markdown",
   "metadata": {},
   "source": [
    "**Теперь построим график**"
   ]
  },
  {
   "cell_type": "code",
   "execution_count": 25,
   "metadata": {},
   "outputs": [
    {
     "data": {
      "text/latex": [
       "$\\displaystyle 10 \\sin^{4}{\\left(2 x + 1 \\right)} \\cos{\\left(2 x + 1 \\right)}$"
      ],
      "text/plain": [
       "10*sin(2*x + 1)**4*cos(2*x + 1)"
      ]
     },
     "execution_count": 25,
     "metadata": {},
     "output_type": "execute_result"
    }
   ],
   "source": [
    "dsin = sym.diff((sym.sin(2*x+1))**5,x)\n",
    "dsin"
   ]
  },
  {
   "cell_type": "code",
   "execution_count": 33,
   "metadata": {},
   "outputs": [
    {
     "data": {
      "text/plain": [
       "(-5.0, 5.0)"
      ]
     },
     "execution_count": 33,
     "metadata": {},
     "output_type": "execute_result"
    },
    {
     "data": {
      "image/png": "[encoded data removed]",
      "text/plain": [
       "<Figure size 432x288 with 1 Axes>"
      ]
     },
     "metadata": {
      "needs_background": "light"
     },
     "output_type": "display_data"
    }
   ],
   "source": [
    "var_x = np.arange(-5, 5, 0.1)\n",
    "var_dy = [dsin.subs(x,i) for i in var_x]\n",
    "plt.plot(var_x, var_dy)\n",
    "plt.ylim([-3, 3])\n",
    "plt.xlim([-5, 5])"
   ]
  },
  {
   "cell_type": "code",
   "execution_count": 26,
   "metadata": {},
   "outputs": [
    {
     "data": {
      "text/latex": [
       "$\\displaystyle 20 \\left(- \\sin^{2}{\\left(2 x + 1 \\right)} + 4 \\cos^{2}{\\left(2 x + 1 \\right)}\\right) \\sin^{3}{\\left(2 x + 1 \\right)}$"
      ],
      "text/plain": [
       "20*(-sin(2*x + 1)**2 + 4*cos(2*x + 1)**2)*sin(2*x + 1)**3"
      ]
     },
     "execution_count": 26,
     "metadata": {},
     "output_type": "execute_result"
    }
   ],
   "source": [
    "ddsin = sym.diff((sym.sin(2*x+1))**5,x, 2)\n",
    "ddsin"
   ]
  },
  {
   "cell_type": "code",
   "execution_count": 39,
   "metadata": {},
   "outputs": [
    {
     "data": {
      "text/plain": [
       "(-5.0, 5.0)"
      ]
     },
     "execution_count": 39,
     "metadata": {},
     "output_type": "execute_result"
    },
    {
     "data": {
      "image/png": "[encoded data removed]",
      "text/plain": [
       "<Figure size 432x288 with 1 Axes>"
      ]
     },
     "metadata": {
      "needs_background": "light"
     },
     "output_type": "display_data"
    }
   ],
   "source": [
    "var_ddy = [ddsin.subs(x,i) for i in var_x]\n",
    "plt.plot(var_x, var_ddy)\n",
    "plt.ylim([-22, 22])\n",
    "plt.xlim([-5, 5])"
   ]
  },
  {
   "cell_type": "markdown",
   "metadata": {},
   "source": [
    "## Домашнее задание \"Производная функции нескольких аргументов\""
   ]
  },
  {
   "cell_type": "code",
   "execution_count": 41,
   "metadata": {},
   "outputs": [
    {
     "data": {
      "text/latex": [
       "$\\displaystyle 4 x y^{3} + y^{2} - \\frac{1}{x^{2}}$"
      ],
      "text/plain": [
       "4*x*y**3 + y**2 - 1/x**2"
      ]
     },
     "execution_count": 41,
     "metadata": {},
     "output_type": "execute_result"
    }
   ],
   "source": [
    "y = sym.var('y')\n",
    "dpx = sym.diff(2*(x**2)*(y**3) + 1/x + x*y**2 + 7, x)\n",
    "dpx"
   ]
  },
  {
   "cell_type": "code",
   "execution_count": 42,
   "metadata": {},
   "outputs": [
    {
     "data": {
      "text/latex": [
       "$\\displaystyle 6 x^{2} y^{2} + 2 x y$"
      ],
      "text/plain": [
       "6*x**2*y**2 + 2*x*y"
      ]
     },
     "execution_count": 42,
     "metadata": {},
     "output_type": "execute_result"
    }
   ],
   "source": [
    "dpy = sym.diff(2*(x**2)*(y**3) + 1/x + x*y**2 + 7, y)\n",
    "dpy"
   ]
  },
  {
   "cell_type": "code",
   "execution_count": 44,
   "metadata": {},
   "outputs": [
    {
     "name": "stdout",
     "output_type": "stream",
     "text": [
      "[4*x*y**3 + y**2 - 1/x**2, 6*x**2*y**2 + 2*x*y]\n"
     ]
    }
   ],
   "source": [
    "grad_f = [dpx, dpy]\n",
    "print(grad_f)"
   ]
  },
  {
   "cell_type": "code",
   "execution_count": 48,
   "metadata": {},
   "outputs": [
    {
     "data": {
      "text/plain": [
       "[35, 28]"
      ]
     },
     "execution_count": 48,
     "metadata": {},
     "output_type": "execute_result"
    }
   ],
   "source": [
    "grad_fxy = [dpx.subs([(x,1),(y,2)]), dpy.subs([(x,1),(y,2)])]\n",
    "grad_fxy"
   ]
  },
  {
   "cell_type": "markdown",
   "metadata": {},
   "source": [
    "Для второй функции все аналогично, писать мне уже было немного лениво)"
   ]
  },
  {
   "cell_type": "markdown",
   "metadata": {},
   "source": [
    "**Теперь реализуем градиентный спуск**"
   ]
  },
  {
   "cell_type": "markdown",
   "metadata": {},
   "source": [
    "Сорри, мне очень не хотелось подглядывать в лекции, так что я решил вспомнить молодость и закодить его целиком самостоятельно, получилось довольно забавно. Сначала я вообще хотел сделать все в духе Matlab через SymPy, но в процессе пришлось реализовать это более pythonic через обычные функции. "
   ]
  },
  {
   "cell_type": "code",
   "execution_count": 48,
   "metadata": {},
   "outputs": [],
   "source": [
    "x, y =sym.symbols('x y')\n",
    "func = x**2 + y**2\n",
    "\n",
    "learning_rate = 0.1\n",
    "previous_x, current_x = 201, 200\n",
    "previous_y, current_y = 201, 200"
   ]
  },
  {
   "cell_type": "code",
   "execution_count": 49,
   "metadata": {},
   "outputs": [],
   "source": [
    "def f(k1, k2):\n",
    "    return func.subs([(x, k1),(y, k2)])\n",
    "\n",
    "def gx(k1):\n",
    "    return func_grad_x.subs(x, k1)\n",
    "\n",
    "def gy(k2):\n",
    "    return func_grad_y.subs(y, k2)"
   ]
  },
  {
   "cell_type": "code",
   "execution_count": 50,
   "metadata": {},
   "outputs": [
    {
     "name": "stdout",
     "output_type": "stream",
     "text": [
      "После 30 шагов значение функции равно 0.123828704693046\n"
     ]
    }
   ],
   "source": [
    "step_count = 30\n",
    "for i in range(step_count):\n",
    "    current_x = previous_x - learning_rate * gx(previous_x)\n",
    "    current_y = previous_y - learning_rate * gx(previous_x)\n",
    "    previous_x = current_x\n",
    "    previous_y = current_y\n",
    "print(f'После {step_count} шагов значение функции равно {f(current_x, current_y)}')"
   ]
  },
  {
   "cell_type": "markdown",
   "metadata": {},
   "source": [
    "## Домашнее задание \"Теория оптимизации\""
   ]
  },
  {
   "cell_type": "code",
   "execution_count": 3,
   "metadata": {},
   "outputs": [],
   "source": [
    "def ackley(X):\n",
    "    arg1 = -0.2 * np.sqrt(0.5 * (X[0] ** 2 + X[1] ** 2))\n",
    "    arg2 = 0.5 * (np.cos(2. * np.pi * X[0]) + np.cos(2. * np.pi * X[1]))\n",
    "    return -20. * np.exp(arg1) - np.exp(arg2) + 20. + np.e"
   ]
  },
  {
   "cell_type": "markdown",
   "metadata": {},
   "source": [
    "Для начала посмотрим на график. Matplotlib мне показался некрасивым и с ужасным синтаксисом и я решил использовать Plotly."
   ]
  },
  {
   "cell_type": "code",
   "execution_count": 35,
   "metadata": {},
   "outputs": [],
   "source": [
    "n = np.linspace(-10, 10, 50)\n",
    "\n",
    "z_values = []\n",
    "for i in range(0, len(n)):\n",
    "    row_x = np.full(len(n), n[i])\n",
    "    row_xy = np.array(list(zip(row_x, n)))\n",
    "    acl = np.array([ackley(row_xy[i]) for i in range(0, len(n))])\n",
    "    z_values.append(acl)"
   ]
  },
  {
   "cell_type": "code",
   "execution_count": 37,
   "metadata": {},
   "outputs": [
    {
     "data": {
      "application/vnd.plotly.v1+json": {
       "config": {
        "plotlyServerURL": "https://plot.ly"
       },
       "data": [
        {
         "type": "surface",
         "z": [
          [
           17.293294335267746,
           18.81568798244058,
           17.767871124030655,
           17.885493747199373,
           18.37650238781837,
           16.762737352318798,
           18.292988184562148,
           16.948773526318927,
           17.511503693652,
           17.658076954215847,
           16.30269440064038,
           17.738235841007096,
           16.168810874655215,
           17.13779718283365,
           16.94961214556854,
           15.968850304120803,
           17.232595045270138,
           15.540199269220023,
           16.849561189121506,
           16.348754358852144,
           15.833067320468217,
           16.87449915132425,
           15.18437703425571,
           16.742123904609983,
           15.956599779124994,
           15.956599779124994,
           16.742123904609983,
           15.18437703425571,
           16.87449915132425,
           15.833067320468217,
           16.348754358852155,
           16.849561189121502,
           15.540199269220023,
           17.232595045270138,
           15.968850304120803,
           16.949612145568544,
           17.13779718283365,
           16.168810874655215,
           17.7382358410071,
           16.30269440064038,
           17.658076954215847,
           17.511503693652,
           16.948773526318927,
           18.292988184562148,
           16.762737352318794,
           18.376502387818377,
           17.885493747199362,
           17.767871124030655,
           18.81568798244058,
           17.293294335267746
          ],
          [
           18.81568798244058,
           19.3488148115283,
           18.855143734214593,
           18.82500889639633,
           18.942675518937143,
           18.21985596596301,
           18.750581489653133,
           18.13440606234824,
           18.279002904322603,
           18.25809505221191,
           17.639006518286067,
           18.13465644410233,
           17.433588055495253,
           17.747612830357156,
           17.603145370873854,
           17.146224039733294,
           17.588952238196327,
           16.857398554760877,
           17.328761961388278,
           17.084126952759192,
           16.84015327617199,
           17.224371809594455,
           16.526417783395935,
           17.13178685753399,
           16.81038004538982,
           16.81038004538982,
           17.13178685753399,
           16.526417783395935,
           17.224371809594455,
           16.84015327617199,
           17.084126952759195,
           17.328761961388274,
           16.857398554760877,
           17.588952238196327,
           17.146224039733294,
           17.603145370873854,
           17.747612830357156,
           17.433588055495253,
           18.13465644410233,
           17.639006518286067,
           18.25809505221191,
           18.279002904322603,
           18.13440606234824,
           18.750581489653133,
           18.219855965963006,
           18.942675518937147,
           18.825008896396326,
           18.855143734214593,
           19.3488148115283,
           18.81568798244058
          ],
          [
           17.767871124030655,
           18.855143734214593,
           18.032566903083627,
           18.074289013247082,
           18.39224339465112,
           17.146298504705182,
           18.23432129667052,
           17.187221029611592,
           17.55585269679899,
           17.615349303548975,
           16.559689072458873,
           17.577048909413634,
           16.36379776684465,
           17.036787371958457,
           16.852118213451572,
           16.08096927772303,
           16.979104663376194,
           15.685021720112971,
           16.62346238309158,
           16.22156611657171,
           15.812909894370357,
           16.565215931584294,
           15.29406281262577,
           16.43996967996393,
           15.851170293915917,
           15.851170293915917,
           16.43996967996393,
           15.294062812625771,
           16.565215931584294,
           15.812909894370357,
           16.22156611657172,
           16.623462383091578,
           15.685021720112971,
           16.979104663376194,
           16.08096927772303,
           16.852118213451575,
           17.036787371958457,
           16.36379776684465,
           17.577048909413634,
           16.559689072458877,
           17.615349303548975,
           17.55585269679899,
           17.187221029611592,
           18.23432129667052,
           17.14629850470518,
           18.39224339465113,
           18.07428901324707,
           18.032566903083627,
           18.855143734214593,
           17.767871124030655
          ],
          [
           17.885493747199373,
           18.82500889639633,
           18.074289013247082,
           18.087448399163147,
           18.344314399326507,
           17.217120104091098,
           18.15408914323863,
           17.20184388122514,
           17.501667549413984,
           17.527828855940644,
           16.567450725995243,
           17.44104493369836,
           16.341706480959804,
           16.911519450961833,
           16.72339758482457,
           16.01748521281223,
           16.789553442503117,
           15.623896198822976,
           16.435026431607703,
           16.06257406459874,
           15.68651057149475,
           16.340064446157083,
           15.20641726529507,
           16.213920460277635,
           15.689928625718132,
           15.689928625718132,
           16.213920460277635,
           15.20641726529507,
           16.340064446157083,
           15.68651057149475,
           16.06257406459875,
           16.435026431607703,
           15.623896198822976,
           16.789553442503117,
           16.01748521281223,
           16.72339758482457,
           16.911519450961833,
           16.341706480959804,
           17.44104493369836,
           16.567450725995243,
           17.527828855940644,
           17.501667549413984,
           17.20184388122514,
           18.15408914323863,
           17.217120104091094,
           18.34431439932651,
           18.08744839916314,
           18.074289013247082,
           18.82500889639633,
           17.885493747199373
          ],
          [
           18.37650238781837,
           18.942675518937143,
           18.39224339465112,
           18.344314399326507,
           18.455847378529256,
           17.653136202299738,
           18.211204206644933,
           17.522177866521425,
           17.658662293260782,
           17.614413735007915,
           16.91948223155009,
           17.43498483726921,
           16.649890090457525,
           16.967404353513466,
           16.786862913421242,
           16.267241527184613,
           16.72575131869949,
           15.909596235189047,
           16.4018220405653,
           16.11806727985967,
           15.837317429841406,
           16.241698057224905,
           15.473338339766194,
           16.124155956564675,
           15.77148995291816,
           15.77148995291816,
           16.124155956564675,
           15.473338339766196,
           16.241698057224905,
           15.837317429841406,
           16.118067279859673,
           16.401822040565296,
           15.909596235189047,
           16.72575131869949,
           16.267241527184613,
           16.786862913421242,
           16.967404353513466,
           16.649890090457525,
           17.434984837269212,
           16.91948223155009,
           17.614413735007915,
           17.658662293260782,
           17.522177866521425,
           18.211204206644933,
           17.653136202299734,
           18.45584737852926,
           18.344314399326503,
           18.39224339465112,
           18.942675518937143,
           18.37650238781837
          ],
          [
           16.762737352318798,
           18.21985596596301,
           17.146298504705182,
           17.217120104091098,
           17.653136202299738,
           16.01643576175393,
           17.470766920473114,
           16.0954018814531,
           16.594385963237993,
           16.68254283378595,
           15.291995066403878,
           16.64637428938658,
           15.04425220473997,
           15.93962694439515,
           15.697464243048959,
           14.6771236151241,
           15.86716845589325,
           14.152091477056997,
           15.393970835050405,
           14.85974407004774,
           14.316369541224747,
           15.311077272297151,
           13.625389055619603,
           15.142252392938452,
           14.361568882433897,
           14.361568882433897,
           15.142252392938452,
           13.625389055619605,
           15.311077272297151,
           14.316369541224747,
           14.85974407004775,
           15.393970835050403,
           14.152091477056997,
           15.86716845589325,
           14.6771236151241,
           15.69746424304896,
           15.93962694439515,
           15.04425220473997,
           16.64637428938658,
           15.291995066403878,
           16.68254283378595,
           16.594385963237993,
           16.0954018814531,
           17.470766920473114,
           16.016435761753925,
           17.653136202299745,
           17.217120104091087,
           17.146298504705182,
           18.21985596596301,
           16.762737352318798
          ],
          [
           18.292988184562148,
           18.750581489653133,
           18.23432129667052,
           18.15408914323863,
           18.211204206644933,
           17.470766920473114,
           17.913877473361605,
           17.269787475094812,
           17.343405294572378,
           17.258711928953126,
           16.60672396930354,
           17.008333183554655,
           16.277351856557324,
           16.506822031869493,
           16.30339483654185,
           15.806021297331647,
           16.162261246168498,
           15.411061781010602,
           15.802303509339449,
           15.521637025783175,
           15.248013497252341,
           15.575998074364197,
           14.888331160707887,
           15.442395324184194,
           15.128904289390222,
           15.128904289390222,
           15.442395324184194,
           14.888331160707887,
           15.575998074364197,
           15.248013497252341,
           15.52163702578318,
           15.802303509339449,
           15.411061781010602,
           16.162261246168498,
           15.806021297331647,
           16.303394836541855,
           16.506822031869493,
           16.277351856557324,
           17.008333183554655,
           16.60672396930354,
           17.258711928953126,
           17.343405294572378,
           17.269787475094812,
           17.913877473361605,
           17.470766920473114,
           18.211204206644936,
           18.154089143238625,
           18.23432129667052,
           18.750581489653133,
           18.292988184562148
          ],
          [
           16.948773526318927,
           18.13440606234824,
           17.187221029611592,
           17.20184388122514,
           17.522177866521425,
           16.0954018814531,
           17.269787475094812,
           16.059834434382903,
           16.426794394755035,
           16.44661527412805,
           15.220341188206373,
           16.304853786092668,
           14.899595453903235,
           15.597634752712388,
           15.33859485133036,
           14.42569898016396,
           15.376191796364123,
           13.88325413207476,
           14.883908892179331,
           14.393440379541385,
           13.900536495911409,
           14.708812428740714,
           13.266717084298786,
           14.528593339551056,
           13.863403369653463,
           13.863403369653463,
           14.528593339551056,
           13.266717084298788,
           14.708812428740714,
           13.900536495911409,
           14.393440379541394,
           14.88390889217933,
           13.88325413207476,
           15.376191796364123,
           14.42569898016396,
           15.338594851330363,
           15.597634752712388,
           14.899595453903235,
           16.304853786092668,
           15.220341188206373,
           16.44661527412805,
           16.426794394755035,
           16.059834434382903,
           17.269787475094812,
           16.095401881453096,
           17.52217786652143,
           17.201843881225134,
           17.187221029611592,
           18.13440606234824,
           16.948773526318927
          ],
          [
           17.511503693652,
           18.279002904322603,
           17.55585269679899,
           17.501667549413984,
           17.658662293260782,
           16.594385963237993,
           17.343405294572378,
           16.426794394755035,
           16.609137346287138,
           16.54804066422498,
           15.616537847669559,
           16.297226896765338,
           15.240579271566718,
           15.652460204335343,
           15.39789566861607,
           14.68927561999067,
           15.284118677491415,
           14.177865266893793,
           14.816785920566504,
           14.421169599140567,
           14.030883534294968,
           14.556582983877057,
           13.520656237943847,
           14.381143608834291,
           13.906766377795881,
           13.906766377795881,
           14.381143608834291,
           13.520656237943848,
           14.556582983877057,
           14.030883534294968,
           14.421169599140573,
           14.816785920566502,
           14.177865266893793,
           15.284118677491415,
           14.68927561999067,
           15.397895668616073,
           15.652460204335343,
           15.240579271566718,
           16.297226896765338,
           15.616537847669559,
           16.54804066422498,
           16.609137346287138,
           16.426794394755035,
           17.343405294572374,
           16.59438596323799,
           17.65866229326079,
           17.501667549413977,
           17.55585269679899,
           18.279002904322603,
           17.511503693652
          ],
          [
           17.658076954215847,
           18.25809505221191,
           17.615349303548975,
           17.527828855940644,
           17.614413735007915,
           16.68254283378595,
           17.258711928953126,
           16.44661527412805,
           16.54804066422498,
           16.44554034055215,
           15.61734904661137,
           16.130640003300506,
           15.19709569576572,
           15.486190601551524,
           15.220945392182784,
           14.578772153148305,
           15.023570000566854,
           14.05463077534032,
           14.541972687585202,
           14.172191691773977,
           13.81189621423007,
           14.220085921130023,
           13.334765709323108,
           14.035558529566764,
           13.632694066913912,
           13.632694066913912,
           14.035558529566764,
           13.334765709323108,
           14.220085921130023,
           13.81189621423007,
           14.172191691773982,
           14.5419726875852,
           14.05463077534032,
           15.023570000566854,
           14.578772153148305,
           15.220945392182786,
           15.486190601551524,
           15.19709569576572,
           16.130640003300506,
           15.61734904661137,
           16.44554034055215,
           16.54804066422498,
           16.44661527412805,
           17.258711928953126,
           16.682542833785945,
           17.61441373500792,
           17.527828855940637,
           17.615349303548975,
           18.25809505221191,
           17.658076954215847
          ],
          [
           16.30269440064038,
           17.639006518286067,
           16.559689072458873,
           16.567450725995243,
           16.91948223155009,
           15.291995066403878,
           16.60672396930354,
           15.220341188206373,
           15.616537847669559,
           15.61734904661137,
           14.205180663589077,
           15.406146984312523,
           13.786497414123811,
           14.545405590624174,
           14.2190853512737,
           13.151213223098594,
           14.191712869256461,
           12.466380179424416,
           13.56444451013242,
           12.976577503991697,
           12.388983316283394,
           13.27839544461315,
           11.625825541202254,
           13.04010960134738,
           12.279961439438168,
           12.279961439438168,
           13.04010960134738,
           11.625825541202255,
           13.27839544461315,
           12.388983316283394,
           12.976577503991706,
           13.564444510132416,
           12.466380179424416,
           14.191712869256461,
           13.151213223098594,
           14.219085351273701,
           14.545405590624174,
           13.786497414123811,
           15.406146984312521,
           14.205180663589077,
           15.61734904661137,
           15.616537847669559,
           15.220341188206373,
           16.60672396930354,
           15.291995066403874,
           16.9194822315501,
           16.567450725995233,
           16.559689072458873,
           17.639006518286067,
           16.30269440064038
          ],
          [
           17.738235841007096,
           18.13465644410233,
           17.577048909413634,
           17.44104493369836,
           17.43498483726921,
           16.64637428938658,
           17.008333183554655,
           16.304853786092668,
           16.297226896765338,
           16.130640003300506,
           15.406146984312523,
           15.705796808961281,
           14.89666526401495,
           15.021927406911566,
           14.722799892344993,
           14.136069458768892,
           14.383070296844709,
           13.55189285796488,
           13.84015530121795,
           13.479620414987377,
           13.135280380017502,
           13.38978501368399,
           12.667210674583057,
           13.172363292851776,
           12.848304097073992,
           12.848304097073992,
           13.172363292851776,
           12.667210674583059,
           13.38978501368399,
           13.135280380017502,
           13.47962041498738,
           13.840155301217948,
           13.55189285796488,
           14.383070296844709,
           14.136069458768892,
           14.722799892344995,
           15.021927406911566,
           14.89666526401495,
           15.705796808961281,
           15.406146984312523,
           16.130640003300506,
           16.297226896765338,
           16.304853786092668,
           17.00833318355465,
           16.64637428938658,
           17.434984837269212,
           17.441044933698358,
           17.577048909413634,
           18.13465644410233,
           17.738235841007096
          ],
          [
           16.168810874655215,
           17.433588055495253,
           16.36379776684465,
           16.341706480959804,
           16.649890090457525,
           15.04425220473997,
           16.277351856557324,
           14.899595453903235,
           15.240579271566718,
           15.19709569576572,
           13.786497414123811,
           14.89666526401495,
           13.280636829958398,
           13.959259600537898,
           13.588126443684242,
           12.499686293178083,
           13.446753895307646,
           11.723558759958307,
           12.728594838924144,
           12.108892533050192,
           11.494377707475048,
           12.31278234648825,
           10.684839270157603,
           12.028194351523771,
           11.28268799837702,
           11.28268799837702,
           12.028194351523771,
           10.684839270157605,
           12.31278234648825,
           11.494377707475048,
           12.108892533050202,
           12.728594838924142,
           11.723558759958307,
           13.446753895307646,
           12.499686293178083,
           13.588126443684246,
           13.959259600537898,
           13.280636829958398,
           14.896665264014953,
           13.786497414123811,
           15.19709569576572,
           15.240579271566718,
           14.899595453903235,
           16.27735185655732,
           15.044252204739966,
           16.649890090457532,
           16.341706480959793,
           16.36379776684465,
           17.433588055495253,
           16.168810874655215
          ],
          [
           17.13779718283365,
           17.747612830357156,
           17.036787371958457,
           16.911519450961833,
           16.967404353513466,
           15.93962694439515,
           16.506822031869493,
           15.597634752712388,
           15.652460204335343,
           15.486190601551524,
           14.545405590624174,
           15.021927406911566,
           13.959259600537898,
           14.18819100427104,
           13.825018495610761,
           13.058664553132049,
           13.442540061508437,
           12.32667295677205,
           12.756339462654791,
           12.281100890911565,
           11.822784895638497,
           12.189339383204533,
           11.19748124603883,
           11.903363885564248,
           11.457027589966042,
           11.457027589966042,
           11.903363885564248,
           11.19748124603883,
           12.189339383204533,
           11.822784895638497,
           12.28110089091157,
           12.756339462654791,
           12.32667295677205,
           13.442540061508437,
           13.058664553132049,
           13.825018495610761,
           14.18819100427104,
           13.959259600537898,
           15.021927406911566,
           14.545405590624174,
           15.486190601551524,
           15.652460204335343,
           15.597634752712388,
           16.506822031869493,
           15.939626944395147,
           16.96740435351347,
           16.911519450961826,
           17.036787371958457,
           17.747612830357156,
           17.13779718283365
          ],
          [
           16.94961214556854,
           17.603145370873854,
           16.852118213451572,
           16.72339758482457,
           16.786862913421242,
           15.697464243048959,
           16.30339483654185,
           15.33859485133036,
           15.39789566861607,
           15.220945392182784,
           14.2190853512737,
           14.722799892344993,
           13.588126443684242,
           13.825018495610761,
           13.430326665940592,
           12.604892243564448,
           13.000587149451096,
           11.799773255960382,
           12.241031541665373,
           11.719312691563276,
           11.215694662713991,
           11.590365885135038,
           10.522910722207836,
           11.264219943088289,
           10.78470896200404,
           10.78470896200404,
           11.264219943088289,
           10.522910722207838,
           11.590365885135038,
           11.215694662713991,
           11.719312691563283,
           12.241031541665372,
           11.799773255960382,
           13.000587149451096,
           12.604892243564448,
           13.430326665940594,
           13.825018495610761,
           13.588126443684242,
           14.722799892344993,
           14.219085351273701,
           15.220945392182784,
           15.39789566861607,
           15.33859485133036,
           16.30339483654185,
           15.697464243048955,
           16.786862913421245,
           16.723397584824564,
           16.852118213451572,
           17.603145370873854,
           16.94961214556854
          ],
          [
           15.968850304120803,
           17.146224039733294,
           16.08096927772303,
           16.01748521281223,
           16.267241527184613,
           14.6771236151241,
           15.806021297331647,
           14.42569898016396,
           14.68927561999067,
           14.578772153148305,
           13.151213223098594,
           14.136069458768892,
           12.499686293178083,
           13.058664553132049,
           12.604892243564448,
           11.457861210496814,
           12.259411084356746,
           10.496801820817787,
           11.351211150090638,
           10.649862596157385,
           9.960295659486931,
           10.656751961466606,
           9.022689442148497,
           10.26001495300052,
           9.518118982684081,
           9.518118982684081,
           10.26001495300052,
           9.022689442148497,
           10.656751961466606,
           9.960295659486931,
           10.649862596157396,
           11.351211150090638,
           10.496801820817787,
           12.259411084356746,
           11.457861210496814,
           12.604892243564453,
           13.058664553132049,
           12.499686293178083,
           14.136069458768892,
           13.151213223098596,
           14.578772153148305,
           14.68927561999067,
           14.42569898016396,
           15.806021297331647,
           14.677123615124096,
           16.267241527184616,
           16.01748521281222,
           16.08096927772303,
           17.146224039733294,
           15.968850304120803
          ],
          [
           17.232595045270138,
           17.588952238196327,
           16.979104663376194,
           16.789553442503117,
           16.72575131869949,
           15.86716845589325,
           16.162261246168498,
           15.376191796364123,
           15.284118677491415,
           15.023570000566854,
           14.191712869256461,
           14.383070296844709,
           13.446753895307646,
           13.442540061508437,
           13.000587149451096,
           12.259411084356746,
           12.350856480631942,
           11.349486160968961,
           11.474363401828063,
           10.94744871098365,
           10.445420537631279,
           10.563253247945248,
           9.72036890514352,
           10.147816537570357,
           9.778306574222656,
           9.778306574222656,
           10.147816537570357,
           9.720368905143522,
           10.563253247945248,
           10.445420537631279,
           10.947448710983657,
           11.474363401828063,
           11.349486160968961,
           12.350856480631942,
           12.259411084356746,
           13.000587149451096,
           13.442540061508437,
           13.446753895307646,
           14.38307029684471,
           14.191712869256463,
           15.023570000566854,
           15.284118677491415,
           15.376191796364123,
           16.162261246168494,
           15.867168455893248,
           16.725751318699494,
           16.789553442503113,
           16.979104663376194,
           17.588952238196327,
           17.232595045270138
          ],
          [
           15.540199269220023,
           16.857398554760877,
           15.685021720112971,
           15.623896198822976,
           15.909596235189047,
           14.152091477056997,
           15.411061781010602,
           13.88325413207476,
           14.177865266893793,
           14.05463077534032,
           12.466380179424416,
           13.55189285796488,
           11.723558759958307,
           12.32667295677205,
           11.799773255960382,
           10.496801820817787,
           11.349486160968961,
           9.34892572460662,
           10.246241863930521,
           9.411362715446172,
           8.586707744623467,
           9.301590276530016,
           7.436311143311386,
           8.770555181778224,
           7.925951862863194,
           7.925951862863194,
           8.770555181778224,
           7.436311143311389,
           9.301590276530016,
           8.586707744623467,
           9.411362715446183,
           10.24624186393052,
           9.34892572460662,
           11.349486160968961,
           10.496801820817787,
           11.799773255960385,
           12.32667295677205,
           11.723558759958307,
           13.55189285796488,
           12.466380179424416,
           14.05463077534032,
           14.177865266893793,
           13.88325413207476,
           15.411061781010602,
           14.152091477056995,
           15.909596235189053,
           15.623896198822965,
           15.685021720112971,
           16.857398554760877,
           15.540199269220023
          ],
          [
           16.849561189121506,
           17.328761961388278,
           16.62346238309158,
           16.435026431607703,
           16.4018220405653,
           15.393970835050405,
           15.802303509339449,
           14.883908892179331,
           14.816785920566504,
           14.541972687585202,
           13.56444451013242,
           13.84015530121795,
           12.728594838924144,
           12.756339462654791,
           12.241031541665373,
           11.351211150090638,
           11.474363401828063,
           10.246241863930521,
           10.389057957275096,
           9.720686695609412,
           9.072823872061711,
           9.178951487253794,
           8.105112670806928,
           8.596733540841305,
           8.124397447852775,
           8.124397447852775,
           8.596733540841305,
           8.10511267080693,
           9.178951487253794,
           9.072823872061711,
           9.72068669560942,
           10.389057957275094,
           10.246241863930521,
           11.474363401828063,
           11.351211150090638,
           12.241031541665375,
           12.756339462654791,
           12.728594838924144,
           13.840155301217953,
           13.564444510132423,
           14.541972687585202,
           14.816785920566504,
           14.883908892179331,
           15.802303509339449,
           15.393970835050405,
           16.401822040565303,
           16.4350264316077,
           16.62346238309158,
           17.328761961388278,
           16.849561189121506
          ],
          [
           16.348754358852144,
           17.084126952759192,
           16.22156611657171,
           16.06257406459874,
           16.11806727985967,
           14.85974407004774,
           15.521637025783175,
           14.393440379541385,
           14.421169599140567,
           14.172191691773977,
           12.976577503991697,
           13.479620414987377,
           12.108892533050192,
           12.281100890911565,
           11.719312691563276,
           10.649862596157385,
           10.94744871098365,
           9.411362715446172,
           9.720686695609412,
           8.9201285737262,
           8.131094883366023,
           8.342847960507429,
           6.9381850283418345,
           7.632047177653664,
           7.006149742679879,
           7.006149742679879,
           7.632047177653664,
           6.938185028341838,
           8.342847960507429,
           8.131094883366023,
           8.92012857372621,
           9.72068669560941,
           9.411362715446172,
           10.94744871098365,
           10.649862596157385,
           11.71931269156328,
           12.281100890911565,
           12.108892533050192,
           13.47962041498738,
           12.976577503991697,
           14.172191691773977,
           14.421169599140567,
           14.393440379541385,
           15.521637025783175,
           14.859744070047737,
           16.118067279859673,
           16.062574064598735,
           16.22156611657171,
           17.084126952759192,
           16.348754358852144
          ],
          [
           15.833067320468217,
           16.84015327617199,
           15.812909894370357,
           15.68651057149475,
           15.837317429841406,
           14.316369541224747,
           15.248013497252341,
           13.900536495911409,
           14.030883534294968,
           13.81189621423007,
           12.388983316283394,
           13.135280380017502,
           11.494377707475048,
           11.822784895638497,
           11.215694662713991,
           9.960295659486931,
           10.445420537631279,
           8.586707744623467,
           9.072823872061711,
           8.131094883366023,
           7.187569267324443,
           7.500559497264405,
           5.731785293820817,
           6.6230957995134006,
           5.824080940577712,
           5.824080940577712,
           6.6230957995134006,
           5.731785293820824,
           7.500559497264405,
           7.187569267324443,
           8.131094883366034,
           9.072823872061711,
           8.586707744623467,
           10.445420537631279,
           9.960295659486931,
           11.215694662713995,
           11.822784895638497,
           11.494377707475048,
           13.135280380017504,
           12.388983316283394,
           13.81189621423007,
           14.030883534294968,
           13.900536495911409,
           15.248013497252337,
           14.316369541224745,
           15.837317429841415,
           15.68651057149474,
           15.812909894370357,
           16.84015327617199,
           15.833067320468217
          ],
          [
           16.87449915132425,
           17.224371809594455,
           16.565215931584294,
           16.340064446157083,
           16.241698057224905,
           15.311077272297151,
           15.575998074364197,
           14.708812428740714,
           14.556582983877057,
           14.220085921130023,
           13.27839544461315,
           13.38978501368399,
           12.31278234648825,
           12.189339383204533,
           11.590365885135038,
           10.656751961466606,
           10.563253247945248,
           9.301590276530016,
           9.178951487253794,
           8.342847960507429,
           7.500559497264405,
           7.282560028743273,
           6.0689328742743704,
           6.2292148253012485,
           5.675612533796301,
           5.675612533796301,
           6.2292148253012485,
           6.068932874274374,
           7.282560028743273,
           7.500559497264405,
           8.342847960507436,
           9.178951487253794,
           9.301590276530016,
           10.563253247945248,
           10.656751961466606,
           11.590365885135043,
           12.189339383204533,
           12.31278234648825,
           13.389785013683994,
           13.278395444613151,
           14.220085921130023,
           14.556582983877057,
           14.708812428740714,
           15.575998074364197,
           15.311077272297151,
           16.24169805722491,
           16.340064446157083,
           16.565215931584294,
           17.224371809594455,
           16.87449915132425
          ],
          [
           15.18437703425571,
           16.526417783395935,
           15.29406281262577,
           15.20641726529507,
           15.473338339766194,
           13.625389055619603,
           14.888331160707887,
           13.266717084298786,
           13.520656237943847,
           13.334765709323108,
           11.625825541202254,
           12.667210674583057,
           10.684839270157603,
           11.19748124603883,
           10.522910722207836,
           9.022689442148497,
           9.72036890514352,
           7.436311143311386,
           8.105112670806928,
           6.9381850283418345,
           5.731785293820817,
           6.0689328742743704,
           3.714309584120905,
           4.694041460226707,
           3.5622648068290066,
           3.5622648068290066,
           4.694041460226707,
           3.714309584120912,
           6.0689328742743704,
           5.731785293820817,
           6.938185028341847,
           8.105112670806927,
           7.436311143311386,
           9.72036890514352,
           9.022689442148497,
           10.52291072220784,
           11.19748124603883,
           10.684839270157603,
           12.667210674583059,
           11.625825541202254,
           13.334765709323108,
           13.520656237943847,
           13.266717084298786,
           14.888331160707885,
           13.6253890556196,
           15.473338339766203,
           15.206417265295057,
           15.29406281262577,
           16.526417783395935,
           15.18437703425571
          ],
          [
           16.742123904609983,
           17.13178685753399,
           16.43996967996393,
           16.213920460277635,
           16.124155956564675,
           15.142252392938452,
           15.442395324184194,
           14.528593339551056,
           14.381143608834291,
           14.035558529566764,
           13.04010960134738,
           13.172363292851776,
           12.028194351523771,
           11.903363885564248,
           11.264219943088289,
           10.26001495300052,
           10.147816537570357,
           8.770555181778224,
           8.596733540841305,
           7.632047177653664,
           6.6230957995134006,
           6.2292148253012485,
           4.694041460226707,
           4.556270255944156,
           3.6749813605328936,
           3.6749813605328936,
           4.556270255944156,
           4.69404146022671,
           6.2292148253012485,
           6.6230957995134006,
           7.632047177653673,
           8.596733540841306,
           8.770555181778224,
           10.147816537570357,
           10.26001495300052,
           11.264219943088289,
           11.903363885564248,
           12.028194351523771,
           13.172363292851777,
           13.040109601347384,
           14.035558529566764,
           14.381143608834291,
           14.528593339551056,
           15.442395324184194,
           15.142252392938452,
           16.124155956564678,
           16.21392046027763,
           16.43996967996393,
           17.13178685753399,
           16.742123904609983
          ],
          [
           15.956599779124994,
           16.81038004538982,
           15.851170293915917,
           15.689928625718132,
           15.77148995291816,
           14.361568882433897,
           15.128904289390222,
           13.863403369653463,
           13.906766377795881,
           13.632694066913912,
           12.279961439438168,
           12.848304097073992,
           11.28268799837702,
           11.457027589966042,
           10.78470896200404,
           9.518118982684081,
           9.778306574222656,
           7.925951862863194,
           8.124397447852775,
           7.006149742679879,
           5.824080940577712,
           5.675612533796301,
           3.5622648068290066,
           3.6749813605328936,
           2.189039023626592,
           2.189039023626592,
           3.6749813605328936,
           3.56226480682901,
           5.675612533796301,
           5.824080940577712,
           7.0061497426798915,
           8.124397447852777,
           7.925951862863194,
           9.778306574222656,
           9.518118982684081,
           10.784708962004043,
           11.457027589966042,
           11.28268799837702,
           12.848304097073994,
           12.279961439438168,
           13.632694066913912,
           13.906766377795881,
           13.863403369653463,
           15.12890428939022,
           14.361568882433893,
           15.771489952918165,
           15.689928625718123,
           15.851170293915917,
           16.81038004538982,
           15.956599779124994
          ],
          [
           15.956599779124994,
           16.81038004538982,
           15.851170293915917,
           15.689928625718132,
           15.77148995291816,
           14.361568882433897,
           15.128904289390222,
           13.863403369653463,
           13.906766377795881,
           13.632694066913912,
           12.279961439438168,
           12.848304097073992,
           11.28268799837702,
           11.457027589966042,
           10.78470896200404,
           9.518118982684081,
           9.778306574222656,
           7.925951862863194,
           8.124397447852775,
           7.006149742679879,
           5.824080940577712,
           5.675612533796301,
           3.5622648068290066,
           3.6749813605328936,
           2.189039023626592,
           2.189039023626592,
           3.6749813605328936,
           3.56226480682901,
           5.675612533796301,
           5.824080940577712,
           7.0061497426798915,
           8.124397447852777,
           7.925951862863194,
           9.778306574222656,
           9.518118982684081,
           10.784708962004043,
           11.457027589966042,
           11.28268799837702,
           12.848304097073994,
           12.279961439438168,
           13.632694066913912,
           13.906766377795881,
           13.863403369653463,
           15.12890428939022,
           14.361568882433893,
           15.771489952918165,
           15.689928625718123,
           15.851170293915917,
           16.81038004538982,
           15.956599779124994
          ],
          [
           16.742123904609983,
           17.13178685753399,
           16.43996967996393,
           16.213920460277635,
           16.124155956564675,
           15.142252392938452,
           15.442395324184194,
           14.528593339551056,
           14.381143608834291,
           14.035558529566764,
           13.04010960134738,
           13.172363292851776,
           12.028194351523771,
           11.903363885564248,
           11.264219943088289,
           10.26001495300052,
           10.147816537570357,
           8.770555181778224,
           8.596733540841305,
           7.632047177653664,
           6.6230957995134006,
           6.2292148253012485,
           4.694041460226707,
           4.556270255944156,
           3.6749813605328936,
           3.6749813605328936,
           4.556270255944156,
           4.69404146022671,
           6.2292148253012485,
           6.6230957995134006,
           7.632047177653673,
           8.596733540841306,
           8.770555181778224,
           10.147816537570357,
           10.26001495300052,
           11.264219943088289,
           11.903363885564248,
           12.028194351523771,
           13.172363292851777,
           13.040109601347384,
           14.035558529566764,
           14.381143608834291,
           14.528593339551056,
           15.442395324184194,
           15.142252392938452,
           16.124155956564678,
           16.21392046027763,
           16.43996967996393,
           17.13178685753399,
           16.742123904609983
          ],
          [
           15.18437703425571,
           16.526417783395935,
           15.294062812625771,
           15.20641726529507,
           15.473338339766196,
           13.625389055619605,
           14.888331160707887,
           13.266717084298788,
           13.520656237943848,
           13.334765709323108,
           11.625825541202255,
           12.667210674583059,
           10.684839270157605,
           11.19748124603883,
           10.522910722207838,
           9.022689442148497,
           9.720368905143522,
           7.436311143311389,
           8.10511267080693,
           6.938185028341838,
           5.731785293820824,
           6.068932874274374,
           3.714309584120912,
           4.69404146022671,
           3.56226480682901,
           3.56226480682901,
           4.69404146022671,
           3.714309584120912,
           6.068932874274374,
           5.731785293820824,
           6.9381850283418505,
           8.105112670806932,
           7.436311143311389,
           9.720368905143522,
           9.022689442148497,
           10.522910722207842,
           11.19748124603883,
           10.684839270157605,
           12.667210674583062,
           11.625825541202255,
           13.334765709323108,
           13.520656237943848,
           13.266717084298788,
           14.888331160707885,
           13.625389055619603,
           15.473338339766203,
           15.206417265295059,
           15.294062812625771,
           16.526417783395935,
           15.18437703425571
          ],
          [
           16.87449915132425,
           17.224371809594455,
           16.565215931584294,
           16.340064446157083,
           16.241698057224905,
           15.311077272297151,
           15.575998074364197,
           14.708812428740714,
           14.556582983877057,
           14.220085921130023,
           13.27839544461315,
           13.38978501368399,
           12.31278234648825,
           12.189339383204533,
           11.590365885135038,
           10.656751961466606,
           10.563253247945248,
           9.301590276530016,
           9.178951487253794,
           8.342847960507429,
           7.500559497264405,
           7.282560028743273,
           6.0689328742743704,
           6.2292148253012485,
           5.675612533796301,
           5.675612533796301,
           6.2292148253012485,
           6.068932874274374,
           7.282560028743273,
           7.500559497264405,
           8.342847960507436,
           9.178951487253794,
           9.301590276530016,
           10.563253247945248,
           10.656751961466606,
           11.590365885135043,
           12.189339383204533,
           12.31278234648825,
           13.389785013683994,
           13.278395444613151,
           14.220085921130023,
           14.556582983877057,
           14.708812428740714,
           15.575998074364197,
           15.311077272297151,
           16.24169805722491,
           16.340064446157083,
           16.565215931584294,
           17.224371809594455,
           16.87449915132425
          ],
          [
           15.833067320468217,
           16.84015327617199,
           15.812909894370357,
           15.68651057149475,
           15.837317429841406,
           14.316369541224747,
           15.248013497252341,
           13.900536495911409,
           14.030883534294968,
           13.81189621423007,
           12.388983316283394,
           13.135280380017502,
           11.494377707475048,
           11.822784895638497,
           11.215694662713991,
           9.960295659486931,
           10.445420537631279,
           8.586707744623467,
           9.072823872061711,
           8.131094883366023,
           7.187569267324443,
           7.500559497264405,
           5.731785293820817,
           6.6230957995134006,
           5.824080940577712,
           5.824080940577712,
           6.6230957995134006,
           5.731785293820824,
           7.500559497264405,
           7.187569267324443,
           8.131094883366034,
           9.072823872061711,
           8.586707744623467,
           10.445420537631279,
           9.960295659486931,
           11.215694662713995,
           11.822784895638497,
           11.494377707475048,
           13.135280380017504,
           12.388983316283394,
           13.81189621423007,
           14.030883534294968,
           13.900536495911409,
           15.248013497252337,
           14.316369541224745,
           15.837317429841415,
           15.68651057149474,
           15.812909894370357,
           16.84015327617199,
           15.833067320468217
          ],
          [
           16.348754358852155,
           17.084126952759195,
           16.22156611657172,
           16.06257406459875,
           16.118067279859673,
           14.85974407004775,
           15.52163702578318,
           14.393440379541394,
           14.421169599140573,
           14.172191691773982,
           12.976577503991706,
           13.47962041498738,
           12.108892533050202,
           12.28110089091157,
           11.719312691563283,
           10.649862596157396,
           10.947448710983657,
           9.411362715446183,
           9.72068669560942,
           8.92012857372621,
           8.131094883366034,
           8.342847960507436,
           6.938185028341847,
           7.632047177653673,
           7.0061497426798915,
           7.0061497426798915,
           7.632047177653673,
           6.9381850283418505,
           8.342847960507436,
           8.131094883366034,
           8.920128573726217,
           9.720686695609418,
           9.411362715446183,
           10.947448710983657,
           10.649862596157396,
           11.719312691563285,
           12.28110089091157,
           12.108892533050202,
           13.479620414987384,
           12.976577503991708,
           14.172191691773982,
           14.421169599140573,
           14.393440379541394,
           15.52163702578318,
           14.859744070047746,
           16.118067279859677,
           16.062574064598742,
           16.22156611657172,
           17.084126952759195,
           16.348754358852155
          ],
          [
           16.849561189121502,
           17.328761961388274,
           16.623462383091578,
           16.435026431607703,
           16.401822040565296,
           15.393970835050403,
           15.802303509339449,
           14.88390889217933,
           14.816785920566502,
           14.5419726875852,
           13.564444510132416,
           13.840155301217948,
           12.728594838924142,
           12.756339462654791,
           12.241031541665372,
           11.351211150090638,
           11.474363401828063,
           10.24624186393052,
           10.389057957275094,
           9.72068669560941,
           9.072823872061711,
           9.178951487253794,
           8.105112670806927,
           8.596733540841306,
           8.124397447852777,
           8.124397447852777,
           8.596733540841306,
           8.105112670806932,
           9.178951487253794,
           9.072823872061711,
           9.720686695609418,
           10.389057957275094,
           10.24624186393052,
           11.474363401828063,
           11.351211150090638,
           12.241031541665373,
           12.756339462654791,
           12.728594838924142,
           13.840155301217951,
           13.56444451013242,
           14.5419726875852,
           14.816785920566502,
           14.88390889217933,
           15.802303509339449,
           15.393970835050402,
           16.401822040565303,
           16.435026431607696,
           16.623462383091578,
           17.328761961388274,
           16.849561189121502
          ],
          [
           15.540199269220023,
           16.857398554760877,
           15.685021720112971,
           15.623896198822976,
           15.909596235189047,
           14.152091477056997,
           15.411061781010602,
           13.88325413207476,
           14.177865266893793,
           14.05463077534032,
           12.466380179424416,
           13.55189285796488,
           11.723558759958307,
           12.32667295677205,
           11.799773255960382,
           10.496801820817787,
           11.349486160968961,
           9.34892572460662,
           10.246241863930521,
           9.411362715446172,
           8.586707744623467,
           9.301590276530016,
           7.436311143311386,
           8.770555181778224,
           7.925951862863194,
           7.925951862863194,
           8.770555181778224,
           7.436311143311389,
           9.301590276530016,
           8.586707744623467,
           9.411362715446183,
           10.24624186393052,
           9.34892572460662,
           11.349486160968961,
           10.496801820817787,
           11.799773255960385,
           12.32667295677205,
           11.723558759958307,
           13.55189285796488,
           12.466380179424416,
           14.05463077534032,
           14.177865266893793,
           13.88325413207476,
           15.411061781010602,
           14.152091477056995,
           15.909596235189053,
           15.623896198822965,
           15.685021720112971,
           16.857398554760877,
           15.540199269220023
          ],
          [
           17.232595045270138,
           17.588952238196327,
           16.979104663376194,
           16.789553442503117,
           16.72575131869949,
           15.86716845589325,
           16.162261246168498,
           15.376191796364123,
           15.284118677491415,
           15.023570000566854,
           14.191712869256461,
           14.383070296844709,
           13.446753895307646,
           13.442540061508437,
           13.000587149451096,
           12.259411084356746,
           12.350856480631942,
           11.349486160968961,
           11.474363401828063,
           10.94744871098365,
           10.445420537631279,
           10.563253247945248,
           9.72036890514352,
           10.147816537570357,
           9.778306574222656,
           9.778306574222656,
           10.147816537570357,
           9.720368905143522,
           10.563253247945248,
           10.445420537631279,
           10.947448710983657,
           11.474363401828063,
           11.349486160968961,
           12.350856480631942,
           12.259411084356746,
           13.000587149451096,
           13.442540061508437,
           13.446753895307646,
           14.38307029684471,
           14.191712869256463,
           15.023570000566854,
           15.284118677491415,
           15.376191796364123,
           16.162261246168494,
           15.867168455893248,
           16.725751318699494,
           16.789553442503113,
           16.979104663376194,
           17.588952238196327,
           17.232595045270138
          ],
          [
           15.968850304120803,
           17.146224039733294,
           16.08096927772303,
           16.01748521281223,
           16.267241527184613,
           14.6771236151241,
           15.806021297331647,
           14.42569898016396,
           14.68927561999067,
           14.578772153148305,
           13.151213223098594,
           14.136069458768892,
           12.499686293178083,
           13.058664553132049,
           12.604892243564448,
           11.457861210496814,
           12.259411084356746,
           10.496801820817787,
           11.351211150090638,
           10.649862596157385,
           9.960295659486931,
           10.656751961466606,
           9.022689442148497,
           10.26001495300052,
           9.518118982684081,
           9.518118982684081,
           10.26001495300052,
           9.022689442148497,
           10.656751961466606,
           9.960295659486931,
           10.649862596157396,
           11.351211150090638,
           10.496801820817787,
           12.259411084356746,
           11.457861210496814,
           12.604892243564453,
           13.058664553132049,
           12.499686293178083,
           14.136069458768892,
           13.151213223098596,
           14.578772153148305,
           14.68927561999067,
           14.42569898016396,
           15.806021297331647,
           14.677123615124096,
           16.267241527184616,
           16.01748521281222,
           16.08096927772303,
           17.146224039733294,
           15.968850304120803
          ],
          [
           16.949612145568544,
           17.603145370873854,
           16.852118213451575,
           16.72339758482457,
           16.786862913421242,
           15.69746424304896,
           16.303394836541855,
           15.338594851330363,
           15.397895668616073,
           15.220945392182786,
           14.219085351273701,
           14.722799892344995,
           13.588126443684246,
           13.825018495610761,
           13.430326665940594,
           12.604892243564453,
           13.000587149451096,
           11.799773255960385,
           12.241031541665375,
           11.71931269156328,
           11.215694662713995,
           11.590365885135043,
           10.52291072220784,
           11.264219943088289,
           10.784708962004043,
           10.784708962004043,
           11.264219943088289,
           10.522910722207842,
           11.590365885135043,
           11.215694662713995,
           11.719312691563285,
           12.241031541665373,
           11.799773255960385,
           13.000587149451096,
           12.604892243564453,
           13.430326665940598,
           13.825018495610761,
           13.588126443684246,
           14.722799892344995,
           14.219085351273703,
           15.220945392182786,
           15.397895668616073,
           15.338594851330363,
           16.30339483654185,
           15.697464243048959,
           16.786862913421245,
           16.723397584824568,
           16.852118213451575,
           17.603145370873854,
           16.949612145568544
          ],
          [
           17.13779718283365,
           17.747612830357156,
           17.036787371958457,
           16.911519450961833,
           16.967404353513466,
           15.93962694439515,
           16.506822031869493,
           15.597634752712388,
           15.652460204335343,
           15.486190601551524,
           14.545405590624174,
           15.021927406911566,
           13.959259600537898,
           14.18819100427104,
           13.825018495610761,
           13.058664553132049,
           13.442540061508437,
           12.32667295677205,
           12.756339462654791,
           12.281100890911565,
           11.822784895638497,
           12.189339383204533,
           11.19748124603883,
           11.903363885564248,
           11.457027589966042,
           11.457027589966042,
           11.903363885564248,
           11.19748124603883,
           12.189339383204533,
           11.822784895638497,
           12.28110089091157,
           12.756339462654791,
           12.32667295677205,
           13.442540061508437,
           13.058664553132049,
           13.825018495610761,
           14.18819100427104,
           13.959259600537898,
           15.021927406911566,
           14.545405590624174,
           15.486190601551524,
           15.652460204335343,
           15.597634752712388,
           16.506822031869493,
           15.939626944395147,
           16.96740435351347,
           16.911519450961826,
           17.036787371958457,
           17.747612830357156,
           17.13779718283365
          ],
          [
           16.168810874655215,
           17.433588055495253,
           16.36379776684465,
           16.341706480959804,
           16.649890090457525,
           15.04425220473997,
           16.277351856557324,
           14.899595453903235,
           15.240579271566718,
           15.19709569576572,
           13.786497414123811,
           14.89666526401495,
           13.280636829958398,
           13.959259600537898,
           13.588126443684242,
           12.499686293178083,
           13.446753895307646,
           11.723558759958307,
           12.728594838924144,
           12.108892533050192,
           11.494377707475048,
           12.31278234648825,
           10.684839270157603,
           12.028194351523771,
           11.28268799837702,
           11.28268799837702,
           12.028194351523771,
           10.684839270157605,
           12.31278234648825,
           11.494377707475048,
           12.108892533050202,
           12.728594838924142,
           11.723558759958307,
           13.446753895307646,
           12.499686293178083,
           13.588126443684246,
           13.959259600537898,
           13.280636829958398,
           14.896665264014953,
           13.786497414123811,
           15.19709569576572,
           15.240579271566718,
           14.899595453903235,
           16.27735185655732,
           15.044252204739966,
           16.649890090457532,
           16.341706480959793,
           16.36379776684465,
           17.433588055495253,
           16.168810874655215
          ],
          [
           17.7382358410071,
           18.13465644410233,
           17.577048909413634,
           17.44104493369836,
           17.434984837269212,
           16.64637428938658,
           17.008333183554655,
           16.304853786092668,
           16.297226896765338,
           16.130640003300506,
           15.406146984312521,
           15.705796808961281,
           14.896665264014953,
           15.021927406911566,
           14.722799892344993,
           14.136069458768892,
           14.38307029684471,
           13.55189285796488,
           13.840155301217953,
           13.47962041498738,
           13.135280380017504,
           13.389785013683994,
           12.667210674583059,
           13.172363292851777,
           12.848304097073994,
           12.848304097073994,
           13.172363292851777,
           12.667210674583062,
           13.389785013683994,
           13.135280380017504,
           13.479620414987384,
           13.840155301217951,
           13.55189285796488,
           14.38307029684471,
           14.136069458768892,
           14.722799892344995,
           15.021927406911566,
           14.896665264014953,
           15.705796808961285,
           15.406146984312524,
           16.130640003300506,
           16.297226896765338,
           16.304853786092668,
           17.008333183554655,
           16.64637428938658,
           17.434984837269216,
           17.441044933698358,
           17.577048909413634,
           18.13465644410233,
           17.7382358410071
          ],
          [
           16.30269440064038,
           17.639006518286067,
           16.559689072458877,
           16.567450725995243,
           16.91948223155009,
           15.291995066403878,
           16.60672396930354,
           15.220341188206373,
           15.616537847669559,
           15.61734904661137,
           14.205180663589077,
           15.406146984312523,
           13.786497414123811,
           14.545405590624174,
           14.219085351273701,
           13.151213223098596,
           14.191712869256463,
           12.466380179424416,
           13.564444510132423,
           12.976577503991697,
           12.388983316283394,
           13.278395444613151,
           11.625825541202254,
           13.040109601347384,
           12.279961439438168,
           12.279961439438168,
           13.040109601347384,
           11.625825541202255,
           13.278395444613151,
           12.388983316283394,
           12.976577503991708,
           13.56444451013242,
           12.466380179424416,
           14.191712869256463,
           13.151213223098596,
           14.219085351273703,
           14.545405590624174,
           13.786497414123811,
           15.406146984312524,
           14.20518066358908,
           15.61734904661137,
           15.616537847669559,
           15.220341188206373,
           16.60672396930354,
           15.291995066403874,
           16.9194822315501,
           16.567450725995233,
           16.559689072458877,
           17.639006518286067,
           16.30269440064038
          ],
          [
           17.658076954215847,
           18.25809505221191,
           17.615349303548975,
           17.527828855940644,
           17.614413735007915,
           16.68254283378595,
           17.258711928953126,
           16.44661527412805,
           16.54804066422498,
           16.44554034055215,
           15.61734904661137,
           16.130640003300506,
           15.19709569576572,
           15.486190601551524,
           15.220945392182784,
           14.578772153148305,
           15.023570000566854,
           14.05463077534032,
           14.541972687585202,
           14.172191691773977,
           13.81189621423007,
           14.220085921130023,
           13.334765709323108,
           14.035558529566764,
           13.632694066913912,
           13.632694066913912,
           14.035558529566764,
           13.334765709323108,
           14.220085921130023,
           13.81189621423007,
           14.172191691773982,
           14.5419726875852,
           14.05463077534032,
           15.023570000566854,
           14.578772153148305,
           15.220945392182786,
           15.486190601551524,
           15.19709569576572,
           16.130640003300506,
           15.61734904661137,
           16.44554034055215,
           16.54804066422498,
           16.44661527412805,
           17.258711928953126,
           16.682542833785945,
           17.61441373500792,
           17.527828855940637,
           17.615349303548975,
           18.25809505221191,
           17.658076954215847
          ],
          [
           17.511503693652,
           18.279002904322603,
           17.55585269679899,
           17.501667549413984,
           17.658662293260782,
           16.594385963237993,
           17.343405294572378,
           16.426794394755035,
           16.609137346287138,
           16.54804066422498,
           15.616537847669559,
           16.297226896765338,
           15.240579271566718,
           15.652460204335343,
           15.39789566861607,
           14.68927561999067,
           15.284118677491415,
           14.177865266893793,
           14.816785920566504,
           14.421169599140567,
           14.030883534294968,
           14.556582983877057,
           13.520656237943847,
           14.381143608834291,
           13.906766377795881,
           13.906766377795881,
           14.381143608834291,
           13.520656237943848,
           14.556582983877057,
           14.030883534294968,
           14.421169599140573,
           14.816785920566502,
           14.177865266893793,
           15.284118677491415,
           14.68927561999067,
           15.397895668616073,
           15.652460204335343,
           15.240579271566718,
           16.297226896765338,
           15.616537847669559,
           16.54804066422498,
           16.609137346287138,
           16.426794394755035,
           17.343405294572374,
           16.59438596323799,
           17.65866229326079,
           17.501667549413977,
           17.55585269679899,
           18.279002904322603,
           17.511503693652
          ],
          [
           16.948773526318927,
           18.13440606234824,
           17.187221029611592,
           17.20184388122514,
           17.522177866521425,
           16.0954018814531,
           17.269787475094812,
           16.059834434382903,
           16.426794394755035,
           16.44661527412805,
           15.220341188206373,
           16.304853786092668,
           14.899595453903235,
           15.597634752712388,
           15.33859485133036,
           14.42569898016396,
           15.376191796364123,
           13.88325413207476,
           14.883908892179331,
           14.393440379541385,
           13.900536495911409,
           14.708812428740714,
           13.266717084298786,
           14.528593339551056,
           13.863403369653463,
           13.863403369653463,
           14.528593339551056,
           13.266717084298788,
           14.708812428740714,
           13.900536495911409,
           14.393440379541394,
           14.88390889217933,
           13.88325413207476,
           15.376191796364123,
           14.42569898016396,
           15.338594851330363,
           15.597634752712388,
           14.899595453903235,
           16.304853786092668,
           15.220341188206373,
           16.44661527412805,
           16.426794394755035,
           16.059834434382903,
           17.269787475094812,
           16.095401881453096,
           17.52217786652143,
           17.201843881225134,
           17.187221029611592,
           18.13440606234824,
           16.948773526318927
          ],
          [
           18.292988184562148,
           18.750581489653133,
           18.23432129667052,
           18.15408914323863,
           18.211204206644933,
           17.470766920473114,
           17.913877473361605,
           17.269787475094812,
           17.343405294572374,
           17.258711928953126,
           16.60672396930354,
           17.00833318355465,
           16.27735185655732,
           16.506822031869493,
           16.30339483654185,
           15.806021297331647,
           16.162261246168494,
           15.411061781010602,
           15.802303509339449,
           15.521637025783175,
           15.248013497252337,
           15.575998074364197,
           14.888331160707885,
           15.442395324184194,
           15.12890428939022,
           15.12890428939022,
           15.442395324184194,
           14.888331160707885,
           15.575998074364197,
           15.248013497252337,
           15.52163702578318,
           15.802303509339449,
           15.411061781010602,
           16.162261246168494,
           15.806021297331647,
           16.30339483654185,
           16.506822031869493,
           16.27735185655732,
           17.008333183554655,
           16.60672396930354,
           17.258711928953126,
           17.343405294572374,
           17.269787475094812,
           17.913877473361605,
           17.47076692047311,
           18.211204206644936,
           18.154089143238625,
           18.23432129667052,
           18.750581489653133,
           18.292988184562148
          ],
          [
           16.762737352318794,
           18.219855965963006,
           17.14629850470518,
           17.217120104091094,
           17.653136202299734,
           16.016435761753925,
           17.470766920473114,
           16.095401881453096,
           16.59438596323799,
           16.682542833785945,
           15.291995066403874,
           16.64637428938658,
           15.044252204739966,
           15.939626944395147,
           15.697464243048955,
           14.677123615124096,
           15.867168455893248,
           14.152091477056995,
           15.393970835050405,
           14.859744070047737,
           14.316369541224745,
           15.311077272297151,
           13.6253890556196,
           15.142252392938452,
           14.361568882433893,
           14.361568882433893,
           15.142252392938452,
           13.625389055619603,
           15.311077272297151,
           14.316369541224745,
           14.859744070047746,
           15.393970835050402,
           14.152091477056995,
           15.867168455893248,
           14.677123615124096,
           15.697464243048959,
           15.939626944395147,
           15.044252204739966,
           16.64637428938658,
           15.291995066403874,
           16.682542833785945,
           16.59438596323799,
           16.095401881453096,
           17.47076692047311,
           16.01643576175392,
           17.65313620229974,
           17.217120104091084,
           17.14629850470518,
           18.219855965963006,
           16.762737352318794
          ],
          [
           18.376502387818377,
           18.942675518937147,
           18.39224339465113,
           18.34431439932651,
           18.45584737852926,
           17.653136202299745,
           18.211204206644936,
           17.52217786652143,
           17.65866229326079,
           17.61441373500792,
           16.9194822315501,
           17.434984837269212,
           16.649890090457532,
           16.96740435351347,
           16.786862913421245,
           16.267241527184616,
           16.725751318699494,
           15.909596235189053,
           16.401822040565303,
           16.118067279859673,
           15.837317429841415,
           16.24169805722491,
           15.473338339766203,
           16.124155956564678,
           15.771489952918165,
           15.771489952918165,
           16.124155956564678,
           15.473338339766203,
           16.24169805722491,
           15.837317429841415,
           16.118067279859677,
           16.401822040565303,
           15.909596235189053,
           16.725751318699494,
           16.267241527184616,
           16.786862913421245,
           16.96740435351347,
           16.649890090457532,
           17.434984837269216,
           16.9194822315501,
           17.61441373500792,
           17.65866229326079,
           17.52217786652143,
           18.211204206644936,
           17.65313620229974,
           18.455847378529263,
           18.344314399326507,
           18.39224339465113,
           18.942675518937147,
           18.376502387818377
          ],
          [
           17.885493747199362,
           18.825008896396326,
           18.07428901324707,
           18.08744839916314,
           18.344314399326503,
           17.217120104091087,
           18.154089143238625,
           17.201843881225134,
           17.501667549413977,
           17.527828855940637,
           16.567450725995233,
           17.441044933698358,
           16.341706480959793,
           16.911519450961826,
           16.723397584824564,
           16.01748521281222,
           16.789553442503113,
           15.623896198822965,
           16.4350264316077,
           16.062574064598735,
           15.68651057149474,
           16.340064446157083,
           15.206417265295057,
           16.21392046027763,
           15.689928625718123,
           15.689928625718123,
           16.21392046027763,
           15.206417265295059,
           16.340064446157083,
           15.68651057149474,
           16.062574064598742,
           16.435026431607696,
           15.623896198822965,
           16.789553442503113,
           16.01748521281222,
           16.723397584824568,
           16.911519450961826,
           16.341706480959793,
           17.441044933698358,
           16.567450725995233,
           17.527828855940637,
           17.501667549413977,
           17.201843881225134,
           18.154089143238625,
           17.217120104091084,
           18.344314399326507,
           18.087448399163133,
           18.07428901324707,
           18.825008896396326,
           17.885493747199362
          ],
          [
           17.767871124030655,
           18.855143734214593,
           18.032566903083627,
           18.074289013247082,
           18.39224339465112,
           17.146298504705182,
           18.23432129667052,
           17.187221029611592,
           17.55585269679899,
           17.615349303548975,
           16.559689072458873,
           17.577048909413634,
           16.36379776684465,
           17.036787371958457,
           16.852118213451572,
           16.08096927772303,
           16.979104663376194,
           15.685021720112971,
           16.62346238309158,
           16.22156611657171,
           15.812909894370357,
           16.565215931584294,
           15.29406281262577,
           16.43996967996393,
           15.851170293915917,
           15.851170293915917,
           16.43996967996393,
           15.294062812625771,
           16.565215931584294,
           15.812909894370357,
           16.22156611657172,
           16.623462383091578,
           15.685021720112971,
           16.979104663376194,
           16.08096927772303,
           16.852118213451575,
           17.036787371958457,
           16.36379776684465,
           17.577048909413634,
           16.559689072458877,
           17.615349303548975,
           17.55585269679899,
           17.187221029611592,
           18.23432129667052,
           17.14629850470518,
           18.39224339465113,
           18.07428901324707,
           18.032566903083627,
           18.855143734214593,
           17.767871124030655
          ],
          [
           18.81568798244058,
           19.3488148115283,
           18.855143734214593,
           18.82500889639633,
           18.942675518937143,
           18.21985596596301,
           18.750581489653133,
           18.13440606234824,
           18.279002904322603,
           18.25809505221191,
           17.639006518286067,
           18.13465644410233,
           17.433588055495253,
           17.747612830357156,
           17.603145370873854,
           17.146224039733294,
           17.588952238196327,
           16.857398554760877,
           17.328761961388278,
           17.084126952759192,
           16.84015327617199,
           17.224371809594455,
           16.526417783395935,
           17.13178685753399,
           16.81038004538982,
           16.81038004538982,
           17.13178685753399,
           16.526417783395935,
           17.224371809594455,
           16.84015327617199,
           17.084126952759195,
           17.328761961388274,
           16.857398554760877,
           17.588952238196327,
           17.146224039733294,
           17.603145370873854,
           17.747612830357156,
           17.433588055495253,
           18.13465644410233,
           17.639006518286067,
           18.25809505221191,
           18.279002904322603,
           18.13440606234824,
           18.750581489653133,
           18.219855965963006,
           18.942675518937147,
           18.825008896396326,
           18.855143734214593,
           19.3488148115283,
           18.81568798244058
          ],
          [
           17.293294335267746,
           18.81568798244058,
           17.767871124030655,
           17.885493747199373,
           18.37650238781837,
           16.762737352318798,
           18.292988184562148,
           16.948773526318927,
           17.511503693652,
           17.658076954215847,
           16.30269440064038,
           17.738235841007096,
           16.168810874655215,
           17.13779718283365,
           16.94961214556854,
           15.968850304120803,
           17.232595045270138,
           15.540199269220023,
           16.849561189121506,
           16.348754358852144,
           15.833067320468217,
           16.87449915132425,
           15.18437703425571,
           16.742123904609983,
           15.956599779124994,
           15.956599779124994,
           16.742123904609983,
           15.18437703425571,
           16.87449915132425,
           15.833067320468217,
           16.348754358852155,
           16.849561189121502,
           15.540199269220023,
           17.232595045270138,
           15.968850304120803,
           16.949612145568544,
           17.13779718283365,
           16.168810874655215,
           17.7382358410071,
           16.30269440064038,
           17.658076954215847,
           17.511503693652,
           16.948773526318927,
           18.292988184562148,
           16.762737352318794,
           18.376502387818377,
           17.885493747199362,
           17.767871124030655,
           18.81568798244058,
           17.293294335267746
          ]
         ]
        }
       ],
       "layout": {
        "autosize": true,
        "margin": {
         "b": 65,
         "l": 65,
         "r": 50,
         "t": 90
        },
        "template": {
         "data": {
          "bar": [
           {
            "error_x": {
             "color": "#2a3f5f"
            },
            "error_y": {
             "color": "#2a3f5f"
            },
            "marker": {
             "line": {
              "color": "#E5ECF6",
              "width": 0.5
             }
            },
            "type": "bar"
           }
          ],
          "barpolar": [
           {
            "marker": {
             "line": {
              "color": "#E5ECF6",
              "width": 0.5
             }
            },
            "type": "barpolar"
           }
          ],
          "carpet": [
           {
            "aaxis": {
             "endlinecolor": "#2a3f5f",
             "gridcolor": "white",
             "linecolor": "white",
             "minorgridcolor": "white",
             "startlinecolor": "#2a3f5f"
            },
            "baxis": {
             "endlinecolor": "#2a3f5f",
             "gridcolor": "white",
             "linecolor": "white",
             "minorgridcolor": "white",
             "startlinecolor": "#2a3f5f"
            },
            "type": "carpet"
           }
          ],
          "choropleth": [
           {
            "colorbar": {
             "outlinewidth": 0,
             "ticks": ""
            },
            "type": "choropleth"
           }
          ],
          "contour": [
           {
            "colorbar": {
             "outlinewidth": 0,
             "ticks": ""
            },
            "colorscale": [
             [
              0,
              "#0d0887"
             ],
             [
              0.1111111111111111,
              "#46039f"
             ],
             [
              0.2222222222222222,
              "#7201a8"
             ],
             [
              0.3333333333333333,
              "#9c179e"
             ],
             [
              0.4444444444444444,
              "#bd3786"
             ],
             [
              0.5555555555555556,
              "#d8576b"
             ],
             [
              0.6666666666666666,
              "#ed7953"
             ],
             [
              0.7777777777777778,
              "#fb9f3a"
             ],
             [
              0.8888888888888888,
              "#fdca26"
             ],
             [
              1,
              "#f0f921"
             ]
            ],
            "type": "contour"
           }
          ],
          "contourcarpet": [
           {
            "colorbar": {
             "outlinewidth": 0,
             "ticks": ""
            },
            "type": "contourcarpet"
           }
          ],
          "heatmap": [
           {
            "colorbar": {
             "outlinewidth": 0,
             "ticks": ""
            },
            "colorscale": [
             [
              0,
              "#0d0887"
             ],
             [
              0.1111111111111111,
              "#46039f"
             ],
             [
              0.2222222222222222,
              "#7201a8"
             ],
             [
              0.3333333333333333,
              "#9c179e"
             ],
             [
              0.4444444444444444,
              "#bd3786"
             ],
             [
              0.5555555555555556,
              "#d8576b"
             ],
             [
              0.6666666666666666,
              "#ed7953"
             ],
             [
              0.7777777777777778,
              "#fb9f3a"
             ],
             [
              0.8888888888888888,
              "#fdca26"
             ],
             [
              1,
              "#f0f921"
             ]
            ],
            "type": "heatmap"
           }
          ],
          "heatmapgl": [
           {
            "colorbar": {
             "outlinewidth": 0,
             "ticks": ""
            },
            "colorscale": [
             [
              0,
              "#0d0887"
             ],
             [
              0.1111111111111111,
              "#46039f"
             ],
             [
              0.2222222222222222,
              "#7201a8"
             ],
             [
              0.3333333333333333,
              "#9c179e"
             ],
             [
              0.4444444444444444,
              "#bd3786"
             ],
             [
              0.5555555555555556,
              "#d8576b"
             ],
             [
              0.6666666666666666,
              "#ed7953"
             ],
             [
              0.7777777777777778,
              "#fb9f3a"
             ],
             [
              0.8888888888888888,
              "#fdca26"
             ],
             [
              1,
              "#f0f921"
             ]
            ],
            "type": "heatmapgl"
           }
          ],
          "histogram": [
           {
            "marker": {
             "colorbar": {
              "outlinewidth": 0,
              "ticks": ""
             }
            },
            "type": "histogram"
           }
          ],
          "histogram2d": [
           {
            "colorbar": {
             "outlinewidth": 0,
             "ticks": ""
            },
            "colorscale": [
             [
              0,
              "#0d0887"
             ],
             [
              0.1111111111111111,
              "#46039f"
             ],
             [
              0.2222222222222222,
              "#7201a8"
             ],
             [
              0.3333333333333333,
              "#9c179e"
             ],
             [
              0.4444444444444444,
              "#bd3786"
             ],
             [
              0.5555555555555556,
              "#d8576b"
             ],
             [
              0.6666666666666666,
              "#ed7953"
             ],
             [
              0.7777777777777778,
              "#fb9f3a"
             ],
             [
              0.8888888888888888,
              "#fdca26"
             ],
             [
              1,
              "#f0f921"
             ]
            ],
            "type": "histogram2d"
           }
          ],
          "histogram2dcontour": [
           {
            "colorbar": {
             "outlinewidth": 0,
             "ticks": ""
            },
            "colorscale": [
             [
              0,
              "#0d0887"
             ],
             [
              0.1111111111111111,
              "#46039f"
             ],
             [
              0.2222222222222222,
              "#7201a8"
             ],
             [
              0.3333333333333333,
              "#9c179e"
             ],
             [
              0.4444444444444444,
              "#bd3786"
             ],
             [
              0.5555555555555556,
              "#d8576b"
             ],
             [
              0.6666666666666666,
              "#ed7953"
             ],
             [
              0.7777777777777778,
              "#fb9f3a"
             ],
             [
              0.8888888888888888,
              "#fdca26"
             ],
             [
              1,
              "#f0f921"
             ]
            ],
            "type": "histogram2dcontour"
           }
          ],
          "mesh3d": [
           {
            "colorbar": {
             "outlinewidth": 0,
             "ticks": ""
            },
            "type": "mesh3d"
           }
          ],
          "parcoords": [
           {
            "line": {
             "colorbar": {
              "outlinewidth": 0,
              "ticks": ""
             }
            },
            "type": "parcoords"
           }
          ],
          "pie": [
           {
            "automargin": true,
            "type": "pie"
           }
          ],
          "scatter": [
           {
            "marker": {
             "colorbar": {
              "outlinewidth": 0,
              "ticks": ""
             }
            },
            "type": "scatter"
           }
          ],
          "scatter3d": [
           {
            "line": {
             "colorbar": {
              "outlinewidth": 0,
              "ticks": ""
             }
            },
            "marker": {
             "colorbar": {
              "outlinewidth": 0,
              "ticks": ""
             }
            },
            "type": "scatter3d"
           }
          ],
          "scattercarpet": [
           {
            "marker": {
             "colorbar": {
              "outlinewidth": 0,
              "ticks": ""
             }
            },
            "type": "scattercarpet"
           }
          ],
          "scattergeo": [
           {
            "marker": {
             "colorbar": {
              "outlinewidth": 0,
              "ticks": ""
             }
            },
            "type": "scattergeo"
           }
          ],
          "scattergl": [
           {
            "marker": {
             "colorbar": {
              "outlinewidth": 0,
              "ticks": ""
             }
            },
            "type": "scattergl"
           }
          ],
          "scattermapbox": [
           {
            "marker": {
             "colorbar": {
              "outlinewidth": 0,
              "ticks": ""
             }
            },
            "type": "scattermapbox"
           }
          ],
          "scatterpolar": [
           {
            "marker": {
             "colorbar": {
              "outlinewidth": 0,
              "ticks": ""
             }
            },
            "type": "scatterpolar"
           }
          ],
          "scatterpolargl": [
           {
            "marker": {
             "colorbar": {
              "outlinewidth": 0,
              "ticks": ""
             }
            },
            "type": "scatterpolargl"
           }
          ],
          "scatterternary": [
           {
            "marker": {
             "colorbar": {
              "outlinewidth": 0,
              "ticks": ""
             }
            },
            "type": "scatterternary"
           }
          ],
          "surface": [
           {
            "colorbar": {
             "outlinewidth": 0,
             "ticks": ""
            },
            "colorscale": [
             [
              0,
              "#0d0887"
             ],
             [
              0.1111111111111111,
              "#46039f"
             ],
             [
              0.2222222222222222,
              "#7201a8"
             ],
             [
              0.3333333333333333,
              "#9c179e"
             ],
             [
              0.4444444444444444,
              "#bd3786"
             ],
             [
              0.5555555555555556,
              "#d8576b"
             ],
             [
              0.6666666666666666,
              "#ed7953"
             ],
             [
              0.7777777777777778,
              "#fb9f3a"
             ],
             [
              0.8888888888888888,
              "#fdca26"
             ],
             [
              1,
              "#f0f921"
             ]
            ],
            "type": "surface"
           }
          ],
          "table": [
           {
            "cells": {
             "fill": {
              "color": "#EBF0F8"
             },
             "line": {
              "color": "white"
             }
            },
            "header": {
             "fill": {
              "color": "#C8D4E3"
             },
             "line": {
              "color": "white"
             }
            },
            "type": "table"
           }
          ]
         },
         "layout": {
          "annotationdefaults": {
           "arrowcolor": "#2a3f5f",
           "arrowhead": 0,
           "arrowwidth": 1
          },
          "coloraxis": {
           "colorbar": {
            "outlinewidth": 0,
            "ticks": ""
           }
          },
          "colorscale": {
           "diverging": [
            [
             0,
             "#8e0152"
            ],
            [
             0.1,
             "#c51b7d"
            ],
            [
             0.2,
             "#de77ae"
            ],
            [
             0.3,
             "#f1b6da"
            ],
            [
             0.4,
             "#fde0ef"
            ],
            [
             0.5,
             "#f7f7f7"
            ],
            [
             0.6,
             "#e6f5d0"
            ],
            [
             0.7,
             "#b8e186"
            ],
            [
             0.8,
             "#7fbc41"
            ],
            [
             0.9,
             "#4d9221"
            ],
            [
             1,
             "#276419"
            ]
           ],
           "sequential": [
            [
             0,
             "#0d0887"
            ],
            [
             0.1111111111111111,
             "#46039f"
            ],
            [
             0.2222222222222222,
             "#7201a8"
            ],
            [
             0.3333333333333333,
             "#9c179e"
            ],
            [
             0.4444444444444444,
             "#bd3786"
            ],
            [
             0.5555555555555556,
             "#d8576b"
            ],
            [
             0.6666666666666666,
             "#ed7953"
            ],
            [
             0.7777777777777778,
             "#fb9f3a"
            ],
            [
             0.8888888888888888,
             "#fdca26"
            ],
            [
             1,
             "#f0f921"
            ]
           ],
           "sequentialminus": [
            [
             0,
             "#0d0887"
            ],
            [
             0.1111111111111111,
             "#46039f"
            ],
            [
             0.2222222222222222,
             "#7201a8"
            ],
            [
             0.3333333333333333,
             "#9c179e"
            ],
            [
             0.4444444444444444,
             "#bd3786"
            ],
            [
             0.5555555555555556,
             "#d8576b"
            ],
            [
             0.6666666666666666,
             "#ed7953"
            ],
            [
             0.7777777777777778,
             "#fb9f3a"
            ],
            [
             0.8888888888888888,
             "#fdca26"
            ],
            [
             1,
             "#f0f921"
            ]
           ]
          },
          "colorway": [
           "#636efa",
           "#EF553B",
           "#00cc96",
           "#ab63fa",
           "#FFA15A",
           "#19d3f3",
           "#FF6692",
           "#B6E880",
           "#FF97FF",
           "#FECB52"
          ],
          "font": {
           "color": "#2a3f5f"
          },
          "geo": {
           "bgcolor": "white",
           "lakecolor": "white",
           "landcolor": "#E5ECF6",
           "showlakes": true,
           "showland": true,
           "subunitcolor": "white"
          },
          "hoverlabel": {
           "align": "left"
          },
          "hovermode": "closest",
          "mapbox": {
           "style": "light"
          },
          "paper_bgcolor": "white",
          "plot_bgcolor": "#E5ECF6",
          "polar": {
           "angularaxis": {
            "gridcolor": "white",
            "linecolor": "white",
            "ticks": ""
           },
           "bgcolor": "#E5ECF6",
           "radialaxis": {
            "gridcolor": "white",
            "linecolor": "white",
            "ticks": ""
           }
          },
          "scene": {
           "xaxis": {
            "backgroundcolor": "#E5ECF6",
            "gridcolor": "white",
            "gridwidth": 2,
            "linecolor": "white",
            "showbackground": true,
            "ticks": "",
            "zerolinecolor": "white"
           },
           "yaxis": {
            "backgroundcolor": "#E5ECF6",
            "gridcolor": "white",
            "gridwidth": 2,
            "linecolor": "white",
            "showbackground": true,
            "ticks": "",
            "zerolinecolor": "white"
           },
           "zaxis": {
            "backgroundcolor": "#E5ECF6",
            "gridcolor": "white",
            "gridwidth": 2,
            "linecolor": "white",
            "showbackground": true,
            "ticks": "",
            "zerolinecolor": "white"
           }
          },
          "shapedefaults": {
           "line": {
            "color": "#2a3f5f"
           }
          },
          "ternary": {
           "aaxis": {
            "gridcolor": "white",
            "linecolor": "white",
            "ticks": ""
           },
           "baxis": {
            "gridcolor": "white",
            "linecolor": "white",
            "ticks": ""
           },
           "bgcolor": "#E5ECF6",
           "caxis": {
            "gridcolor": "white",
            "linecolor": "white",
            "ticks": ""
           }
          },
          "title": {
           "x": 0.05
          },
          "xaxis": {
           "automargin": true,
           "gridcolor": "white",
           "linecolor": "white",
           "ticks": "",
           "title": {
            "standoff": 15
           },
           "zerolinecolor": "white",
           "zerolinewidth": 2
          },
          "yaxis": {
           "automargin": true,
           "gridcolor": "white",
           "linecolor": "white",
           "ticks": "",
           "title": {
            "standoff": 15
           },
           "zerolinecolor": "white",
           "zerolinewidth": 2
          }
         }
        },
        "title": {
         "text": "Ackley"
        }
       }
      },
      "text/html": [
       "<div>                            <div id=\"c1e0f2b7-82a5-491f-9df2-322a9b3dd071\" class=\"plotly-graph-div\" style=\"height:525px; width:100%;\"></div>            <script type=\"text/javascript\">                require([\"plotly\"], function(Plotly) {                    window.PLOTLYENV=window.PLOTLYENV || {};                                    if (document.getElementById(\"c1e0f2b7-82a5-491f-9df2-322a9b3dd071\")) {                    Plotly.newPlot(                        \"c1e0f2b7-82a5-491f-9df2-322a9b3dd071\",                        [{\"type\": \"surface\", \"z\": [[17.293294335267746, 18.81568798244058, 17.767871124030655, 17.885493747199373, 18.37650238781837, 16.762737352318798, 18.292988184562148, 16.948773526318927, 17.511503693652, 17.658076954215847, 16.30269440064038, 17.738235841007096, 16.168810874655215, 17.13779718283365, 16.94961214556854, 15.968850304120803, 17.232595045270138, 15.540199269220023, 16.849561189121506, 16.348754358852144, 15.833067320468217, 16.87449915132425, 15.18437703425571, 16.742123904609983, 15.956599779124994, 15.956599779124994, 16.742123904609983, 15.18437703425571, 16.87449915132425, 15.833067320468217, 16.348754358852155, 16.849561189121502, 15.540199269220023, 17.232595045270138, 15.968850304120803, 16.949612145568544, 17.13779718283365, 16.168810874655215, 17.7382358410071, 16.30269440064038, 17.658076954215847, 17.511503693652, 16.948773526318927, 18.292988184562148, 16.762737352318794, 18.376502387818377, 17.885493747199362, 17.767871124030655, 18.81568798244058, 17.293294335267746], [18.81568798244058, 19.3488148115283, 18.855143734214593, 18.82500889639633, 18.942675518937143, 18.21985596596301, 18.750581489653133, 18.13440606234824, 18.279002904322603, 18.25809505221191, 17.639006518286067, 18.13465644410233, 17.433588055495253, 17.747612830357156, 17.603145370873854, 17.146224039733294, 17.588952238196327, 16.857398554760877, 17.328761961388278, 17.084126952759192, 16.84015327617199, 17.224371809594455, 16.526417783395935, 17.13178685753399, 16.81038004538982, 16.81038004538982, 17.13178685753399, 16.526417783395935, 17.224371809594455, 16.84015327617199, 17.084126952759195, 17.328761961388274, 16.857398554760877, 17.588952238196327, 17.146224039733294, 17.603145370873854, 17.747612830357156, 17.433588055495253, 18.13465644410233, 17.639006518286067, 18.25809505221191, 18.279002904322603, 18.13440606234824, 18.750581489653133, 18.219855965963006, 18.942675518937147, 18.825008896396326, 18.855143734214593, 19.3488148115283, 18.81568798244058], [17.767871124030655, 18.855143734214593, 18.032566903083627, 18.074289013247082, 18.39224339465112, 17.146298504705182, 18.23432129667052, 17.187221029611592, 17.55585269679899, 17.615349303548975, 16.559689072458873, 17.577048909413634, 16.36379776684465, 17.036787371958457, 16.852118213451572, 16.08096927772303, 16.979104663376194, 15.685021720112971, 16.62346238309158, 16.22156611657171, 15.812909894370357, 16.565215931584294, 15.29406281262577, 16.43996967996393, 15.851170293915917, 15.851170293915917, 16.43996967996393, 15.294062812625771, 16.565215931584294, 15.812909894370357, 16.22156611657172, 16.623462383091578, 15.685021720112971, 16.979104663376194, 16.08096927772303, 16.852118213451575, 17.036787371958457, 16.36379776684465, 17.577048909413634, 16.559689072458877, 17.615349303548975, 17.55585269679899, 17.187221029611592, 18.23432129667052, 17.14629850470518, 18.39224339465113, 18.07428901324707, 18.032566903083627, 18.855143734214593, 17.767871124030655], [17.885493747199373, 18.82500889639633, 18.074289013247082, 18.087448399163147, 18.344314399326507, 17.217120104091098, 18.15408914323863, 17.20184388122514, 17.501667549413984, 17.527828855940644, 16.567450725995243, 17.44104493369836, 16.341706480959804, 16.911519450961833, 16.72339758482457, 16.01748521281223, 16.789553442503117, 15.623896198822976, 16.435026431607703, 16.06257406459874, 15.68651057149475, 16.340064446157083, 15.20641726529507, 16.213920460277635, 15.689928625718132, 15.689928625718132, 16.213920460277635, 15.20641726529507, 16.340064446157083, 15.68651057149475, 16.06257406459875, 16.435026431607703, 15.623896198822976, 16.789553442503117, 16.01748521281223, 16.72339758482457, 16.911519450961833, 16.341706480959804, 17.44104493369836, 16.567450725995243, 17.527828855940644, 17.501667549413984, 17.20184388122514, 18.15408914323863, 17.217120104091094, 18.34431439932651, 18.08744839916314, 18.074289013247082, 18.82500889639633, 17.885493747199373], [18.37650238781837, 18.942675518937143, 18.39224339465112, 18.344314399326507, 18.455847378529256, 17.653136202299738, 18.211204206644933, 17.522177866521425, 17.658662293260782, 17.614413735007915, 16.91948223155009, 17.43498483726921, 16.649890090457525, 16.967404353513466, 16.786862913421242, 16.267241527184613, 16.72575131869949, 15.909596235189047, 16.4018220405653, 16.11806727985967, 15.837317429841406, 16.241698057224905, 15.473338339766194, 16.124155956564675, 15.77148995291816, 15.77148995291816, 16.124155956564675, 15.473338339766196, 16.241698057224905, 15.837317429841406, 16.118067279859673, 16.401822040565296, 15.909596235189047, 16.72575131869949, 16.267241527184613, 16.786862913421242, 16.967404353513466, 16.649890090457525, 17.434984837269212, 16.91948223155009, 17.614413735007915, 17.658662293260782, 17.522177866521425, 18.211204206644933, 17.653136202299734, 18.45584737852926, 18.344314399326503, 18.39224339465112, 18.942675518937143, 18.37650238781837], [16.762737352318798, 18.21985596596301, 17.146298504705182, 17.217120104091098, 17.653136202299738, 16.01643576175393, 17.470766920473114, 16.0954018814531, 16.594385963237993, 16.68254283378595, 15.291995066403878, 16.64637428938658, 15.04425220473997, 15.93962694439515, 15.697464243048959, 14.6771236151241, 15.86716845589325, 14.152091477056997, 15.393970835050405, 14.85974407004774, 14.316369541224747, 15.311077272297151, 13.625389055619603, 15.142252392938452, 14.361568882433897, 14.361568882433897, 15.142252392938452, 13.625389055619605, 15.311077272297151, 14.316369541224747, 14.85974407004775, 15.393970835050403, 14.152091477056997, 15.86716845589325, 14.6771236151241, 15.69746424304896, 15.93962694439515, 15.04425220473997, 16.64637428938658, 15.291995066403878, 16.68254283378595, 16.594385963237993, 16.0954018814531, 17.470766920473114, 16.016435761753925, 17.653136202299745, 17.217120104091087, 17.146298504705182, 18.21985596596301, 16.762737352318798], [18.292988184562148, 18.750581489653133, 18.23432129667052, 18.15408914323863, 18.211204206644933, 17.470766920473114, 17.913877473361605, 17.269787475094812, 17.343405294572378, 17.258711928953126, 16.60672396930354, 17.008333183554655, 16.277351856557324, 16.506822031869493, 16.30339483654185, 15.806021297331647, 16.162261246168498, 15.411061781010602, 15.802303509339449, 15.521637025783175, 15.248013497252341, 15.575998074364197, 14.888331160707887, 15.442395324184194, 15.128904289390222, 15.128904289390222, 15.442395324184194, 14.888331160707887, 15.575998074364197, 15.248013497252341, 15.52163702578318, 15.802303509339449, 15.411061781010602, 16.162261246168498, 15.806021297331647, 16.303394836541855, 16.506822031869493, 16.277351856557324, 17.008333183554655, 16.60672396930354, 17.258711928953126, 17.343405294572378, 17.269787475094812, 17.913877473361605, 17.470766920473114, 18.211204206644936, 18.154089143238625, 18.23432129667052, 18.750581489653133, 18.292988184562148], [16.948773526318927, 18.13440606234824, 17.187221029611592, 17.20184388122514, 17.522177866521425, 16.0954018814531, 17.269787475094812, 16.059834434382903, 16.426794394755035, 16.44661527412805, 15.220341188206373, 16.304853786092668, 14.899595453903235, 15.597634752712388, 15.33859485133036, 14.42569898016396, 15.376191796364123, 13.88325413207476, 14.883908892179331, 14.393440379541385, 13.900536495911409, 14.708812428740714, 13.266717084298786, 14.528593339551056, 13.863403369653463, 13.863403369653463, 14.528593339551056, 13.266717084298788, 14.708812428740714, 13.900536495911409, 14.393440379541394, 14.88390889217933, 13.88325413207476, 15.376191796364123, 14.42569898016396, 15.338594851330363, 15.597634752712388, 14.899595453903235, 16.304853786092668, 15.220341188206373, 16.44661527412805, 16.426794394755035, 16.059834434382903, 17.269787475094812, 16.095401881453096, 17.52217786652143, 17.201843881225134, 17.187221029611592, 18.13440606234824, 16.948773526318927], [17.511503693652, 18.279002904322603, 17.55585269679899, 17.501667549413984, 17.658662293260782, 16.594385963237993, 17.343405294572378, 16.426794394755035, 16.609137346287138, 16.54804066422498, 15.616537847669559, 16.297226896765338, 15.240579271566718, 15.652460204335343, 15.39789566861607, 14.68927561999067, 15.284118677491415, 14.177865266893793, 14.816785920566504, 14.421169599140567, 14.030883534294968, 14.556582983877057, 13.520656237943847, 14.381143608834291, 13.906766377795881, 13.906766377795881, 14.381143608834291, 13.520656237943848, 14.556582983877057, 14.030883534294968, 14.421169599140573, 14.816785920566502, 14.177865266893793, 15.284118677491415, 14.68927561999067, 15.397895668616073, 15.652460204335343, 15.240579271566718, 16.297226896765338, 15.616537847669559, 16.54804066422498, 16.609137346287138, 16.426794394755035, 17.343405294572374, 16.59438596323799, 17.65866229326079, 17.501667549413977, 17.55585269679899, 18.279002904322603, 17.511503693652], [17.658076954215847, 18.25809505221191, 17.615349303548975, 17.527828855940644, 17.614413735007915, 16.68254283378595, 17.258711928953126, 16.44661527412805, 16.54804066422498, 16.44554034055215, 15.61734904661137, 16.130640003300506, 15.19709569576572, 15.486190601551524, 15.220945392182784, 14.578772153148305, 15.023570000566854, 14.05463077534032, 14.541972687585202, 14.172191691773977, 13.81189621423007, 14.220085921130023, 13.334765709323108, 14.035558529566764, 13.632694066913912, 13.632694066913912, 14.035558529566764, 13.334765709323108, 14.220085921130023, 13.81189621423007, 14.172191691773982, 14.5419726875852, 14.05463077534032, 15.023570000566854, 14.578772153148305, 15.220945392182786, 15.486190601551524, 15.19709569576572, 16.130640003300506, 15.61734904661137, 16.44554034055215, 16.54804066422498, 16.44661527412805, 17.258711928953126, 16.682542833785945, 17.61441373500792, 17.527828855940637, 17.615349303548975, 18.25809505221191, 17.658076954215847], [16.30269440064038, 17.639006518286067, 16.559689072458873, 16.567450725995243, 16.91948223155009, 15.291995066403878, 16.60672396930354, 15.220341188206373, 15.616537847669559, 15.61734904661137, 14.205180663589077, 15.406146984312523, 13.786497414123811, 14.545405590624174, 14.2190853512737, 13.151213223098594, 14.191712869256461, 12.466380179424416, 13.56444451013242, 12.976577503991697, 12.388983316283394, 13.27839544461315, 11.625825541202254, 13.04010960134738, 12.279961439438168, 12.279961439438168, 13.04010960134738, 11.625825541202255, 13.27839544461315, 12.388983316283394, 12.976577503991706, 13.564444510132416, 12.466380179424416, 14.191712869256461, 13.151213223098594, 14.219085351273701, 14.545405590624174, 13.786497414123811, 15.406146984312521, 14.205180663589077, 15.61734904661137, 15.616537847669559, 15.220341188206373, 16.60672396930354, 15.291995066403874, 16.9194822315501, 16.567450725995233, 16.559689072458873, 17.639006518286067, 16.30269440064038], [17.738235841007096, 18.13465644410233, 17.577048909413634, 17.44104493369836, 17.43498483726921, 16.64637428938658, 17.008333183554655, 16.304853786092668, 16.297226896765338, 16.130640003300506, 15.406146984312523, 15.705796808961281, 14.89666526401495, 15.021927406911566, 14.722799892344993, 14.136069458768892, 14.383070296844709, 13.55189285796488, 13.84015530121795, 13.479620414987377, 13.135280380017502, 13.38978501368399, 12.667210674583057, 13.172363292851776, 12.848304097073992, 12.848304097073992, 13.172363292851776, 12.667210674583059, 13.38978501368399, 13.135280380017502, 13.47962041498738, 13.840155301217948, 13.55189285796488, 14.383070296844709, 14.136069458768892, 14.722799892344995, 15.021927406911566, 14.89666526401495, 15.705796808961281, 15.406146984312523, 16.130640003300506, 16.297226896765338, 16.304853786092668, 17.00833318355465, 16.64637428938658, 17.434984837269212, 17.441044933698358, 17.577048909413634, 18.13465644410233, 17.738235841007096], [16.168810874655215, 17.433588055495253, 16.36379776684465, 16.341706480959804, 16.649890090457525, 15.04425220473997, 16.277351856557324, 14.899595453903235, 15.240579271566718, 15.19709569576572, 13.786497414123811, 14.89666526401495, 13.280636829958398, 13.959259600537898, 13.588126443684242, 12.499686293178083, 13.446753895307646, 11.723558759958307, 12.728594838924144, 12.108892533050192, 11.494377707475048, 12.31278234648825, 10.684839270157603, 12.028194351523771, 11.28268799837702, 11.28268799837702, 12.028194351523771, 10.684839270157605, 12.31278234648825, 11.494377707475048, 12.108892533050202, 12.728594838924142, 11.723558759958307, 13.446753895307646, 12.499686293178083, 13.588126443684246, 13.959259600537898, 13.280636829958398, 14.896665264014953, 13.786497414123811, 15.19709569576572, 15.240579271566718, 14.899595453903235, 16.27735185655732, 15.044252204739966, 16.649890090457532, 16.341706480959793, 16.36379776684465, 17.433588055495253, 16.168810874655215], [17.13779718283365, 17.747612830357156, 17.036787371958457, 16.911519450961833, 16.967404353513466, 15.93962694439515, 16.506822031869493, 15.597634752712388, 15.652460204335343, 15.486190601551524, 14.545405590624174, 15.021927406911566, 13.959259600537898, 14.18819100427104, 13.825018495610761, 13.058664553132049, 13.442540061508437, 12.32667295677205, 12.756339462654791, 12.281100890911565, 11.822784895638497, 12.189339383204533, 11.19748124603883, 11.903363885564248, 11.457027589966042, 11.457027589966042, 11.903363885564248, 11.19748124603883, 12.189339383204533, 11.822784895638497, 12.28110089091157, 12.756339462654791, 12.32667295677205, 13.442540061508437, 13.058664553132049, 13.825018495610761, 14.18819100427104, 13.959259600537898, 15.021927406911566, 14.545405590624174, 15.486190601551524, 15.652460204335343, 15.597634752712388, 16.506822031869493, 15.939626944395147, 16.96740435351347, 16.911519450961826, 17.036787371958457, 17.747612830357156, 17.13779718283365], [16.94961214556854, 17.603145370873854, 16.852118213451572, 16.72339758482457, 16.786862913421242, 15.697464243048959, 16.30339483654185, 15.33859485133036, 15.39789566861607, 15.220945392182784, 14.2190853512737, 14.722799892344993, 13.588126443684242, 13.825018495610761, 13.430326665940592, 12.604892243564448, 13.000587149451096, 11.799773255960382, 12.241031541665373, 11.719312691563276, 11.215694662713991, 11.590365885135038, 10.522910722207836, 11.264219943088289, 10.78470896200404, 10.78470896200404, 11.264219943088289, 10.522910722207838, 11.590365885135038, 11.215694662713991, 11.719312691563283, 12.241031541665372, 11.799773255960382, 13.000587149451096, 12.604892243564448, 13.430326665940594, 13.825018495610761, 13.588126443684242, 14.722799892344993, 14.219085351273701, 15.220945392182784, 15.39789566861607, 15.33859485133036, 16.30339483654185, 15.697464243048955, 16.786862913421245, 16.723397584824564, 16.852118213451572, 17.603145370873854, 16.94961214556854], [15.968850304120803, 17.146224039733294, 16.08096927772303, 16.01748521281223, 16.267241527184613, 14.6771236151241, 15.806021297331647, 14.42569898016396, 14.68927561999067, 14.578772153148305, 13.151213223098594, 14.136069458768892, 12.499686293178083, 13.058664553132049, 12.604892243564448, 11.457861210496814, 12.259411084356746, 10.496801820817787, 11.351211150090638, 10.649862596157385, 9.960295659486931, 10.656751961466606, 9.022689442148497, 10.26001495300052, 9.518118982684081, 9.518118982684081, 10.26001495300052, 9.022689442148497, 10.656751961466606, 9.960295659486931, 10.649862596157396, 11.351211150090638, 10.496801820817787, 12.259411084356746, 11.457861210496814, 12.604892243564453, 13.058664553132049, 12.499686293178083, 14.136069458768892, 13.151213223098596, 14.578772153148305, 14.68927561999067, 14.42569898016396, 15.806021297331647, 14.677123615124096, 16.267241527184616, 16.01748521281222, 16.08096927772303, 17.146224039733294, 15.968850304120803], [17.232595045270138, 17.588952238196327, 16.979104663376194, 16.789553442503117, 16.72575131869949, 15.86716845589325, 16.162261246168498, 15.376191796364123, 15.284118677491415, 15.023570000566854, 14.191712869256461, 14.383070296844709, 13.446753895307646, 13.442540061508437, 13.000587149451096, 12.259411084356746, 12.350856480631942, 11.349486160968961, 11.474363401828063, 10.94744871098365, 10.445420537631279, 10.563253247945248, 9.72036890514352, 10.147816537570357, 9.778306574222656, 9.778306574222656, 10.147816537570357, 9.720368905143522, 10.563253247945248, 10.445420537631279, 10.947448710983657, 11.474363401828063, 11.349486160968961, 12.350856480631942, 12.259411084356746, 13.000587149451096, 13.442540061508437, 13.446753895307646, 14.38307029684471, 14.191712869256463, 15.023570000566854, 15.284118677491415, 15.376191796364123, 16.162261246168494, 15.867168455893248, 16.725751318699494, 16.789553442503113, 16.979104663376194, 17.588952238196327, 17.232595045270138], [15.540199269220023, 16.857398554760877, 15.685021720112971, 15.623896198822976, 15.909596235189047, 14.152091477056997, 15.411061781010602, 13.88325413207476, 14.177865266893793, 14.05463077534032, 12.466380179424416, 13.55189285796488, 11.723558759958307, 12.32667295677205, 11.799773255960382, 10.496801820817787, 11.349486160968961, 9.34892572460662, 10.246241863930521, 9.411362715446172, 8.586707744623467, 9.301590276530016, 7.436311143311386, 8.770555181778224, 7.925951862863194, 7.925951862863194, 8.770555181778224, 7.436311143311389, 9.301590276530016, 8.586707744623467, 9.411362715446183, 10.24624186393052, 9.34892572460662, 11.349486160968961, 10.496801820817787, 11.799773255960385, 12.32667295677205, 11.723558759958307, 13.55189285796488, 12.466380179424416, 14.05463077534032, 14.177865266893793, 13.88325413207476, 15.411061781010602, 14.152091477056995, 15.909596235189053, 15.623896198822965, 15.685021720112971, 16.857398554760877, 15.540199269220023], [16.849561189121506, 17.328761961388278, 16.62346238309158, 16.435026431607703, 16.4018220405653, 15.393970835050405, 15.802303509339449, 14.883908892179331, 14.816785920566504, 14.541972687585202, 13.56444451013242, 13.84015530121795, 12.728594838924144, 12.756339462654791, 12.241031541665373, 11.351211150090638, 11.474363401828063, 10.246241863930521, 10.389057957275096, 9.720686695609412, 9.072823872061711, 9.178951487253794, 8.105112670806928, 8.596733540841305, 8.124397447852775, 8.124397447852775, 8.596733540841305, 8.10511267080693, 9.178951487253794, 9.072823872061711, 9.72068669560942, 10.389057957275094, 10.246241863930521, 11.474363401828063, 11.351211150090638, 12.241031541665375, 12.756339462654791, 12.728594838924144, 13.840155301217953, 13.564444510132423, 14.541972687585202, 14.816785920566504, 14.883908892179331, 15.802303509339449, 15.393970835050405, 16.401822040565303, 16.4350264316077, 16.62346238309158, 17.328761961388278, 16.849561189121506], [16.348754358852144, 17.084126952759192, 16.22156611657171, 16.06257406459874, 16.11806727985967, 14.85974407004774, 15.521637025783175, 14.393440379541385, 14.421169599140567, 14.172191691773977, 12.976577503991697, 13.479620414987377, 12.108892533050192, 12.281100890911565, 11.719312691563276, 10.649862596157385, 10.94744871098365, 9.411362715446172, 9.720686695609412, 8.9201285737262, 8.131094883366023, 8.342847960507429, 6.9381850283418345, 7.632047177653664, 7.006149742679879, 7.006149742679879, 7.632047177653664, 6.938185028341838, 8.342847960507429, 8.131094883366023, 8.92012857372621, 9.72068669560941, 9.411362715446172, 10.94744871098365, 10.649862596157385, 11.71931269156328, 12.281100890911565, 12.108892533050192, 13.47962041498738, 12.976577503991697, 14.172191691773977, 14.421169599140567, 14.393440379541385, 15.521637025783175, 14.859744070047737, 16.118067279859673, 16.062574064598735, 16.22156611657171, 17.084126952759192, 16.348754358852144], [15.833067320468217, 16.84015327617199, 15.812909894370357, 15.68651057149475, 15.837317429841406, 14.316369541224747, 15.248013497252341, 13.900536495911409, 14.030883534294968, 13.81189621423007, 12.388983316283394, 13.135280380017502, 11.494377707475048, 11.822784895638497, 11.215694662713991, 9.960295659486931, 10.445420537631279, 8.586707744623467, 9.072823872061711, 8.131094883366023, 7.187569267324443, 7.500559497264405, 5.731785293820817, 6.6230957995134006, 5.824080940577712, 5.824080940577712, 6.6230957995134006, 5.731785293820824, 7.500559497264405, 7.187569267324443, 8.131094883366034, 9.072823872061711, 8.586707744623467, 10.445420537631279, 9.960295659486931, 11.215694662713995, 11.822784895638497, 11.494377707475048, 13.135280380017504, 12.388983316283394, 13.81189621423007, 14.030883534294968, 13.900536495911409, 15.248013497252337, 14.316369541224745, 15.837317429841415, 15.68651057149474, 15.812909894370357, 16.84015327617199, 15.833067320468217], [16.87449915132425, 17.224371809594455, 16.565215931584294, 16.340064446157083, 16.241698057224905, 15.311077272297151, 15.575998074364197, 14.708812428740714, 14.556582983877057, 14.220085921130023, 13.27839544461315, 13.38978501368399, 12.31278234648825, 12.189339383204533, 11.590365885135038, 10.656751961466606, 10.563253247945248, 9.301590276530016, 9.178951487253794, 8.342847960507429, 7.500559497264405, 7.282560028743273, 6.0689328742743704, 6.2292148253012485, 5.675612533796301, 5.675612533796301, 6.2292148253012485, 6.068932874274374, 7.282560028743273, 7.500559497264405, 8.342847960507436, 9.178951487253794, 9.301590276530016, 10.563253247945248, 10.656751961466606, 11.590365885135043, 12.189339383204533, 12.31278234648825, 13.389785013683994, 13.278395444613151, 14.220085921130023, 14.556582983877057, 14.708812428740714, 15.575998074364197, 15.311077272297151, 16.24169805722491, 16.340064446157083, 16.565215931584294, 17.224371809594455, 16.87449915132425], [15.18437703425571, 16.526417783395935, 15.29406281262577, 15.20641726529507, 15.473338339766194, 13.625389055619603, 14.888331160707887, 13.266717084298786, 13.520656237943847, 13.334765709323108, 11.625825541202254, 12.667210674583057, 10.684839270157603, 11.19748124603883, 10.522910722207836, 9.022689442148497, 9.72036890514352, 7.436311143311386, 8.105112670806928, 6.9381850283418345, 5.731785293820817, 6.0689328742743704, 3.714309584120905, 4.694041460226707, 3.5622648068290066, 3.5622648068290066, 4.694041460226707, 3.714309584120912, 6.0689328742743704, 5.731785293820817, 6.938185028341847, 8.105112670806927, 7.436311143311386, 9.72036890514352, 9.022689442148497, 10.52291072220784, 11.19748124603883, 10.684839270157603, 12.667210674583059, 11.625825541202254, 13.334765709323108, 13.520656237943847, 13.266717084298786, 14.888331160707885, 13.6253890556196, 15.473338339766203, 15.206417265295057, 15.29406281262577, 16.526417783395935, 15.18437703425571], [16.742123904609983, 17.13178685753399, 16.43996967996393, 16.213920460277635, 16.124155956564675, 15.142252392938452, 15.442395324184194, 14.528593339551056, 14.381143608834291, 14.035558529566764, 13.04010960134738, 13.172363292851776, 12.028194351523771, 11.903363885564248, 11.264219943088289, 10.26001495300052, 10.147816537570357, 8.770555181778224, 8.596733540841305, 7.632047177653664, 6.6230957995134006, 6.2292148253012485, 4.694041460226707, 4.556270255944156, 3.6749813605328936, 3.6749813605328936, 4.556270255944156, 4.69404146022671, 6.2292148253012485, 6.6230957995134006, 7.632047177653673, 8.596733540841306, 8.770555181778224, 10.147816537570357, 10.26001495300052, 11.264219943088289, 11.903363885564248, 12.028194351523771, 13.172363292851777, 13.040109601347384, 14.035558529566764, 14.381143608834291, 14.528593339551056, 15.442395324184194, 15.142252392938452, 16.124155956564678, 16.21392046027763, 16.43996967996393, 17.13178685753399, 16.742123904609983], [15.956599779124994, 16.81038004538982, 15.851170293915917, 15.689928625718132, 15.77148995291816, 14.361568882433897, 15.128904289390222, 13.863403369653463, 13.906766377795881, 13.632694066913912, 12.279961439438168, 12.848304097073992, 11.28268799837702, 11.457027589966042, 10.78470896200404, 9.518118982684081, 9.778306574222656, 7.925951862863194, 8.124397447852775, 7.006149742679879, 5.824080940577712, 5.675612533796301, 3.5622648068290066, 3.6749813605328936, 2.189039023626592, 2.189039023626592, 3.6749813605328936, 3.56226480682901, 5.675612533796301, 5.824080940577712, 7.0061497426798915, 8.124397447852777, 7.925951862863194, 9.778306574222656, 9.518118982684081, 10.784708962004043, 11.457027589966042, 11.28268799837702, 12.848304097073994, 12.279961439438168, 13.632694066913912, 13.906766377795881, 13.863403369653463, 15.12890428939022, 14.361568882433893, 15.771489952918165, 15.689928625718123, 15.851170293915917, 16.81038004538982, 15.956599779124994], [15.956599779124994, 16.81038004538982, 15.851170293915917, 15.689928625718132, 15.77148995291816, 14.361568882433897, 15.128904289390222, 13.863403369653463, 13.906766377795881, 13.632694066913912, 12.279961439438168, 12.848304097073992, 11.28268799837702, 11.457027589966042, 10.78470896200404, 9.518118982684081, 9.778306574222656, 7.925951862863194, 8.124397447852775, 7.006149742679879, 5.824080940577712, 5.675612533796301, 3.5622648068290066, 3.6749813605328936, 2.189039023626592, 2.189039023626592, 3.6749813605328936, 3.56226480682901, 5.675612533796301, 5.824080940577712, 7.0061497426798915, 8.124397447852777, 7.925951862863194, 9.778306574222656, 9.518118982684081, 10.784708962004043, 11.457027589966042, 11.28268799837702, 12.848304097073994, 12.279961439438168, 13.632694066913912, 13.906766377795881, 13.863403369653463, 15.12890428939022, 14.361568882433893, 15.771489952918165, 15.689928625718123, 15.851170293915917, 16.81038004538982, 15.956599779124994], [16.742123904609983, 17.13178685753399, 16.43996967996393, 16.213920460277635, 16.124155956564675, 15.142252392938452, 15.442395324184194, 14.528593339551056, 14.381143608834291, 14.035558529566764, 13.04010960134738, 13.172363292851776, 12.028194351523771, 11.903363885564248, 11.264219943088289, 10.26001495300052, 10.147816537570357, 8.770555181778224, 8.596733540841305, 7.632047177653664, 6.6230957995134006, 6.2292148253012485, 4.694041460226707, 4.556270255944156, 3.6749813605328936, 3.6749813605328936, 4.556270255944156, 4.69404146022671, 6.2292148253012485, 6.6230957995134006, 7.632047177653673, 8.596733540841306, 8.770555181778224, 10.147816537570357, 10.26001495300052, 11.264219943088289, 11.903363885564248, 12.028194351523771, 13.172363292851777, 13.040109601347384, 14.035558529566764, 14.381143608834291, 14.528593339551056, 15.442395324184194, 15.142252392938452, 16.124155956564678, 16.21392046027763, 16.43996967996393, 17.13178685753399, 16.742123904609983], [15.18437703425571, 16.526417783395935, 15.294062812625771, 15.20641726529507, 15.473338339766196, 13.625389055619605, 14.888331160707887, 13.266717084298788, 13.520656237943848, 13.334765709323108, 11.625825541202255, 12.667210674583059, 10.684839270157605, 11.19748124603883, 10.522910722207838, 9.022689442148497, 9.720368905143522, 7.436311143311389, 8.10511267080693, 6.938185028341838, 5.731785293820824, 6.068932874274374, 3.714309584120912, 4.69404146022671, 3.56226480682901, 3.56226480682901, 4.69404146022671, 3.714309584120912, 6.068932874274374, 5.731785293820824, 6.9381850283418505, 8.105112670806932, 7.436311143311389, 9.720368905143522, 9.022689442148497, 10.522910722207842, 11.19748124603883, 10.684839270157605, 12.667210674583062, 11.625825541202255, 13.334765709323108, 13.520656237943848, 13.266717084298788, 14.888331160707885, 13.625389055619603, 15.473338339766203, 15.206417265295059, 15.294062812625771, 16.526417783395935, 15.18437703425571], [16.87449915132425, 17.224371809594455, 16.565215931584294, 16.340064446157083, 16.241698057224905, 15.311077272297151, 15.575998074364197, 14.708812428740714, 14.556582983877057, 14.220085921130023, 13.27839544461315, 13.38978501368399, 12.31278234648825, 12.189339383204533, 11.590365885135038, 10.656751961466606, 10.563253247945248, 9.301590276530016, 9.178951487253794, 8.342847960507429, 7.500559497264405, 7.282560028743273, 6.0689328742743704, 6.2292148253012485, 5.675612533796301, 5.675612533796301, 6.2292148253012485, 6.068932874274374, 7.282560028743273, 7.500559497264405, 8.342847960507436, 9.178951487253794, 9.301590276530016, 10.563253247945248, 10.656751961466606, 11.590365885135043, 12.189339383204533, 12.31278234648825, 13.389785013683994, 13.278395444613151, 14.220085921130023, 14.556582983877057, 14.708812428740714, 15.575998074364197, 15.311077272297151, 16.24169805722491, 16.340064446157083, 16.565215931584294, 17.224371809594455, 16.87449915132425], [15.833067320468217, 16.84015327617199, 15.812909894370357, 15.68651057149475, 15.837317429841406, 14.316369541224747, 15.248013497252341, 13.900536495911409, 14.030883534294968, 13.81189621423007, 12.388983316283394, 13.135280380017502, 11.494377707475048, 11.822784895638497, 11.215694662713991, 9.960295659486931, 10.445420537631279, 8.586707744623467, 9.072823872061711, 8.131094883366023, 7.187569267324443, 7.500559497264405, 5.731785293820817, 6.6230957995134006, 5.824080940577712, 5.824080940577712, 6.6230957995134006, 5.731785293820824, 7.500559497264405, 7.187569267324443, 8.131094883366034, 9.072823872061711, 8.586707744623467, 10.445420537631279, 9.960295659486931, 11.215694662713995, 11.822784895638497, 11.494377707475048, 13.135280380017504, 12.388983316283394, 13.81189621423007, 14.030883534294968, 13.900536495911409, 15.248013497252337, 14.316369541224745, 15.837317429841415, 15.68651057149474, 15.812909894370357, 16.84015327617199, 15.833067320468217], [16.348754358852155, 17.084126952759195, 16.22156611657172, 16.06257406459875, 16.118067279859673, 14.85974407004775, 15.52163702578318, 14.393440379541394, 14.421169599140573, 14.172191691773982, 12.976577503991706, 13.47962041498738, 12.108892533050202, 12.28110089091157, 11.719312691563283, 10.649862596157396, 10.947448710983657, 9.411362715446183, 9.72068669560942, 8.92012857372621, 8.131094883366034, 8.342847960507436, 6.938185028341847, 7.632047177653673, 7.0061497426798915, 7.0061497426798915, 7.632047177653673, 6.9381850283418505, 8.342847960507436, 8.131094883366034, 8.920128573726217, 9.720686695609418, 9.411362715446183, 10.947448710983657, 10.649862596157396, 11.719312691563285, 12.28110089091157, 12.108892533050202, 13.479620414987384, 12.976577503991708, 14.172191691773982, 14.421169599140573, 14.393440379541394, 15.52163702578318, 14.859744070047746, 16.118067279859677, 16.062574064598742, 16.22156611657172, 17.084126952759195, 16.348754358852155], [16.849561189121502, 17.328761961388274, 16.623462383091578, 16.435026431607703, 16.401822040565296, 15.393970835050403, 15.802303509339449, 14.88390889217933, 14.816785920566502, 14.5419726875852, 13.564444510132416, 13.840155301217948, 12.728594838924142, 12.756339462654791, 12.241031541665372, 11.351211150090638, 11.474363401828063, 10.24624186393052, 10.389057957275094, 9.72068669560941, 9.072823872061711, 9.178951487253794, 8.105112670806927, 8.596733540841306, 8.124397447852777, 8.124397447852777, 8.596733540841306, 8.105112670806932, 9.178951487253794, 9.072823872061711, 9.720686695609418, 10.389057957275094, 10.24624186393052, 11.474363401828063, 11.351211150090638, 12.241031541665373, 12.756339462654791, 12.728594838924142, 13.840155301217951, 13.56444451013242, 14.5419726875852, 14.816785920566502, 14.88390889217933, 15.802303509339449, 15.393970835050402, 16.401822040565303, 16.435026431607696, 16.623462383091578, 17.328761961388274, 16.849561189121502], [15.540199269220023, 16.857398554760877, 15.685021720112971, 15.623896198822976, 15.909596235189047, 14.152091477056997, 15.411061781010602, 13.88325413207476, 14.177865266893793, 14.05463077534032, 12.466380179424416, 13.55189285796488, 11.723558759958307, 12.32667295677205, 11.799773255960382, 10.496801820817787, 11.349486160968961, 9.34892572460662, 10.246241863930521, 9.411362715446172, 8.586707744623467, 9.301590276530016, 7.436311143311386, 8.770555181778224, 7.925951862863194, 7.925951862863194, 8.770555181778224, 7.436311143311389, 9.301590276530016, 8.586707744623467, 9.411362715446183, 10.24624186393052, 9.34892572460662, 11.349486160968961, 10.496801820817787, 11.799773255960385, 12.32667295677205, 11.723558759958307, 13.55189285796488, 12.466380179424416, 14.05463077534032, 14.177865266893793, 13.88325413207476, 15.411061781010602, 14.152091477056995, 15.909596235189053, 15.623896198822965, 15.685021720112971, 16.857398554760877, 15.540199269220023], [17.232595045270138, 17.588952238196327, 16.979104663376194, 16.789553442503117, 16.72575131869949, 15.86716845589325, 16.162261246168498, 15.376191796364123, 15.284118677491415, 15.023570000566854, 14.191712869256461, 14.383070296844709, 13.446753895307646, 13.442540061508437, 13.000587149451096, 12.259411084356746, 12.350856480631942, 11.349486160968961, 11.474363401828063, 10.94744871098365, 10.445420537631279, 10.563253247945248, 9.72036890514352, 10.147816537570357, 9.778306574222656, 9.778306574222656, 10.147816537570357, 9.720368905143522, 10.563253247945248, 10.445420537631279, 10.947448710983657, 11.474363401828063, 11.349486160968961, 12.350856480631942, 12.259411084356746, 13.000587149451096, 13.442540061508437, 13.446753895307646, 14.38307029684471, 14.191712869256463, 15.023570000566854, 15.284118677491415, 15.376191796364123, 16.162261246168494, 15.867168455893248, 16.725751318699494, 16.789553442503113, 16.979104663376194, 17.588952238196327, 17.232595045270138], [15.968850304120803, 17.146224039733294, 16.08096927772303, 16.01748521281223, 16.267241527184613, 14.6771236151241, 15.806021297331647, 14.42569898016396, 14.68927561999067, 14.578772153148305, 13.151213223098594, 14.136069458768892, 12.499686293178083, 13.058664553132049, 12.604892243564448, 11.457861210496814, 12.259411084356746, 10.496801820817787, 11.351211150090638, 10.649862596157385, 9.960295659486931, 10.656751961466606, 9.022689442148497, 10.26001495300052, 9.518118982684081, 9.518118982684081, 10.26001495300052, 9.022689442148497, 10.656751961466606, 9.960295659486931, 10.649862596157396, 11.351211150090638, 10.496801820817787, 12.259411084356746, 11.457861210496814, 12.604892243564453, 13.058664553132049, 12.499686293178083, 14.136069458768892, 13.151213223098596, 14.578772153148305, 14.68927561999067, 14.42569898016396, 15.806021297331647, 14.677123615124096, 16.267241527184616, 16.01748521281222, 16.08096927772303, 17.146224039733294, 15.968850304120803], [16.949612145568544, 17.603145370873854, 16.852118213451575, 16.72339758482457, 16.786862913421242, 15.69746424304896, 16.303394836541855, 15.338594851330363, 15.397895668616073, 15.220945392182786, 14.219085351273701, 14.722799892344995, 13.588126443684246, 13.825018495610761, 13.430326665940594, 12.604892243564453, 13.000587149451096, 11.799773255960385, 12.241031541665375, 11.71931269156328, 11.215694662713995, 11.590365885135043, 10.52291072220784, 11.264219943088289, 10.784708962004043, 10.784708962004043, 11.264219943088289, 10.522910722207842, 11.590365885135043, 11.215694662713995, 11.719312691563285, 12.241031541665373, 11.799773255960385, 13.000587149451096, 12.604892243564453, 13.430326665940598, 13.825018495610761, 13.588126443684246, 14.722799892344995, 14.219085351273703, 15.220945392182786, 15.397895668616073, 15.338594851330363, 16.30339483654185, 15.697464243048959, 16.786862913421245, 16.723397584824568, 16.852118213451575, 17.603145370873854, 16.949612145568544], [17.13779718283365, 17.747612830357156, 17.036787371958457, 16.911519450961833, 16.967404353513466, 15.93962694439515, 16.506822031869493, 15.597634752712388, 15.652460204335343, 15.486190601551524, 14.545405590624174, 15.021927406911566, 13.959259600537898, 14.18819100427104, 13.825018495610761, 13.058664553132049, 13.442540061508437, 12.32667295677205, 12.756339462654791, 12.281100890911565, 11.822784895638497, 12.189339383204533, 11.19748124603883, 11.903363885564248, 11.457027589966042, 11.457027589966042, 11.903363885564248, 11.19748124603883, 12.189339383204533, 11.822784895638497, 12.28110089091157, 12.756339462654791, 12.32667295677205, 13.442540061508437, 13.058664553132049, 13.825018495610761, 14.18819100427104, 13.959259600537898, 15.021927406911566, 14.545405590624174, 15.486190601551524, 15.652460204335343, 15.597634752712388, 16.506822031869493, 15.939626944395147, 16.96740435351347, 16.911519450961826, 17.036787371958457, 17.747612830357156, 17.13779718283365], [16.168810874655215, 17.433588055495253, 16.36379776684465, 16.341706480959804, 16.649890090457525, 15.04425220473997, 16.277351856557324, 14.899595453903235, 15.240579271566718, 15.19709569576572, 13.786497414123811, 14.89666526401495, 13.280636829958398, 13.959259600537898, 13.588126443684242, 12.499686293178083, 13.446753895307646, 11.723558759958307, 12.728594838924144, 12.108892533050192, 11.494377707475048, 12.31278234648825, 10.684839270157603, 12.028194351523771, 11.28268799837702, 11.28268799837702, 12.028194351523771, 10.684839270157605, 12.31278234648825, 11.494377707475048, 12.108892533050202, 12.728594838924142, 11.723558759958307, 13.446753895307646, 12.499686293178083, 13.588126443684246, 13.959259600537898, 13.280636829958398, 14.896665264014953, 13.786497414123811, 15.19709569576572, 15.240579271566718, 14.899595453903235, 16.27735185655732, 15.044252204739966, 16.649890090457532, 16.341706480959793, 16.36379776684465, 17.433588055495253, 16.168810874655215], [17.7382358410071, 18.13465644410233, 17.577048909413634, 17.44104493369836, 17.434984837269212, 16.64637428938658, 17.008333183554655, 16.304853786092668, 16.297226896765338, 16.130640003300506, 15.406146984312521, 15.705796808961281, 14.896665264014953, 15.021927406911566, 14.722799892344993, 14.136069458768892, 14.38307029684471, 13.55189285796488, 13.840155301217953, 13.47962041498738, 13.135280380017504, 13.389785013683994, 12.667210674583059, 13.172363292851777, 12.848304097073994, 12.848304097073994, 13.172363292851777, 12.667210674583062, 13.389785013683994, 13.135280380017504, 13.479620414987384, 13.840155301217951, 13.55189285796488, 14.38307029684471, 14.136069458768892, 14.722799892344995, 15.021927406911566, 14.896665264014953, 15.705796808961285, 15.406146984312524, 16.130640003300506, 16.297226896765338, 16.304853786092668, 17.008333183554655, 16.64637428938658, 17.434984837269216, 17.441044933698358, 17.577048909413634, 18.13465644410233, 17.7382358410071], [16.30269440064038, 17.639006518286067, 16.559689072458877, 16.567450725995243, 16.91948223155009, 15.291995066403878, 16.60672396930354, 15.220341188206373, 15.616537847669559, 15.61734904661137, 14.205180663589077, 15.406146984312523, 13.786497414123811, 14.545405590624174, 14.219085351273701, 13.151213223098596, 14.191712869256463, 12.466380179424416, 13.564444510132423, 12.976577503991697, 12.388983316283394, 13.278395444613151, 11.625825541202254, 13.040109601347384, 12.279961439438168, 12.279961439438168, 13.040109601347384, 11.625825541202255, 13.278395444613151, 12.388983316283394, 12.976577503991708, 13.56444451013242, 12.466380179424416, 14.191712869256463, 13.151213223098596, 14.219085351273703, 14.545405590624174, 13.786497414123811, 15.406146984312524, 14.20518066358908, 15.61734904661137, 15.616537847669559, 15.220341188206373, 16.60672396930354, 15.291995066403874, 16.9194822315501, 16.567450725995233, 16.559689072458877, 17.639006518286067, 16.30269440064038], [17.658076954215847, 18.25809505221191, 17.615349303548975, 17.527828855940644, 17.614413735007915, 16.68254283378595, 17.258711928953126, 16.44661527412805, 16.54804066422498, 16.44554034055215, 15.61734904661137, 16.130640003300506, 15.19709569576572, 15.486190601551524, 15.220945392182784, 14.578772153148305, 15.023570000566854, 14.05463077534032, 14.541972687585202, 14.172191691773977, 13.81189621423007, 14.220085921130023, 13.334765709323108, 14.035558529566764, 13.632694066913912, 13.632694066913912, 14.035558529566764, 13.334765709323108, 14.220085921130023, 13.81189621423007, 14.172191691773982, 14.5419726875852, 14.05463077534032, 15.023570000566854, 14.578772153148305, 15.220945392182786, 15.486190601551524, 15.19709569576572, 16.130640003300506, 15.61734904661137, 16.44554034055215, 16.54804066422498, 16.44661527412805, 17.258711928953126, 16.682542833785945, 17.61441373500792, 17.527828855940637, 17.615349303548975, 18.25809505221191, 17.658076954215847], [17.511503693652, 18.279002904322603, 17.55585269679899, 17.501667549413984, 17.658662293260782, 16.594385963237993, 17.343405294572378, 16.426794394755035, 16.609137346287138, 16.54804066422498, 15.616537847669559, 16.297226896765338, 15.240579271566718, 15.652460204335343, 15.39789566861607, 14.68927561999067, 15.284118677491415, 14.177865266893793, 14.816785920566504, 14.421169599140567, 14.030883534294968, 14.556582983877057, 13.520656237943847, 14.381143608834291, 13.906766377795881, 13.906766377795881, 14.381143608834291, 13.520656237943848, 14.556582983877057, 14.030883534294968, 14.421169599140573, 14.816785920566502, 14.177865266893793, 15.284118677491415, 14.68927561999067, 15.397895668616073, 15.652460204335343, 15.240579271566718, 16.297226896765338, 15.616537847669559, 16.54804066422498, 16.609137346287138, 16.426794394755035, 17.343405294572374, 16.59438596323799, 17.65866229326079, 17.501667549413977, 17.55585269679899, 18.279002904322603, 17.511503693652], [16.948773526318927, 18.13440606234824, 17.187221029611592, 17.20184388122514, 17.522177866521425, 16.0954018814531, 17.269787475094812, 16.059834434382903, 16.426794394755035, 16.44661527412805, 15.220341188206373, 16.304853786092668, 14.899595453903235, 15.597634752712388, 15.33859485133036, 14.42569898016396, 15.376191796364123, 13.88325413207476, 14.883908892179331, 14.393440379541385, 13.900536495911409, 14.708812428740714, 13.266717084298786, 14.528593339551056, 13.863403369653463, 13.863403369653463, 14.528593339551056, 13.266717084298788, 14.708812428740714, 13.900536495911409, 14.393440379541394, 14.88390889217933, 13.88325413207476, 15.376191796364123, 14.42569898016396, 15.338594851330363, 15.597634752712388, 14.899595453903235, 16.304853786092668, 15.220341188206373, 16.44661527412805, 16.426794394755035, 16.059834434382903, 17.269787475094812, 16.095401881453096, 17.52217786652143, 17.201843881225134, 17.187221029611592, 18.13440606234824, 16.948773526318927], [18.292988184562148, 18.750581489653133, 18.23432129667052, 18.15408914323863, 18.211204206644933, 17.470766920473114, 17.913877473361605, 17.269787475094812, 17.343405294572374, 17.258711928953126, 16.60672396930354, 17.00833318355465, 16.27735185655732, 16.506822031869493, 16.30339483654185, 15.806021297331647, 16.162261246168494, 15.411061781010602, 15.802303509339449, 15.521637025783175, 15.248013497252337, 15.575998074364197, 14.888331160707885, 15.442395324184194, 15.12890428939022, 15.12890428939022, 15.442395324184194, 14.888331160707885, 15.575998074364197, 15.248013497252337, 15.52163702578318, 15.802303509339449, 15.411061781010602, 16.162261246168494, 15.806021297331647, 16.30339483654185, 16.506822031869493, 16.27735185655732, 17.008333183554655, 16.60672396930354, 17.258711928953126, 17.343405294572374, 17.269787475094812, 17.913877473361605, 17.47076692047311, 18.211204206644936, 18.154089143238625, 18.23432129667052, 18.750581489653133, 18.292988184562148], [16.762737352318794, 18.219855965963006, 17.14629850470518, 17.217120104091094, 17.653136202299734, 16.016435761753925, 17.470766920473114, 16.095401881453096, 16.59438596323799, 16.682542833785945, 15.291995066403874, 16.64637428938658, 15.044252204739966, 15.939626944395147, 15.697464243048955, 14.677123615124096, 15.867168455893248, 14.152091477056995, 15.393970835050405, 14.859744070047737, 14.316369541224745, 15.311077272297151, 13.6253890556196, 15.142252392938452, 14.361568882433893, 14.361568882433893, 15.142252392938452, 13.625389055619603, 15.311077272297151, 14.316369541224745, 14.859744070047746, 15.393970835050402, 14.152091477056995, 15.867168455893248, 14.677123615124096, 15.697464243048959, 15.939626944395147, 15.044252204739966, 16.64637428938658, 15.291995066403874, 16.682542833785945, 16.59438596323799, 16.095401881453096, 17.47076692047311, 16.01643576175392, 17.65313620229974, 17.217120104091084, 17.14629850470518, 18.219855965963006, 16.762737352318794], [18.376502387818377, 18.942675518937147, 18.39224339465113, 18.34431439932651, 18.45584737852926, 17.653136202299745, 18.211204206644936, 17.52217786652143, 17.65866229326079, 17.61441373500792, 16.9194822315501, 17.434984837269212, 16.649890090457532, 16.96740435351347, 16.786862913421245, 16.267241527184616, 16.725751318699494, 15.909596235189053, 16.401822040565303, 16.118067279859673, 15.837317429841415, 16.24169805722491, 15.473338339766203, 16.124155956564678, 15.771489952918165, 15.771489952918165, 16.124155956564678, 15.473338339766203, 16.24169805722491, 15.837317429841415, 16.118067279859677, 16.401822040565303, 15.909596235189053, 16.725751318699494, 16.267241527184616, 16.786862913421245, 16.96740435351347, 16.649890090457532, 17.434984837269216, 16.9194822315501, 17.61441373500792, 17.65866229326079, 17.52217786652143, 18.211204206644936, 17.65313620229974, 18.455847378529263, 18.344314399326507, 18.39224339465113, 18.942675518937147, 18.376502387818377], [17.885493747199362, 18.825008896396326, 18.07428901324707, 18.08744839916314, 18.344314399326503, 17.217120104091087, 18.154089143238625, 17.201843881225134, 17.501667549413977, 17.527828855940637, 16.567450725995233, 17.441044933698358, 16.341706480959793, 16.911519450961826, 16.723397584824564, 16.01748521281222, 16.789553442503113, 15.623896198822965, 16.4350264316077, 16.062574064598735, 15.68651057149474, 16.340064446157083, 15.206417265295057, 16.21392046027763, 15.689928625718123, 15.689928625718123, 16.21392046027763, 15.206417265295059, 16.340064446157083, 15.68651057149474, 16.062574064598742, 16.435026431607696, 15.623896198822965, 16.789553442503113, 16.01748521281222, 16.723397584824568, 16.911519450961826, 16.341706480959793, 17.441044933698358, 16.567450725995233, 17.527828855940637, 17.501667549413977, 17.201843881225134, 18.154089143238625, 17.217120104091084, 18.344314399326507, 18.087448399163133, 18.07428901324707, 18.825008896396326, 17.885493747199362], [17.767871124030655, 18.855143734214593, 18.032566903083627, 18.074289013247082, 18.39224339465112, 17.146298504705182, 18.23432129667052, 17.187221029611592, 17.55585269679899, 17.615349303548975, 16.559689072458873, 17.577048909413634, 16.36379776684465, 17.036787371958457, 16.852118213451572, 16.08096927772303, 16.979104663376194, 15.685021720112971, 16.62346238309158, 16.22156611657171, 15.812909894370357, 16.565215931584294, 15.29406281262577, 16.43996967996393, 15.851170293915917, 15.851170293915917, 16.43996967996393, 15.294062812625771, 16.565215931584294, 15.812909894370357, 16.22156611657172, 16.623462383091578, 15.685021720112971, 16.979104663376194, 16.08096927772303, 16.852118213451575, 17.036787371958457, 16.36379776684465, 17.577048909413634, 16.559689072458877, 17.615349303548975, 17.55585269679899, 17.187221029611592, 18.23432129667052, 17.14629850470518, 18.39224339465113, 18.07428901324707, 18.032566903083627, 18.855143734214593, 17.767871124030655], [18.81568798244058, 19.3488148115283, 18.855143734214593, 18.82500889639633, 18.942675518937143, 18.21985596596301, 18.750581489653133, 18.13440606234824, 18.279002904322603, 18.25809505221191, 17.639006518286067, 18.13465644410233, 17.433588055495253, 17.747612830357156, 17.603145370873854, 17.146224039733294, 17.588952238196327, 16.857398554760877, 17.328761961388278, 17.084126952759192, 16.84015327617199, 17.224371809594455, 16.526417783395935, 17.13178685753399, 16.81038004538982, 16.81038004538982, 17.13178685753399, 16.526417783395935, 17.224371809594455, 16.84015327617199, 17.084126952759195, 17.328761961388274, 16.857398554760877, 17.588952238196327, 17.146224039733294, 17.603145370873854, 17.747612830357156, 17.433588055495253, 18.13465644410233, 17.639006518286067, 18.25809505221191, 18.279002904322603, 18.13440606234824, 18.750581489653133, 18.219855965963006, 18.942675518937147, 18.825008896396326, 18.855143734214593, 19.3488148115283, 18.81568798244058], [17.293294335267746, 18.81568798244058, 17.767871124030655, 17.885493747199373, 18.37650238781837, 16.762737352318798, 18.292988184562148, 16.948773526318927, 17.511503693652, 17.658076954215847, 16.30269440064038, 17.738235841007096, 16.168810874655215, 17.13779718283365, 16.94961214556854, 15.968850304120803, 17.232595045270138, 15.540199269220023, 16.849561189121506, 16.348754358852144, 15.833067320468217, 16.87449915132425, 15.18437703425571, 16.742123904609983, 15.956599779124994, 15.956599779124994, 16.742123904609983, 15.18437703425571, 16.87449915132425, 15.833067320468217, 16.348754358852155, 16.849561189121502, 15.540199269220023, 17.232595045270138, 15.968850304120803, 16.949612145568544, 17.13779718283365, 16.168810874655215, 17.7382358410071, 16.30269440064038, 17.658076954215847, 17.511503693652, 16.948773526318927, 18.292988184562148, 16.762737352318794, 18.376502387818377, 17.885493747199362, 17.767871124030655, 18.81568798244058, 17.293294335267746]]}],                        {\"autosize\": true, \"margin\": {\"b\": 65, \"l\": 65, \"r\": 50, \"t\": 90}, \"template\": {\"data\": {\"bar\": [{\"error_x\": {\"color\": \"#2a3f5f\"}, \"error_y\": {\"color\": \"#2a3f5f\"}, \"marker\": {\"line\": {\"color\": \"#E5ECF6\", \"width\": 0.5}}, \"type\": \"bar\"}], \"barpolar\": [{\"marker\": {\"line\": {\"color\": \"#E5ECF6\", \"width\": 0.5}}, \"type\": \"barpolar\"}], \"carpet\": [{\"aaxis\": {\"endlinecolor\": \"#2a3f5f\", \"gridcolor\": \"white\", \"linecolor\": \"white\", \"minorgridcolor\": \"white\", \"startlinecolor\": \"#2a3f5f\"}, \"baxis\": {\"endlinecolor\": \"#2a3f5f\", \"gridcolor\": \"white\", \"linecolor\": \"white\", \"minorgridcolor\": \"white\", \"startlinecolor\": \"#2a3f5f\"}, \"type\": \"carpet\"}], \"choropleth\": [{\"colorbar\": {\"outlinewidth\": 0, \"ticks\": \"\"}, \"type\": \"choropleth\"}], \"contour\": [{\"colorbar\": {\"outlinewidth\": 0, \"ticks\": \"\"}, \"colorscale\": [[0.0, \"#0d0887\"], [0.1111111111111111, \"#46039f\"], [0.2222222222222222, \"#7201a8\"], [0.3333333333333333, \"#9c179e\"], [0.4444444444444444, \"#bd3786\"], [0.5555555555555556, \"#d8576b\"], [0.6666666666666666, \"#ed7953\"], [0.7777777777777778, \"#fb9f3a\"], [0.8888888888888888, \"#fdca26\"], [1.0, \"#f0f921\"]], \"type\": \"contour\"}], \"contourcarpet\": [{\"colorbar\": {\"outlinewidth\": 0, \"ticks\": \"\"}, \"type\": \"contourcarpet\"}], \"heatmap\": [{\"colorbar\": {\"outlinewidth\": 0, \"ticks\": \"\"}, \"colorscale\": [[0.0, \"#0d0887\"], [0.1111111111111111, \"#46039f\"], [0.2222222222222222, \"#7201a8\"], [0.3333333333333333, \"#9c179e\"], [0.4444444444444444, \"#bd3786\"], [0.5555555555555556, \"#d8576b\"], [0.6666666666666666, \"#ed7953\"], [0.7777777777777778, \"#fb9f3a\"], [0.8888888888888888, \"#fdca26\"], [1.0, \"#f0f921\"]], \"type\": \"heatmap\"}], \"heatmapgl\": [{\"colorbar\": {\"outlinewidth\": 0, \"ticks\": \"\"}, \"colorscale\": [[0.0, \"#0d0887\"], [0.1111111111111111, \"#46039f\"], [0.2222222222222222, \"#7201a8\"], [0.3333333333333333, \"#9c179e\"], [0.4444444444444444, \"#bd3786\"], [0.5555555555555556, \"#d8576b\"], [0.6666666666666666, \"#ed7953\"], [0.7777777777777778, \"#fb9f3a\"], [0.8888888888888888, \"#fdca26\"], [1.0, \"#f0f921\"]], \"type\": \"heatmapgl\"}], \"histogram\": [{\"marker\": {\"colorbar\": {\"outlinewidth\": 0, \"ticks\": \"\"}}, \"type\": \"histogram\"}], \"histogram2d\": [{\"colorbar\": {\"outlinewidth\": 0, \"ticks\": \"\"}, \"colorscale\": [[0.0, \"#0d0887\"], [0.1111111111111111, \"#46039f\"], [0.2222222222222222, \"#7201a8\"], [0.3333333333333333, \"#9c179e\"], [0.4444444444444444, \"#bd3786\"], [0.5555555555555556, \"#d8576b\"], [0.6666666666666666, \"#ed7953\"], [0.7777777777777778, \"#fb9f3a\"], [0.8888888888888888, \"#fdca26\"], [1.0, \"#f0f921\"]], \"type\": \"histogram2d\"}], \"histogram2dcontour\": [{\"colorbar\": {\"outlinewidth\": 0, \"ticks\": \"\"}, \"colorscale\": [[0.0, \"#0d0887\"], [0.1111111111111111, \"#46039f\"], [0.2222222222222222, \"#7201a8\"], [0.3333333333333333, \"#9c179e\"], [0.4444444444444444, \"#bd3786\"], [0.5555555555555556, \"#d8576b\"], [0.6666666666666666, \"#ed7953\"], [0.7777777777777778, \"#fb9f3a\"], [0.8888888888888888, \"#fdca26\"], [1.0, \"#f0f921\"]], \"type\": \"histogram2dcontour\"}], \"mesh3d\": [{\"colorbar\": {\"outlinewidth\": 0, \"ticks\": \"\"}, \"type\": \"mesh3d\"}], \"parcoords\": [{\"line\": {\"colorbar\": {\"outlinewidth\": 0, \"ticks\": \"\"}}, \"type\": \"parcoords\"}], \"pie\": [{\"automargin\": true, \"type\": \"pie\"}], \"scatter\": [{\"marker\": {\"colorbar\": {\"outlinewidth\": 0, \"ticks\": \"\"}}, \"type\": \"scatter\"}], \"scatter3d\": [{\"line\": {\"colorbar\": {\"outlinewidth\": 0, \"ticks\": \"\"}}, \"marker\": {\"colorbar\": {\"outlinewidth\": 0, \"ticks\": \"\"}}, \"type\": \"scatter3d\"}], \"scattercarpet\": [{\"marker\": {\"colorbar\": {\"outlinewidth\": 0, \"ticks\": \"\"}}, \"type\": \"scattercarpet\"}], \"scattergeo\": [{\"marker\": {\"colorbar\": {\"outlinewidth\": 0, \"ticks\": \"\"}}, \"type\": \"scattergeo\"}], \"scattergl\": [{\"marker\": {\"colorbar\": {\"outlinewidth\": 0, \"ticks\": \"\"}}, \"type\": \"scattergl\"}], \"scattermapbox\": [{\"marker\": {\"colorbar\": {\"outlinewidth\": 0, \"ticks\": \"\"}}, \"type\": \"scattermapbox\"}], \"scatterpolar\": [{\"marker\": {\"colorbar\": {\"outlinewidth\": 0, \"ticks\": \"\"}}, \"type\": \"scatterpolar\"}], \"scatterpolargl\": [{\"marker\": {\"colorbar\": {\"outlinewidth\": 0, \"ticks\": \"\"}}, \"type\": \"scatterpolargl\"}], \"scatterternary\": [{\"marker\": {\"colorbar\": {\"outlinewidth\": 0, \"ticks\": \"\"}}, \"type\": \"scatterternary\"}], \"surface\": [{\"colorbar\": {\"outlinewidth\": 0, \"ticks\": \"\"}, \"colorscale\": [[0.0, \"#0d0887\"], [0.1111111111111111, \"#46039f\"], [0.2222222222222222, \"#7201a8\"], [0.3333333333333333, \"#9c179e\"], [0.4444444444444444, \"#bd3786\"], [0.5555555555555556, \"#d8576b\"], [0.6666666666666666, \"#ed7953\"], [0.7777777777777778, \"#fb9f3a\"], [0.8888888888888888, \"#fdca26\"], [1.0, \"#f0f921\"]], \"type\": \"surface\"}], \"table\": [{\"cells\": {\"fill\": {\"color\": \"#EBF0F8\"}, \"line\": {\"color\": \"white\"}}, \"header\": {\"fill\": {\"color\": \"#C8D4E3\"}, \"line\": {\"color\": \"white\"}}, \"type\": \"table\"}]}, \"layout\": {\"annotationdefaults\": {\"arrowcolor\": \"#2a3f5f\", \"arrowhead\": 0, \"arrowwidth\": 1}, \"coloraxis\": {\"colorbar\": {\"outlinewidth\": 0, \"ticks\": \"\"}}, \"colorscale\": {\"diverging\": [[0, \"#8e0152\"], [0.1, \"#c51b7d\"], [0.2, \"#de77ae\"], [0.3, \"#f1b6da\"], [0.4, \"#fde0ef\"], [0.5, \"#f7f7f7\"], [0.6, \"#e6f5d0\"], [0.7, \"#b8e186\"], [0.8, \"#7fbc41\"], [0.9, \"#4d9221\"], [1, \"#276419\"]], \"sequential\": [[0.0, \"#0d0887\"], [0.1111111111111111, \"#46039f\"], [0.2222222222222222, \"#7201a8\"], [0.3333333333333333, \"#9c179e\"], [0.4444444444444444, \"#bd3786\"], [0.5555555555555556, \"#d8576b\"], [0.6666666666666666, \"#ed7953\"], [0.7777777777777778, \"#fb9f3a\"], [0.8888888888888888, \"#fdca26\"], [1.0, \"#f0f921\"]], \"sequentialminus\": [[0.0, \"#0d0887\"], [0.1111111111111111, \"#46039f\"], [0.2222222222222222, \"#7201a8\"], [0.3333333333333333, \"#9c179e\"], [0.4444444444444444, \"#bd3786\"], [0.5555555555555556, \"#d8576b\"], [0.6666666666666666, \"#ed7953\"], [0.7777777777777778, \"#fb9f3a\"], [0.8888888888888888, \"#fdca26\"], [1.0, \"#f0f921\"]]}, \"colorway\": [\"#636efa\", \"#EF553B\", \"#00cc96\", \"#ab63fa\", \"#FFA15A\", \"#19d3f3\", \"#FF6692\", \"#B6E880\", \"#FF97FF\", \"#FECB52\"], \"font\": {\"color\": \"#2a3f5f\"}, \"geo\": {\"bgcolor\": \"white\", \"lakecolor\": \"white\", \"landcolor\": \"#E5ECF6\", \"showlakes\": true, \"showland\": true, \"subunitcolor\": \"white\"}, \"hoverlabel\": {\"align\": \"left\"}, \"hovermode\": \"closest\", \"mapbox\": {\"style\": \"light\"}, \"paper_bgcolor\": \"white\", \"plot_bgcolor\": \"#E5ECF6\", \"polar\": {\"angularaxis\": {\"gridcolor\": \"white\", \"linecolor\": \"white\", \"ticks\": \"\"}, \"bgcolor\": \"#E5ECF6\", \"radialaxis\": {\"gridcolor\": \"white\", \"linecolor\": \"white\", \"ticks\": \"\"}}, \"scene\": {\"xaxis\": {\"backgroundcolor\": \"#E5ECF6\", \"gridcolor\": \"white\", \"gridwidth\": 2, \"linecolor\": \"white\", \"showbackground\": true, \"ticks\": \"\", \"zerolinecolor\": \"white\"}, \"yaxis\": {\"backgroundcolor\": \"#E5ECF6\", \"gridcolor\": \"white\", \"gridwidth\": 2, \"linecolor\": \"white\", \"showbackground\": true, \"ticks\": \"\", \"zerolinecolor\": \"white\"}, \"zaxis\": {\"backgroundcolor\": \"#E5ECF6\", \"gridcolor\": \"white\", \"gridwidth\": 2, \"linecolor\": \"white\", \"showbackground\": true, \"ticks\": \"\", \"zerolinecolor\": \"white\"}}, \"shapedefaults\": {\"line\": {\"color\": \"#2a3f5f\"}}, \"ternary\": {\"aaxis\": {\"gridcolor\": \"white\", \"linecolor\": \"white\", \"ticks\": \"\"}, \"baxis\": {\"gridcolor\": \"white\", \"linecolor\": \"white\", \"ticks\": \"\"}, \"bgcolor\": \"#E5ECF6\", \"caxis\": {\"gridcolor\": \"white\", \"linecolor\": \"white\", \"ticks\": \"\"}}, \"title\": {\"x\": 0.05}, \"xaxis\": {\"automargin\": true, \"gridcolor\": \"white\", \"linecolor\": \"white\", \"ticks\": \"\", \"title\": {\"standoff\": 15}, \"zerolinecolor\": \"white\", \"zerolinewidth\": 2}, \"yaxis\": {\"automargin\": true, \"gridcolor\": \"white\", \"linecolor\": \"white\", \"ticks\": \"\", \"title\": {\"standoff\": 15}, \"zerolinecolor\": \"white\", \"zerolinewidth\": 2}}}, \"title\": {\"text\": \"Ackley\"}},                        {\"responsive\": true}                    ).then(function(){\n",
       "                            \n",
       "var gd = document.getElementById('c1e0f2b7-82a5-491f-9df2-322a9b3dd071');\n",
       "var x = new MutationObserver(function (mutations, observer) {{\n",
       "        var display = window.getComputedStyle(gd).display;\n",
       "        if (!display || display === 'none') {{\n",
       "            console.log([gd, 'removed!']);\n",
       "            Plotly.purge(gd);\n",
       "            observer.disconnect();\n",
       "        }}\n",
       "}});\n",
       "\n",
       "// Listen for the removal of the full notebook cells\n",
       "var notebookContainer = gd.closest('#notebook-container');\n",
       "if (notebookContainer) {{\n",
       "    x.observe(notebookContainer, {childList: true});\n",
       "}}\n",
       "\n",
       "// Listen for the clearing of the current output cell\n",
       "var outputEl = gd.closest('.output');\n",
       "if (outputEl) {{\n",
       "    x.observe(outputEl, {childList: true});\n",
       "}}\n",
       "\n",
       "                        })                };                });            </script>        </div>"
      ]
     },
     "metadata": {},
     "output_type": "display_data"
    }
   ],
   "source": [
    "fig = go.Figure(data=[go.Surface(z = z_value)])\n",
    "fig.update_layout(title='Ackley', autosize=True, margin=dict(l=65, r=50, b=65, t=90))\n",
    "fig.show()"
   ]
  },
  {
   "cell_type": "code",
   "execution_count": 39,
   "metadata": {},
   "outputs": [
    {
     "data": {
      "text/plain": [
       "     fun: 4.440892098500626e-16\n",
       " message: 'Optimization terminated successfully.'\n",
       "    nfev: 2793\n",
       "     nit: 90\n",
       " success: True\n",
       "       x: array([0., 0.])"
      ]
     },
     "execution_count": 39,
     "metadata": {},
     "output_type": "execute_result"
    }
   ],
   "source": [
    "bounds = [(-10, 10), (-10, 10)]\n",
    "result = differential_evolution(ackley, bounds, seed=42)\n",
    "result"
   ]
  },
  {
   "cell_type": "code",
   "execution_count": 41,
   "metadata": {},
   "outputs": [
    {
     "data": {
      "text/plain": [
       "90"
      ]
     },
     "execution_count": 41,
     "metadata": {},
     "output_type": "execute_result"
    }
   ],
   "source": [
    "result.nit"
   ]
  },
  {
   "cell_type": "markdown",
   "metadata": {},
   "source": [
    "Разберемся с параметрами differential_evolution(func, bounds, args=(), strategy='best1bin', maxiter=1000, popsize=15, tol=0.01, mutation=0.5, 1, recombination=0.7, seed=None, callback=None, disp=False, polish=True, init='latinhypercube', atol=0, updating='immediate', workers=1, constraints=())\n",
    "\n",
    "* bounds оценки для переменных. Есть два способа указать границы: как экземпляр класса Bounds или (min, max) пары для каждого элемента в X, определяющие нижнюю и верхнюю границы для оптимизации. len(bounds) == len(x).\n",
    "* strategystr метод оптимизации ‘best1bin’, ‘best1exp’, ‘rand1exp’,         ‘randtobest1exp’, ‘currenttobest1exp’, ‘best2exp’, ‘rand2exp’, ‘randtobest1bin’,         ‘currenttobest1bin’, ‘best2bin’, ‘rand2bin’, ‘rand1bin’\n",
    "* maxiterint максимальное количество поколений, в течение которых развивается популяция.\n",
    "* popsize  максимальный размер популяции\n",
    "* tol относительная погрешность\n",
    "* mutation  константа мутации (дифференциальный вес, обозначаемый буквой F). Если указан как число F должен находиться в диапазоне [0, 2]. Увеличение константы мутации увеличивает радиус поиска, но замедляет сходимость.\n",
    "* recombination константа рекомбинации (вероятность кроссовера, обозначается CR) должна быть в диапазоне [0, 1]. Увеличение этого значения позволяет большему количеству мутантов перейти в следующее поколение, но с риском стабильности популяции.\n",
    "* disp печатает вычисленную функцию на каждой итерации\n",
    "* polish если True (default), то scipy.optimize.minimize использует метод L-BFGS-B для улучшения результатов. \n",
    "* init тип начальной инициализации популяции - ‘latinhypercube’ или ‘random’\n",
    "* atol абсолютная погрешность\n",
    "* updating если  выставлено ‘immediate’ то вектор наилучшего решения постоянно обновляется в пределах одного поколения. Это может привести к более быстрой сходимости. При выборе 'deferred' вектор наилучшего решения обновляется один раз за поколение. Только 'deferred' совместимо с распараллеливанием.\n",
    "* workers использование мультипроцессинга.  Поставьте -1, чтобы использовать все доступные ядра ЦП"
   ]
  },
  {
   "cell_type": "markdown",
   "metadata": {},
   "source": [
    "\n",
    "\n",
    "При фиксированном seed=42 поразбирайтесь и поэкспериментируйте с параметрами алгоритма дифференциальной эволюции: strategy, popsize, tol, mutation, recombination и updating.\n",
    "\n",
    "Постройте графики количества итераций оптимизации функции ackley от значения параметра.\n",
    "Дополнительное задание.\n",
    "\n",
    "Найти множество параметров (strategy=..., ..., updating=...), которые требуют минимального количества итераций.\n"
   ]
  },
  {
   "cell_type": "code",
   "execution_count": 5,
   "metadata": {},
   "outputs": [],
   "source": [
    "bounds = [(-10, 10), (-10, 10)]"
   ]
  },
  {
   "cell_type": "code",
   "execution_count": 6,
   "metadata": {},
   "outputs": [],
   "source": [
    "method_list = ['best1bin', 'best1exp', 'rand1exp', 'randtobest1exp', 'currenttobest1exp', 'best2exp', 'rand2exp', 'randtobest1bin', 'currenttobest1bin', 'best2bin', 'rand2bin', 'rand1bin']"
   ]
  },
  {
   "cell_type": "code",
   "execution_count": 9,
   "metadata": {},
   "outputs": [],
   "source": [
    "nit_list = []\n",
    "for metod in method_list:\n",
    "    result = differential_evolution(ackley, bounds, strategy=metod, seed=42)\n",
    "    nit_list.append(result.nit)"
   ]
  },
  {
   "cell_type": "code",
   "execution_count": 10,
   "metadata": {},
   "outputs": [
    {
     "data": {
      "text/plain": [
       "[90, 147, 246, 156, 1000, 244, 341, 101, 1000, 166, 232, 168]"
      ]
     },
     "execution_count": 10,
     "metadata": {},
     "output_type": "execute_result"
    }
   ],
   "source": [
    "nit_list"
   ]
  },
  {
   "cell_type": "code",
   "execution_count": 13,
   "metadata": {},
   "outputs": [
    {
     "data": {
      "image/png": "[encoded data removed]",
      "text/plain": [
       "<Figure size 1584x576 with 1 Axes>"
      ]
     },
     "metadata": {},
     "output_type": "display_data"
    }
   ],
   "source": [
    "fig, ax = plt.subplots()\n",
    "ax.bar(method_list, nit_list)\n",
    "\n",
    "ax.set_facecolor('seashell')\n",
    "fig.set_facecolor('floralwhite')\n",
    "fig.set_figwidth(22)    #  ширина Figure\n",
    "fig.set_figheight(8)    #  высота Figure\n",
    "\n",
    "plt.show()"
   ]
  },
  {
   "cell_type": "code",
   "execution_count": 18,
   "metadata": {},
   "outputs": [],
   "source": [
    "popsize = [i for i in range(10, 20)]"
   ]
  },
  {
   "cell_type": "code",
   "execution_count": 19,
   "metadata": {},
   "outputs": [],
   "source": [
    "nit_list = []\n",
    "for i in popsize:\n",
    "    result = differential_evolution(ackley, bounds, popsize = i, seed=42)\n",
    "    nit_list.append(result.nit)"
   ]
  },
  {
   "cell_type": "code",
   "execution_count": 20,
   "metadata": {},
   "outputs": [
    {
     "data": {
      "image/png": "[encoded data removed]",
      "text/plain": [
       "<Figure size 1584x576 with 1 Axes>"
      ]
     },
     "metadata": {},
     "output_type": "display_data"
    }
   ],
   "source": [
    "fig, ax = plt.subplots()\n",
    "ax.bar(popsize, nit_list)\n",
    "\n",
    "ax.set_facecolor('seashell')\n",
    "fig.set_facecolor('floralwhite')\n",
    "fig.set_figwidth(22)    #  ширина Figure\n",
    "fig.set_figheight(8)    #  высота Figure\n",
    "\n",
    "plt.show()"
   ]
  },
  {
   "cell_type": "code",
   "execution_count": 36,
   "metadata": {},
   "outputs": [],
   "source": [
    "F = np.linspace(0.1, 2, 20)"
   ]
  },
  {
   "cell_type": "code",
   "execution_count": 37,
   "metadata": {},
   "outputs": [],
   "source": [
    "nit_list = []\n",
    "for i in range(0, len(F)-1):\n",
    "    result = differential_evolution(ackley, bounds, mutation=F[i], seed=42)\n",
    "    nit_list.append(result.nit)"
   ]
  },
  {
   "cell_type": "code",
   "execution_count": 45,
   "metadata": {},
   "outputs": [
    {
     "data": {
      "image/png": "[encoded data removed]",
      "text/plain": [
       "<Figure size 576x576 with 1 Axes>"
      ]
     },
     "metadata": {},
     "output_type": "display_data"
    }
   ],
   "source": [
    "x = [F[i] for i in range(0, len(F)-1)]\n",
    "fig, ax = plt.subplots()\n",
    "ax.bar(x, nit_list)\n",
    "\n",
    "ax.set_facecolor('seashell')\n",
    "fig.set_facecolor('floralwhite')\n",
    "fig.set_figwidth(8)    #  ширина Figure\n",
    "fig.set_figheight(8)    #  высота Figure\n",
    "\n",
    "plt.show()"
   ]
  },
  {
   "cell_type": "code",
   "execution_count": 40,
   "metadata": {},
   "outputs": [],
   "source": [
    "CR = np.linspace(0.1, 1, 20)"
   ]
  },
  {
   "cell_type": "code",
   "execution_count": 42,
   "metadata": {},
   "outputs": [],
   "source": [
    "nit_list = []\n",
    "for i in range(0, len(CR)-1):\n",
    "    result = differential_evolution(ackley, bounds, recombination=CR[i], seed=42)\n",
    "    nit_list.append(result.nit)"
   ]
  },
  {
   "cell_type": "code",
   "execution_count": 44,
   "metadata": {},
   "outputs": [
    {
     "data": {
      "image/png": "[encoded data removed]",
      "text/plain": [
       "<Figure size 360x576 with 1 Axes>"
      ]
     },
     "metadata": {},
     "output_type": "display_data"
    }
   ],
   "source": [
    "x = [CR[i] for i in range(0, len(F)-1)]\n",
    "fig, ax = plt.subplots()\n",
    "ax.bar(x, nit_list)\n",
    "\n",
    "ax.set_facecolor('seashell')\n",
    "fig.set_facecolor('floralwhite')\n",
    "fig.set_figwidth(5)    #  ширина Figure\n",
    "fig.set_figheight(8)    #  высота Figure\n",
    "\n",
    "plt.show()"
   ]
  },
  {
   "cell_type": "markdown",
   "metadata": {},
   "source": [
    "**Оптимальные параметры**"
   ]
  },
  {
   "cell_type": "code",
   "execution_count": 47,
   "metadata": {},
   "outputs": [
    {
     "data": {
      "text/plain": [
       "     fun: 3.1365385844139837e-09\n",
       "     jac: array([2.30901804, 2.75011942])\n",
       " message: 'Optimization terminated successfully.'\n",
       "    nfev: 250\n",
       "     nit: 6\n",
       " success: True\n",
       "       x: array([-7.62483619e-10,  8.05203587e-10])"
      ]
     },
     "execution_count": 47,
     "metadata": {},
     "output_type": "execute_result"
    }
   ],
   "source": [
    "result = differential_evolution(ackley, bounds, popsize=11, mutation=0.1, recombination=1, seed=42)\n",
    "result"
   ]
  },
  {
   "cell_type": "markdown",
   "metadata": {},
   "source": [
    "**Итак мы улучшили наш результат в 15 раз, с 90 до 6!**"
   ]
  },
  {
   "cell_type": "code",
   "execution_count": null,
   "metadata": {},
   "outputs": [],
   "source": []
  },
  {
   "cell_type": "code",
   "execution_count": null,
   "metadata": {},
   "outputs": [],
   "source": []
  }
 ],
 "metadata": {
  "kernelspec": {
   "display_name": "Python 3",
   "language": "python",
   "name": "python3"
  },
  "language_info": {
   "codemirror_mode": {
    "name": "ipython",
    "version": 3
   },
   "file_extension": ".py",
   "mimetype": "text/x-python",
   "name": "python",
   "nbconvert_exporter": "python",
   "pygments_lexer": "ipython3",
   "version": "3.8.3"
  },
  "toc": {
   "base_numbering": 1,
   "nav_menu": {},
   "number_sections": true,
   "sideBar": true,
   "skip_h1_title": true,
   "title_cell": "Table of Contents",
   "title_sidebar": "Contents",
   "toc_cell": true,
   "toc_position": {
    "height": "calc(100% - 180px)",
    "left": "10px",
    "top": "150px",
    "width": "234.667px"
   },
   "toc_section_display": true,
   "toc_window_display": true
  },
  "varInspector": {
   "cols": {
    "lenName": 16,
    "lenType": 16,
    "lenVar": 40
   },
   "kernels_config": {
    "python": {
     "delete_cmd_postfix": "",
     "delete_cmd_prefix": "del ",
     "library": "var_list.py",
     "varRefreshCmd": "print(var_dic_list())"
    },
    "r": {
     "delete_cmd_postfix": ") ",
     "delete_cmd_prefix": "rm(",
     "library": "var_list.r",
     "varRefreshCmd": "cat(var_dic_list()) "
    }
   },
   "types_to_exclude": [
    "module",
    "function",
    "builtin_function_or_method",
    "instance",
    "_Feature"
   ],
   "window_display": false
  }
 },
 "nbformat": 4,
 "nbformat_minor": 4
}

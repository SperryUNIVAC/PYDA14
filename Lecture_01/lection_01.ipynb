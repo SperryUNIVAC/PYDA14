{
 "cells": [
  {
   "cell_type": "markdown",
   "metadata": {},
   "source": [
    "# Задание 1"
   ]
  },
  {
   "cell_type": "markdown",
   "metadata": {},
   "source": [
    "Подгрузим все что нужно для работы с изображениями посредством HTML и пропишем локальную ссылку на скриншот:"
   ]
  },
  {
   "cell_type": "code",
   "execution_count": 12,
   "metadata": {
    "scrolled": true
   },
   "outputs": [
    {
     "data": {
      "text/html": [
       "<img src=\"file:///C:/Netology/Lecture%201/2020-09-13_10-32-25.png\"/>"
      ],
      "text/plain": [
       "<IPython.core.display.Image object>"
      ]
     },
     "execution_count": 12,
     "metadata": {},
     "output_type": "execute_result"
    }
   ],
   "source": [
    "from IPython.display import Image\n",
    "from IPython.core.display import HTML \n",
    "Image(url= \"file:///C:/Netology/Lecture%201/2020-09-13_10-32-25.png\")"
   ]
  },
  {
   "cell_type": "markdown",
   "metadata": {},
   "source": [
    "# Задание 2"
   ]
  },
  {
   "cell_type": "markdown",
   "metadata": {},
   "source": [
    "Выполним все задания в тренажере:"
   ]
  },
  {
   "cell_type": "code",
   "execution_count": 14,
   "metadata": {},
   "outputs": [
    {
     "data": {
      "text/html": [
       "<img src=\"file:///C:/Netology/Lecture%201/Git1.png\"/>"
      ],
      "text/plain": [
       "<IPython.core.display.Image object>"
      ]
     },
     "execution_count": 14,
     "metadata": {},
     "output_type": "execute_result"
    }
   ],
   "source": [
    "Image(url= \"file:///C:/Netology/Lecture%201/Git1.png\")"
   ]
  },
  {
   "cell_type": "code",
   "execution_count": 16,
   "metadata": {},
   "outputs": [
    {
     "data": {
      "text/html": [
       "<img src=\"file:///C:/Netology/Lecture%201/Git2.png\"/>"
      ],
      "text/plain": [
       "<IPython.core.display.Image object>"
      ]
     },
     "execution_count": 16,
     "metadata": {},
     "output_type": "execute_result"
    }
   ],
   "source": [
    "Image(url= \"file:///C:/Netology/Lecture%201/Git2.png\")"
   ]
  },
  {
   "cell_type": "markdown",
   "metadata": {},
   "source": [
    "# Задание 4"
   ]
  },
  {
   "cell_type": "markdown",
   "metadata": {},
   "source": [
    "Вообще в юниксвэй мне не очень нравится идея делать максимально низкоуровнево те вещи, которые можно сделать красиво и понятно. Можно назвать это отголоском культуры хакеров, особым стилем, оправдать тем, что печатать что-то сильно быстрее, чем щелкать мышкой и т.п., но, тем не менее, мне это кажется дикой архаикой из тех времен, когда все эти бородатые отцы ломали глаза, втыкая в DEC VT100. С тех пор прошло уже 42 года, но народ, воспитанный поколениями олдфагов, так массово и не перешел на нормальные человеческие интерфейсы, что кажется мне досадным. Emacs, голый Teχ и прочие копролиты были прекрасны до тех пор, пока не появился человеческий GUI, в разы понижающий порог вхождения и позволяющий работать намного комфортнее, не тратя месяц на предварительную борьбу с инструментом (зачастую еще и созданным довольно извращенной логикой). Естественно, где-то командная строка может быть удобнее и быстрее, а иногда она единственная, что вообще работает (если в загрузчике не предусмотрели GUI, на суперслабом железе а-ля микроконтроллер и т.п. специфические случаи), но смысла кушать кактус во всех остальных ситуациях я не очень понимаю. В конце концов даже суровый синий BIOS превратился в UEFI с мышкой и графикой. Что касается самого самого самого главного аргумента любителей вообще все делать через баш - \"ну так же быстрее!\", можно резонно возразить, что, в случае написания какого-либо большого серьезного кода, 90% времени и так потратится на набор текста руками в редакторе, так что сэкономленная из-за того, что код залит в репу одной командой, а не тремя кликами мыши, минута вряд ли станет критической.\n",
    "В общем, с моей точки зрения знать командную строку с целью общего развития, определенно, полезно, но работать там постоянно и изучать ее тонкости, когда на свете существует множество красивых и удобных клиентов - это довольно странно. "
   ]
  },
  {
   "cell_type": "markdown",
   "metadata": {},
   "source": [
    "Бегло просмотрев GUI для Git по ссылке отметил GitUp - на вид очень вменяемый и понятный и по описанию симпатичный, точно \n",
    "будет первым, что я попробую в ближайшее время. Еще взгляд зацепился за GitBlade, GitKraken, Sourcetree и Fork, но, при наличии времени, можно и все испытать. Сама идея контроля версий просто вопиет,что бы ее представили наглядно в виде графа, так зачем отказывать себе в удовольствии созерцать красивое и удобное дерево, переходя по нему методом \"ткнул в нужное место\" ради колупания с допотопной командной строкой?\n"
   ]
  },
  {
   "cell_type": "code",
   "execution_count": null,
   "metadata": {},
   "outputs": [],
   "source": []
  }
 ],
 "metadata": {
  "kernelspec": {
   "display_name": "Python 3",
   "language": "python",
   "name": "python3"
  },
  "language_info": {
   "codemirror_mode": {
    "name": "ipython",
    "version": 3
   },
   "file_extension": ".py",
   "mimetype": "text/x-python",
   "name": "python",
   "nbconvert_exporter": "python",
   "pygments_lexer": "ipython3",
   "version": "3.8.3"
  }
 },
 "nbformat": 4,
 "nbformat_minor": 4
}

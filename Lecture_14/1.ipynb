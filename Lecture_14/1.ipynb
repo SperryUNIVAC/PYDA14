{
 "cells": [
  {
   "cell_type": "markdown",
   "metadata": {},
   "source": [
    "### Предупреждаю, что все начало - это мои попытки поиграть с библиотекой, походу колупая нужную страницу, оставил тут, что бы самому смотреть потом и не путаться, если будет нужно. Само решение начинается чуть ниже, когда я наигрался с разными методами"
   ]
  },
  {
   "cell_type": "code",
   "execution_count": 92,
   "metadata": {},
   "outputs": [],
   "source": [
    "from bs4 import BeautifulSoup\n",
    "import requests as req\n",
    "import pandas as pd "
   ]
  },
  {
   "cell_type": "code",
   "execution_count": 93,
   "metadata": {},
   "outputs": [],
   "source": [
    "KEYWORDS = ['python']"
   ]
  },
  {
   "cell_type": "code",
   "execution_count": 109,
   "metadata": {},
   "outputs": [
    {
     "ename": "AttributeError",
     "evalue": "'Response' object has no attribute 'get'",
     "output_type": "error",
     "traceback": [
      "\u001b[1;31m---------------------------------------------------------------------------\u001b[0m",
      "\u001b[1;31mAttributeError\u001b[0m                            Traceback (most recent call last)",
      "\u001b[1;32m<ipython-input-109-be11f71a1969>\u001b[0m in \u001b[0;36m<module>\u001b[1;34m\u001b[0m\n\u001b[1;32m----> 1\u001b[1;33m \u001b[0mreq\u001b[0m \u001b[1;33m=\u001b[0m \u001b[0mreq\u001b[0m\u001b[1;33m.\u001b[0m\u001b[0mget\u001b[0m\u001b[1;33m(\u001b[0m\u001b[1;34m'https://habr.com/ru/all/'\u001b[0m\u001b[1;33m)\u001b[0m\u001b[1;33m\u001b[0m\u001b[1;33m\u001b[0m\u001b[0m\n\u001b[0m\u001b[0;32m      2\u001b[0m \u001b[0msoup\u001b[0m \u001b[1;33m=\u001b[0m \u001b[0mBeautifulSoup\u001b[0m\u001b[1;33m(\u001b[0m\u001b[0mreq\u001b[0m\u001b[1;33m.\u001b[0m\u001b[0mtext\u001b[0m\u001b[1;33m,\u001b[0m \u001b[1;34m'html.parser'\u001b[0m\u001b[1;33m)\u001b[0m\u001b[1;33m\u001b[0m\u001b[1;33m\u001b[0m\u001b[0m\n\u001b[0;32m      3\u001b[0m \u001b[0msoup\u001b[0m\u001b[1;33m\u001b[0m\u001b[1;33m\u001b[0m\u001b[0m\n",
      "\u001b[1;31mAttributeError\u001b[0m: 'Response' object has no attribute 'get'"
     ]
    }
   ],
   "source": [
    "req = req.get('https://habr.com/ru/all/')\n",
    "soup = BeautifulSoup(req.text, 'html.parser')\n",
    "soup"
   ]
  },
  {
   "cell_type": "code",
   "execution_count": 95,
   "metadata": {},
   "outputs": [
    {
     "data": {
      "text/plain": [
       "[<div class=\"post__text post__text-html post__text_v1\">\n",
       "       Устали от постоянных звонков через Zoom и соскучились по живому общению? Как известно, современные проблемы требуют современных решений. Американский стартап PORTL Hologram предлагает сделать дистанционные встречи более живыми благодаря домашнему голографическому устройству. Компания создала машину, размером с телефонную будку, которая способна передавать голограмму в реальном времени прямо в вашу гостиную. Хотя стартап нацелен на массовое продвижение технологии, в настоящее время расширение их клиентской базы явно ограничивает стоимость в 60 000 долларов.<br/>\n",
       " <br/>\n",
       " <img alt=\"image\" src=\"https://i.gifer.com/2rP.gif\"/><br/>\n",
       " </div>,\n",
       " <div class=\"post__text post__text-html post__text_v1\">\n",
       "       В ряде статей, опубликованных на этом сайте, есть описание того, что на рынок вышла новая Open Source платформа AI «речь в текст» VOSK-API. Ее инсталляция и один из способов применения расписан достаточно подробно в ее <a href=\"https://alphacephei.com/vosk/install\" rel=\"nofollow\">документации</a>. Привожу ссылку на Гитхаб <a href=\"https://github.com/alphacep/vosk-api\" rel=\"nofollow\">VOSK-API</a>, рекомендую пробовать октябрьскую версию 2020 года.<br/>\n",
       " <br/>\n",
       " <img height=\"150\" src=\"https://habrastorage.org/webt/i9/ar/u2/i9aru2xsokqlfl3klbccjvhsooq.jpeg\" width=\"300\"/><br/>\n",
       " <br/>\n",
       " Ознакомившись с комментариями и критикой в <a href=\"https://habr.com/ru/post/470696/\">статье</a> мне захотелось рассказать о моем полугодовом опыте работы с данной системой, привести четыре примера решенных на ней задач.<br/>\n",
       " </div>,\n",
       " <div class=\"post__text post__text-html post__text_v1\">\n",
       " <p>Если верить стереотипам, то язык R – это что-то узкоспециализированное для статистики и машинного обучения. Второй стереотип – что код на чистом R не очень быстрый: во-первых, потому что интерпретируемый, во-вторых, потому что исполняется последовательно. Безусловно, стереотипы имеют какую-то связь с реальностью, иначе бы их не существовало, но на то они и стереотипы, что дают экстремально упрощённую картину мира, в которой теряется много деталей. В частности, сегодня я хочу поделиться удивительно простым способом, как добавить параллельность в R и кратно ускорить выполнение уже имеющегося кода без необходимости внесения в него каких-либо серьёзных изменений. Всё это делается буквально за пару минут.</p>\n",
       " </div>,\n",
       " <div class=\"post__text post__text-html post__text_v1\">\n",
       " <blockquote>Примечание от переводчика: при словах «мобильные приложения Netflix» вспоминаются их основные приложения для просмотра видеоконтента, но компания ведёт и «киностудийную» разработку — для тех, кто этот контент создаёт. И их пост посвящён использованию Kotlin Multiplatform во втором случае.</blockquote><p>В последние годы Netflix разрабатывает сервис Prodicle для индустрии производства телесериалов и фильмов. Мир съёмок живёт на высоких скоростях, а его запросы существенно различаются в разных странах, регионах и даже проектах. Его специфика означает, что мы делаем софт с упором на запись, в распределённом окружении, причём у устройств с ним на съёмочной площадке менее чем в трети всех случаев интернет-соединение будет очень надёжным, а право на ошибку у нас ограничено. Поэтому мы, будучи маленькой инженерной командой, обнаружили, что оптимизация надёжности и скорости выпуска продукта просто необходима нам, чтобы успешно отвечать растущим запросам наших клиентов.</p><br/>\n",
       " <p>Поскольку сетевое соединение часто оказывается ненадёжным, мы обратились к мобильным решениям для персистентности на клиентской стороне и поддержки офлайна. А потребность выпускать быстро привела к экспериментам с <a href=\"https://netflixtechblog.com/making-our-android-studio-apps-reactive-with-ui-components-redux-5e37aac3b244\" rel=\"nofollow\">мультиплатформенной архитектурой</a>. И теперь мы зашли тут ещё на шаг дальше, использовав <a href=\"https://kotlinlang.org/lp/mobile/\" rel=\"nofollow\">Kotlin Multiplatform</a>, чтобы писать платформонезависимую бизнес-логику <em>один раз</em> на Kotlin и компилировать её в Kotlin-библиотеку для Android и нативный Universal Framework для iOS с помощью <a href=\"https://kotlinlang.org/docs/reference/native-overview.html\" rel=\"nofollow\">Kotlin/Native</a>.</p><br/>\n",
       " <p><img src=\"https://habrastorage.org/webt/nk/cr/np/nkcrnp51ns5dsniwyc_lpcdp5f8.png\"/></p>\n",
       " </div>,\n",
       " <div class=\"post__text post__text-html post__text_v1\">\n",
       "       Это — последний материал из серии четырёх статей (<a href=\"https://habr.com/ru/company/ruvds/blog/523946/\">часть 1</a>, <a href=\"https://habr.com/ru/company/ruvds/blog/526582/\">часть 2</a>, <a href=\"https://habr.com/ru/company/ruvds/blog/526802/\">часть 3</a>), посвящённой реализации <code>epoll</code>. Тут речь пойдёт о том, как <code>epoll</code> передаёт события из пространства ядра в пользовательское пространство, и о том, как реализованы режимы срабатывания по фронту и по уровню.<br/>\n",
       " <br/>\n",
       " <a href=\"https://habr.com/ru/company/ruvds/blog/525850/\"><img src=\"https://habrastorage.org/webt/gq/yl/ut/gqylut4qvzqlzxrdeygsby73mt8.jpeg\"/></a><br/>\n",
       " <br/>\n",
       " Эта статья написана позже остальных. Когда я начинал работу над первым материалом, самой свежей стабильной версией ядра Linux была 3.16.1. А во время написания данной статьи это уже версия 4.1. Именно на коде этой версии ядра и основана данная статья. Код, правда, изменился не особенно сильно, поэтому читатели предыдущих статей могут не беспокоиться о том, что что-то в реализации <code>epoll</code> очень сильно изменилось.<br/>\n",
       " </div>,\n",
       " <div class=\"post__text post__text-html post__text_v1\">\n",
       "       Видеоконференции занимают всё большее место в работе и личной жизни людей. Чем лучше организован процесс с точки обработки видео и приватности, тем меньше отвлекается внимание человека от самой конференции. В рамках этой задачи мы недавно разработали фильтры <a href=\"https://gsuiteupdates.googleblog.com/2020/09/blur-your-background-in-google-meet.html\" rel=\"nofollow\">размытия</a> и <a href=\"http://workspaceupdates.googleblog.com/2020/10/replace-your-background-in-google-meet.html\" rel=\"nofollow\">замены фона</a> в <a href=\"http://apps.google.com/meet\" rel=\"nofollow\">Google Meet</a>. Они задействуют машинное обучение (ML) для лучшего выделения участников независимо от их окружения. В то время как другие решения требуют установки дополнительного программного обеспечения, функции Meet основаны на передовых технологиях Web ML, построенных с помощью MediaPipe, и работают непосредственно в вашем браузере — никаких дополнительных шагов не требуется. Одной из ключевых целей при разработке этих функций было обеспечение производительности в реальном времени в браузере почти на всех современных устройствах, чего мы достигли, объединив эффективные модели ML на устройстве, рендеринг на основе <a href=\"https://en.wikipedia.org/wiki/WebGL\" rel=\"nofollow\">WebGL</a> и вывод ML на веб-стеке с помощью <a href=\"https://github.com/google/XNNPACK\" rel=\"nofollow\">XNNPACK</a> и <a href=\"https://blog.tensorflow.org/2020/07/accelerating-tensorflow-lite-xnnpack-integration.html\" rel=\"nofollow\">TFLite</a>.<br/>\n",
       " </div>,\n",
       " <div class=\"post__text post__text-html post__text_v1\">\n",
       " <i>Один из факторов успеха любого онлайн-бизнеса — использование надёжной и устойчивой инфраструктуры: иметь онлайн-бизнес — значит быть онлайн. Это справедливо как для легального бизнеса, так и для киберпреступного. Наш свежий отчёт завершает серию исследований о рынке нелегального хостинга. В <a href=\"https://www.trendmicro.com/vinfo/us/security/news/cybercrime-and-digital-threats/hacker-infrastructure-and-underground-hosting-101-where-are-cybercriminal-platforms-offered\" rel=\"nofollow\">первой части</a> мы рассказали о <a href=\"https://habr.com/ru/company/trendmicro/blog/507418/\">хакерской инфраструктуре и нелегальных интернет-услугах</a>, во <a href=\"https://www.trendmicro.com/vinfo/us/security/news/cybercrime-and-digital-threats/commodified-cybercrime-infrastructure-exploring-the-underground-services-market-for-cybercriminals\" rel=\"nofollow\">второй </a>— о том, <a href=\"https://habr.com/ru/company/trendmicro/blog/522142/\">как злоумышленники используют захваченные серверы и как обнаружить такие взломы</a>. Последняя часть посвящена <a href=\"https://www.trendmicro.com/vinfo/us/security/news/cybercrime-and-digital-threats/inside-the-bulletproof-hosting-business-cybercrime-methods-opsec\" rel=\"nofollow\">пуленепробиваемому хостингу</a> (bulletproof hosting, BPH). В этом посте — наиболее важные и интересные выводы из этого исследования. </i><br/>\n",
       " <br/>\n",
       " <img alt=\"image\" src=\"https://habrastorage.org/webt/h8/8e/bl/h88ebls59le4ir5ldvuxey9p_xo.png\"/><br/>\n",
       " </div>,\n",
       " <div class=\"post__text post__text-html post__text_v1\">\n",
       " <blockquote>Это транскрипция выступления прозвучавшего на <a href=\"https://yandex.ru/promo/events/generated/nexthop2020/index\" rel=\"nofollow\">Yandex NextHop 2020</a> — видео в конце страницы</blockquote><br/>\n",
       " <img src=\"https://habrastorage.org/webt/hz/b_/uc/hzb_uctyq7twirftyi1lbk-x1cm.png\"/><br/>\n",
       " <br/>\n",
       " Приветствую. Меня зовут Александр Зубков, я хочу рассказать про Linux Switchdev — что это такое и как мы с ним живем в Qrator Labs.<br/>\n",
       " </div>,\n",
       " <div class=\"post__text post__text-html post__text_v1\">\n",
       " <h2>Рекомендации по сравнению и выбору правильного смарт-карт ридера</h2><br/>\n",
       " <p>Данный документ содержит краткое введение в проблематику смарт-карт ридеров (их устройство, классификация, определение параметров для сравнения), предлагает набор критериев и методику для сравнения и анализа конкурирующих продуктов.</p><br/>\n",
       " <p></p><div style=\"text-align:center;\"><img alt=\"Обзор смарт-карт ридеров\" src=\"https://habrastorage.org/getpro/habr/post_images/10e/98d/0be/10e98d0beae44dd6445eee4306a42edb.jpg\" width=\"800\"/></div><br/>\n",
       " </div>,\n",
       " <div class=\"post__text post__text-html post__text_v1\">\n",
       " <img src=\"https://habrastorage.org/webt/up/k9/cv/upk9cvor1otijonyhk4-tab7ohm.jpeg\"/><br/>\n",
       " <br/>\n",
       " <br/>\n",
       " <div class=\"spoiler\" role=\"button\" tabindex=\"0\">\n",
       " <b class=\"spoiler_title\">Прочие статьи цикла</b>\n",
       " <div class=\"spoiler_text\"><a href=\"https://habr.com/ru/post/521876/\">Факторизация чисел и методы решета. Часть I</a><br/>\n",
       " <a href=\"https://habr.com/ru/post/522194/\">Факторизация чисел и методы решета. Часть II</a><br/>\n",
       " <a href=\"https://habr.com/ru/post/523282/\">Факторизация чисел и эллиптическая кривая. Часть III</a><br/>\n",
       " <a href=\"https://habr.com/ru/post/524798/\">Факторизация чисел и сумма неизвестных делителей. Часть IV</a><br/>\n",
       " Факторизация и эллиптическая кривая. Часть V<br/>\n",
       " </div>\n",
       " </div><br/>\n",
       " К тем сведениям об эллиптических кривых (ЭК), которые доступны читателям Хабра и Интернета в целом, а также из бумажных книг, предлагаю дополнительные, уточняющие важные детали, опущенные в некоторых статьях. Например, в работе <a href=\"https://habr.com/ru/post/474832/\"> приводится изображение тора</a> (рис. 4), но никаких оговорок не делается. Откуда он взялся, почему тор? Другие авторы вообще не упоминают эту фигуру. В чем здесь дело?<br/>\n",
       " <br/>\n",
       " Не могу назвать публикацию на Хабре и других сайтах, где автор говорил бы о полях многочленов, хотя обозначение <math><img alt=\"$GF(P^n$\" data-tex=\"inline\" src=\"https://habrastorage.org/getpro/habr/formulas/c6e/cc8/b92/c6ecc8b92ae19641ab1490a0d256cf4a.svg\"/></math>) таких полей некоторыми авторами и используются, но делается это неправильно. Неприводимый многочлен и примитивный элемент поля и не задаются, что не позволяет читателю построить такое поле и работать с ним, проверить вычислением приводимый результат, если числовой пример вообще приводится. От таких публикаций остается ощущение зря потраченного времени. Такие поля расширения используются в стандартах цифровой подписи и шифрования рядом государств.<br/>\n",
       " </div>,\n",
       " <div class=\"post__text post__text-html post__text_v1\">\n",
       "       Совсем скоро, 20 ноября, у нас стартует новый поток <a href=\"https://skillfactory.ru/ml-and-dl?utm_source=infopartners&amp;utm_medium=habr&amp;utm_campaign=habr_MLDL&amp;utm_term=regular&amp;utm_content=091020\" rel=\"nofollow\">«Математика и Machine Learning для Data Science»</a>, и в преддверии этого мы делимся с вами полезным переводом с подробным, иллюстрированным объяснением дерева решений, разъяснением энтропии дерева решений с формулами и простыми примерами, вводом понятия «информационный выигрыш», которое игнорируется большинством умозрительно-простых туториалов. Статья рассчитана на любящих математику новичков, которые хотят больше разобраться вработе дерева принятия решений. Для полной ясности взят совсем маленький набор данных. В конце статьи — ссылка на код на Github.<br/>\n",
       " <br/>\n",
       " <a href=\"https://habr.com/ru/company/skillfactory/blog/526970/\"><div style=\"text-align:center;\"><img src=\"https://habrastorage.org/webt/pt/ol/wx/ptolwxyb5cm-1fu82q2y0b1pxia.jpeg\"/></div></a><br/>\n",
       " </div>,\n",
       " <div class=\"post__text post__text-html post__text_v1\">\n",
       " <div style=\"text-align:center;\"><img alt=\"image\" src=\"https://habrastorage.org/webt/r5/zz/fj/r5zzfj4tvgfylxahmkysevolu9u.png\"/></div><br/>\n",
       " Хорошо <a href=\"https://ru.wikipedia.org/wiki/%D0%9C%D0%BD%D0%BE%D0%B6%D0%B5%D1%81%D1%82%D0%B2%D0%BE_%D0%9C%D0%B0%D0%BD%D0%B4%D0%B5%D0%BB%D1%8C%D0%B1%D1%80%D0%BE%D1%82%D0%B0\" rel=\"nofollow\">известно</a>, что центральная часть множества Мандельброта представляет из себя кардиоиду. Не просто похожа, а именно ей и является. Сегодня мы пытаемся понять, почему именно кардиоида и что из этого следует.<br/>\n",
       " </div>,\n",
       " <div class=\"post__text post__text-html post__text_v1\">\n",
       " <h3 id=\"vstuplenie\">Вступление</h3><br>\n",
       " <p>KolibriOS – миниатюрная операционная система, ядро и большинство программ которой написано на ассемблере. Это, конечно же, не значит, что на других языках программирования писать для KolibriOS нельзя.</p><br>\n",
       " <p>Данная статья — инструкция по настройке toolchain'а для Linux.</p>\n",
       " </br></br></div>,\n",
       " <div class=\"post__text post__text-html post__text_v1\">\n",
       " <p>Привет, Хабр! Представляю вашему вниманию перевод статьи <a href=\"https://techbeacon.com/app-dev-testing/agile-swarm-how-design-shareable-work-software-project-teams\" rel=\"nofollow\">\"The agile swarm: How to design shareable work for software project teams\"</a> автора Stephen Frein.</p><br>\n",
       " <img alt=\"Bees\" height=\"533\" src=\"https://live.staticflickr.com/7403/14021997265_809f395a0e_c.jpg\" width=\"800\"><br>\n",
       " <p><sup>Фото: <a href=\"https://www.flickr.com/photos/andrewmalone/14021997265/\" rel=\"nofollow\">Flickr</a></sup></p><br>\n",
       " <p>Успешные аджайл-команды склонны ограничивать незавершённую работу (НЗП, незавершённое производство). Предпочитают ли они Скрам, Канбан-метод, или какую-либо другую аджайл-методологию, эти команды особенно выделяют над всем остальным быструю разработку полезной функциональности.</p><br>\n",
       " <p>Они больше беспокоятся о пустой работе (подолгу незавершаемые истории), нежели о незанятых руках (есть ли свободная минута у людей, не связанная с их запланированной работой). Соответственно, они идентифицируют высоко-приоритетные истории и «роятся» вокруг них, так, чтобы вся команда, или многие из них, фокусировались на одной и той же истории до самого её завершения. Вместо того, чтобы поделить беклог на несколько отдельных частей, которую каждый член команды сможет брать в частном порядке, высокопроизводительные аджайл-команды предпочитают работать в семейном стиле — они делают всё возможное, чтобы завершить наиболее важные элементы беклога.</p><br>\n",
       " <p>Преимущества ограничения НЗП хорошо известны, включая большую сфокусированность, более быстрое выполнение, низкое время цикла и меньшее количество потерь. Эти преимущества делают практику «роения» широко признанной. Тем не менее, хотя многие авторы отмечают необходимость организовывать работу таким образом, чтобы она позволяла «роиться», трудно найти конкретные указания о том, как это сделать. Первый шаг — это понимание того, как организовать работу таким образом, чтобы она была разделяемой между членами команды. К счастью, есть целый ряд конкретных подходов, которые вы можете использовать, чтобы сделать работу более разделяемой.</p>\n",
       " </br></br></br></br></img></br></div>,\n",
       " <div class=\"post__text post__text-html post__text_v1\">\n",
       "       В этом году на форуме по управлению данными INFADAY 2020 было много интересных технических кейсов. Один из них – настройка сбора потоковых данных с датчиков IoT и систем SCADA таким образом, чтобы эти данные сразу можно было включить в процессы стратегического управления данными в организации – Data Governance. <br/>\n",
       " <br/>\n",
       " Другими словами, эксперт показал, как собрать данные с датчиков так, чтобы эти данные можно было использовать для отчётности, автоматически применять к ним критерии качества, и прочее. При этом воплотить в продуктивной среде процессы управления данными эксперт предложил с помощью решений платформы Informatica, а сбор данных с многочисленных устройств на периферии — с помощью платформы Tibbo AggreGate.<br/>\n",
       " <br/>\n",
       " Если вы работаете в крупной промышленной компании, скорее всего вы уже сталкивались с похожими задачами. А если не сталкивались, очень скоро столкнётесь. Особенно актуально это для нефтегазовых компаний. В таких компаниях широко применяют датчики SCADA для мониторинга инфраструктуры добычи и транспортировки нефтепродуктов. При этом управлять собранными потоковыми данными (повышать их качество, проводить их интеграцию, перемещать их в различные системы) нужно очень быстро. На показания датчиков важно реагировать незамедлительно, в реальном времени. Если вовремя среагировать на уведомление об инциденте, можно избежать очень больших проблем. <br/>\n",
       " <br/>\n",
       " Ниже я расскажу, как можно настроить сбор данных с датчиков с учётом Data Governance на примере Tibbo Aggregate Network Manager и платформы Informatica. Если хотите посмотреть видеозапись демонстрации на форуме INFADAY 2020, это можно сделать на сайте мероприятия.<br/>\n",
       " </div>,\n",
       " <div class=\"post__text post__text-html post__text_v1\">\n",
       " <p><img src=\"https://habrastorage.org/webt/i0/6l/bv/i06lbvme5m8wxwp9-0tqbtp21ne.jpeg\"/></p><br/>\n",
       " <p>Быстрое питание, быстрые встречи, быстрые результаты, быстрый интернет… В 21 веке мы хотим, чтобы все было быстро и просто. И еще одно: нам нужна быстрая коммуникация. Лучшее решение это текстовые сообщения. Пользователи iOS используют iMessages, но как насчет пользователей Android? Ответ прост. RCS сообщения!</p>\n",
       " </div>,\n",
       " <div class=\"post__text post__text-html post__text_v1\">\n",
       "       Исследователи из Техасского университета в Сан-Антонио предложили необычный способ кейлоггинга через анализ движений головы и плеч на видеозаписи (<a href=\"https://threatpost.com/zoom-snooping-passwords/161000/\" rel=\"nofollow\">новость</a>, <a href=\"https://arxiv.org/pdf/2010.12078.pdf\" rel=\"nofollow\">исследование</a> в PDF). С довольно широкими допущениями сценарий выглядит так: подключаемся к видеоконференции, записываем жертву на видео. Если она во время звонка набирает текст на клавиатуре, мы можем ассоциировать движения в кадре как минимум с нажатием на определенные клавиши. Дальнейшее уточнение с использованием словарей позволило на практике угадывать текст в 75% случаев.<br/>\n",
       " <br/>\n",
       " <div style=\"text-align:center;\"><img src=\"https://habrastorage.org/webt/sh/jt/zg/shjtzg4vic79jjjpae-9nozfqai.png\"/></div><br/>\n",
       " Как и многие другие научные работы, исследование малоприменимо на практике, так же как, скажем, <a href=\"https://www.kaspersky.ru/blog/black-hat-lamphone/28906/\" rel=\"nofollow\">подслушивание через лампочку</a> или <a href=\"https://habr.com/ru/company/kaspersky/blog/475388/\">разговор</a> с умной колонкой с помощью лазера.<br/>\n",
       " <br/>\n",
       " По словам криптографа Брюса Шнайера (Bruce Schneier), в данном случае впечатляет сам факт, что исследователи смогли хоть что-то определить. И еще: как правило, подобные алгоритмы работают тем лучше, чем больше имеется материала для анализа. Пандемия и массовая удаленка создали ситуацию, когда на каждого из нас теоретически можно собрать архив из сотен часов видео.<br/>\n",
       " </div>,\n",
       " <div class=\"post__text post__text-html post__text_v1\">\n",
       " <i>Наша группа по оптимизации производительности нашла маленькое изменение, которое оказало большое влияние на скорость сборки по всем конвейерам. Мы обнаружили, что установка параметра <code>refspec</code> во время <code>git fetch</code> ускоряет шаг клонирования в 100 раз.</i> <br/>\n",
       " <br/>\n",
       " Группа Engineering Productivity отвечает за поддержку инженеров, которые создают и развёртывают программное обеспечение в Pinterest. Наша команда поддерживает ряд инфраструктурных сервисов и часто работает над крупными проектами — перенос всего программного обеспечения на <a href=\"https://medium.com/pinterest-engineering/developing-fast-reliable-ios-builds-at-pinterest-part-one-cb1810407b92\" rel=\"nofollow\">Bazel</a>, создание платформы непрерывной доставки под названием <a href=\"https://www.youtube.com/watch?v=KkKSoQBp2oQ\" rel=\"nofollow\">Hermez</a>. Они же поддерживают <a href=\"https://medium.com/pinterest-engineering/building-a-python-monorepo-for-fast-reliable-development-be763781f67\" rel=\"nofollow\">монорепозитории</a>, куда ежедневно присылают по несколько сотен коммитов, и это ещё не все их задачи.<br/>\n",
       " </div>]"
      ]
     },
     "execution_count": 95,
     "metadata": {},
     "output_type": "execute_result"
    }
   ],
   "source": [
    "# мы собрались выковыривать посты в которых есть что-то про питон\n",
    "# потыкав вывод soup, обнаруживаем, что текст превью размечен <div class=\"post__text post__text-html post__text_v1\">\n",
    "# посмотрим, так ли это\n",
    "posts_text = soup.find_all(class_='post__text post__text-html post__text_v1')\n",
    "posts_text"
   ]
  },
  {
   "cell_type": "code",
   "execution_count": 96,
   "metadata": {},
   "outputs": [
    {
     "data": {
      "text/plain": [
       "<div class=\"post__text post__text-html post__text_v1\">\n",
       "      В ряде статей, опубликованных на этом сайте, есть описание того, что на рынок вышла новая Open Source платформа AI «речь в текст» VOSK-API. Ее инсталляция и один из способов применения расписан достаточно подробно в ее <a href=\"https://alphacephei.com/vosk/install\" rel=\"nofollow\">документации</a>. Привожу ссылку на Гитхаб <a href=\"https://github.com/alphacep/vosk-api\" rel=\"nofollow\">VOSK-API</a>, рекомендую пробовать октябрьскую версию 2020 года.<br/>\n",
       "<br/>\n",
       "<img height=\"150\" src=\"https://habrastorage.org/webt/i9/ar/u2/i9aru2xsokqlfl3klbccjvhsooq.jpeg\" width=\"300\"/><br/>\n",
       "<br/>\n",
       "Ознакомившись с комментариями и критикой в <a href=\"https://habr.com/ru/post/470696/\">статье</a> мне захотелось рассказать о моем полугодовом опыте работы с данной системой, привести четыре примера решенных на ней задач.<br/>\n",
       "</div>"
      ]
     },
     "execution_count": 96,
     "metadata": {},
     "output_type": "execute_result"
    }
   ],
   "source": [
    "# ага, значит посты у нас вот в таком виде \n",
    "posts_text[1]  "
   ]
  },
  {
   "cell_type": "code",
   "execution_count": 97,
   "metadata": {},
   "outputs": [],
   "source": [
    "# однако тут мы обломаемся, потому что нам  нужно вытащить еще и ссылку на пост и его заголовок,\n",
    "# а мы вытащили только нутро, попробуем еще разок\n",
    "# инспекция показала, что весь этот блок лежит в <article class=\"post post_preview\" lang=\"ru\">"
   ]
  },
  {
   "cell_type": "code",
   "execution_count": 98,
   "metadata": {},
   "outputs": [
    {
     "name": "stdout",
     "output_type": "stream",
     "text": [
      "<article class=\"post post_preview\" lang=\"ru\">\n",
      "<header class=\"post__meta\">\n",
      "<a class=\"post__user-info user-info\" href=\"https://habr.com/ru/users/fit-m/\" title=\"Автор публикации\">\n",
      "<img class=\"user-info__image-pic user-info__image-pic_small\" height=\"24\" src=\"//habrastorage.org/getpro/habr/avatars/c1f/8bd/a84/c1f8bda849fb4f613a7604feea4fc45f.png\" width=\"24\"/>\n",
      "<span class=\"user-info__nickname user-info__nickname_small\">fit-m</span>\n",
      "</a>\n",
      "<span class=\"post__time\">сегодня в 19:03</span>\n",
      "</header>\n",
      "<h2 class=\"post__title\">\n",
      "<a class=\"post__title_link\" href=\"https://habr.com/ru/post/527180/\">Этот “портал” позволяет вам помещать свою голограмму в видеовызовы</a>\n",
      "</h2>\n",
      "<ul class=\"post__hubs inline-list\">\n",
      "<li class=\"inline-list__item inline-list__item_hub\">\n",
      "<a class=\"inline-list__item-link hub-link\" href=\"https://habr.com/ru/hub/startuprise/\" onclick=\"if (typeof ga === 'function') { ga('send', 'event', 'hub', 'feed page', 'Развитие стартапа'); }\" rel=\"nofollow\" title=\"Вы не подписаны на этот хаб\">Развитие стартапа</a>, \n",
      "        </li>\n",
      "<li class=\"inline-list__item inline-list__item_hub\">\n",
      "<a class=\"inline-list__item-link hub-link\" href=\"https://habr.com/ru/hub/cyberpunk/\" onclick=\"if (typeof ga === 'function') { ga('send', 'event', 'hub', 'feed page', 'Киберпанк'); }\" rel=\"nofollow\" title=\"Вы не подписаны на этот хаб\">Киберпанк</a>, \n",
      "        </li>\n",
      "<li class=\"inline-list__item inline-list__item_hub\">\n",
      "<a class=\"inline-list__item-link hub-link\" href=\"https://habr.com/ru/hub/arvr/\" onclick=\"if (typeof ga === 'function') { ga('send', 'event', 'hub', 'feed page', 'AR и VR'); }\" rel=\"nofollow\" title=\"Вы не подписаны на этот хаб\">AR и VR</a>, \n",
      "        </li>\n",
      "<li class=\"inline-list__item inline-list__item_hub\">\n",
      "<a class=\"inline-list__item-link hub-link\" href=\"https://habr.com/ru/hub/futurenow/\" onclick=\"if (typeof ga === 'function') { ga('send', 'event', 'hub', 'feed page', 'Будущее здесь'); }\" rel=\"nofollow\" title=\"Вы не подписаны на этот хаб\">Будущее здесь</a>, \n",
      "        </li>\n",
      "<li class=\"inline-list__item inline-list__item_hub\">\n",
      "<a class=\"inline-list__item-link hub-link\" href=\"https://habr.com/ru/hub/engineering_systems/\" onclick=\"if (typeof ga === 'function') { ga('send', 'event', 'hub', 'feed page', 'Инженерные системы'); }\" rel=\"nofollow\" title=\"Вы не подписаны на этот хаб\">Инженерные системы</a>\n",
      "</li>\n",
      "</ul>\n",
      "<ul class=\"post__marks inline-list\"></ul>\n",
      "<div class=\"post__body post__body_crop\">\n",
      "<div class=\"post__text post__text-html post__text_v1\">\n",
      "      Устали от постоянных звонков через Zoom и соскучились по живому общению? Как известно, современные проблемы требуют современных решений. Американский стартап PORTL Hologram предлагает сделать дистанционные встречи более живыми благодаря домашнему голографическому устройству. Компания создала машину, размером с телефонную будку, которая способна передавать голограмму в реальном времени прямо в вашу гостиную. Хотя стартап нацелен на массовое продвижение технологии, в настоящее время расширение их клиентской базы явно ограничивает стоимость в 60 000 долларов.<br/>\n",
      "<br/>\n",
      "<img alt=\"image\" src=\"https://i.gifer.com/2rP.gif\"/><br/>\n",
      "</div>\n",
      "<a class=\"btn btn_x-large btn_outline_blue post__habracut-btn\" href=\"https://habr.com/ru/post/527180/#habracut\">Читать дальше →</a>\n",
      "</div>\n",
      "<footer class=\"post__footer\">\n",
      "<ul class=\"post-stats js-user_\" data-post-type=\"publish_ugc_ru,h_20722,h_21900,h_21940,h_22014,h_22113\" id=\"infopanel_post_527180\">\n",
      "<li class=\"post-stats__item\">\n",
      "<div class=\"post-stats__result\">\n",
      "<span class=\"post-stats__result-icon\">\n",
      "<svg class=\"icon-svg_votes\" height=\"16\" width=\"10\"><use xlink:href=\"https://habr.com/5fa15687/images/common-svg-sprite.svg#counter-rating\"></use></svg>\n",
      "</span>\n",
      "<span class=\"post-stats__result-counter voting-wjt__counter_positive\" title=\"Всего голосов 7: ↑6 и ↓1\">+5</span>\n",
      "</div>\n",
      "</li>\n",
      "<li class=\"post-stats__item post-stats__item_bookmark\">\n",
      "<button class=\"btn bookmark-btn bookmark-btn_post\" data-action=\"add\" data-id=\"527180\" data-post-type=\"publish_ugc_ru,h_20722,h_21900,h_21940,h_22014,h_22113\" data-type=\"2\" disabled=\"\" onclick=\"posts_add_to_favorite(this);\" title=\"Только зарегистрированные пользователи могут добавлять публикации в закладки\" type=\"button\">\n",
      "<span class=\"btn_inner\"><svg class=\"icon-svg_bookmark\" height=\"16\" width=\"10\"><use xlink:href=\"https://habr.com/5fa15687/images/common-svg-sprite.svg#book\"></use></svg><span class=\"bookmark__counter js-favs_count\" title=\"Количество пользователей, добавивших публикацию в закладки\">1</span></span>\n",
      "</button>\n",
      "</li>\n",
      "<li class=\"post-stats__item post-stats__item_views\">\n",
      "<div class=\"post-stats__views\" title=\"Количество просмотров\">\n",
      "<svg class=\"icon-svg_views-count\" height=\"12\" width=\"21\"><use xlink:href=\"https://habr.com/5fa15687/images/common-svg-sprite.svg#eye\"></use></svg><span class=\"post-stats__views-count\">865</span>\n",
      "</div>\n",
      "</li>\n",
      "<li class=\"post-stats__item post-stats__item_comments\">\n",
      "<a class=\"post-stats__comments-link\" href=\"https://habr.com/ru/post/527180/#comments\" rel=\"nofollow\">\n",
      "<svg class=\"icon-svg_post-comments\" height=\"16\" width=\"16\"><use xlink:href=\"https://habr.com/5fa15687/images/common-svg-sprite.svg#comment\"></use></svg><span class=\"post-stats__comments-count\" title=\"Читать комментарии\">2</span>\n",
      "</a>\n",
      "</li>\n",
      "</ul>\n",
      "</footer>\n",
      "</article>\n"
     ]
    }
   ],
   "source": [
    "post_preview = soup.find_all(class_='post post_preview')\n",
    "print(post_preview[0])"
   ]
  },
  {
   "cell_type": "code",
   "execution_count": 99,
   "metadata": {},
   "outputs": [
    {
     "data": {
      "text/plain": [
       "<a class=\"post__title_link\" href=\"https://habr.com/ru/post/527180/\">Этот “портал” позволяет вам помещать свою голограмму в видеовызовы</a>"
      ]
     },
     "execution_count": 99,
     "metadata": {},
     "output_type": "execute_result"
    }
   ],
   "source": [
    "link_preview = post_preview[0].find_all(class_='post__title_link')\n",
    "link_preview[0]"
   ]
  },
  {
   "cell_type": "code",
   "execution_count": 100,
   "metadata": {},
   "outputs": [
    {
     "name": "stdout",
     "output_type": "stream",
     "text": [
      "https://habr.com/ru/post/527180/\n"
     ]
    }
   ],
   "source": [
    "print(link_preview[0].get('href'))"
   ]
  },
  {
   "cell_type": "code",
   "execution_count": 101,
   "metadata": {},
   "outputs": [
    {
     "data": {
      "text/plain": [
       "'Этот “портал” позволяет вам помещать свою голограмму в видеовызовы'"
      ]
     },
     "execution_count": 101,
     "metadata": {},
     "output_type": "execute_result"
    }
   ],
   "source": [
    "link_preview[0].get_text()"
   ]
  },
  {
   "cell_type": "code",
   "execution_count": 102,
   "metadata": {},
   "outputs": [
    {
     "data": {
      "text/plain": [
       "'\\n      Устали от постоянных звонков через Zoom и соскучились по живому общению? Как известно, современные проблемы требуют современных решений. Американский стартап PORTL Hologram предлагает сделать дистанционные встречи более живыми благодаря домашнему голографическому устройству. Компания создала машину, размером с телефонную будку, которая способна передавать голограмму в реальном времени прямо в вашу гостиную. Хотя стартап нацелен на массовое продвижение технологии, в настоящее время расширение их клиентской базы явно ограничивает стоимость в 60 000 долларов.\\n\\n\\n'"
      ]
     },
     "execution_count": 102,
     "metadata": {},
     "output_type": "execute_result"
    }
   ],
   "source": [
    "string = posts_text[0].get_text()\n",
    "string"
   ]
  },
  {
   "cell_type": "code",
   "execution_count": 103,
   "metadata": {},
   "outputs": [],
   "source": [
    "# отлично, вытащили и линк и заголовок и текст, в котором будем искать"
   ]
  },
  {
   "cell_type": "code",
   "execution_count": 104,
   "metadata": {},
   "outputs": [
    {
     "data": {
      "text/plain": [
       "-1"
      ]
     },
     "execution_count": 104,
     "metadata": {},
     "output_type": "execute_result"
    }
   ],
   "source": [
    "string.find(KEYWORDS[0])"
   ]
  },
  {
   "cell_type": "code",
   "execution_count": 105,
   "metadata": {},
   "outputs": [
    {
     "data": {
      "text/plain": [
       "'сегодня в 19:03'"
      ]
     },
     "execution_count": 105,
     "metadata": {},
     "output_type": "execute_result"
    }
   ],
   "source": [
    "time_preview = post_preview[0].find_all(class_='post__time')\n",
    "time_preview[0].get_text()"
   ]
  },
  {
   "cell_type": "markdown",
   "metadata": {},
   "source": [
    "### так, ладно, поиграли и соберем все в кучу"
   ]
  },
  {
   "cell_type": "code",
   "execution_count": 76,
   "metadata": {},
   "outputs": [],
   "source": [
    "parsing_dict_list = []\n",
    "post_preview = soup.find_all(class_='post post_preview')\n",
    "for post in post_preview:\n",
    "    link_preview = post.find_all(class_='post__title_link')\n",
    "    time_preview = post.find_all(class_='post__time')\n",
    "    url = link_preview[0].get('href')\n",
    "    time = time_preview[0].get_text()\n",
    "    header = link_preview[0].get_text()\n",
    "    news = post.get_text()\n",
    "    if string.find(KEYWORDS[0]) >0:\n",
    "        record = {'Date':time, 'URL':url, 'Header':header}\n",
    "        parsing_dict_list.append(record)\n",
    "        "
   ]
  },
  {
   "cell_type": "code",
   "execution_count": 77,
   "metadata": {},
   "outputs": [
    {
     "data": {
      "text/plain": [
       "[]"
      ]
     },
     "execution_count": 77,
     "metadata": {},
     "output_type": "execute_result"
    }
   ],
   "source": [
    "parsing_dict_list"
   ]
  },
  {
   "cell_type": "markdown",
   "metadata": {},
   "source": [
    "Далее мы, ожидаемо, получили шыш, так как на этой странице никаких питоньих новостей нет.  \n",
    "Что бы не облажатся, надо просмотреть несколько страниц, причем, остановится желательно по какому-то критерию, например, логично захотеть вытащить все новости за сегодня и как только мы допарсим до \"вчера\" то прекращаем итерации"
   ]
  },
  {
   "cell_type": "markdown",
   "metadata": {},
   "source": [
    "Делее я попытался прикрутить страницы, примерно таким грубым образом, просто через подстановку в строку номера"
   ]
  },
  {
   "cell_type": "code",
   "execution_count": 107,
   "metadata": {},
   "outputs": [
    {
     "data": {
      "text/plain": [
       "['https://habr.com/ru/all/page1',\n",
       " 'https://habr.com/ru/all/page2',\n",
       " 'https://habr.com/ru/all/page3',\n",
       " 'https://habr.com/ru/all/page4',\n",
       " 'https://habr.com/ru/all/page5',\n",
       " 'https://habr.com/ru/all/page6',\n",
       " 'https://habr.com/ru/all/page7',\n",
       " 'https://habr.com/ru/all/page8',\n",
       " 'https://habr.com/ru/all/page9']"
      ]
     },
     "execution_count": 107,
     "metadata": {},
     "output_type": "execute_result"
    }
   ],
   "source": [
    "url_list = []\n",
    "for i in range(1, 10):\n",
    "    url = 'https://habr.com/ru/all/page{0}'\n",
    "    url_list.append(url.format(i))\n",
    "url_list"
   ]
  },
  {
   "cell_type": "markdown",
   "metadata": {},
   "source": [
    "Далее случилось что-то, что мне не очень понятно. При попытке запустить это дело в цикле он выдает 'Response' object has no attribute 'get', причем это лечится перезагрузкой всего документа, начиная с импорта панды"
   ]
  },
  {
   "cell_type": "code",
   "execution_count": 110,
   "metadata": {},
   "outputs": [
    {
     "ename": "AttributeError",
     "evalue": "'Response' object has no attribute 'get'",
     "output_type": "error",
     "traceback": [
      "\u001b[1;31m---------------------------------------------------------------------------\u001b[0m",
      "\u001b[1;31mAttributeError\u001b[0m                            Traceback (most recent call last)",
      "\u001b[1;32m<ipython-input-110-155805cfbac1>\u001b[0m in \u001b[0;36m<module>\u001b[1;34m\u001b[0m\n\u001b[1;32m----> 1\u001b[1;33m \u001b[0mreq\u001b[0m \u001b[1;33m=\u001b[0m \u001b[0mreq\u001b[0m\u001b[1;33m.\u001b[0m\u001b[0mget\u001b[0m\u001b[1;33m(\u001b[0m\u001b[0murl\u001b[0m\u001b[1;33m[\u001b[0m\u001b[1;36m0\u001b[0m\u001b[1;33m]\u001b[0m\u001b[1;33m)\u001b[0m\u001b[1;33m\u001b[0m\u001b[1;33m\u001b[0m\u001b[0m\n\u001b[0m\u001b[0;32m      2\u001b[0m \u001b[0msoup\u001b[0m \u001b[1;33m=\u001b[0m \u001b[0mBeautifulSoup\u001b[0m\u001b[1;33m(\u001b[0m\u001b[0mreq\u001b[0m\u001b[1;33m.\u001b[0m\u001b[0mtext\u001b[0m\u001b[1;33m,\u001b[0m \u001b[1;34m'html.parser'\u001b[0m\u001b[1;33m)\u001b[0m\u001b[1;33m\u001b[0m\u001b[1;33m\u001b[0m\u001b[0m\n\u001b[0;32m      3\u001b[0m \u001b[0msoup\u001b[0m\u001b[1;33m\u001b[0m\u001b[1;33m\u001b[0m\u001b[0m\n",
      "\u001b[1;31mAttributeError\u001b[0m: 'Response' object has no attribute 'get'"
     ]
    }
   ],
   "source": [
    "req = req.get(url[0])\n",
    "soup = BeautifulSoup(req.text, 'html.parser')\n",
    "soup"
   ]
  },
  {
   "cell_type": "code",
   "execution_count": 112,
   "metadata": {},
   "outputs": [
    {
     "data": {
      "text/plain": [
       "9"
      ]
     },
     "execution_count": 112,
     "metadata": {},
     "output_type": "execute_result"
    }
   ],
   "source": [
    "# вот код, который я наваял чисто ради теста - посмотреть сколько страниц он заберет (просто вытащив с каждой html)\n",
    "soup_list = []\n",
    "for page in url_list:\n",
    "    from bs4 import BeautifulSoup\n",
    "    import requests as req\n",
    "    import pandas as pd \n",
    "    req = req.get(page)\n",
    "    soup = BeautifulSoup(req.text, 'html.parser')\n",
    "    soup_list.append(list(soup)[0])\n",
    "len(soup_list)"
   ]
  },
  {
   "cell_type": "markdown",
   "metadata": {},
   "source": [
    "Так он заработал нормально, прошел по 9 страницам, но абсолютно точно, что итерироваться по страницам можно куда изящнее. Я это обязательно сделаю, но единственное, до чего я не могу допереть, это почему он без перезагрузки выпадает с ошибкой"
   ]
  },
  {
   "cell_type": "code",
   "execution_count": null,
   "metadata": {},
   "outputs": [],
   "source": []
  }
 ],
 "metadata": {
  "kernelspec": {
   "display_name": "Python 3",
   "language": "python",
   "name": "python3"
  },
  "language_info": {
   "codemirror_mode": {
    "name": "ipython",
    "version": 3
   },
   "file_extension": ".py",
   "mimetype": "text/x-python",
   "name": "python",
   "nbconvert_exporter": "python",
   "pygments_lexer": "ipython3",
   "version": "3.8.3"
  }
 },
 "nbformat": 4,
 "nbformat_minor": 4
}

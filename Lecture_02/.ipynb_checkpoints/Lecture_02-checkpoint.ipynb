{
 "cells": [
  {
   "cell_type": "markdown",
   "metadata": {},
   "source": [
    "# Задание 1"
   ]
  },
  {
   "cell_type": "code",
   "execution_count": 1,
   "metadata": {},
   "outputs": [
    {
     "name": "stdout",
     "output_type": "stream",
     "text": [
      "введите первую фразу\n",
      "фраза1\n",
      "введите вторую строку\n",
      "фраза2\n",
      "Фразы равной длины\n"
     ]
    }
   ],
   "source": [
    "print('введите первую фразу')\n",
    "phrase_1 = input()\n",
    "print('введите вторую строку')\n",
    "phrase_2 = input()\n",
    "if len(phrase_1) > len(phrase_2):\n",
    "   print('Фраза 1 длиннее фразы 2')\n",
    "elif len(phrase_1) == len(phrase_2):\n",
    "    print('Фразы равной длины')\n",
    "else:\n",
    "    print('Фраза 2 длиннее фразы 1')"
   ]
  },
  {
   "cell_type": "markdown",
   "metadata": {},
   "source": [
    "# Задание 2"
   ]
  },
  {
   "cell_type": "code",
   "execution_count": null,
   "metadata": {},
   "outputs": [],
   "source": [
    "# существует много календарей и, соответственно, много систем подсчета високосных дней\n",
    "# тут представлены юлианский, григорианский и еврейский\n",
    "# хотел сделать еще исламский, но там настолько невменяемые алгоритмы подсчета (да и, строго говоря,\n",
    "# там, скорее високосные месяцы, а не годы), что проще его просто табличкой захардкодить\n",
    "\n",
    "\n",
    "def JulLeapYear(year): #юлианский\n",
    "    if year % 4 == 0:\n",
    "        return True\n",
    "    else:\n",
    "        return False\n",
    "\n",
    "def GregLeapYear(year): #григорианский\n",
    "    if year % 4 == 0 and year % 100 != 0 or year % 400 == 0:\n",
    "        return True\n",
    "    else:\n",
    "        return False\n",
    "\n",
    "def HebrLeapYear(year): #еврейский\n",
    "    if ((((year*7)+1) % 19) < 7):\n",
    "        return True\n",
    "    else:\n",
    "        return False\n",
    "\n",
    "# поехали считать\n",
    "print('Введите год')\n",
    "year = int(input())  #по-хорошему надо проверить, год ли вообще ввел юзер, но мне лениво\n",
    "print('Введите цифрой вид календаря, по которому вы желаете определить високосность года: 1 - Юлианский, 2 - Григорианский, 3 - Еврейский')\n",
    "Cal_type = int(input())\n",
    "Cal_var = [1,2,3] #зато проверим, корректно ли он обозначил календарь\n",
    "if Cal_type in Cal_var:\n",
    "   if Cal_type == 1:\n",
    "       print(JulLeapYear(year))\n",
    "   elif Cal_type == 2:\n",
    "       print(GregLeapYear(year))\n",
    "   elif Cal_type == 3:\n",
    "       print(HebrLeapYear(year))\n",
    "else: \n",
    "    print('Вы некорректно ввели тип календаря, попробуйте перезапустить скрипт')"
   ]
  },
  {
   "cell_type": "markdown",
   "metadata": {},
   "source": [
    "# Задание 3"
   ]
  },
  {
   "cell_type": "code",
   "execution_count": null,
   "metadata": {},
   "outputs": [],
   "source": [
    "# сразу хочу предупредить, что зодиаков существует много, как минимум, астрономический и астрологический\n",
    "# при этом астрологических тоже дофига, как минимум, корректный астрономически, т.е учитывающий прецессию звезд\n",
    "# и традиционный, ничего не учитывающий и вообще не имеющий отношения к современной звездной карте. Для простоты примем\n",
    "# что мы имеем дело с классическим эллинским зодиаком\n",
    "\n",
    "# преобразование месяца в число\n",
    "def month_convert(month):\n",
    "    months = ['январь', 'февраль', 'март', 'апрель', 'май', 'июнь', 'июль', 'август', 'сентябрь', 'октябрь', 'ноябрь', 'декабрь']\n",
    "    try:\n",
    "        return months.index(month) + 1\n",
    "    except:\n",
    "        raise ValueError('некорректно ведено название месяца / это не месяц')   \n",
    "  \n",
    "print('Введите день вашего рождения')\n",
    "date = int(input())  #по-хорошему надо  опять таки все проверять\n",
    "print('Введите месяц вашего рождения')\n",
    "String_month = input()\n",
    "Month = month_convert(String_month)\n",
    "if (date >= 21 and date <= 31 and Month == 3) or( Month == 4 and date >= 1 and date <= 19):\n",
    "   print(\"Знак зодиака:Овен\")\n",
    "elif (date >= 20 and date <= 30 and Month == 4) or( Month == 5 and date >= 1 and date <= 20):\n",
    "   print(\"Знак зодиака:Телец\")\n",
    "elif (date >= 21 and date <= 31 and Month == 5) or( Month == 6 and date >= 1 and date <= 21):\n",
    "   print(\"Знак зодиака:Близнецы\")\n",
    "elif (date >= 22 and date <= 30 and Month == 6) or( Month == 7 and date >= 1 and date <= 22):\n",
    "   print(\"Знак зодиака:Рак\")\n",
    "elif (date >= 23 and date <= 31 and Month == 7) or( Month == 8 and date >= 1 and date <= 22):\n",
    "   print(\"Знак зодиака:Лев\")\n",
    "elif (date >= 23 and date <= 31 and Month == 8) or( Month == 9 and date >= 1 and date <= 22):\n",
    "   print(\"Знак зодиака:Дева\")\n",
    "elif (date >= 23 and date <= 30 and Month == 9) or( Month == 10 and date >= 1 and date <= 23):\n",
    "   print(\"Знак зодиака:Весы\")\n",
    "elif (date >= 24 and date <= 31 and Month == 10) or( Month == 11 and date >= 1 and date <= 22):\n",
    "   print(\"Знак зодиака:Скорпион\")\n",
    "elif (date >= 23 and date <= 30 and Month == 11) or( Month == 12 and date >= 1 and date <= 21):\n",
    "   print(\"Знак зодиака:Стрелец\")\n",
    "elif (date >= 22 and date <= 31 and Month == 12) or( Month == 1 and date >= 1 and date <= 20):\n",
    "   print(\"Знак зодиака:Козерог\")\n",
    "elif (date >= 21 and date <= 31 and Month == 1) or( Month == 2 and date >= 1 and date <= 18):\n",
    "   print(\"Знак зодиака:Водолей\")\n",
    "elif (date >= 19 and date <= 29 and Month == 2) or( Month == 3 and date >= 1 and date <= 20):\n",
    "   print(\"Знак зодиака:Рыбы\")"
   ]
  },
  {
   "cell_type": "markdown",
   "metadata": {},
   "source": [
    "# Задание 4"
   ]
  },
  {
   "cell_type": "code",
   "execution_count": null,
   "metadata": {},
   "outputs": [],
   "source": []
  },
  {
   "cell_type": "markdown",
   "metadata": {},
   "source": [
    "# Задание 5"
   ]
  },
  {
   "cell_type": "code",
   "execution_count": null,
   "metadata": {},
   "outputs": [],
   "source": []
  },
  {
   "cell_type": "markdown",
   "metadata": {},
   "source": [
    "# Задание 6"
   ]
  },
  {
   "cell_type": "code",
   "execution_count": null,
   "metadata": {},
   "outputs": [],
   "source": []
  }
 ],
 "metadata": {
  "kernelspec": {
   "display_name": "Python 3",
   "language": "python",
   "name": "python3"
  },
  "language_info": {
   "codemirror_mode": {
    "name": "ipython",
    "version": 3
   },
   "file_extension": ".py",
   "mimetype": "text/x-python",
   "name": "python",
   "nbconvert_exporter": "python",
   "pygments_lexer": "ipython3",
   "version": "3.8.3"
  }
 },
 "nbformat": 4,
 "nbformat_minor": 4
}

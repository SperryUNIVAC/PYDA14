{
 "cells": [
  {
   "cell_type": "markdown",
   "metadata": {},
   "source": [
    "# Задание 1"
   ]
  },
  {
   "cell_type": "code",
   "execution_count": 1,
   "metadata": {},
   "outputs": [
    {
     "name": "stdout",
     "output_type": "stream",
     "text": [
      "введите первую фразу\n",
      "фраза1\n",
      "введите вторую строку\n",
      "фраза2\n",
      "Фразы равной длины\n"
     ]
    }
   ],
   "source": [
    "print('введите первую фразу')\n",
    "phrase_1 = input()\n",
    "print('введите вторую строку')\n",
    "phrase_2 = input()\n",
    "if len(phrase_1) > len(phrase_2):\n",
    "   print('Фраза 1 длиннее фразы 2')\n",
    "elif len(phrase_1) == len(phrase_2):\n",
    "    print('Фразы равной длины')\n",
    "else:\n",
    "    print('Фраза 2 длиннее фразы 1')"
   ]
  },
  {
   "cell_type": "markdown",
   "metadata": {},
   "source": [
    "# Задание 2"
   ]
  },
  {
   "cell_type": "code",
   "execution_count": null,
   "metadata": {},
   "outputs": [],
   "source": [
    "# существует много календарей и, соответственно, много систем подсчета високосных дней\n",
    "# тут представлены юлианский, григорианский и еврейский\n",
    "# хотел сделать еще исламский, но там настолько невменяемые алгоритмы подсчета (да и, строго говоря,\n",
    "# там, скорее високосные месяцы, а не годы), что проще его просто табличкой захардкодить\n",
    "\n",
    "\n",
    "def JulLeapYear(year): #юлианский\n",
    "    if year % 4 == 0:\n",
    "        return True\n",
    "    else:\n",
    "        return False\n",
    "\n",
    "def GregLeapYear(year): #григорианский\n",
    "    if year % 4 == 0 and year % 100 != 0 or year % 400 == 0:\n",
    "        return True\n",
    "    else:\n",
    "        return False\n",
    "\n",
    "def HebrLeapYear(year): #еврейский\n",
    "    if ((((year*7)+1) % 19) < 7):\n",
    "        return True\n",
    "    else:\n",
    "        return False\n",
    "\n",
    "# поехали считать\n",
    "print('Введите год')\n",
    "year = int(input())  #по-хорошему надо проверить, год ли вообще ввел юзер, но мне лениво\n",
    "print('Введите цифрой вид календаря, по которому вы желаете определить високосность года: 1 - Юлианский, 2 - Григорианский, 3 - Еврейский')\n",
    "Cal_type = int(input())\n",
    "Cal_var = [1,2,3] #зато проверим, корректно ли он обозначил календарь\n",
    "if Cal_type in Cal_var:\n",
    "   if Cal_type == 1:\n",
    "       print(JulLeapYear(year))\n",
    "   elif Cal_type == 2:\n",
    "       print(GregLeapYear(year))\n",
    "   elif Cal_type == 3:\n",
    "       print(HebrLeapYear(year))\n",
    "else: \n",
    "    print('Вы некорректно ввели тип календаря, попробуйте перезапустить скрипт')"
   ]
  },
  {
   "cell_type": "markdown",
   "metadata": {},
   "source": [
    "# Задание 3"
   ]
  },
  {
   "cell_type": "code",
   "execution_count": null,
   "metadata": {},
   "outputs": [],
   "source": []
  },
  {
   "cell_type": "markdown",
   "metadata": {},
   "source": [
    "# Задание 4"
   ]
  },
  {
   "cell_type": "code",
   "execution_count": null,
   "metadata": {},
   "outputs": [],
   "source": []
  },
  {
   "cell_type": "markdown",
   "metadata": {},
   "source": [
    "# Задание 5"
   ]
  },
  {
   "cell_type": "code",
   "execution_count": null,
   "metadata": {},
   "outputs": [],
   "source": []
  },
  {
   "cell_type": "markdown",
   "metadata": {},
   "source": [
    "# Задание 6"
   ]
  },
  {
   "cell_type": "code",
   "execution_count": null,
   "metadata": {},
   "outputs": [],
   "source": []
  }
 ],
 "metadata": {
  "kernelspec": {
   "display_name": "Python 3",
   "language": "python",
   "name": "python3"
  },
  "language_info": {
   "codemirror_mode": {
    "name": "ipython",
    "version": 3
   },
   "file_extension": ".py",
   "mimetype": "text/x-python",
   "name": "python",
   "nbconvert_exporter": "python",
   "pygments_lexer": "ipython3",
   "version": "3.8.3"
  }
 },
 "nbformat": 4,
 "nbformat_minor": 4
}

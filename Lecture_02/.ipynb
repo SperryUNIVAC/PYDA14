{
 "cells": [
  {
   "cell_type": "markdown",
   "metadata": {},
   "source": [
    "# Задание 1"
   ]
  },
  {
   "cell_type": "code",
   "execution_count": 2,
   "metadata": {},
   "outputs": [
    {
     "name": "stdout",
     "output_type": "stream",
     "text": [
      "введите первую фразу hghg\n",
      "введите вторую фразу fnfnf\n",
      "Фраза 2 длиннее фразы 1\n"
     ]
    }
   ],
   "source": [
    "phrase_1 = input('введите первую фразу ')\n",
    "phrase_2 = input('введите вторую фразу ')\n",
    "if len(phrase_1) > len(phrase_2):\n",
    "    print('Фраза 1 длиннее фразы 2')\n",
    "elif len(phrase_1) == len(phrase_2):\n",
    "    print('Фразы равной длины')\n",
    "else:\n",
    "    print('Фраза 2 длиннее фразы 1')"
   ]
  },
  {
   "cell_type": "markdown",
   "metadata": {},
   "source": [
    "# Задание 2"
   ]
  },
  {
   "cell_type": "code",
   "execution_count": null,
   "metadata": {},
   "outputs": [],
   "source": [
    "# существует много календарей и, соответственно, много систем подсчета високосных дней\n",
    "# тут представлены юлианский, григорианский и еврейский\n",
    "# хотел сделать еще исламский, но там настолько невменяемые алгоритмы подсчета (да и, строго говоря,\n",
    "# там, скорее високосные месяцы, а не годы), что проще его просто табличкой захардкодить\n",
    "\n",
    "\n",
    "def jul_leap_year(year):  # юлианский\n",
    "    if year % 4 == 0:\n",
    "        return True\n",
    "    else:\n",
    "        return False\n",
    "\n",
    "\n",
    "def greg_leap_year(year):  # григорианский\n",
    "    if year % 4 == 0 and year % 100 != 0 or year % 400 == 0:\n",
    "        return True\n",
    "    else:\n",
    "        return False\n",
    "\n",
    "\n",
    "def hebr_leap_year(year):  # еврейский\n",
    "    if ((((year*7)+1) % 19) < 7):\n",
    "        return True\n",
    "    else:\n",
    "        return False\n",
    "\n",
    "\n",
    "# поехали считать\n",
    "# по-хорошему надо проверить, год ли вообще ввел юзер, но мне лениво\n",
    "year = int(input('Введите год'))\n",
    "cal_type = int(input(\n",
    "    'Введите цифрой вид календаря, по которому вы желаете определить високосность года: 1 - Юлианский, 2 - Григорианский, 3 - Еврейский'))\n",
    "cal_var = [1, 2, 3]  # зато проверим, корректно ли он обозначил календарь\n",
    "if cal_type in cal_var:\n",
    "    if Cal_type == 1:\n",
    "        print(jul_leap_year(year))\n",
    "    elif Cal_type == 2:\n",
    "        print(greg_leap_year(year))\n",
    "    elif Cal_type == 3:\n",
    "        print(hebr_leap_year(year))\n",
    "else:\n",
    "    print('Вы некорректно ввели тип календаря, попробуйте перезапустить скрипт')"
   ]
  },
  {
   "cell_type": "markdown",
   "metadata": {},
   "source": [
    "# Задание 3"
   ]
  },
  {
   "cell_type": "code",
   "execution_count": null,
   "metadata": {},
   "outputs": [],
   "source": [
    "# сразу хочу предупредить, что зодиаков существует много, как минимум, астрономический и астрологический\n",
    "# при этом астрологических тоже дофига, как минимум, корректный астрономически, т.е учитывающий прецессию звезд\n",
    "# и традиционный, ничего не учитывающий и вообще не имеющий отношения к современной звездной карте. Для простоты примем\n",
    "# что мы имеем дело с классическим эллинским зодиаком\n",
    "\n",
    "# преобразование месяца в число\n",
    "def month_convert(month):\n",
    "    months = ['январь', 'февраль', 'март', 'апрель', 'май', 'июнь',\n",
    "              'июль', 'август', 'сентябрь', 'октябрь', 'ноябрь', 'декабрь']\n",
    "    try:\n",
    "        return months.index(month) + 1\n",
    "    except:\n",
    "        raise ValueError('некорректно ведено название месяца / это не месяц')\n",
    "\n",
    "\n",
    "# по-хорошему надо  опять таки все проверять\n",
    "date = int(input('Введите день вашего рождения'))\n",
    "string_month = input('Введите месяц вашего рождения')\n",
    "month = month_convert(string_month)\n",
    "if (date >= 21 and date <= 31 and month == 3) or (month == 4 and date >= 1 and date <= 19):\n",
    "    print(\"Знак зодиака:Овен\")\n",
    "elif (date >= 20 and date <= 30 and month == 4) or (month == 5 and date >= 1 and date <= 20):\n",
    "    print(\"Знак зодиака:Телец\")\n",
    "elif (date >= 21 and date <= 31 and month == 5) or (month == 6 and date >= 1 and date <= 21):\n",
    "    print(\"Знак зодиака:Близнецы\")\n",
    "elif (date >= 22 and date <= 30 and month == 6) or (month == 7 and date >= 1 and date <= 22):\n",
    "    print(\"Знак зодиака:Рак\")\n",
    "elif (date >= 23 and date <= 31 and month == 7) or (month == 8 and date >= 1 and date <= 22):\n",
    "    print(\"Знак зодиака:Лев\")\n",
    "elif (date >= 23 and date <= 31 and month == 8) or (month == 9 and date >= 1 and date <= 22):\n",
    "    print(\"Знак зодиака:Дева\")\n",
    "elif (date >= 23 and date <= 30 and month == 9) or (month == 10 and date >= 1 and date <= 23):\n",
    "    print(\"Знак зодиака:Весы\")\n",
    "elif (date >= 24 and date <= 31 and month == 10) or (month == 11 and date >= 1 and date <= 22):\n",
    "    print(\"Знак зодиака:Скорпион\")\n",
    "elif (date >= 23 and date <= 30 and month == 11) or (month == 12 and date >= 1 and date <= 21):\n",
    "    print(\"Знак зодиака:Стрелец\")\n",
    "elif (date >= 22 and date <= 31 and month == 12) or (month == 1 and date >= 1 and date <= 20):\n",
    "    print(\"Знак зодиака:Козерог\")\n",
    "elif (date >= 21 and date <= 31 and month == 1) or (month == 2 and date >= 1 and date <= 18):\n",
    "    print(\"Знак зодиака:Водолей\")\n",
    "elif (date >= 19 and date <= 29 and month == 2) or (month == 3 and date >= 1 and date <= 20):\n",
    "    print(\"Знак зодиака:Рыбы\")"
   ]
  },
  {
   "cell_type": "markdown",
   "metadata": {},
   "source": [
    "# Задание 4"
   ]
  },
  {
   "cell_type": "code",
   "execution_count": null,
   "metadata": {},
   "outputs": [],
   "source": [
    "# вообще довольно странная программа и, очевидно, бесполезная в таком виде\n",
    "# то есть непонятно, что делать, если все измерения больше 200 и тп\n",
    "# но тз вроде соответствует\n",
    "\n",
    "# по-хорошему надо  опять таки все проверять, как минимум, подразумевается, что юзер ввел целое число\n",
    "width = int(\n",
    "    input('Введите ширину товара в см, если требуется, округлив вверх до целого'))\n",
    "length = int(\n",
    "    input('Введите длину товара в см, если требуется, округлив вверх до целого'))\n",
    "height = int(\n",
    "    input('Введите высоту товара в см, если требуется, округлив вверх до целого'))\n",
    "# назначим максимальное измерение длиной, это логично\n",
    "dimension = [width, length, height]\n",
    "true_lenght = max(dimension)\n",
    "if true_lenght > 200:\n",
    "    print(\"Упаковка для лыж\")\n",
    "# если это не лыжи, то поехали дальше\n",
    "elif (width < 15 and length < 15 and height < 15):\n",
    "    print(\"Коробка №1\")\n",
    "elif (width > 15 and width < 50) or (length > 15 and length < 50) or (height > 15 and height < 50):\n",
    "    print(\"Коробка №2\")\n",
    "else:\n",
    "    print(\"Стандартная коробка №3\")"
   ]
  },
  {
   "cell_type": "markdown",
   "metadata": {},
   "source": [
    "# Задание 5"
   ]
  },
  {
   "cell_type": "code",
   "execution_count": null,
   "metadata": {},
   "outputs": [],
   "source": [
    "# классическая задача, не настолько интересная, как подсчет вероятности\n",
    "# получить счастливыый билет, но тоже неплохая\n",
    "\n",
    "\n",
    "# по-хорошему надо  опять таки все проверять, а почему номер 6 - дальше станет ясно\n",
    "number6 = int(input('Введите номер билета - шесть цифр'))\n",
    "\n",
    "# существует множество способов порезать число, можно, например,\n",
    "# прочитать его как строку и использовать соответствующие методы,\n",
    "# я выбрал самый мне приятный - чистая математика\n",
    "\n",
    "dig_1 = int(number6/100000)\n",
    "number5 = number6-dig_1*100000\n",
    "\n",
    "dig_2 = int(number5/10000)\n",
    "number4 = number5-dig_2*10000\n",
    "\n",
    "dig_3 = int(number4/1000)\n",
    "number3 = number4-dig_3*1000\n",
    "\n",
    "dig_4 = int(number3/100)\n",
    "number2 = number3-dig_4*100\n",
    "\n",
    "dig_5 = int(number2/10)\n",
    "number1 = number2-dig_5*10\n",
    "\n",
    "dig_6 = number1\n",
    "\n",
    "# ну и самое простое - проверка\n",
    "if dig_1+dig_2+dig_3 == dig_4+dig_5+dig_6:\n",
    "    print(\"Вам повезло!\")\n",
    "else:\n",
    "    print(\"Увы, купите еще билетик!\")"
   ]
  },
  {
   "cell_type": "markdown",
   "metadata": {},
   "source": [
    "# Задание 6"
   ]
  },
  {
   "cell_type": "code",
   "execution_count": null,
   "metadata": {},
   "outputs": [],
   "source": [
    "# тут все просто\n",
    "\n",
    "from math import sqrt\n",
    "\n",
    "\n",
    "def circle_area(R):\n",
    "    return math.pi*(R**2)\n",
    "\n",
    "\n",
    "def triangle_area(A, B, C):\n",
    "    p = (A+B+C)/2\n",
    "    return sqrt(p*(p-A)*(p-B)*(p-C))\n",
    "\n",
    "\n",
    "def rectangle_area(A, B):\n",
    "    return A*B\n",
    "\n",
    "\n",
    "def figure_convert(figure):\n",
    "    figures = ['круг', 'треугольник', 'квадрат']\n",
    "    try:\n",
    "        return figures.index(figure)\n",
    "    except:\n",
    "        raise ValueError(\n",
    "            'некорректно ведено название фигуры / данная фигура не поддерживается')\n",
    "\n",
    "\n",
    "print('Введите тип фигуры, допустимые варианты: круг, треугольник, прямоугольник')\n",
    "figure = input()  # по-хорошему надо, опять таки, все проверять\n",
    "figure_type = Figure_convert(figure)\n",
    "\n",
    "if figure_type == 0:\n",
    "    R = int(input(\"Введите радиус круга\"))\n",
    "    print(circle_area(R))\n",
    "\n",
    "elif figure_type == 1:\n",
    "    A = int(input(\"Введите сторону A\"))\n",
    "    B = int(input(\"Введите сторону B\"))\n",
    "    C = int(input(\"Введите сторону C\"))\n",
    "    if A + B > C and A + C > B and B + C > A:  # проверка существования заданного треугольника\n",
    "        print(triangle_area(A, B, C))\n",
    "    else:\n",
    "        print(\"Треугольник не существует\")\n",
    "\n",
    "elif figure_type == 2:\n",
    "    A = int(input(\"Введите сторону A\"))\n",
    "    B = int(input(\"Введите сторону B\"))\n",
    "    print(rectangle_area(A, B))"
   ]
  }
 ],
 "metadata": {
  "kernelspec": {
   "display_name": "Python 3",
   "language": "python",
   "name": "python3"
  },
  "language_info": {
   "codemirror_mode": {
    "name": "ipython",
    "version": 3
   },
   "file_extension": ".py",
   "mimetype": "text/x-python",
   "name": "python",
   "nbconvert_exporter": "python",
   "pygments_lexer": "ipython3",
   "version": "3.8.3"
  }
 },
 "nbformat": 4,
 "nbformat_minor": 4
}
